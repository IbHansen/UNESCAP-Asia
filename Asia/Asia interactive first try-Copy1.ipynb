{
 "cells": [
  {
   "cell_type": "markdown",
   "id": "b3fde3e1",
   "metadata": {},
   "source": [
    "# Import modelflow"
   ]
  },
  {
   "cell_type": "code",
   "execution_count": 8,
   "id": "26a97026",
   "metadata": {},
   "outputs": [
    {
     "data": {
      "text/html": [
       "\n",
       "        <style>\n",
       "            div#notebook-container    { width: 95%; }\n",
       "            div#menubar-container     { width: 65%; }\n",
       "            div#maintoolbar-container { width: 99%; }\n",
       "        </style>\n",
       "        "
      ],
      "text/plain": [
       "<IPython.core.display.HTML object>"
      ]
     },
     "metadata": {},
     "output_type": "display_data"
    }
   ],
   "source": [
    "from modelclass import model\n",
    "model.widescreen()"
   ]
  },
  {
   "cell_type": "markdown",
   "id": "13ba5994",
   "metadata": {},
   "source": [
    "# Load model and data, and run "
   ]
  },
  {
   "cell_type": "code",
   "execution_count": 9,
   "id": "e2795283",
   "metadata": {},
   "outputs": [],
   "source": [
    "masia,baseline = model.modelload('Asia.pcim',run=1,silent=1)"
   ]
  },
  {
   "cell_type": "code",
   "execution_count": 10,
   "id": "af16e199",
   "metadata": {},
   "outputs": [],
   "source": [
    "from inject import inject\n",
    "inject(masia)"
   ]
  },
  {
   "cell_type": "markdown",
   "id": "7254b3bb",
   "metadata": {},
   "source": [
    "# Variables to inputwidget"
   ]
  },
  {
   "cell_type": "code",
   "execution_count": 11,
   "id": "b3e7dd1c",
   "metadata": {},
   "outputs": [],
   "source": [
    "outvar = 'GDI GCARBR CO2 LNN'.split()\n",
    "displayvar = 'WLD_CO2 ASP_CO2 G20_CO2 '\n",
    "slidedef_all =  {'ALL' : {'var': ' '.join([f'{country}_GCARBR_A' for country in  masia.countries_GCARBR_A]), 'value': 0.0,'min':0,'max':100,'op':'+impulse','step':10}}\n",
    "slidedef_countries = {masia.iso_dict.get(country,country) : {'var': f'{country}_GCARBR_A', 'value': 0.0,'min':0,'max':100,'op':'+impulse','step':10} for country in  masia.countries_GCARBR_A}\n",
    "\n",
    "slidedef = {**slidedef_all,**slidedef_countries}"
   ]
  },
  {
   "cell_type": "markdown",
   "id": "e94c4d8b",
   "metadata": {},
   "source": [
    "# Define  experiment"
   ]
  },
  {
   "cell_type": "code",
   "execution_count": 12,
   "id": "63a62886",
   "metadata": {
    "scrolled": false
   },
   "outputs": [
    {
     "data": {
      "application/vnd.jupyter.widget-view+json": {
       "model_id": "991d98e946594425886a76bf6f061c70",
       "version_major": 2,
       "version_minor": 0
      },
      "text/plain": [
       "VBox(children=(HBox(children=(Label(value='Input new parameter ', layout=Layout(width='52%')), Label(value='Al…"
      ]
     },
     "metadata": {},
     "output_type": "display_data"
    },
    {
     "data": {
      "application/vnd.jupyter.widget-view+json": {
       "model_id": "7ad1aa6061f2445ebd922165b9989aaf",
       "version_major": 2,
       "version_minor": 0
      },
      "text/plain": [
       "VBox(children=(Tab(children=(VBox(children=(Tab(children=(Output(), Output(), Output(), Output()), _titles={'0…"
      ]
     },
     "metadata": {},
     "output_type": "display_data"
    }
   ],
   "source": [
    "input = masia.inputwidget(2021,2050,slidedef=slidedef\n",
    "                   ,showout=True,varpat=displayvar,trans=masia.var_description,showvar=True)"
   ]
  },
  {
   "cell_type": "markdown",
   "id": "4a6bf1b1",
   "metadata": {},
   "source": [
    "# Analyze results"
   ]
  },
  {
   "cell_type": "code",
   "execution_count": 13,
   "id": "a2951d68",
   "metadata": {},
   "outputs": [
    {
     "name": "stdout",
     "output_type": "stream",
     "text": [
      "WLD_PR : FRML <Z,EXO> WLD_PR =( WLD_PR(-1)*EXP(WLD_PR_A + (((LOG(WLD_HIC(-1)))-(LOG(WLD_HIC(-2))))) ) )*(1-WLD_PR_D)+WLD_PR_X*WLD_PR_D$\n"
     ]
    }
   ],
   "source": [
    "masia['wld_PR'].frml"
   ]
  },
  {
   "cell_type": "code",
   "execution_count": 14,
   "id": "c27bdc0d",
   "metadata": {
    "scrolled": false
   },
   "outputs": [
    {
     "data": {
      "text/plain": [
       "Endogeneous: WLD_HIC: Consumer Price Index, Period Average, 2015 = 100 ,World \n",
       "Formular: FRML <Z,EXO> WLD_HIC =( WLD_HIC(-1)*(+AFG_HIC/AFG_HIC(-1)*AFG_YEN_DOLLAR/WLD_YEN_DOLLAR+ARM_HIC/ARM_HIC(-1)*ARM_YEN_DOLLAR/WLD_YEN_DOLLAR+AUS_HIC/AUS_HIC(-1)*AUS_YEN_DOLLAR/WLD_YEN_DOLLAR+AZE_HIC/AZE_HIC(-1)*AZE_YEN_DOLLAR/WLD_YEN_DOLLAR+BGD_HIC/BGD_HIC(-1)*BGD_YEN_DOLLAR/WLD_YEN_DOLLAR+BTN_HIC/BTN_HIC(-1)*BTN_YEN_DOLLAR/WLD_YEN_DOLLAR+BRN_HIC/BRN_HIC(-1)*BRN_YEN_DOLLAR/WLD_YEN_DOLLAR+KHM_HIC/KHM_HIC(-1)*KHM_YEN_DOLLAR/WLD_YEN_DOLLAR+CHN_HIC/CHN_HIC(-1)*CHN_YEN_DOLLAR/WLD_YEN_DOLLAR+FJI_HIC/FJI_HIC(-1)*FJI_YEN_DOLLAR/WLD_YEN_DOLLAR+GEO_HIC/GEO_HIC(-1)*GEO_YEN_DOLLAR/WLD_YEN_DOLLAR+HKG_HIC/HKG_HIC(-1)*HKG_YEN_DOLLAR/WLD_YEN_DOLLAR+IND_HIC/IND_HIC(-1)*IND_YEN_DOLLAR/WLD_YEN_DOLLAR+IDN_HIC/IDN_HIC(-1)*IDN_YEN_DOLLAR/WLD_YEN_DOLLAR+IRN_HIC/IRN_HIC(-1)*IRN_YEN_DOLLAR/WLD_YEN_DOLLAR+JPN_HIC/JPN_HIC(-1)*JPN_YEN_DOLLAR/WLD_YEN_DOLLAR+KAZ_HIC/KAZ_HIC(-1)*KAZ_YEN_DOLLAR/WLD_YEN_DOLLAR+KIR_HIC/KIR_HIC(-1)*KIR_YEN_DOLLAR/WLD_YEN_DOLLAR+KGZ_HIC/KGZ_HIC(-1)*KGZ_YEN_DOLLAR/WLD_YEN_DOLLAR+LAO_HIC/LAO_HIC(-1)*LAO_YEN_DOLLAR/WLD_YEN_DOLLAR+MAC_HIC/MAC_HIC(-1)*MAC_YEN_DOLLAR/WLD_YEN_DOLLAR+MYS_HIC/MYS_HIC(-1)*MYS_YEN_DOLLAR/WLD_YEN_DOLLAR+MDV_HIC/MDV_HIC(-1)*MDV_YEN_DOLLAR/WLD_YEN_DOLLAR+FSM_HIC/FSM_HIC(-1)*FSM_YEN_DOLLAR/WLD_YEN_DOLLAR+MNG_HIC/MNG_HIC(-1)*MNG_YEN_DOLLAR/WLD_YEN_DOLLAR+MMR_HIC/MMR_HIC(-1)*MMR_YEN_DOLLAR/WLD_YEN_DOLLAR+NPL_HIC/NPL_HIC(-1)*NPL_YEN_DOLLAR/WLD_YEN_DOLLAR+NZL_HIC/NZL_HIC(-1)*NZL_YEN_DOLLAR/WLD_YEN_DOLLAR+PAK_HIC/PAK_HIC(-1)*PAK_YEN_DOLLAR/WLD_YEN_DOLLAR+PNG_HIC/PNG_HIC(-1)*PNG_YEN_DOLLAR/WLD_YEN_DOLLAR+PHL_HIC/PHL_HIC(-1)*PHL_YEN_DOLLAR/WLD_YEN_DOLLAR+KOR_HIC/KOR_HIC(-1)*KOR_YEN_DOLLAR/WLD_YEN_DOLLAR+RUS_HIC/RUS_HIC(-1)*RUS_YEN_DOLLAR/WLD_YEN_DOLLAR+WSM_HIC/WSM_HIC(-1)*WSM_YEN_DOLLAR/WLD_YEN_DOLLAR+SGP_HIC/SGP_HIC(-1)*SGP_YEN_DOLLAR/WLD_YEN_DOLLAR+SLB_HIC/SLB_HIC(-1)*SLB_YEN_DOLLAR/WLD_YEN_DOLLAR+LKA_HIC/LKA_HIC(-1)*LKA_YEN_DOLLAR/WLD_YEN_DOLLAR+TJK_HIC/TJK_HIC(-1)*TJK_YEN_DOLLAR/WLD_YEN_DOLLAR+THA_HIC/THA_HIC(-1)*THA_YEN_DOLLAR/WLD_YEN_DOLLAR+TLS_HIC/TLS_HIC(-1)*TLS_YEN_DOLLAR/WLD_YEN_DOLLAR+TON_HIC/TON_HIC(-1)*TON_YEN_DOLLAR/WLD_YEN_DOLLAR+TUR_HIC/TUR_HIC(-1)*TUR_YEN_DOLLAR/WLD_YEN_DOLLAR+TKM_HIC/TKM_HIC(-1)*TKM_YEN_DOLLAR/WLD_YEN_DOLLAR+UZB_HIC/UZB_HIC(-1)*UZB_YEN_DOLLAR/WLD_YEN_DOLLAR+VUT_HIC/VUT_HIC(-1)*VUT_YEN_DOLLAR/WLD_YEN_DOLLAR+VNM_HIC/VNM_HIC(-1)*VNM_YEN_DOLLAR/WLD_YEN_DOLLAR+USA_HIC/USA_HIC(-1)*USA_YEN_DOLLAR/WLD_YEN_DOLLAR+DEU_HIC/DEU_HIC(-1)*DEU_YEN_DOLLAR/WLD_YEN_DOLLAR+FRA_HIC/FRA_HIC(-1)*FRA_YEN_DOLLAR/WLD_YEN_DOLLAR+GBR_HIC/GBR_HIC(-1)*GBR_YEN_DOLLAR/WLD_YEN_DOLLAR+ITA_HIC/ITA_HIC(-1)*ITA_YEN_DOLLAR/WLD_YEN_DOLLAR+NLD_HIC/NLD_HIC(-1)*NLD_YEN_DOLLAR/WLD_YEN_DOLLAR+IRL_HIC/IRL_HIC(-1)*IRL_YEN_DOLLAR/WLD_YEN_DOLLAR+CHE_HIC/CHE_HIC(-1)*CHE_YEN_DOLLAR/WLD_YEN_DOLLAR+TWN_HIC/TWN_HIC(-1)*TWN_YEN_DOLLAR/WLD_YEN_DOLLAR+AFR_HIC/AFR_HIC(-1)*AFR_YEN_DOLLAR/WLD_YEN_DOLLAR+EUR_HIC/EUR_HIC(-1)*EUR_YEN_DOLLAR/WLD_YEN_DOLLAR+LAT_HIC/LAT_HIC(-1)*LAT_YEN_DOLLAR/WLD_YEN_DOLLAR+MNA_HIC/MNA_HIC(-1)*MNA_YEN_DOLLAR/WLD_YEN_DOLLAR) + WLD_HIC_A )*(1-WLD_HIC_D)+WLD_HIC_X*WLD_HIC_D$\n",
       "\n",
       "WLD_HIC  : Consumer Price Index, Period Average, 2015 = 100 ,World\n",
       "AFG_HIC  : Consumer Price Index, Period Average, 2015 = 100 ,Afghanistan\n",
       "AFR_HIC  : Consumer Price Index, Period Average, 2015 = 100 ,SubSaharanAfrica\n",
       "ARM_HIC  : Consumer Price Index, Period Average, 2015 = 100 ,Armenia\n",
       "AUS_HIC  : Consumer Price Index, Period Average, 2015 = 100 ,Australia\n",
       "AZE_HIC  : Consumer Price Index, Period Average, 2015 = 100 ,Azerbaijan\n",
       "BGD_HIC  : Consumer Price Index, Period Average, 2015 = 100 ,Bangladesh\n",
       "BRN_HIC  : Consumer Price Index, Period Average, 2015 = 100 ,BruneiDarussalam\n",
       "BTN_HIC  : Consumer Price Index, Period Average, 2015 = 100 ,Bhutan\n",
       "CHE_HIC  : Consumer Price Index, Period Average, 2015 = 100 ,Switzerland\n",
       "CHN_HIC  : Consumer Price Index, Period Average, 2015 = 100 ,China\n",
       "DEU_HIC  : Consumer Price Index, Period Average, 2015 = 100 ,Germany\n",
       "EUR_HIC  : Consumer Price Index, Period Average, 2015 = 100 ,OtherEurope\n",
       "FJI_HIC  : Consumer Price Index, Period Average, 2015 = 100 ,Fiji\n",
       "FRA_HIC  : Consumer Price Index, Period Average, 2015 = 100 ,France\n",
       "FSM_HIC  : Consumer Price Index, Period Average, 2015 = 100 ,Micronesia\n",
       "GBR_HIC  : Consumer Price Index, Period Average, 2015 = 100 ,UK\n",
       "GEO_HIC  : Consumer Price Index, Period Average, 2015 = 100 ,Georgia\n",
       "HKG_HIC  : Consumer Price Index, Period Average, 2015 = 100 ,HongKong\n",
       "IDN_HIC  : Consumer Price Index, Period Average, 2015 = 100 ,Indonesia\n",
       "IND_HIC  : Consumer Price Index, Period Average, 2015 = 100 ,India\n",
       "IRL_HIC  : Consumer Price Index, Period Average, 2015 = 100 ,Ireland\n",
       "IRN_HIC  : Consumer Price Index, Period Average, 2015 = 100 ,Iran\n",
       "ITA_HIC  : Consumer Price Index, Period Average, 2015 = 100 ,Italy\n",
       "JPN_HIC  : Consumer Price Index, Period Average, 2015 = 100 ,Japan\n",
       "KAZ_HIC  : Consumer Price Index, Period Average, 2015 = 100 ,Kazakhstan\n",
       "KGZ_HIC  : Consumer Price Index, Period Average, 2015 = 100 ,Kyrgyzstan\n",
       "KHM_HIC  : Consumer Price Index, Period Average, 2015 = 100 ,Cambodia\n",
       "KIR_HIC  : Consumer Price Index, Period Average, 2015 = 100 ,Kiribati\n",
       "KOR_HIC  : Consumer Price Index, Period Average, 2015 = 100 ,RepKorea\n",
       "LAO_HIC  : Consumer Price Index, Period Average, 2015 = 100 ,Lao\n",
       "LAT_HIC  : Consumer Price Index, Period Average, 2015 = 100 ,OtherAmericas\n",
       "LKA_HIC  : Consumer Price Index, Period Average, 2015 = 100 ,SriLanka\n",
       "MAC_HIC  : Consumer Price Index, Period Average, 2015 = 100 ,Macao\n",
       "MDV_HIC  : Consumer Price Index, Period Average, 2015 = 100 ,Maldives\n",
       "MMR_HIC  : Consumer Price Index, Period Average, 2015 = 100 ,Myanmar\n",
       "MNA_HIC  : Consumer Price Index, Period Average, 2015 = 100 ,MENA\n",
       "MNG_HIC  : Consumer Price Index, Period Average, 2015 = 100 ,Mongolia\n",
       "MYS_HIC  : Consumer Price Index, Period Average, 2015 = 100 ,Malaysia\n",
       "NLD_HIC  : Consumer Price Index, Period Average, 2015 = 100 ,Netherlands\n",
       "NPL_HIC  : Consumer Price Index, Period Average, 2015 = 100 ,Nepal\n",
       "NZL_HIC  : Consumer Price Index, Period Average, 2015 = 100 ,NewZealand\n",
       "PAK_HIC  : Consumer Price Index, Period Average, 2015 = 100 ,Pakistan\n",
       "PHL_HIC  : Consumer Price Index, Period Average, 2015 = 100 ,Philippines\n",
       "PNG_HIC  : Consumer Price Index, Period Average, 2015 = 100 ,PapuaNewGuinea\n",
       "RUS_HIC  : Consumer Price Index, Period Average, 2015 = 100 ,RussianFederation\n",
       "SGP_HIC  : Consumer Price Index, Period Average, 2015 = 100 ,Singapore\n",
       "SLB_HIC  : Consumer Price Index, Period Average, 2015 = 100 ,SolomonIslands\n",
       "THA_HIC  : Consumer Price Index, Period Average, 2015 = 100 ,Thailand\n",
       "TJK_HIC  : Consumer Price Index, Period Average, 2015 = 100 ,Tajikistan\n",
       "TKM_HIC  : Consumer Price Index, Period Average, 2015 = 100 ,Turkmenistan\n",
       "TLS_HIC  : Consumer Price Index, Period Average, 2015 = 100 ,TimorLeste\n",
       "TON_HIC  : Consumer Price Index, Period Average, 2015 = 100 ,Tonga\n",
       "TUR_HIC  : Consumer Price Index, Period Average, 2015 = 100 ,Turkey\n",
       "TWN_HIC  : Consumer Price Index, Period Average, 2015 = 100 ,Taiwan\n",
       "USA_HIC  : Consumer Price Index, Period Average, 2015 = 100 ,USA\n",
       "UZB_HIC  : Consumer Price Index, Period Average, 2015 = 100 ,Uzbekistan\n",
       "VNM_HIC  : Consumer Price Index, Period Average, 2015 = 100 ,VietNam\n",
       "VUT_HIC  : Consumer Price Index, Period Average, 2015 = 100 ,Vanuatu\n",
       "WLD_HIC_A: Add factor:Consumer Price Index, Period Average, 2015 = 100 ,World\n",
       "WLD_HIC_D: Exo dummy:Consumer Price Index, Period Average, 2015 = 100 ,World\n",
       "WLD_HIC_X: Exo value:Consumer Price Index, Period Average, 2015 = 100 ,World\n",
       "WSM_HIC  : Consumer Price Index, Period Average, 2015 = 100 ,Samoa\n",
       "\n",
       "Values : \n",
       "              2021          2022          2023          2024          2025  \\\n",
       "Base  1.205644e+00  1.236786e+00  1.268400e+00  1.300504e+00  1.333130e+00   \n",
       "Last  1.205644e+00  1.236786e+00  1.268400e+00  1.300504e+00  1.333130e+00   \n",
       "Diff  4.491962e-13  1.026290e-12  1.303402e-12  1.417089e-12  4.092282e-13   \n",
       "\n",
       "              2026          2027          2028          2029          2030  \\\n",
       "Base  1.366291e+00  1.400003e+00  1.434280e+00  1.469134e+00  1.504581e+00   \n",
       "Last  1.366291e+00  1.400003e+00  1.434280e+00  1.469134e+00  1.504581e+00   \n",
       "Diff -1.079137e-12 -2.601475e-12 -3.318679e-12 -3.141043e-12 -1.848299e-12   \n",
       "\n",
       "      ...          2041          2042          2043          2044  \\\n",
       "Base  ...  1.937548e+00  1.981204e+00  2.025644e+00  2.070883e+00   \n",
       "Last  ...  1.937548e+00  1.981204e+00  2.025644e+00  2.070883e+00   \n",
       "Diff  ... -2.699441e-11 -3.085909e-11 -3.372236e-11 -3.610356e-11   \n",
       "\n",
       "              2045          2046          2047          2048          2049  \\\n",
       "Base  2.116941e+00  2.163832e+00  2.211574e+00  2.260187e+00  2.309685e+00   \n",
       "Last  2.116941e+00  2.163832e+00  2.211574e+00  2.260187e+00  2.309685e+00   \n",
       "Diff -3.799583e-11 -3.927836e-11 -4.151079e-11 -4.296652e-11 -4.292788e-11   \n",
       "\n",
       "              2050  \n",
       "Base  2.360093e+00  \n",
       "Last  2.360093e+00  \n",
       "Diff -4.143708e-11  \n",
       "\n",
       "[3 rows x 30 columns]\n",
       "\n",
       "Input last run: \n",
       "                         2021           2022           2023           2024  \\\n",
       "AFG_HIC             1.202786       1.238829       1.275336       1.312313   \n",
       "AFG_HIC(-1)         1.158340       1.202786       1.238829       1.275336   \n",
       "AFG_YEN_DOLLAR     23.766740      25.328070      27.121390      29.180210   \n",
       "AFR_HIC             1.665172       1.756254       1.849272       1.944168   \n",
       "AFR_HIC(-1)         1.555074       1.665172       1.756254       1.849272   \n",
       "...                      ...            ...            ...            ...   \n",
       "WLD_HIC_X           0.000000       0.000000       0.000000       0.000000   \n",
       "WLD_YEN_DOLLAR  99413.450003  104226.200005  109349.100000  114761.199998   \n",
       "WSM_HIC             1.153276       1.186750       1.220659       1.255015   \n",
       "WSM_HIC(-1)         1.115066       1.153276       1.186750       1.220659   \n",
       "WSM_YEN_DOLLAR      1.048132       1.106439       1.167641       1.231384   \n",
       "\n",
       "                         2025           2026           2027           2028  \\\n",
       "AFG_HIC              1.349774       1.387727       1.426184       1.465157   \n",
       "AFG_HIC(-1)          1.312313       1.349774       1.387727       1.426184   \n",
       "AFG_YEN_DOLLAR      31.411250      33.747660      36.265910      39.001730   \n",
       "AFR_HIC              2.040889       2.139387       2.239615       2.341532   \n",
       "AFR_HIC(-1)          1.944168       2.040889       2.139387       2.239615   \n",
       "...                       ...            ...            ...            ...   \n",
       "WLD_HIC_X            0.000000       0.000000       0.000000       0.000000   \n",
       "WLD_YEN_DOLLAR  120179.899991  125865.299990  131848.699989  138154.799993   \n",
       "WSM_HIC              1.289826       1.325104       1.360860       1.397105   \n",
       "WSM_HIC(-1)          1.255015       1.289826       1.325104       1.360860   \n",
       "WSM_YEN_DOLLAR       1.306574       1.387742       1.476161       1.572278   \n",
       "\n",
       "                         2029           2030  ...           2041  \\\n",
       "AFG_HIC              1.504658       1.544701  ...       2.025142   \n",
       "AFG_HIC(-1)          1.465157       1.504658  ...       1.978139   \n",
       "AFG_YEN_DOLLAR      41.983870      45.239870  ...     106.350200   \n",
       "AFR_HIC              2.445101       2.550288  ...       3.808962   \n",
       "AFR_HIC(-1)          2.341532       2.445101  ...       3.686948   \n",
       "...                       ...            ...  ...            ...   \n",
       "WLD_HIC_X            0.000000       0.000000  ...       0.000000   \n",
       "WLD_YEN_DOLLAR  144801.899999  151807.599998  ...  257390.799930   \n",
       "WSM_HIC              1.433853       1.471115  ...       1.919056   \n",
       "WSM_HIC(-1)          1.397105       1.433853  ...       1.875167   \n",
       "WSM_YEN_DOLLAR       1.676888       1.790742  ...       3.826785   \n",
       "\n",
       "                         2042           2043           2044           2045  \\\n",
       "AFG_HIC              2.072880       2.121374       2.170642       2.220705   \n",
       "AFG_HIC(-1)          2.025142       2.072880       2.121374       2.170642   \n",
       "AFG_YEN_DOLLAR     115.020800     124.393700     134.517500     145.441500   \n",
       "AFR_HIC              3.932520       4.057641       4.184346       4.312658   \n",
       "AFR_HIC(-1)          3.808962       3.932520       4.057641       4.184346   \n",
       "...                       ...            ...            ...            ...   \n",
       "WLD_HIC_X            0.000000       0.000000       0.000000       0.000000   \n",
       "WLD_YEN_DOLLAR  270387.899911  284058.499906  298424.099893  313509.499883   \n",
       "WSM_HIC              1.963646       2.008954       2.054997       2.101798   \n",
       "WSM_HIC(-1)          1.919056       1.963646       2.008954       2.054997   \n",
       "WSM_YEN_DOLLAR       4.099781       4.391912       4.704004       5.037232   \n",
       "\n",
       "                         2046           2047           2048           2049  \\\n",
       "AFG_HIC              2.271582       2.323294       2.375862       2.429308   \n",
       "AFG_HIC(-1)          2.220705       2.271582       2.323294       2.375862   \n",
       "AFG_YEN_DOLLAR     157.132600     169.687200     183.198400     197.728800   \n",
       "AFR_HIC              4.442605       4.574217       4.707527       4.842569   \n",
       "AFR_HIC(-1)          4.312658       4.442605       4.574217       4.707527   \n",
       "...                       ...            ...            ...            ...   \n",
       "WLD_HIC_X            0.000000       0.000000       0.000000       0.000000   \n",
       "WLD_YEN_DOLLAR  329231.799874  345709.599847  362986.799848  381102.399846   \n",
       "WSM_HIC              2.149372       2.197740       2.246922       2.296937   \n",
       "WSM_HIC(-1)          2.101798       2.149372       2.197740       2.246922   \n",
       "WSM_YEN_DOLLAR       5.401019       5.789606       6.204854       6.648241   \n",
       "\n",
       "                         2050  \n",
       "AFG_HIC              2.483652  \n",
       "AFG_HIC(-1)          2.429308  \n",
       "AFG_YEN_DOLLAR     213.348100  \n",
       "AFR_HIC              4.979383  \n",
       "AFR_HIC(-1)          4.842569  \n",
       "...                       ...  \n",
       "WLD_HIC_X            0.000000  \n",
       "WLD_YEN_DOLLAR  400098.099847  \n",
       "WSM_HIC              2.347806  \n",
       "WSM_HIC(-1)          2.296937  \n",
       "WSM_YEN_DOLLAR       7.121950  \n",
       "\n",
       "[182 rows x 30 columns]"
      ]
     },
     "execution_count": 14,
     "metadata": {},
     "output_type": "execute_result"
    }
   ],
   "source": [
    "masia.wld_hic"
   ]
  },
  {
   "cell_type": "code",
   "execution_count": 15,
   "id": "2b25e339",
   "metadata": {},
   "outputs": [
    {
     "data": {
      "text/plain": [
       "Endogeneous: GBR_YEN_DOLLAR:  \n",
       "Formular: FRML <Z,EXO> GBR_YEN_DOLLAR =( GBR_YER_DOLLAR*GBR_YED/GBR_EXR*(GBR_EXR_VALUE_2015) + GBR_YEN_DOLLAR_A )*(1-GBR_YEN_DOLLAR_D)+GBR_YEN_DOLLAR_X*GBR_YEN_DOLLAR_D$\n",
       "\n",
       "GBR_YEN_DOLLAR  : \n",
       "GBR_EXR         : Exchange rate (national currency / US$) ,UK\n",
       "GBR_YED         : Deflator for  GDP, National Currency, 2015 =100 ,UK\n",
       "GBR_YEN_DOLLAR_A: Add factor:GBR_YEN_DOLLAR\n",
       "GBR_YEN_DOLLAR_D: Exo dummy:GBR_YEN_DOLLAR\n",
       "GBR_YEN_DOLLAR_X: Exo value:GBR_YEN_DOLLAR\n",
       "\n",
       "Values : \n",
       "              2021          2022          2023          2024          2025  \\\n",
       "Base  3.452524e+03  3.573618e+03  3.703991e+03  3.841393e+03  3.996431e+03   \n",
       "Last  3.452524e+03  3.573618e+03  3.703991e+03  3.841393e+03  3.996431e+03   \n",
       "Diff  5.840320e-09  8.860297e-09  5.387847e-09  4.836238e-09 -1.309945e-08   \n",
       "\n",
       "              2026          2027          2028          2029          2030  \\\n",
       "Base  4.156558e+03  4.324556e+03  4.500601e+03  4.684732e+03  4.877024e+03   \n",
       "Last  4.156558e+03  4.324556e+03  4.500601e+03  4.684732e+03  4.877024e+03   \n",
       "Diff -3.102105e-08 -4.531466e-08 -4.619142e-08 -3.980222e-08 -2.251454e-08   \n",
       "\n",
       "      ...          2041          2042          2043          2044  \\\n",
       "Base  ...  7.691430e+03  8.021485e+03  8.365023e+03  8.722347e+03   \n",
       "Last  ...  7.691430e+03  8.021485e+03  8.365023e+03  8.722347e+03   \n",
       "Diff  ... -2.633769e-07 -2.979896e-07 -3.088862e-07 -3.217319e-07   \n",
       "\n",
       "              2045          2046          2047          2048          2049  \\\n",
       "Base  9.093809e+03  9.467535e+03  9.855090e+03  1.025693e+04  1.067339e+04   \n",
       "Last  9.093809e+03  9.467535e+03  9.855090e+03  1.025693e+04  1.067339e+04   \n",
       "Diff -3.314453e-07 -3.362311e-07 -3.715577e-07 -3.754358e-07 -3.537807e-07   \n",
       "\n",
       "              2050  \n",
       "Base  1.110486e+04  \n",
       "Last  1.110486e+04  \n",
       "Diff -3.203222e-07  \n",
       "\n",
       "[3 rows x 30 columns]\n",
       "\n",
       "Input last run: \n",
       "                            2021         2022         2023         2024  \\\n",
       "GBR_EXR                0.684544     0.684707     0.684149     0.683166   \n",
       "GBR_EXR_VALUE_2015     0.654546     0.654546     0.654546     0.654546   \n",
       "GBR_YED                1.125323     1.147829     1.170786     1.194201   \n",
       "GBR_YEN_DOLLAR_A      -0.000857    -0.001341    -0.001723    -0.001722   \n",
       "GBR_YEN_DOLLAR_D       0.000000     0.000000     0.000000     0.000000   \n",
       "GBR_YEN_DOLLAR_X       0.000000     0.000000     0.000000     0.000000   \n",
       "GBR_YER_DOLLAR      3208.643000  3256.837000  3306.765000  3357.358000   \n",
       "\n",
       "                           2025         2026         2027         2028  \\\n",
       "GBR_EXR                0.683166     0.683166     0.683166     0.683166   \n",
       "GBR_EXR_VALUE_2015     0.654546     0.654546     0.654546     0.654546   \n",
       "GBR_YED                1.218085     1.242447     1.267296     1.292642   \n",
       "GBR_YEN_DOLLAR_A      -0.001765    -0.001432    -0.001660    -0.001979   \n",
       "GBR_YEN_DOLLAR_D       0.000000     0.000000     0.000000     0.000000   \n",
       "GBR_YEN_DOLLAR_X       0.000000     0.000000     0.000000     0.000000   \n",
       "GBR_YER_DOLLAR      3424.373000  3491.743000  3561.638000  3633.947000   \n",
       "\n",
       "                           2029         2030  ...         2041         2042  \\\n",
       "GBR_EXR                0.683166     0.683166  ...     0.683166     0.683166   \n",
       "GBR_EXR_VALUE_2015     0.654546     0.654546  ...     0.654546     0.654546   \n",
       "GBR_YED                1.318495     1.344865  ...     1.672168     1.705612   \n",
       "GBR_YEN_DOLLAR_A      -0.001430    -0.001029  ...     0.001421     0.002189   \n",
       "GBR_YEN_DOLLAR_D       0.000000     0.000000  ...     0.000000     0.000000   \n",
       "GBR_YEN_DOLLAR_X       0.000000     0.000000  ...     0.000000     0.000000   \n",
       "GBR_YER_DOLLAR      3708.451000  3784.970000  ...  4800.796000  4908.632999   \n",
       "\n",
       "                           2043         2044         2045         2046  \\\n",
       "GBR_EXR                0.683166     0.683166     0.683166     0.683166   \n",
       "GBR_EXR_VALUE_2015     0.654546     0.654546     0.654546     0.654546   \n",
       "GBR_YED                1.739724     1.774518     1.810009     1.846209   \n",
       "GBR_YEN_DOLLAR_A       0.002497     0.001257     0.001490     0.001135   \n",
       "GBR_YEN_DOLLAR_D       0.000000     0.000000     0.000000     0.000000   \n",
       "GBR_YEN_DOLLAR_X       0.000000     0.000000     0.000000     0.000000   \n",
       "GBR_YER_DOLLAR      5018.487000  5130.256000  5243.861000  5352.320999   \n",
       "\n",
       "                           2047         2048         2049         2050  \n",
       "GBR_EXR                0.683166     0.683166     0.683166     0.683166  \n",
       "GBR_EXR_VALUE_2015     0.654546     0.654546     0.654546     0.654546  \n",
       "GBR_YED                1.883133     1.920796     1.959212     1.998396  \n",
       "GBR_YEN_DOLLAR_A       0.001350    -0.000467    -0.001622    -0.001297  \n",
       "GBR_YEN_DOLLAR_D       0.000000     0.000000     0.000000     0.000000  \n",
       "GBR_YEN_DOLLAR_X       0.000000     0.000000     0.000000     0.000000  \n",
       "GBR_YER_DOLLAR      5462.175999  5573.427000  5686.004000  5799.863001  \n",
       "\n",
       "[7 rows x 30 columns]"
      ]
     },
     "execution_count": 15,
     "metadata": {},
     "output_type": "execute_result"
    }
   ],
   "source": [
    "masia.GBR_YEN_DOLLAR"
   ]
  }
 ],
 "metadata": {
  "kernelspec": {
   "display_name": "Python 3",
   "language": "python",
   "name": "python3"
  },
  "language_info": {
   "codemirror_mode": {
    "name": "ipython",
    "version": 3
   },
   "file_extension": ".py",
   "mimetype": "text/x-python",
   "name": "python",
   "nbconvert_exporter": "python",
   "pygments_lexer": "ipython3",
   "version": "3.8.8"
  },
  "toc": {
   "base_numbering": 1,
   "nav_menu": {},
   "number_sections": true,
   "sideBar": true,
   "skip_h1_title": true,
   "title_cell": "Table of Contents",
   "title_sidebar": "Contents",
   "toc_cell": false,
   "toc_position": {},
   "toc_section_display": true,
   "toc_window_display": false
  }
 },
 "nbformat": 4,
 "nbformat_minor": 5
}
