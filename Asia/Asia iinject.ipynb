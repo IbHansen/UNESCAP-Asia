{
 "cells": [
  {
   "cell_type": "markdown",
   "id": "b3fde3e1",
   "metadata": {},
   "source": [
    "# Import modelflow"
   ]
  },
  {
   "cell_type": "code",
   "execution_count": 23,
   "id": "26a97026",
   "metadata": {},
   "outputs": [
    {
     "data": {
      "text/html": [
       "\n",
       "        <style>\n",
       "            div#notebook-container    { width: 95%; }\n",
       "            div#menubar-container     { width: 65%; }\n",
       "            div#maintoolbar-container { width: 99%; }\n",
       "        </style>\n",
       "        "
      ],
      "text/plain": [
       "<IPython.core.display.HTML object>"
      ]
     },
     "metadata": {},
     "output_type": "display_data"
    }
   ],
   "source": [
    "from modelclass import model\n",
    "model.widescreen()"
   ]
  },
  {
   "cell_type": "markdown",
   "id": "13ba5994",
   "metadata": {},
   "source": [
    "# Load model and data, and run "
   ]
  },
  {
   "cell_type": "code",
   "execution_count": 27,
   "id": "e2795283",
   "metadata": {},
   "outputs": [],
   "source": [
    "if not 'masia' in locals():\n",
    "    print('Load model')\n",
    "    masia,baseline = model.modelload('Asia.pcim',run=1,silent=1)"
   ]
  },
  {
   "cell_type": "code",
   "execution_count": 28,
   "id": "ae321daa",
   "metadata": {},
   "outputs": [],
   "source": [
    "from inject import inject\n",
    "inject(masia)"
   ]
  },
  {
   "cell_type": "markdown",
   "id": "7254b3bb",
   "metadata": {},
   "source": [
    "# Variables to inputwidget"
   ]
  },
  {
   "cell_type": "code",
   "execution_count": null,
   "id": "a81aa3d9",
   "metadata": {},
   "outputs": [],
   "source": []
  },
  {
   "cell_type": "code",
   "execution_count": 11,
   "id": "b3e7dd1c",
   "metadata": {},
   "outputs": [],
   "source": [
    "outvar = 'GDI GCARBR CO2 LNN'.split()\n",
    "displayvar = 'WLD_CO2 ASP_CO2 G20_CO2 '\n",
    "slidedef_all =  {'ALL' : {'var': ' '.join([f'{country}_GCARBR_A' for country in  masia.countries_GCARBR_A]), 'value': 0.0,'min':0,'max':100,'op':'+impulse','step':10}}\n",
    "slidedef_countries = {masia.iso_dict.get(country,country) : {'var': f'{country}_GCARBR_A', 'value': 0.0,'min':0,'max':100,'op':'+impulse','step':10} for country in  masia.countries_GCARBR_A}\n",
    "\n",
    "slidedef = {**slidedef_all,**slidedef_countries}"
   ]
  },
  {
   "cell_type": "markdown",
   "id": "e94c4d8b",
   "metadata": {},
   "source": [
    "# Define  experiment"
   ]
  },
  {
   "cell_type": "code",
   "execution_count": 12,
   "id": "63a62886",
   "metadata": {
    "scrolled": false
   },
   "outputs": [
    {
     "data": {
      "application/vnd.jupyter.widget-view+json": {
       "model_id": "991d98e946594425886a76bf6f061c70",
       "version_major": 2,
       "version_minor": 0
      },
      "text/plain": [
       "VBox(children=(HBox(children=(Label(value='Input new parameter ', layout=Layout(width='52%')), Label(value='Al…"
      ]
     },
     "metadata": {},
     "output_type": "display_data"
    },
    {
     "data": {
      "application/vnd.jupyter.widget-view+json": {
       "model_id": "7ad1aa6061f2445ebd922165b9989aaf",
       "version_major": 2,
       "version_minor": 0
      },
      "text/plain": [
       "VBox(children=(Tab(children=(VBox(children=(Tab(children=(Output(), Output(), Output(), Output()), _titles={'0…"
      ]
     },
     "metadata": {},
     "output_type": "display_data"
    }
   ],
   "source": [
    "input = masia.inputwidget(2021,2050,slidedef=slidedef\n",
    "                   ,showout=True,varpat=displayvar,trans=masia.var_description,showvar=True)"
   ]
  },
  {
   "cell_type": "markdown",
   "id": "4a6bf1b1",
   "metadata": {},
   "source": [
    "# Analyze results"
   ]
  },
  {
   "cell_type": "code",
   "execution_count": 19,
   "id": "a2951d68",
   "metadata": {},
   "outputs": [
    {
     "name": "stdout",
     "output_type": "stream",
     "text": [
      "AFG_EXP : FRML <Z,EXO> AFG_EXP =( AFG_EXPE+AFG_EXPH+AFG_EXPSP+AFG_OGC+AFG_OGI+AFG_GIP + AFG_EXP_A )*(1-AFG_EXP_D)+AFG_EXP_X*AFG_EXP_D$\n"
     ]
    }
   ],
   "source": [
    "masia['AFG_EXP'].frml"
   ]
  },
  {
   "cell_type": "code",
   "execution_count": 22,
   "id": "aa35d618",
   "metadata": {},
   "outputs": [
    {
     "data": {
      "application/vnd.jupyter.widget-view+json": {
       "model_id": "991d98e946594425886a76bf6f061c70",
       "version_major": 2,
       "version_minor": 0
      },
      "text/plain": [
       "VBox(children=(HBox(children=(Label(value='Input new parameter ', layout=Layout(width='52%')), Label(value='Al…"
      ]
     },
     "metadata": {},
     "output_type": "display_data"
    },
    {
     "data": {
      "application/vnd.jupyter.widget-view+json": {
       "model_id": "cb08a774e4f4471b99d30f72d3d4ec79",
       "version_major": 2,
       "version_minor": 0
      },
      "text/plain": [
       "VBox(children=(Tab(children=(VBox(children=(Tab(children=(Output(), Output(), Output(), Output()), _titles={'0…"
      ]
     },
     "metadata": {},
     "output_type": "display_data"
    }
   ],
   "source": [
    "input"
   ]
  },
  {
   "cell_type": "code",
   "execution_count": 21,
   "id": "c27bdc0d",
   "metadata": {
    "scrolled": false
   },
   "outputs": [
    {
     "data": {
      "text/plain": [
       "Endogeneous: AFG_EXPE: General government expenditure on environmental protection, Billions National Currency ,Afghanistan \n",
       "Formular: FRML <Z,EXO> AFG_EXPE =( AFG_EXPE(-1)*(AFG_YFT/AFG_YFT(-1))*(AFG_YED/AFG_YED(-1)) + AFG_EXPE_A )*(1-AFG_EXPE_D)+AFG_EXPE_X*AFG_EXPE_D$\n",
       "\n",
       "AFG_EXPE  : General government expenditure on environmental protection, Billions National Currency ,Afghanistan\n",
       "AFG_EXPE_A: Add factor:General government expenditure on environmental protection, Billions National Currency ,Afghanistan\n",
       "AFG_EXPE_D: Exo dummy:General government expenditure on environmental protection, Billions National Currency ,Afghanistan\n",
       "AFG_EXPE_X: Exo value:General government expenditure on environmental protection, Billions National Currency ,Afghanistan\n",
       "AFG_YED   : Deflator for  GDP, National Currency, 2015 =100 ,Afghanistan\n",
       "AFG_YFT   : Trend output, Constant 2015 prices, Billions National Currency ,Afghanistan\n",
       "\n",
       "Values : \n",
       "              2021          2022          2023          2024          2025  \\\n",
       "Base  7.492393e+00  8.025519e+00  8.602161e+00  9.226180e+00  9.889057e+00   \n",
       "Last  7.492393e+00  8.025519e+00  8.602161e+00  9.226180e+00  9.889057e+00   \n",
       "Diff  8.117951e-13  1.943334e-12  2.900791e-12  2.842171e-12 -1.026734e-12   \n",
       "\n",
       "              2026          2027          2028          2029          2030  \\\n",
       "Base  1.060398e+01  1.139472e+01  1.225904e+01  1.320457e+01  1.423938e+01   \n",
       "Last  1.060398e+01  1.139472e+01  1.225904e+01  1.320457e+01  1.423938e+01   \n",
       "Diff -7.853274e-12 -1.450928e-11 -1.857536e-11 -1.998757e-11 -2.027711e-11   \n",
       "\n",
       "      ...          2041          2042          2043          2044  \\\n",
       "Base  ...  3.390579e+01  3.672965e+01  3.978215e+01  4.307885e+01   \n",
       "Last  ...  3.390579e+01  3.672965e+01  3.978215e+01  4.307885e+01   \n",
       "Diff  ... -5.039311e-10 -5.626646e-10 -6.133334e-10 -6.557102e-10   \n",
       "\n",
       "              2045          2046          2047          2048          2049  \\\n",
       "Base  4.663647e+01  5.042618e+01  5.453090e+01  5.894526e+01  6.369021e+01   \n",
       "Last  4.663647e+01  5.042618e+01  5.453090e+01  5.894526e+01  6.369021e+01   \n",
       "Diff -6.927579e-10 -7.189698e-10 -7.440235e-10 -7.593854e-10 -7.556551e-10   \n",
       "\n",
       "              2050  \n",
       "Base  6.878760e+01  \n",
       "Last  6.878760e+01  \n",
       "Diff -7.313758e-10  \n",
       "\n",
       "[3 rows x 30 columns]\n",
       "\n",
       "Input last run: \n",
       "                      2021         2022         2023         2024         2025  \\\n",
       "AFG_EXPE(-1)     6.948657     7.492393     8.025519     8.602161     9.226180   \n",
       "AFG_EXPE_A       0.000007     0.000003    -0.000008     0.000005    -0.000002   \n",
       "AFG_EXPE_D       0.000000     0.000000     0.000000     0.000000     0.000000   \n",
       "AFG_EXPE_X       0.000000     0.000000     0.000000     0.000000     0.000000   \n",
       "AFG_YED          1.173252     1.208411     1.244022     1.280092     1.316633   \n",
       "AFG_YED(-1)      1.129898     1.173252     1.208411     1.244022     1.280092   \n",
       "AFG_YFT       1707.966000  1776.267000  1849.395000  1927.661000  2008.816000   \n",
       "AFG_YFT(-1)   1644.796000  1707.966000  1776.267000  1849.395000  1927.661000   \n",
       "\n",
       "                     2026         2027         2028         2029         2030  \\\n",
       "AFG_EXPE(-1)     9.889057    10.603980    11.394720    12.259040    13.204570   \n",
       "AFG_EXPE_A      -0.000016     0.000018    -0.000003     0.000005    -0.000025   \n",
       "AFG_EXPE_D       0.000000     0.000000     0.000000     0.000000     0.000000   \n",
       "AFG_EXPE_X       0.000000     0.000000     0.000000     0.000000     0.000000   \n",
       "AFG_YED          1.353655     1.391167     1.429184     1.467715     1.506776   \n",
       "AFG_YED(-1)      1.316633     1.353655     1.391167     1.429184     1.467715   \n",
       "AFG_YFT       2095.133000  2190.657000  2294.132000  2406.204000  2527.511000   \n",
       "AFG_YFT(-1)   2008.816000  2095.133000  2190.657000  2294.132000  2406.204000   \n",
       "\n",
       "              ...         2041         2042         2043         2044  \\\n",
       "AFG_EXPE(-1)  ...    31.313960    33.905790    36.729650    39.782150   \n",
       "AFG_EXPE_A    ...     0.000019    -0.000006    -0.000003    -0.000009   \n",
       "AFG_EXPE_D    ...     0.000000     0.000000     0.000000     0.000000   \n",
       "AFG_EXPE_X    ...     0.000000     0.000000     0.000000     0.000000   \n",
       "AFG_YED       ...     1.975420     2.021987     2.069290     2.117349   \n",
       "AFG_YED(-1)   ...     1.929572     1.975420     2.021987     2.069290   \n",
       "AFG_YFT       ...  4590.549998  4858.349998  5141.824998  5441.543998   \n",
       "AFG_YFT(-1)   ...  4340.377999  4590.549998  4858.349998  5141.824998   \n",
       "\n",
       "                     2045         2046         2047         2048         2049  \\\n",
       "AFG_EXPE(-1)    43.078850    46.636470    50.426180    54.530900    58.945260   \n",
       "AFG_EXPE_A      -0.000002     0.000002     0.000021    -0.000009     0.000003   \n",
       "AFG_EXPE_D       0.000000     0.000000     0.000000     0.000000     0.000000   \n",
       "AFG_EXPE_X       0.000000     0.000000     0.000000     0.000000     0.000000   \n",
       "AFG_YED          2.166182     2.215810     2.266252     2.317529     2.369663   \n",
       "AFG_YED(-1)      2.117349     2.166182     2.215810     2.266252     2.317529   \n",
       "AFG_YFT       5758.126998  6086.589997  6435.536997  6802.586997  7188.469997   \n",
       "AFG_YFT(-1)   5441.543998  5758.126998  6086.589997  6435.536997  6802.586997   \n",
       "\n",
       "                      2050  \n",
       "AFG_EXPE(-1)  6.369021e+01  \n",
       "AFG_EXPE_A   -3.948000e-07  \n",
       "AFG_EXPE_D    0.000000e+00  \n",
       "AFG_EXPE_X    0.000000e+00  \n",
       "AFG_YED       2.422673e+00  \n",
       "AFG_YED(-1)   2.369663e+00  \n",
       "AFG_YFT       7.593915e+03  \n",
       "AFG_YFT(-1)   7.188470e+03  \n",
       "\n",
       "[8 rows x 30 columns]"
      ]
     },
     "execution_count": 21,
     "metadata": {},
     "output_type": "execute_result"
    }
   ],
   "source": [
    "masia.AFG_EXPe"
   ]
  },
  {
   "cell_type": "code",
   "execution_count": 15,
   "id": "2b25e339",
   "metadata": {},
   "outputs": [
    {
     "data": {
      "text/plain": [
       "Endogeneous: GBR_YEN_DOLLAR:  \n",
       "Formular: FRML <Z,EXO> GBR_YEN_DOLLAR =( GBR_YER_DOLLAR*GBR_YED/GBR_EXR*(GBR_EXR_VALUE_2015) + GBR_YEN_DOLLAR_A )*(1-GBR_YEN_DOLLAR_D)+GBR_YEN_DOLLAR_X*GBR_YEN_DOLLAR_D$\n",
       "\n",
       "GBR_YEN_DOLLAR  : \n",
       "GBR_EXR         : Exchange rate (national currency / US$) ,UK\n",
       "GBR_YED         : Deflator for  GDP, National Currency, 2015 =100 ,UK\n",
       "GBR_YEN_DOLLAR_A: Add factor:GBR_YEN_DOLLAR\n",
       "GBR_YEN_DOLLAR_D: Exo dummy:GBR_YEN_DOLLAR\n",
       "GBR_YEN_DOLLAR_X: Exo value:GBR_YEN_DOLLAR\n",
       "\n",
       "Values : \n",
       "              2021          2022          2023          2024          2025  \\\n",
       "Base  3.452524e+03  3.573618e+03  3.703991e+03  3.841393e+03  3.996431e+03   \n",
       "Last  3.452524e+03  3.573618e+03  3.703991e+03  3.841393e+03  3.996431e+03   \n",
       "Diff  5.840320e-09  8.860297e-09  5.387847e-09  4.836238e-09 -1.309945e-08   \n",
       "\n",
       "              2026          2027          2028          2029          2030  \\\n",
       "Base  4.156558e+03  4.324556e+03  4.500601e+03  4.684732e+03  4.877024e+03   \n",
       "Last  4.156558e+03  4.324556e+03  4.500601e+03  4.684732e+03  4.877024e+03   \n",
       "Diff -3.102105e-08 -4.531466e-08 -4.619142e-08 -3.980222e-08 -2.251454e-08   \n",
       "\n",
       "      ...          2041          2042          2043          2044  \\\n",
       "Base  ...  7.691430e+03  8.021485e+03  8.365023e+03  8.722347e+03   \n",
       "Last  ...  7.691430e+03  8.021485e+03  8.365023e+03  8.722347e+03   \n",
       "Diff  ... -2.633769e-07 -2.979896e-07 -3.088862e-07 -3.217319e-07   \n",
       "\n",
       "              2045          2046          2047          2048          2049  \\\n",
       "Base  9.093809e+03  9.467535e+03  9.855090e+03  1.025693e+04  1.067339e+04   \n",
       "Last  9.093809e+03  9.467535e+03  9.855090e+03  1.025693e+04  1.067339e+04   \n",
       "Diff -3.314453e-07 -3.362311e-07 -3.715577e-07 -3.754358e-07 -3.537807e-07   \n",
       "\n",
       "              2050  \n",
       "Base  1.110486e+04  \n",
       "Last  1.110486e+04  \n",
       "Diff -3.203222e-07  \n",
       "\n",
       "[3 rows x 30 columns]\n",
       "\n",
       "Input last run: \n",
       "                            2021         2022         2023         2024  \\\n",
       "GBR_EXR                0.684544     0.684707     0.684149     0.683166   \n",
       "GBR_EXR_VALUE_2015     0.654546     0.654546     0.654546     0.654546   \n",
       "GBR_YED                1.125323     1.147829     1.170786     1.194201   \n",
       "GBR_YEN_DOLLAR_A      -0.000857    -0.001341    -0.001723    -0.001722   \n",
       "GBR_YEN_DOLLAR_D       0.000000     0.000000     0.000000     0.000000   \n",
       "GBR_YEN_DOLLAR_X       0.000000     0.000000     0.000000     0.000000   \n",
       "GBR_YER_DOLLAR      3208.643000  3256.837000  3306.765000  3357.358000   \n",
       "\n",
       "                           2025         2026         2027         2028  \\\n",
       "GBR_EXR                0.683166     0.683166     0.683166     0.683166   \n",
       "GBR_EXR_VALUE_2015     0.654546     0.654546     0.654546     0.654546   \n",
       "GBR_YED                1.218085     1.242447     1.267296     1.292642   \n",
       "GBR_YEN_DOLLAR_A      -0.001765    -0.001432    -0.001660    -0.001979   \n",
       "GBR_YEN_DOLLAR_D       0.000000     0.000000     0.000000     0.000000   \n",
       "GBR_YEN_DOLLAR_X       0.000000     0.000000     0.000000     0.000000   \n",
       "GBR_YER_DOLLAR      3424.373000  3491.743000  3561.638000  3633.947000   \n",
       "\n",
       "                           2029         2030  ...         2041         2042  \\\n",
       "GBR_EXR                0.683166     0.683166  ...     0.683166     0.683166   \n",
       "GBR_EXR_VALUE_2015     0.654546     0.654546  ...     0.654546     0.654546   \n",
       "GBR_YED                1.318495     1.344865  ...     1.672168     1.705612   \n",
       "GBR_YEN_DOLLAR_A      -0.001430    -0.001029  ...     0.001421     0.002189   \n",
       "GBR_YEN_DOLLAR_D       0.000000     0.000000  ...     0.000000     0.000000   \n",
       "GBR_YEN_DOLLAR_X       0.000000     0.000000  ...     0.000000     0.000000   \n",
       "GBR_YER_DOLLAR      3708.451000  3784.970000  ...  4800.796000  4908.632999   \n",
       "\n",
       "                           2043         2044         2045         2046  \\\n",
       "GBR_EXR                0.683166     0.683166     0.683166     0.683166   \n",
       "GBR_EXR_VALUE_2015     0.654546     0.654546     0.654546     0.654546   \n",
       "GBR_YED                1.739724     1.774518     1.810009     1.846209   \n",
       "GBR_YEN_DOLLAR_A       0.002497     0.001257     0.001490     0.001135   \n",
       "GBR_YEN_DOLLAR_D       0.000000     0.000000     0.000000     0.000000   \n",
       "GBR_YEN_DOLLAR_X       0.000000     0.000000     0.000000     0.000000   \n",
       "GBR_YER_DOLLAR      5018.487000  5130.256000  5243.861000  5352.320999   \n",
       "\n",
       "                           2047         2048         2049         2050  \n",
       "GBR_EXR                0.683166     0.683166     0.683166     0.683166  \n",
       "GBR_EXR_VALUE_2015     0.654546     0.654546     0.654546     0.654546  \n",
       "GBR_YED                1.883133     1.920796     1.959212     1.998396  \n",
       "GBR_YEN_DOLLAR_A       0.001350    -0.000467    -0.001622    -0.001297  \n",
       "GBR_YEN_DOLLAR_D       0.000000     0.000000     0.000000     0.000000  \n",
       "GBR_YEN_DOLLAR_X       0.000000     0.000000     0.000000     0.000000  \n",
       "GBR_YER_DOLLAR      5462.175999  5573.427000  5686.004000  5799.863001  \n",
       "\n",
       "[7 rows x 30 columns]"
      ]
     },
     "execution_count": 15,
     "metadata": {},
     "output_type": "execute_result"
    }
   ],
   "source": [
    "masia.GBR_YEN_DOLLAR"
   ]
  }
 ],
 "metadata": {
  "kernelspec": {
   "display_name": "Python 3",
   "language": "python",
   "name": "python3"
  },
  "language_info": {
   "codemirror_mode": {
    "name": "ipython",
    "version": 3
   },
   "file_extension": ".py",
   "mimetype": "text/x-python",
   "name": "python",
   "nbconvert_exporter": "python",
   "pygments_lexer": "ipython3",
   "version": "3.8.8"
  },
  "toc": {
   "base_numbering": 1,
   "nav_menu": {},
   "number_sections": true,
   "sideBar": true,
   "skip_h1_title": true,
   "title_cell": "Table of Contents",
   "title_sidebar": "Contents",
   "toc_cell": false,
   "toc_position": {},
   "toc_section_display": true,
   "toc_window_display": false
  }
 },
 "nbformat": 4,
 "nbformat_minor": 5
}
