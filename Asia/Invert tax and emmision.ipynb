{
 "cells": [
  {
   "cell_type": "code",
   "execution_count": 1,
   "id": "af1dc570",
   "metadata": {
    "hide_input": false,
    "slideshow": {
     "slide_type": "skip"
    }
   },
   "outputs": [],
   "source": [
    "# Import modelflow\n",
    "\n",
    "%load_ext autoreload\n",
    "%autoreload 2"
   ]
  },
  {
   "cell_type": "code",
   "execution_count": 2,
   "id": "7d72c030",
   "metadata": {
    "hide_input": false,
    "slideshow": {
     "slide_type": "skip"
    }
   },
   "outputs": [],
   "source": [
    "#### %matplotlib inline"
   ]
  },
  {
   "cell_type": "code",
   "execution_count": 3,
   "id": "c85c1011",
   "metadata": {},
   "outputs": [],
   "source": [
    "import matplotlib.pyplot as plt"
   ]
  },
  {
   "cell_type": "code",
   "execution_count": 4,
   "id": "26a97026",
   "metadata": {
    "hide_input": false,
    "scrolled": false,
    "slideshow": {
     "slide_type": "skip"
    }
   },
   "outputs": [
    {
     "data": {
      "text/html": [
       "\n",
       "        <style>\n",
       "            div#notebook-container    { width: 95%; }\n",
       "            div#menubar-container     { width: 65%; }\n",
       "            div#maintoolbar-container { width: 99%; }\n",
       "        </style>\n",
       "        "
      ],
      "text/plain": [
       "<IPython.core.display.HTML object>"
      ]
     },
     "metadata": {},
     "output_type": "display_data"
    }
   ],
   "source": [
    "from ipywidgets import interact,Dropdown,Checkbox\n",
    "from IPython.display import display, clear_output,Latex, Markdown\n",
    "import pandas as pd\n",
    "\n",
    "import modeljupyter as mj\n",
    "from modelvis import waterplot\n",
    "\n",
    "from modelinvert import targets_instruments\n",
    "from modelclass import model\n",
    "model.widescreen()"
   ]
  },
  {
   "cell_type": "code",
   "execution_count": 5,
   "id": "d8932a99",
   "metadata": {
    "slideshow": {
     "slide_type": "skip"
    }
   },
   "outputs": [
    {
     "data": {
      "application/javascript": [
       "IPython.OutputArea.prototype._should_scroll = function(lines){\n",
       "    return false;\n",
       "}\n"
      ],
      "text/plain": [
       "<IPython.core.display.Javascript object>"
      ]
     },
     "metadata": {},
     "output_type": "display_data"
    }
   ],
   "source": [
    "%%javascript\n",
    "IPython.OutputArea.prototype._should_scroll = function(lines){\n",
    "    return false;\n",
    "}"
   ]
  },
  {
   "cell_type": "code",
   "execution_count": 6,
   "id": "57eb5fba",
   "metadata": {
    "slideshow": {
     "slide_type": "skip"
    }
   },
   "outputs": [
    {
     "name": "stdout",
     "output_type": "stream",
     "text": [
      "Load model\n"
     ]
    }
   ],
   "source": [
    "# Load model and data, and run \n",
    "\n",
    "if not 'masia' in locals():\n",
    "    print('Load model')\n",
    "    masia,baseline = model.modelload('Asia.pcim',run=1,silent=1)\n",
    "from inject import inject\n",
    "inject(masia)    "
   ]
  },
  {
   "cell_type": "code",
   "execution_count": 7,
   "id": "84e0b533",
   "metadata": {
    "slideshow": {
     "slide_type": "skip"
    }
   },
   "outputs": [],
   "source": [
    "co2_input_var = [var for var in masia.totgraph.predecessors('WLD_CO2') if var.endswith('CO2')]\n",
    "co2_input_var_asean = [var for var in masia.totgraph.predecessors('WLD_CO2') if var.endswith('CO2') and  var.split('_')[0] in masia.countries_ASEAN ]"
   ]
  },
  {
   "cell_type": "code",
   "execution_count": 8,
   "id": "0428ab25",
   "metadata": {
    "slideshow": {
     "slide_type": "skip"
    }
   },
   "outputs": [],
   "source": [
    "co2_baseline = baseline.loc[:,co2_input_var].pipe(lambda df:df.rename(columns={c : masia.iso_dict.get(cname := c.split('_')[0],cname) for c in df.columns}))\n",
    "co2_baseline_asean = baseline.loc[:,co2_input_var_asean].pipe(lambda df:df.rename(columns={c : masia.iso_dict.get(cname := c.split('_')[0],cname) for c in df.columns}))"
   ]
  },
  {
   "cell_type": "code",
   "execution_count": 9,
   "id": "e684f46f",
   "metadata": {},
   "outputs": [],
   "source": [
    "inject(masia)\n",
    "masia.lastdf = masia.basedf.copy()\n",
    "instruments = [[f'{country}_GCARBR_A' for country in masia.countries_GCARBR_A]]\n",
    "\n",
    "target = pd.DataFrame([36_440],index=[2050],columns=['WLD_CO2'])\n",
    "\n",
    "t_i = targets_instruments(databank=baseline,targets=target,instruments=instruments,\n",
    "                          model=masia,DefaultImpuls=300.,defaultconv=1000,varimpulse=True,nonlin=False)"
   ]
  },
  {
   "cell_type": "code",
   "execution_count": 10,
   "id": "1b02084f",
   "metadata": {
    "scrolled": true
   },
   "outputs": [
    {
     "name": "stdout",
     "output_type": "stream",
     "text": [
      "Distance    :WLD_CO2   -26624.039974\n",
      "Name: 2050, dtype: float64\n",
      "OrgDistance :WLD_CO2   -26624.039974\n",
      "Name: 2050, dtype: float64\n",
      "Instrument_0    1.279162\n",
      "dtype: float64\n",
      "Distance    :WLD_CO2   -3247.955049\n",
      "Name: 2050, dtype: float64\n",
      "OrgDistance :WLD_CO2   -3247.955049\n",
      "Name: 2050, dtype: float64\n",
      "Instrument_0    0.156049\n",
      "dtype: float64\n",
      "Distance    :WLD_CO2   -2050.955219\n",
      "Name: 2050, dtype: float64\n",
      "OrgDistance :WLD_CO2   -2050.955219\n",
      "Name: 2050, dtype: float64\n",
      "Instrument_0    0.098539\n",
      "dtype: float64\n",
      "Distance    :WLD_CO2   -1363.020001\n",
      "Name: 2050, dtype: float64\n",
      "OrgDistance :WLD_CO2   -1363.020001\n",
      "Name: 2050, dtype: float64\n",
      "Instrument_0    0.065487\n",
      "dtype: float64\n",
      "Distance    :WLD_CO2   -931.197277\n",
      "Name: 2050, dtype: float64\n",
      "OrgDistance :WLD_CO2   -931.197277\n",
      "Name: 2050, dtype: float64\n"
     ]
    }
   ],
   "source": [
    "t_i.debug=1\n",
    "res = t_i(delay=29)"
   ]
  },
  {
   "cell_type": "code",
   "execution_count": 29,
   "id": "c9512a60",
   "metadata": {
    "scrolled": true
   },
   "outputs": [],
   "source": [
    "masia['wld_co2'].rename().plot(colrow=1,title='Baseline $CO^2$ emmision, World',top=0.9,ysize=5)"
   ]
  },
  {
   "cell_type": "code",
   "execution_count": 12,
   "id": "bf5688d1",
   "metadata": {
    "scrolled": true
   },
   "outputs": [
    {
     "data": {
      "text/html": [
       "<div>\n",
       "<style scoped>\n",
       "    .dataframe tbody tr th:only-of-type {\n",
       "        vertical-align: middle;\n",
       "    }\n",
       "\n",
       "    .dataframe tbody tr th {\n",
       "        vertical-align: top;\n",
       "    }\n",
       "\n",
       "    .dataframe thead th {\n",
       "        text-align: right;\n",
       "    }\n",
       "</style>\n",
       "<table border=\"1\" class=\"dataframe\">\n",
       "  <thead>\n",
       "    <tr style=\"text-align: right;\">\n",
       "      <th></th>\n",
       "      <th>AFG_GCARBR_A</th>\n",
       "      <th>ARM_GCARBR_A</th>\n",
       "      <th>AUS_GCARBR_A</th>\n",
       "      <th>AZE_GCARBR_A</th>\n",
       "      <th>BGD_GCARBR_A</th>\n",
       "      <th>BRN_GCARBR_A</th>\n",
       "      <th>BTN_GCARBR_A</th>\n",
       "      <th>CHN_GCARBR_A</th>\n",
       "      <th>FJI_GCARBR_A</th>\n",
       "      <th>FSM_GCARBR_A</th>\n",
       "      <th>...</th>\n",
       "      <th>THA_GCARBR_A</th>\n",
       "      <th>TJK_GCARBR_A</th>\n",
       "      <th>TKM_GCARBR_A</th>\n",
       "      <th>TLS_GCARBR_A</th>\n",
       "      <th>TON_GCARBR_A</th>\n",
       "      <th>TUR_GCARBR_A</th>\n",
       "      <th>UZB_GCARBR_A</th>\n",
       "      <th>VNM_GCARBR_A</th>\n",
       "      <th>VUT_GCARBR_A</th>\n",
       "      <th>WSM_GCARBR_A</th>\n",
       "    </tr>\n",
       "  </thead>\n",
       "  <tbody>\n",
       "    <tr>\n",
       "      <th>2021</th>\n",
       "      <td>479.770991</td>\n",
       "      <td>479.770991</td>\n",
       "      <td>479.770991</td>\n",
       "      <td>479.770991</td>\n",
       "      <td>479.770991</td>\n",
       "      <td>479.770991</td>\n",
       "      <td>479.770991</td>\n",
       "      <td>479.770991</td>\n",
       "      <td>479.770991</td>\n",
       "      <td>479.770991</td>\n",
       "      <td>...</td>\n",
       "      <td>479.770991</td>\n",
       "      <td>479.770991</td>\n",
       "      <td>479.770991</td>\n",
       "      <td>479.770991</td>\n",
       "      <td>479.770991</td>\n",
       "      <td>479.770991</td>\n",
       "      <td>479.770991</td>\n",
       "      <td>479.770991</td>\n",
       "      <td>479.770991</td>\n",
       "      <td>479.770991</td>\n",
       "    </tr>\n",
       "  </tbody>\n",
       "</table>\n",
       "<p>1 rows × 46 columns</p>\n",
       "</div>"
      ],
      "text/plain": [
       "      AFG_GCARBR_A  ARM_GCARBR_A  AUS_GCARBR_A  AZE_GCARBR_A  BGD_GCARBR_A  \\\n",
       "2021    479.770991    479.770991    479.770991    479.770991    479.770991   \n",
       "\n",
       "      BRN_GCARBR_A  BTN_GCARBR_A  CHN_GCARBR_A  FJI_GCARBR_A  FSM_GCARBR_A  \\\n",
       "2021    479.770991    479.770991    479.770991    479.770991    479.770991   \n",
       "\n",
       "      ...  THA_GCARBR_A  TJK_GCARBR_A  TKM_GCARBR_A  TLS_GCARBR_A  \\\n",
       "2021  ...    479.770991    479.770991    479.770991    479.770991   \n",
       "\n",
       "      TON_GCARBR_A  TUR_GCARBR_A  UZB_GCARBR_A  VNM_GCARBR_A  VUT_GCARBR_A  \\\n",
       "2021    479.770991    479.770991    479.770991    479.770991    479.770991   \n",
       "\n",
       "      WSM_GCARBR_A  \n",
       "2021    479.770991  \n",
       "\n",
       "[1 rows x 46 columns]"
      ]
     },
     "execution_count": 12,
     "metadata": {},
     "output_type": "execute_result"
    }
   ],
   "source": [
    "masia.exodif()"
   ]
  },
  {
   "cell_type": "code",
   "execution_count": null,
   "id": "84fbbf2c",
   "metadata": {},
   "outputs": [],
   "source": []
  },
  {
   "cell_type": "markdown",
   "id": "9380b3ae",
   "metadata": {
    "cell_style": "split",
    "slideshow": {
     "slide_type": "slide"
    }
   },
   "source": [
    "# World reduction "
   ]
  },
  {
   "cell_type": "markdown",
   "id": "8f73d119",
   "metadata": {
    "cell_style": "split"
   },
   "source": [
    "# ASEAN reduction"
   ]
  },
  {
   "cell_type": "code",
   "execution_count": 13,
   "id": "099c0d4f",
   "metadata": {
    "cell_style": "split"
   },
   "outputs": [
    {
     "ename": "AttributeError",
     "evalue": "",
     "output_type": "error",
     "traceback": [
      "\u001b[1;31m---------------------------------------------------------------------------\u001b[0m",
      "\u001b[1;31mKeyError\u001b[0m                                  Traceback (most recent call last)",
      "\u001b[1;32mC:\\modelflow2\\modelflow\\modelclass.py\u001b[0m in \u001b[0;36m__getattr__\u001b[1;34m(self, name)\u001b[0m\n\u001b[0;32m   1069\u001b[0m         \u001b[1;32mtry\u001b[0m\u001b[1;33m:\u001b[0m\u001b[1;33m\u001b[0m\u001b[1;33m\u001b[0m\u001b[0m\n\u001b[1;32m-> 1070\u001b[1;33m             \u001b[1;32mreturn\u001b[0m \u001b[0mmv\u001b[0m\u001b[1;33m.\u001b[0m\u001b[0mvarvis\u001b[0m\u001b[1;33m(\u001b[0m\u001b[0mmodel\u001b[0m\u001b[1;33m=\u001b[0m\u001b[0mself\u001b[0m\u001b[1;33m,\u001b[0m \u001b[0mvar\u001b[0m\u001b[1;33m=\u001b[0m\u001b[0mname\u001b[0m\u001b[1;33m.\u001b[0m\u001b[0mupper\u001b[0m\u001b[1;33m(\u001b[0m\u001b[1;33m)\u001b[0m\u001b[1;33m)\u001b[0m\u001b[1;33m\u001b[0m\u001b[1;33m\u001b[0m\u001b[0m\n\u001b[0m\u001b[0;32m   1071\u001b[0m         \u001b[1;32mexcept\u001b[0m\u001b[1;33m:\u001b[0m\u001b[1;33m\u001b[0m\u001b[1;33m\u001b[0m\u001b[0m\n",
      "\u001b[1;32mC:\\modelflow2\\modelflow\\modelvis.py\u001b[0m in \u001b[0;36m__init__\u001b[1;34m(self, model, var)\u001b[0m\n\u001b[0;32m    254\u001b[0m          \u001b[0mself\u001b[0m\u001b[1;33m.\u001b[0m\u001b[0mvar\u001b[0m \u001b[1;33m=\u001b[0m \u001b[0mvar\u001b[0m\u001b[1;33m\u001b[0m\u001b[1;33m\u001b[0m\u001b[0m\n\u001b[1;32m--> 255\u001b[1;33m          \u001b[0mself\u001b[0m\u001b[1;33m.\u001b[0m\u001b[0mendo\u001b[0m \u001b[1;33m=\u001b[0m \u001b[0mself\u001b[0m\u001b[1;33m.\u001b[0m\u001b[0mmodel\u001b[0m\u001b[1;33m.\u001b[0m\u001b[0mallvar\u001b[0m\u001b[1;33m[\u001b[0m\u001b[0mvar\u001b[0m\u001b[1;33m]\u001b[0m\u001b[1;33m[\u001b[0m\u001b[1;34m'endo'\u001b[0m\u001b[1;33m]\u001b[0m\u001b[1;33m\u001b[0m\u001b[1;33m\u001b[0m\u001b[0m\n\u001b[0m\u001b[0;32m    256\u001b[0m \u001b[1;33m\u001b[0m\u001b[0m\n",
      "\u001b[1;31mKeyError\u001b[0m: 'INPUTWIDGET_ALTERNATIVERUN'",
      "\nDuring handling of the above exception, another exception occurred:\n",
      "\u001b[1;31mAttributeError\u001b[0m                            Traceback (most recent call last)",
      "\u001b[1;32m<ipython-input-13-76f1943482cd>\u001b[0m in \u001b[0;36m<module>\u001b[1;34m\u001b[0m\n\u001b[1;32m----> 1\u001b[1;33m \u001b[1;32mif\u001b[0m \u001b[0mmasia\u001b[0m\u001b[1;33m.\u001b[0m\u001b[0minputwidget_alternativerun\u001b[0m\u001b[1;33m:\u001b[0m\u001b[1;33m\u001b[0m\u001b[1;33m\u001b[0m\u001b[0m\n\u001b[0m\u001b[0;32m      2\u001b[0m     \u001b[0mThreshold\u001b[0m \u001b[1;33m=\u001b[0m\u001b[1;36m199\u001b[0m\u001b[1;33m\u001b[0m\u001b[1;33m\u001b[0m\u001b[0m\n\u001b[0;32m      3\u001b[0m     \u001b[0mmasia\u001b[0m\u001b[1;33m.\u001b[0m\u001b[0mdekomp_plot\u001b[0m\u001b[1;33m(\u001b[0m\u001b[1;34m'WLD_CO2'\u001b[0m\u001b[1;33m,\u001b[0m\u001b[0mpct\u001b[0m\u001b[1;33m=\u001b[0m\u001b[1;36m0\u001b[0m\u001b[1;33m,\u001b[0m\u001b[0mthreshold\u001b[0m\u001b[1;33m=\u001b[0m\u001b[0mThreshold\u001b[0m\u001b[1;33m,\u001b[0m\u001b[0mnametrans\u001b[0m\u001b[1;33m=\u001b[0m\u001b[0mmasia\u001b[0m\u001b[1;33m.\u001b[0m\u001b[0mcountry_get\u001b[0m\u001b[1;33m)\u001b[0m\u001b[1;33m\u001b[0m\u001b[1;33m\u001b[0m\u001b[0m\n\u001b[0;32m      4\u001b[0m     \u001b[0mmasia\u001b[0m\u001b[1;33m.\u001b[0m\u001b[0mdekomp_plot_per\u001b[0m\u001b[1;33m(\u001b[0m\u001b[1;34m'WLD_CO2'\u001b[0m\u001b[1;33m,\u001b[0m\u001b[0mpct\u001b[0m\u001b[1;33m=\u001b[0m\u001b[1;36m0\u001b[0m\u001b[1;33m,\u001b[0m\u001b[0mthreshold\u001b[0m\u001b[1;33m=\u001b[0m\u001b[0mThreshold\u001b[0m\u001b[1;33m,\u001b[0m\u001b[0mper\u001b[0m\u001b[1;33m=\u001b[0m\u001b[1;36m2050\u001b[0m\u001b[1;33m,\u001b[0m\u001b[0msort\u001b[0m\u001b[1;33m=\u001b[0m\u001b[1;32mTrue\u001b[0m\u001b[1;33m,\u001b[0m\u001b[0mnametrans\u001b[0m\u001b[1;33m=\u001b[0m\u001b[0mmasia\u001b[0m\u001b[1;33m.\u001b[0m\u001b[0mcountry_get\u001b[0m\u001b[1;33m)\u001b[0m\u001b[1;33m;\u001b[0m\u001b[1;33m\u001b[0m\u001b[1;33m\u001b[0m\u001b[0m\n\u001b[0;32m      5\u001b[0m \u001b[1;32melse\u001b[0m\u001b[1;33m:\u001b[0m\u001b[1;33m\u001b[0m\u001b[1;33m\u001b[0m\u001b[0m\n",
      "\u001b[1;32mC:\\modelflow2\\modelflow\\modelclass.py\u001b[0m in \u001b[0;36m__getattr__\u001b[1;34m(self, name)\u001b[0m\n\u001b[0;32m   1071\u001b[0m         \u001b[1;32mexcept\u001b[0m\u001b[1;33m:\u001b[0m\u001b[1;33m\u001b[0m\u001b[1;33m\u001b[0m\u001b[0m\n\u001b[0;32m   1072\u001b[0m             \u001b[1;31m#            print(name)\u001b[0m\u001b[1;33m\u001b[0m\u001b[1;33m\u001b[0m\u001b[1;33m\u001b[0m\u001b[0m\n\u001b[1;32m-> 1073\u001b[1;33m             \u001b[1;32mraise\u001b[0m \u001b[0mAttributeError\u001b[0m\u001b[1;33m\u001b[0m\u001b[1;33m\u001b[0m\u001b[0m\n\u001b[0m\u001b[0;32m   1074\u001b[0m             \u001b[1;32mpass\u001b[0m\u001b[1;33m\u001b[0m\u001b[1;33m\u001b[0m\u001b[0m\n\u001b[0;32m   1075\u001b[0m \u001b[1;33m\u001b[0m\u001b[0m\n",
      "\u001b[1;31mAttributeError\u001b[0m: "
     ]
    }
   ],
   "source": [
    "if masia.inputwidget_alternativerun:\n",
    "    Threshold =199\n",
    "    masia.dekomp_plot('WLD_CO2',pct=0,threshold=Threshold,nametrans=masia.country_get)\n",
    "    masia.dekomp_plot_per('WLD_CO2',pct=0,threshold=Threshold,per=2050,sort=True,nametrans=masia.country_get);\n",
    "else:\n",
    "    display(Markdown('# Try make an alternative and run again'))"
   ]
  },
  {
   "cell_type": "code",
   "execution_count": null,
   "id": "2dd4f58e",
   "metadata": {
    "cell_style": "split",
    "tags": [
     "remove_cell"
    ]
   },
   "outputs": [],
   "source": [
    "if masia.inputwidget_alternativerun:\n",
    "    Threshold =0.01\n",
    "    masia.dekomp_plot('ASEAN_CO2',pct=0,threshold=Threshold,nametrans=masia.country_get)\n",
    "    masia.dekomp_plot_per('ASEAN_CO2',pct=0,threshold=Threshold,per=2050,sort=True,nametrans=masia.country_get);\n",
    "else:\n",
    "    display(Markdown('# Try make an alternative and run again'))"
   ]
  }
 ],
 "metadata": {
  "celltoolbar": "Edit Metadata",
  "hide_input": false,
  "kernelspec": {
   "display_name": "Python 3",
   "language": "python",
   "name": "python3"
  },
  "language_info": {
   "codemirror_mode": {
    "name": "ipython",
    "version": 3
   },
   "file_extension": ".py",
   "mimetype": "text/x-python",
   "name": "python",
   "nbconvert_exporter": "python",
   "pygments_lexer": "ipython3",
   "version": "3.8.8"
  },
  "toc": {
   "base_numbering": 1,
   "nav_menu": {},
   "number_sections": true,
   "sideBar": true,
   "skip_h1_title": true,
   "title_cell": "Table of Contents",
   "title_sidebar": "Contents",
   "toc_cell": false,
   "toc_position": {},
   "toc_section_display": true,
   "toc_window_display": false
  }
 },
 "nbformat": 4,
 "nbformat_minor": 5
}
