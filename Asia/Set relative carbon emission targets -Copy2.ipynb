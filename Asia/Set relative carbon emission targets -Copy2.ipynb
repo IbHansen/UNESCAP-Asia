{
 "cells": [
  {
   "cell_type": "markdown",
   "id": "0ecd8fe5",
   "metadata": {},
   "source": [
    "# Set carbon emission targets\n",
    "\n",
    "In this notebook a target for the emission is set and the required tax rate is calculated. This involves inverting the model, and takes some time.  "
   ]
  },
  {
   "cell_type": "code",
   "execution_count": 4,
   "id": "af1dc570",
   "metadata": {
    "hide_input": false,
    "slideshow": {
     "slide_type": "skip"
    }
   },
   "outputs": [],
   "source": [
    "# Import modelflow\n",
    "\n",
    "%load_ext autoreload\n",
    "%autoreload 2"
   ]
  },
  {
   "cell_type": "code",
   "execution_count": 5,
   "id": "7d72c030",
   "metadata": {
    "hide_input": false,
    "slideshow": {
     "slide_type": "skip"
    }
   },
   "outputs": [
    {
     "data": {
      "text/html": [
       "\n",
       "        <style>\n",
       "            div#notebook-container    { width: 95%; }\n",
       "            div#menubar-container     { width: 65%; }\n",
       "            div#maintoolbar-container { width: 99%; }\n",
       "        </style>\n",
       "        "
      ],
      "text/plain": [
       "<IPython.core.display.HTML object>"
      ]
     },
     "metadata": {},
     "output_type": "display_data"
    }
   ],
   "source": [
    "%matplotlib inline\n",
    "\n",
    "import matplotlib.pyplot as plt\n",
    "\n",
    "from ipywidgets import interact,Dropdown,Checkbox\n",
    "from IPython.display import display, clear_output,Latex, Markdown\n",
    "import pandas as pd\n",
    "\n",
    "import modelmf\n",
    "import modeljupyter as mj\n",
    "from modelvis import waterplot\n",
    "\n",
    "from modelinvert import targets_instruments\n",
    "from modelclass import model\n",
    "model.widescreen()\n",
    "\n",
    "model.scroll_off()"
   ]
  },
  {
   "cell_type": "markdown",
   "id": "b390fcb6",
   "metadata": {
    "slideshow": {
     "slide_type": "slide"
    }
   },
   "source": [
    "From the reduction\\_in\\_percent the target $CO^2$ emission in 2050 is calculated:\n",
    "\n",
    "$target\\_CO^{2\\_country}_{t = 2050} = CO^{2\\_country}_{t = 2050} \\times (1-reduction\\_in\\_ percent/100)$"
   ]
  },
  {
   "cell_type": "markdown",
   "id": "9e65ee48",
   "metadata": {
    "slideshow": {
     "slide_type": "fragment"
    }
   },
   "source": [
    "The yearly growth rate from 2022 to 2050 consistent with the target in 205 is calculated: \n",
    "\n",
    "$target\\_growth\\_factor = \\left(\\dfrac{CO^{2\\_target}_{t = 2050}}{CO^{2}_{t = 2022}}\\right)^{\\dfrac{1}{2050-2022}}$"
   ]
  },
  {
   "cell_type": "markdown",
   "id": "e7d8345d",
   "metadata": {
    "slideshow": {
     "slide_type": "fragment"
    }
   },
   "source": [
    "The target emission in 2022 is initialized to the \"Business as Usual\" emission: \n",
    "\n",
    "$target\\_CO^{2\\_country}_{t = 2022} =CO^{2\\_country}_{t = 2022}$"
   ]
  },
  {
   "cell_type": "markdown",
   "id": "4e555a07",
   "metadata": {
    "slideshow": {
     "slide_type": "fragment"
    }
   },
   "source": [
    "Now we can calculate the target emissions from 2023 to 2050: \n",
    "\n",
    "$target\\_CO^{2\\_country}_{t} = Target\\_CO^{2\\_country}_{t-1} \\times target\\_growth\\_factor \\hspace{5 mm} t=2023, \\cdots , 2050$"
   ]
  },
  {
   "cell_type": "code",
   "execution_count": 6,
   "id": "57eb5fba",
   "metadata": {
    "slideshow": {
     "slide_type": "skip"
    }
   },
   "outputs": [],
   "source": [
    "# Load model and data, and run \n",
    "\n",
    "masia,baseline = model.modelload('Asia_sep7.pcim',run=1,silent=1)\n",
    "from inject import inject\n",
    "inject(masia)  \n",
    "masia.lastdf = masia.basedf.copy()"
   ]
  },
  {
   "cell_type": "markdown",
   "id": "a5ff6718",
   "metadata": {},
   "source": [
    "# Parameters in this simulation \n",
    "Singapore won't solve. So it is excluded \n"
   ]
  }
 ],
 "metadata": {
  "celltoolbar": "Slideshow",
  "hide_input": false,
  "kernelspec": {
   "display_name": "Python 3 (ipykernel)",
   "language": "python",
   "name": "python3"
  },
  "language_info": {
   "codemirror_mode": {
    "name": "ipython",
    "version": 3
   },
   "file_extension": ".py",
   "mimetype": "text/x-python",
   "name": "python",
   "nbconvert_exporter": "python",
   "pygments_lexer": "ipython3",
   "version": "3.8.8"
  },
  "toc": {
   "base_numbering": 1,
   "nav_menu": {},
   "number_sections": true,
   "sideBar": true,
   "skip_h1_title": true,
   "title_cell": "Table of Contents",
   "title_sidebar": "Contents",
   "toc_cell": false,
   "toc_position": {},
   "toc_section_display": true,
   "toc_window_display": false
  }
 },
 "nbformat": 4,
 "nbformat_minor": 5
}
