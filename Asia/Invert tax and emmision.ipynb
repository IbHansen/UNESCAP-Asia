{
 "cells": [
  {
   "cell_type": "code",
   "execution_count": 1,
   "id": "af1dc570",
   "metadata": {
    "hide_input": false,
    "slideshow": {
     "slide_type": "skip"
    }
   },
   "outputs": [],
   "source": [
    "# Import modelflow\n",
    "\n",
    "%load_ext autoreload\n",
    "%autoreload 2"
   ]
  },
  {
   "cell_type": "code",
   "execution_count": 2,
   "id": "7d72c030",
   "metadata": {
    "hide_input": false,
    "slideshow": {
     "slide_type": "skip"
    }
   },
   "outputs": [],
   "source": [
    "#### %matplotlib inline"
   ]
  },
  {
   "cell_type": "code",
   "execution_count": 3,
   "id": "c85c1011",
   "metadata": {},
   "outputs": [],
   "source": [
    "import matplotlib.pyplot as plt"
   ]
  },
  {
   "cell_type": "code",
   "execution_count": 4,
   "id": "26a97026",
   "metadata": {
    "hide_input": false,
    "scrolled": false,
    "slideshow": {
     "slide_type": "skip"
    }
   },
   "outputs": [
    {
     "data": {
      "text/html": [
       "\n",
       "        <style>\n",
       "            div#notebook-container    { width: 95%; }\n",
       "            div#menubar-container     { width: 65%; }\n",
       "            div#maintoolbar-container { width: 99%; }\n",
       "        </style>\n",
       "        "
      ],
      "text/plain": [
       "<IPython.core.display.HTML object>"
      ]
     },
     "metadata": {},
     "output_type": "display_data"
    }
   ],
   "source": [
    "from ipywidgets import interact,Dropdown,Checkbox\n",
    "from IPython.display import display, clear_output,Latex, Markdown\n",
    "import pandas as pd\n",
    "\n",
    "import modeljupyter as mj\n",
    "from modelvis import waterplot\n",
    "\n",
    "from modelinvert import targets_instruments\n",
    "from modelclass import model\n",
    "model.widescreen()"
   ]
  },
  {
   "cell_type": "code",
   "execution_count": 11,
   "id": "074a460e",
   "metadata": {},
   "outputs": [],
   "source": [
    "model.scroll_off()"
   ]
  },
  {
   "cell_type": "code",
   "execution_count": null,
   "id": "d8932a99",
   "metadata": {
    "slideshow": {
     "slide_type": "skip"
    }
   },
   "outputs": [],
   "source": [
    "%%javascript\n",
    "IPython.OutputArea.prototype._should_scroll = function(lines){\n",
    "    return false;\n",
    "}"
   ]
  },
  {
   "cell_type": "code",
   "execution_count": null,
   "id": "57eb5fba",
   "metadata": {
    "slideshow": {
     "slide_type": "skip"
    }
   },
   "outputs": [],
   "source": [
    "# Load model and data, and run \n",
    "\n",
    "if not 'masia' in locals():\n",
    "    print('Load model')\n",
    "    masia,baseline = model.modelload('Asia.pcim',run=1,silent=1)\n",
    "from inject import inject\n",
    "inject(masia)    "
   ]
  },
  {
   "cell_type": "code",
   "execution_count": null,
   "id": "84e0b533",
   "metadata": {
    "slideshow": {
     "slide_type": "skip"
    }
   },
   "outputs": [],
   "source": [
    "co2_input_var = [var for var in masia.totgraph.predecessors('WLD_CO2') if var.endswith('CO2')]\n",
    "co2_input_var_asean = [var for var in masia.totgraph.predecessors('WLD_CO2') if var.endswith('CO2') and  var.split('_')[0] in masia.countries_ASEAN ]"
   ]
  },
  {
   "cell_type": "code",
   "execution_count": null,
   "id": "0428ab25",
   "metadata": {
    "slideshow": {
     "slide_type": "skip"
    }
   },
   "outputs": [],
   "source": [
    "co2_baseline = baseline.loc[:,co2_input_var].pipe(lambda df:df.rename(columns={c : masia.iso_dict.get(cname := c.split('_')[0],cname) for c in df.columns}))\n",
    "co2_baseline_asean = baseline.loc[:,co2_input_var_asean].pipe(lambda df:df.rename(columns={c : masia.iso_dict.get(cname := c.split('_')[0],cname) for c in df.columns}))"
   ]
  },
  {
   "cell_type": "code",
   "execution_count": null,
   "id": "80809416",
   "metadata": {},
   "outputs": [],
   "source": [
    "emmision_target = 36_440"
   ]
  },
  {
   "cell_type": "code",
   "execution_count": null,
   "id": "e684f46f",
   "metadata": {},
   "outputs": [],
   "source": [
    "inject(masia)\n",
    "masia.lastdf = masia.basedf.copy()\n",
    "instruments = [[f'{country}_GCARBR_A' for country in masia.countries_GCARBR_A]]\n",
    "\n",
    "target = pd.DataFrame([emmision_target],index=[2050],columns=['WLD_CO2'])\n",
    "\n",
    "t_i = targets_instruments(databank=baseline,targets=target,instruments=instruments,\n",
    "                          model=masia,DefaultImpuls=300.,defaultconv=1000,varimpulse=True,nonlin=False)"
   ]
  },
  {
   "cell_type": "code",
   "execution_count": null,
   "id": "1b02084f",
   "metadata": {
    "scrolled": true
   },
   "outputs": [],
   "source": [
    "t_i.debug=1\n",
    "res = t_i(delay=29)"
   ]
  },
  {
   "cell_type": "code",
   "execution_count": null,
   "id": "c9512a60",
   "metadata": {
    "scrolled": true
   },
   "outputs": [],
   "source": [
    "masia['wld_co2'].rename().plot_alt(title=f'Reaching emision target {emmision_target:,.0f} Mt in 2050')"
   ]
  },
  {
   "cell_type": "markdown",
   "id": "b10a72a2",
   "metadata": {},
   "source": [
    "# Tax in each country "
   ]
  },
  {
   "cell_type": "code",
   "execution_count": null,
   "id": "bf5688d1",
   "metadata": {
    "scrolled": true
   },
   "outputs": [],
   "source": [
    "masia.exodif().rename(columns=masia.var_description).T"
   ]
  },
  {
   "cell_type": "markdown",
   "id": "9380b3ae",
   "metadata": {
    "cell_style": "split",
    "slideshow": {
     "slide_type": "slide"
    }
   },
   "source": [
    "# World reduction "
   ]
  },
  {
   "cell_type": "markdown",
   "id": "8f73d119",
   "metadata": {
    "cell_style": "split"
   },
   "source": [
    "# ASEAN reduction"
   ]
  },
  {
   "cell_type": "code",
   "execution_count": null,
   "id": "099c0d4f",
   "metadata": {
    "cell_style": "split"
   },
   "outputs": [],
   "source": [
    "\n",
    "    Threshold =199\n",
    "    masia.dekomp_plot('WLD_CO2',pct=0,threshold=Threshold,nametrans=masia.country_get)\n",
    "    masia.dekomp_plot_per('WLD_CO2',pct=0,threshold=Threshold,per=2050,sort=True,nametrans=masia.country_get);\n"
   ]
  },
  {
   "cell_type": "code",
   "execution_count": null,
   "id": "2dd4f58e",
   "metadata": {
    "cell_style": "split",
    "tags": [
     "remove_cell"
    ]
   },
   "outputs": [],
   "source": [
    "    masia.dekomp_plot('ASEAN_CO2',pct=0,threshold=Threshold,nametrans=masia.country_get)\n",
    "    masia.dekomp_plot_per('ASEAN_CO2',pct=0,threshold=Threshold,per=2050,sort=True,nametrans=masia.country_get)\n"
   ]
  }
 ],
 "metadata": {
  "celltoolbar": "Edit Metadata",
  "hide_input": false,
  "kernelspec": {
   "display_name": "Python 3",
   "language": "python",
   "name": "python3"
  },
  "language_info": {
   "codemirror_mode": {
    "name": "ipython",
    "version": 3
   },
   "file_extension": ".py",
   "mimetype": "text/x-python",
   "name": "python",
   "nbconvert_exporter": "python",
   "pygments_lexer": "ipython3",
   "version": "3.8.8"
  },
  "toc": {
   "base_numbering": 1,
   "nav_menu": {},
   "number_sections": true,
   "sideBar": true,
   "skip_h1_title": true,
   "title_cell": "Table of Contents",
   "title_sidebar": "Contents",
   "toc_cell": false,
   "toc_position": {},
   "toc_section_display": true,
   "toc_window_display": false
  }
 },
 "nbformat": 4,
 "nbformat_minor": 5
}
