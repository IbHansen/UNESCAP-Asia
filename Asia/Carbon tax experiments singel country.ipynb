{
 "cells": [
  {
   "cell_type": "markdown",
   "id": "20d803b1",
   "metadata": {
    "slideshow": {
     "slide_type": "slide"
    }
   },
   "source": [
    "<img style=\"float: right;\" src=\"files/UNESCAP75.png\" width=300 height=300 />"
   ]
  },
  {
   "cell_type": "markdown",
   "id": "f3f6011e",
   "metadata": {
    "slideshow": {
     "slide_type": "slide"
    }
   },
   "source": [
    "# ESCAP Carbon Pricing simulation tool"
   ]
  },
  {
   "cell_type": "code",
   "execution_count": 1,
   "id": "6ac69535",
   "metadata": {
    "hide_input": false,
    "slideshow": {
     "slide_type": "skip"
    }
   },
   "outputs": [],
   "source": [
    "# Import modelflow\n",
    "#%load_ext autoreload\n",
    "#%autoreload 2"
   ]
  },
  {
   "cell_type": "code",
   "execution_count": 2,
   "id": "26a97026",
   "metadata": {
    "hide_input": false,
    "scrolled": false,
    "slideshow": {
     "slide_type": "skip"
    }
   },
   "outputs": [
    {
     "data": {
      "text/html": [
       "\n",
       "        <style>\n",
       "            div#notebook-container    { width: 95%; }\n",
       "            div#menubar-container     { width: 65%; }\n",
       "            div#maintoolbar-container { width: 99%; }\n",
       "        </style>\n",
       "        "
      ],
      "text/plain": [
       "<IPython.core.display.HTML object>"
      ]
     },
     "metadata": {},
     "output_type": "display_data"
    },
    {
     "data": {
      "text/html": [
       "\n",
       "            <style>\n",
       "                div#notebook-container    { width: 95%; }\n",
       "                div#menubar-container     { width: 65%; }\n",
       "                div#maintoolbar-container { width: 99%; }\n",
       "            </style>\n",
       "            "
      ],
      "text/plain": [
       "<IPython.core.display.HTML object>"
      ]
     },
     "metadata": {},
     "output_type": "display_data"
    },
    {
     "data": {
      "text/html": [
       "            <script>\n",
       "                // AUTORUN ALL CELLS ON NOTEBOOK-LOAD!\n",
       "                require(\n",
       "                    ['base/js/namespace', 'jquery'], \n",
       "                    function(jupyter, $) {\n",
       "                        $(jupyter.events).on('kernel_ready.Kernel', function () {\n",
       "                            console.log('Auto-running all cells-below...');\n",
       "                            jupyter.actions.call('jupyter-notebook:run-all-cells-below');\n",
       "                            jupyter.actions.call('jupyter-notebook:save-notebook');\n",
       "                        });\n",
       "                    }\n",
       "                );\n",
       "            </script>"
      ],
      "text/plain": [
       "<IPython.core.display.HTML object>"
      ]
     },
     "metadata": {},
     "output_type": "display_data"
    }
   ],
   "source": [
    "%matplotlib inline\n",
    "\n",
    "from ipywidgets import interact,Dropdown,Checkbox,Select\n",
    "from IPython.display import display, clear_output,Latex, Markdown\n",
    "import pandas as pd\n",
    "\n",
    "import modeljupyter as mj\n",
    "from modelvis import waterplot\n",
    "\n",
    "from modelinvert import targets_instruments\n",
    "from modelclass import model\n",
    "model.widescreen()\n",
    "model.scroll_off()\n",
    "model.modelflow_auto()"
   ]
  },
  {
   "cell_type": "markdown",
   "id": "a39dcd75",
   "metadata": {},
   "source": [
    "# First the model is loaded"
   ]
  },
  {
   "cell_type": "code",
   "execution_count": 3,
   "id": "b84eb2cf",
   "metadata": {
    "slideshow": {
     "slide_type": "skip"
    }
   },
   "outputs": [
    {
     "name": "stdout",
     "output_type": "stream",
     "text": [
      "The model is beeing loaded into the notebook.\n",
      "It may take some time, depending on the server load.\n",
      "The model is now loaded\n"
     ]
    }
   ],
   "source": [
    "# Load model and data, and run \n",
    "\n",
    "if not 'masia' in locals():\n",
    "    print('The model is beeing loaded into the notebook.')\n",
    "    print('It may take some time, depending on the server load.')\n",
    "    masia,baseline = model.modelload('Asia_19nov.pcim',run=1,silent=1)\n",
    "    print('The model is now loaded')\n",
    "\n",
    "from inject import inject\n",
    "inject(masia)    "
   ]
  },
  {
   "cell_type": "markdown",
   "id": "b3efdcce",
   "metadata": {},
   "source": [
    "# Hints"
   ]
  },
  {
   "cell_type": "markdown",
   "id": "7f685a7e",
   "metadata": {
    "slideshow": {
     "slide_type": "slide"
    }
   },
   "source": [
    "If loading is not happening, or if you have other problems restart the Notebook. \n",
    "\n",
    "To restart press **cell**>**run all** in the menu "
   ]
  },
  {
   "cell_type": "markdown",
   "id": "8221d3ce",
   "metadata": {},
   "source": [
    "# You can select a country for which to make simulations\n",
    "Then input a scenario for the country, run the scenario and show the results  "
   ]
  },
  {
   "cell_type": "markdown",
   "id": "42549943",
   "metadata": {
    "slideshow": {
     "slide_type": "slide"
    }
   },
   "source": [
    "# Business as usual \n",
    "Business as usual emissions are based on an assumption of NO CHANGE in the energy mix after 2020\n"
   ]
  },
  {
   "cell_type": "code",
   "execution_count": 4,
   "id": "8b1bc52a",
   "metadata": {
    "cell_style": "center",
    "scrolled": false,
    "slideshow": {
     "slide_type": "slide"
    }
   },
   "outputs": [
    {
     "data": {
      "application/vnd.jupyter.widget-view+json": {
       "model_id": "4d8b00c0922a4c6bbe24c9036b4c00f1",
       "version_major": 2,
       "version_minor": 0
      },
      "text/plain": [
       "Select(description='Select country', options=(('Armenia', 'ARM'), ('Azerbaijan', 'AZE'), ('Bangladesh', 'BGD')…"
      ]
     },
     "metadata": {},
     "output_type": "display_data"
    }
   ],
   "source": [
    "lookat_countries = sorted(masia.countries_ASEAN+\n",
    "('FSM RUS BGD IRN TUR ARM MDV KAZ TLS IND UZB BTN WSM GEO AZE'.split()))\n",
    "tup_countries = [(masia.iso_dict[c],c) for c in lookat_countries]\n",
    "selected = Select(options = tup_countries,description='Select country',style={'width':'60%','description_width':'40%'})\n",
    "display(selected)\n",
    "\n",
    "selected_country = selected.value.split()\n",
    "\n",
    "def show(g):\n",
    "    clear_output()\n",
    "    display(selected)\n",
    "    # print(g)\n",
    "    selected_country = g['new'].split()\n",
    "    \n",
    "    masia.keep_solutions = {}\n",
    "    masia.keep_solutions[\"Business as usual\"]= baseline.copy()\n",
    "\n",
    "    # Here we define the input widgets\n",
    "    from modelwidget import sumslidewidget,slidewidget, updatewidget, tabwidget,sheetwidget\n",
    "    outvar = 'GDI GCARBR CO2 LNN'.split()\n",
    "\n",
    "    #  masia.countries_GCARBR_A is list of all countries in the model with a countries_GCARBR_A \n",
    "    #  masia.countries_ASEAN is list of all countries in ASEAN \n",
    "\n",
    "    slidedef_ambition_countries = {  \"Climate policy ambition\": \n",
    "                          {'var': f'{country}_AMB', 'value': masia.basedf.loc[2021,f'{country}_AMB'] ,'min':1,'max':5,'op':'=','step':0.1,'dec':1} \n",
    "                          for country in  selected_country}\n",
    "    slidedef_enabling_countries = {'Enabling factors for climate action' : \n",
    "                          {'var': f'{country}_ENAB', 'value': masia.basedf.loc[2021,f'{country}_ENAB'],'min':1,'max':5,'op':'=','step':0.1,'dec':1} \n",
    "                          for country in  selected_country}\n",
    "\n",
    "    updatevar = [f'{country}_GCARBR_A' for country in selected_country]\n",
    "    smalldf = baseline.loc[2022:2040, updatevar]\n",
    "    c = selected_country[0]\n",
    "    displayvar = f'{c}_CO2 {c}_GCARBR {c}_INFL {c}_GDNRATIO {c}_YER {c}_PM25 {c}_INFL'\\\n",
    "    f'{c}_URX {c}_HEAD55 {c}_GINI_DISP {c}_TFP'\n",
    "\n",
    "    tabsharedef = {masia.iso_dict.get(country,country) : sumslidewidget(\n",
    "                    {'Environmental protection':{'var': f'{country}_SHAREE', 'value': 0.25,'min':0.0,'max':1,'op':'=','step':0.05,'dec':2} ,\n",
    "                     'Health'                  :{'var': f'{country}_SHAREH', 'value': 0.25,'min':0.0,'max':1,'op':'=','step':0.05,'dec':2} ,\n",
    "                     'Social protection'       :{'var': f'{country}_SHARESP','value': 0.25,'min':0.0,'max':1,'op':'=','step':0.05,'dec':2} ,\n",
    "                     'Education'               :{'var': f'{country}_SHAREED','value': 0.0,'min':0.0,'max':1,'op':'=','step':0.05,'dec':2} ,\n",
    "                     'Connectivity'            :{'var': f'{country}_SHARECX','value': 0.0,'min':0.0,'max':1,'op':'=','step':0.05,'dec':2} ,\n",
    "                     'Energy efficiency gains' :{'var': f'{country}_SHAREX', 'value': 0.25,'min':0.0,'max':1,'op':'=','step':0.05,'dec':2} \n",
    "                    } , expname='Share (the sum can max be 1.0) of Carbon revenue spent on:', maxsum=1.0)  \n",
    "\n",
    "                   for country in selected_country }\n",
    "\n",
    "\n",
    "    tabdef = {\n",
    "              'Individual tax rates'      : (sheet1 :=  sheetwidget(df_var = smalldf,transpose=0,trans=masia.get_a_country)),\n",
    "              'Use of carbon tax revenue' : tabwidget(tabdefdict = tabsharedef,tab=True,selected_index = 0),\n",
    "              'Ambition and enabling'    : slidewidget({**slidedef_ambition_countries,**slidedef_enabling_countries},expname='On a scale from 1 to 5')\n",
    "                }\n",
    "\n",
    "    select_dict = {c:d for c,d in masia.iso_dict.items() if c  in selected_country }\n",
    "    prefix_dict = select_dict\n",
    "\n",
    "    wtab = tabwidget(tabdefdict = tabdef,tab=False)\n",
    "    xx = updatewidget(masia,wtab,lwreset=True,varpat = displayvar,outputwidget='keep_viz_prefix',\n",
    "                      prefix_dict={},display_first = selected,vline=[(2021,'')],relativ_start=-10) # output widget = either keep_viz or jupviz \n",
    "    \n",
    "    xx.show(None)\n",
    "    #display(selected)\n",
    "    #display(xx.wtotal)\n",
    "    \n",
    "\n",
    "\n",
    "selected.observe(show,names='value',type='change')\n",
    "    "
   ]
  },
  {
   "cell_type": "code",
   "execution_count": null,
   "id": "57a382d1",
   "metadata": {},
   "outputs": [],
   "source": []
  },
  {
   "cell_type": "code",
   "execution_count": null,
   "id": "a8a2f5c1",
   "metadata": {},
   "outputs": [],
   "source": []
  }
 ],
 "metadata": {
  "hide_input": true,
  "kernelspec": {
   "display_name": "Python 3 (ipykernel)",
   "language": "python",
   "name": "python3"
  },
  "language_info": {
   "codemirror_mode": {
    "name": "ipython",
    "version": 3
   },
   "file_extension": ".py",
   "mimetype": "text/x-python",
   "name": "python",
   "nbconvert_exporter": "python",
   "pygments_lexer": "ipython3",
   "version": "3.8.8"
  },
  "rise": {
   "autolaunch": false,
   "enable_chalkboard": true,
   "footer": "Asia model",
   "header": "ModelFlow",
   "scroll": true
  },
  "toc": {
   "base_numbering": 1,
   "nav_menu": {},
   "number_sections": true,
   "sideBar": true,
   "skip_h1_title": true,
   "title_cell": "Table of Contents",
   "title_sidebar": "Contents",
   "toc_cell": false,
   "toc_position": {},
   "toc_section_display": true,
   "toc_window_display": false
  }
 },
 "nbformat": 4,
 "nbformat_minor": 5
}
