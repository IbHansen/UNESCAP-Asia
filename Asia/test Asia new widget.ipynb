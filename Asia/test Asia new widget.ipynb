{
 "cells": [
  {
   "cell_type": "markdown",
   "id": "b3fde3e1",
   "metadata": {
    "slideshow": {
     "slide_type": "skip"
    }
   },
   "source": [
    "# Import modelflow"
   ]
  },
  {
   "cell_type": "code",
   "execution_count": 2,
   "id": "26a97026",
   "metadata": {
    "scrolled": false,
    "slideshow": {
     "slide_type": "skip"
    }
   },
   "outputs": [
    {
     "name": "stdout",
     "output_type": "stream",
     "text": [
      "The autoreload extension is already loaded. To reload it, use:\n",
      "  %reload_ext autoreload\n"
     ]
    },
    {
     "data": {
      "text/html": [
       "\n",
       "        <style>\n",
       "            div#notebook-container    { width: 95%; }\n",
       "            div#menubar-container     { width: 65%; }\n",
       "            div#maintoolbar-container { width: 99%; }\n",
       "        </style>\n",
       "        "
      ],
      "text/plain": [
       "<IPython.core.display.HTML object>"
      ]
     },
     "metadata": {},
     "output_type": "display_data"
    }
   ],
   "source": [
    "%load_ext autoreload\n",
    "%autoreload 2\n",
    "\n",
    "%matplotlib inline\n",
    "\n",
    "from ipywidgets import interact,Dropdown,Checkbox,Tab\n",
    "from IPython.display import display, clear_output,Latex, Markdown\n",
    "import pandas as pd\n",
    "\n",
    "import modeljupyter as mj\n",
    "from modelvis import waterplot\n",
    "\n",
    "\n",
    "from modelclass import model\n",
    "model.widescreen()\n",
    "\n",
    "import modelwidget"
   ]
  },
  {
   "cell_type": "markdown",
   "id": "13ba5994",
   "metadata": {
    "slideshow": {
     "slide_type": "skip"
    }
   },
   "source": [
    "# Load model and data, and run "
   ]
  },
  {
   "cell_type": "code",
   "execution_count": null,
   "id": "e2795283",
   "metadata": {
    "scrolled": false,
    "slideshow": {
     "slide_type": "skip"
    }
   },
   "outputs": [],
   "source": [
    "if not 'masia' in locals():\n",
    "    print('Load model')\n",
    "    masia,baseline = model.modelload('Asia.pcim',run=1,silent=1)\n",
    "from inject import  inject\n",
    "inject(masia)"
   ]
  },
  {
   "cell_type": "code",
   "execution_count": null,
   "id": "1f12d736",
   "metadata": {},
   "outputs": [],
   "source": [
    "xx = masia(baseline,stats=0,progressbar=1)"
   ]
  },
  {
   "cell_type": "code",
   "execution_count": null,
   "id": "84e0b533",
   "metadata": {
    "slideshow": {
     "slide_type": "skip"
    }
   },
   "outputs": [],
   "source": [
    "co2_input_var = [var for var in masia.totgraph.predecessors('WLD_CO2') if var.endswith('CO2')]"
   ]
  },
  {
   "cell_type": "code",
   "execution_count": null,
   "id": "0428ab25",
   "metadata": {
    "slideshow": {
     "slide_type": "skip"
    }
   },
   "outputs": [],
   "source": [
    "co2_baseline = baseline.loc[:,co2_input_var].pipe(lambda df:df.rename(columns={c : masia.iso_dict.get(cname := c.split('_')[0],cname) for c in df.columns}))"
   ]
  },
  {
   "cell_type": "markdown",
   "id": "7254b3bb",
   "metadata": {
    "slideshow": {
     "slide_type": "skip"
    }
   },
   "source": [
    "# Variables to inputwidget"
   ]
  },
  {
   "cell_type": "code",
   "execution_count": null,
   "id": "b3e7dd1c",
   "metadata": {
    "scrolled": false,
    "slideshow": {
     "slide_type": "skip"
    }
   },
   "outputs": [],
   "source": [
    "outvar = 'GDI GCARBR CO2 LNN'.split()\n",
    "displayvar = 'WLD_CO2 ASP_CO2 G20_CO2 '\n",
    "\n",
    "#  masia.countries_GCARBR_A is list of all countries in the model with a countries_GCARBR_A \n",
    "#  masia.countries_ASEAN is list of all countries in ASEAN \n",
    "countries_rest = [country for country in masia.countries_GCARBR_A if country not in masia.countries_ASEAN]\n",
    "\n",
    "slidedef_allasean =  {'All ASEAN countries' : {'var': ' '.join([f'{country}_GCARBR_A' for country in masia.countries_ASEAN ])\n",
    "                          , 'value': 0.0,'min':0,'max':100,'op':'+impulse','step':10,'dec':0}}\n",
    "slidedef_allrest =  {'Rest of the world' : {'var': \n",
    "    ' '.join([f'{country}_GCARBR_A' for country in countries_rest])\n",
    "                          , 'value': 0.0,'min':0,'max':100,'op':'+impulse','step':10,'dec':0}}\n",
    "slidedef_countries = {masia.iso_dict.get(country,country)+', Extra' : \n",
    "                      {'var': f'{country}_GCARBR_A', 'value': 0.0,'min':-40,'max':40,'op':'+impulse','step':10,'dec':5} \n",
    "                      for country in  masia.countries_ASEAN}\n",
    "\n"
   ]
  },
  {
   "cell_type": "code",
   "execution_count": null,
   "id": "b01cc9c8",
   "metadata": {},
   "outputs": [],
   "source": [
    "\n",
    "from modelwidget import slidewidget, update_tab,update_input,tabwidget\n",
    "from IPython.display import display"
   ]
  },
  {
   "cell_type": "code",
   "execution_count": null,
   "id": "0513ce38",
   "metadata": {},
   "outputs": [],
   "source": [
    "atabwidget = update_tab({'Areas': {**slidedef_allasean,**slidedef_allrest},\n",
    "                        'Country add on':slidedef_countries})\n",
    "\n",
    "atabwidget.tabs"
   ]
  },
  {
   "cell_type": "code",
   "execution_count": null,
   "id": "d0527224",
   "metadata": {},
   "outputs": [],
   "source": [
    "testdf = baseline.copy()\n",
    "atabwidget.update_df(testdf,masia.current_per)\n",
    "zz = masia(testdf)"
   ]
  },
  {
   "cell_type": "code",
   "execution_count": null,
   "id": "16a568e9",
   "metadata": {},
   "outputs": [],
   "source": [
    "masia.exodif().T"
   ]
  },
  {
   "cell_type": "code",
   "execution_count": null,
   "id": "b18ad88e",
   "metadata": {},
   "outputs": [],
   "source": []
  },
  {
   "cell_type": "code",
   "execution_count": null,
   "id": "a16bc3d0",
   "metadata": {},
   "outputs": [],
   "source": [
    "this = update_input(masia,{'Area  wide carbon tax': {**slidedef_allasean,**slidedef_allrest},\n",
    "                        'Single country add on':slidedef_countries})\n",
    "\n",
    "this.wtotal"
   ]
  },
  {
   "cell_type": "code",
   "execution_count": null,
   "id": "77d24142",
   "metadata": {},
   "outputs": [],
   "source": [
    "updatevar = [f'{country}_GCARBR_A' for country in masia.countries_ASEAN ]\n",
    "smalldf = baseline.loc[2022:2027, updatevar]"
   ]
  },
  {
   "cell_type": "code",
   "execution_count": null,
   "id": "e0fabd44",
   "metadata": {},
   "outputs": [],
   "source": []
  },
  {
   "cell_type": "code",
   "execution_count": null,
   "id": "d64d9f83",
   "metadata": {},
   "outputs": [],
   "source": []
  },
  {
   "cell_type": "code",
   "execution_count": null,
   "id": "61ed1280",
   "metadata": {},
   "outputs": [],
   "source": [
    "smalldf.rename(columns= masia.get_a_country )"
   ]
  },
  {
   "cell_type": "code",
   "execution_count": null,
   "id": "b3948b14",
   "metadata": {
    "scrolled": true
   },
   "outputs": [],
   "source": [
    "xx = modelwidget.sheetwidget(df_var = smalldf,transpose=0,trans=masia.get_a_country)\n",
    "\n",
    "xx.wsheet"
   ]
  },
  {
   "cell_type": "code",
   "execution_count": null,
   "id": "8011e4e4",
   "metadata": {
    "scrolled": false
   },
   "outputs": [],
   "source": [
    "from modelwidget import slidewidget, tabwidget, sheetwidget, updatewidget\n",
    "\n",
    "tabdef = {'Areawide Carbon tax 2022':slidewidget( {**slidedef_allasean,**slidedef_allrest}),\n",
    "          'Single country add on 2022':slidewidget(slidedef_countries),\n",
    "          'Individual tax rates' : sheetwidget(df_var = smalldf,transpose=0,trans=masia.get_a_country)\n",
    "         }\n",
    "wtab = tabwidget(tabdefdict = tabdef)\n",
    "wtab.datawidget"
   ]
  },
  {
   "cell_type": "code",
   "execution_count": null,
   "id": "2ff4f1ec",
   "metadata": {},
   "outputs": [],
   "source": [
    "from modelwidget import slidewidget, tabwidget, sheetwidget, updatewidget\n",
    "\n",
    "xx = updatewidget(masia,wtab)\n",
    "\n",
    "xx.wtotal"
   ]
  }
 ],
 "metadata": {
  "celltoolbar": "Slideshow",
  "hide_input": false,
  "kernelspec": {
   "display_name": "Python 3",
   "language": "python",
   "name": "python3"
  },
  "language_info": {
   "codemirror_mode": {
    "name": "ipython",
    "version": 3
   },
   "file_extension": ".py",
   "mimetype": "text/x-python",
   "name": "python",
   "nbconvert_exporter": "python",
   "pygments_lexer": "ipython3",
   "version": "3.8.8"
  },
  "toc": {
   "base_numbering": 1,
   "nav_menu": {},
   "number_sections": true,
   "sideBar": true,
   "skip_h1_title": true,
   "title_cell": "Table of Contents",
   "title_sidebar": "Contents",
   "toc_cell": false,
   "toc_position": {},
   "toc_section_display": true,
   "toc_window_display": false
  }
 },
 "nbformat": 4,
 "nbformat_minor": 5
}
