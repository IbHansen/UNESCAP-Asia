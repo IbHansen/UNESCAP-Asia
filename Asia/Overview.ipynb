{
 "cells": [
  {
   "cell_type": "markdown",
   "metadata": {},
   "source": [
    "# This notebook links to examples using the **Asia** model.\n",
    "\n",
    "Please have patience until the notebook had been loaded and executed.  "
   ]
  },
  {
   "cell_type": "markdown",
   "metadata": {},
   "source": [
    "# ModelFlow Abstract\n",
    "ModelFlow is a Python toolkit which can handle a wide range of models from small to huge.  This covers: on-boarding a model, analyze the logical structure, solve the model, analyze and compare the results. \n",
    "\n",
    "Modelflow is located on Github [here](https://github.com/IbHansen/ModelFlow2). The repo includes some models implemented in ModelFlow: \n",
    " \n",
    "The toolkit is fast, lean, and agile.\n",
    "Models and results can be analyzed and visualized using the full arsenal of Python data science tools. \n",
    "This is achieved by leveraging on the Python ecosystem (especially the [Pandas](https://pandas.pydata.org/) and the [numpy](https://www.nature.com/articles/s41586-020-2649-2) libraries. \n",
    "\n",
    "Simultaneous models can be solved by\n",
    "\n",
    " - Gauss-Seidle or Newton-Raphson algorithmes if no lead\n",
    " - Fair-Taylor or stacked Newton-Raphson if the model contains leads and lags\n",
    " - The Jacobian matrice used by Newton-Raphson solvers will be calculated either by symbolic or by numerical differentiation and then handled by sparse matrix libraries. \n",
    "         \n",
    "Non-simultaneous models will be sequenced and calculated. \n",
    " \n",
    "**Models can be specified in a Business logic language**. The user can concentrate on the economic content. To specify models incorporating many banks or sectors a **Macro-business logic language** is part of the library. \n",
    "\n",
    "Creating a (Macro prudential) model often entails implementing models specified in different ways: Excel, Latex, Eviews, Dynare, Python or other languages. Python''s ecosystem makes it possible to transform such model specification into ModelFlow. \n",
    "\n",
    "The core function of the library is a transpiler which first parse and analyze a model specified in the Business logic language then generates Python code which can solved the model. \n",
    "\n",
    "Jupyter notebooks with the examples can be run on a Binder virtual machine [here](https://mybinder.org/v2/gh/IbHansen/UNESCAP-Asia/HEAD?filepath=Asia%2FOverview.ipynb). Which is probably where you are just now. "
   ]
  },
  {
   "cell_type": "code",
   "execution_count": 1,
   "metadata": {},
   "outputs": [
    {
     "data": {
      "text/html": [
       "\n",
       "            <style>\n",
       "                div#notebook-container    { width: 95%; }\n",
       "                div#menubar-container     { width: 65%; }\n",
       "                div#maintoolbar-container { width: 99%; }\n",
       "            </style>\n",
       "            "
      ],
      "text/plain": [
       "<IPython.core.display.HTML object>"
      ]
     },
     "metadata": {},
     "output_type": "display_data"
    },
    {
     "data": {
      "text/html": [
       "            <script>\n",
       "                // AUTORUN ALL CELLS ON NOTEBOOK-LOAD!\n",
       "                require(\n",
       "                    ['base/js/namespace', 'jquery'], \n",
       "                    function(jupyter, $) {\n",
       "                        $(jupyter.events).on('kernel_ready.Kernel', function () {\n",
       "                            console.log('Auto-running all cells-below...');\n",
       "                            jupyter.actions.call('jupyter-notebook:run-all-cells-below');\n",
       "                            jupyter.actions.call('jupyter-notebook:save-notebook');\n",
       "                        });\n",
       "                    }\n",
       "                );\n",
       "            </script>"
      ],
      "text/plain": [
       "<IPython.core.display.HTML object>"
      ]
     },
     "metadata": {},
     "output_type": "display_data"
    }
   ],
   "source": [
    "from modelclass import model\n",
    "model.modelflow_auto()"
   ]
  },
  {
   "cell_type": "markdown",
   "metadata": {},
   "source": [
    "# Gallery \n",
    "Below you will find links Jupyter notebooks using ModelFlow to run different models. The purpose of the notebooks are primarily to illustrate how ModelFlow can be used to manage a fairly large range of models and to show some of the capabilities. "
   ]
  },
  {
   "cell_type": "code",
   "execution_count": 2,
   "metadata": {
    "scrolled": false
   },
   "outputs": [
    {
     "data": {
      "text/markdown": [
       "**Jupyter notebooks in this and all subfolders**"
      ],
      "text/plain": [
       "<IPython.core.display.Markdown object>"
      ]
     },
     "metadata": {},
     "output_type": "display_data"
    },
    {
     "data": {
      "text/html": [
       "<b>Asia (.)</b>"
      ],
      "text/plain": [
       "<IPython.core.display.HTML object>"
      ]
     },
     "metadata": {},
     "output_type": "display_data"
    },
    {
     "data": {
      "text/html": [
       "&nbsp; &nbsp; &nbsp; &nbsp; &nbsp; <a href=\"Asia logical structure.ipynb\" target=\"_blank\">Asia logical structure</a>"
      ],
      "text/plain": [
       "<IPython.core.display.HTML object>"
      ]
     },
     "metadata": {},
     "output_type": "display_data"
    },
    {
     "data": {
      "text/html": [
       "&nbsp; &nbsp; &nbsp; &nbsp; &nbsp; <a href=\"Asia run model-sep7.ipynb\" target=\"_blank\">Asia run model-sep7</a>"
      ],
      "text/plain": [
       "<IPython.core.display.HTML object>"
      ]
     },
     "metadata": {},
     "output_type": "display_data"
    },
    {
     "data": {
      "text/html": [
       "&nbsp; &nbsp; &nbsp; &nbsp; &nbsp; <a href=\"Asia run model.ipynb\" target=\"_blank\">Asia run model</a>"
      ],
      "text/plain": [
       "<IPython.core.display.HTML object>"
      ]
     },
     "metadata": {},
     "output_type": "display_data"
    },
    {
     "data": {
      "text/html": [
       "&nbsp; &nbsp; &nbsp; &nbsp; &nbsp; <a href=\"Carbon tax experiments-sep7.ipynb\" target=\"_blank\">Carbon tax experiments-sep7</a>"
      ],
      "text/plain": [
       "<IPython.core.display.HTML object>"
      ]
     },
     "metadata": {},
     "output_type": "display_data"
    },
    {
     "data": {
      "text/html": [
       "&nbsp; &nbsp; &nbsp; &nbsp; &nbsp; <a href=\"Carbon tax experiments.ipynb\" target=\"_blank\">Carbon tax experiments</a>"
      ],
      "text/plain": [
       "<IPython.core.display.HTML object>"
      ]
     },
     "metadata": {},
     "output_type": "display_data"
    },
    {
     "data": {
      "text/html": [
       "&nbsp; &nbsp; &nbsp; &nbsp; &nbsp; <a href=\"Impact of carbon tax rates changed from 2021 and forward .ipynb\" target=\"_blank\">Impact of carbon tax rates changed from 2021 and forward </a>"
      ],
      "text/plain": [
       "<IPython.core.display.HTML object>"
      ]
     },
     "metadata": {},
     "output_type": "display_data"
    },
    {
     "data": {
      "text/html": [
       "&nbsp; &nbsp; &nbsp; &nbsp; &nbsp; <a href=\"Impact of carbon tax rates changed from 2022-sep7.ipynb\" target=\"_blank\">Impact of carbon tax rates changed from 2022-sep7</a>"
      ],
      "text/plain": [
       "<IPython.core.display.HTML object>"
      ]
     },
     "metadata": {},
     "output_type": "display_data"
    },
    {
     "data": {
      "text/html": [
       "&nbsp; &nbsp; &nbsp; &nbsp; &nbsp; <a href=\"Impact of carbon tax rates changed from 2022.ipynb\" target=\"_blank\">Impact of carbon tax rates changed from 2022</a>"
      ],
      "text/plain": [
       "<IPython.core.display.HTML object>"
      ]
     },
     "metadata": {},
     "output_type": "display_data"
    },
    {
     "data": {
      "text/html": [
       "&nbsp; &nbsp; &nbsp; &nbsp; &nbsp; <a href=\"Invert tax and emmision.ipynb\" target=\"_blank\">Invert tax and emmision</a>"
      ],
      "text/plain": [
       "<IPython.core.display.HTML object>"
      ]
     },
     "metadata": {},
     "output_type": "display_data"
    }
   ],
   "source": [
    "model.display_toc()"
   ]
  }
 ],
 "metadata": {
  "hide_input": false,
  "kernelspec": {
   "display_name": "Python 3 (ipykernel)",
   "language": "python",
   "name": "python3"
  },
  "language_info": {
   "codemirror_mode": {
    "name": "ipython",
    "version": 3
   },
   "file_extension": ".py",
   "mimetype": "text/x-python",
   "name": "python",
   "nbconvert_exporter": "python",
   "pygments_lexer": "ipython3",
   "version": "3.8.8"
  },
  "toc": {
   "base_numbering": 1,
   "nav_menu": {},
   "number_sections": true,
   "sideBar": true,
   "skip_h1_title": true,
   "title_cell": "Table of Contents",
   "title_sidebar": "Contents",
   "toc_cell": false,
   "toc_position": {},
   "toc_section_display": true,
   "toc_window_display": false
  }
 },
 "nbformat": 4,
 "nbformat_minor": 4
}
