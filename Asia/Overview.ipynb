{
 "cells": [
  {
   "cell_type": "markdown",
   "metadata": {},
   "source": [
    "# This notebook links to examples using the **Asia** model.\n",
    "\n",
    "Please have patience until the notebook had been loaded and executed.  "
   ]
  },
  {
   "cell_type": "markdown",
   "metadata": {},
   "source": [
    "# The Asia model\n",
    "This is still a very experimental model which is not finished so great care should be taken when looking at the results. \n",
    "The model incorporates a number economic submodels for countries and larger groups of countries. An important output is the $CO^2$ emission from each country.  \n",
    "\n",
    "You can use the model through Jupyter [notebooks](https://jupyter.org/)\n",
    "\n",
    "The notebooks can be accessed on a virtual machine [binder](https://mybinder.org/) which turns the notebooks and models located in a [github repository](https://github.com/IbHansen/UNESCAP-Asia)\n",
    "where you can find source to the model and notebooks.  \n",
    "\n",
    "The model is solved and managed by the Modelflow framework. \n",
    "\n",
    "# ModelFlow\n",
    "ModelFlow is a Python toolkit which can handle a wide range of models from small to huge.  This covers: on-boarding a model, analyze the logical structure, solve the model, analyze and compare the results. \n",
    "\n",
    "Modelflow is located on Github [here](https://github.com/IbHansen/ModelFlow2). The repo includes some models implemented in ModelFlow: \n",
    "\n",
    "\n"
   ]
  },
  {
   "cell_type": "code",
   "execution_count": 1,
   "metadata": {},
   "outputs": [
    {
     "data": {
      "text/html": [
       "\n",
       "            <style>\n",
       "                div#notebook-container    { width: 95%; }\n",
       "                div#menubar-container     { width: 65%; }\n",
       "                div#maintoolbar-container { width: 99%; }\n",
       "            </style>\n",
       "            "
      ],
      "text/plain": [
       "<IPython.core.display.HTML object>"
      ]
     },
     "metadata": {},
     "output_type": "display_data"
    },
    {
     "data": {
      "text/html": [
       "            <script>\n",
       "                // AUTORUN ALL CELLS ON NOTEBOOK-LOAD!\n",
       "                require(\n",
       "                    ['base/js/namespace', 'jquery'], \n",
       "                    function(jupyter, $) {\n",
       "                        $(jupyter.events).on('kernel_ready.Kernel', function () {\n",
       "                            console.log('Auto-running all cells-below...');\n",
       "                            jupyter.actions.call('jupyter-notebook:run-all-cells-below');\n",
       "                            jupyter.actions.call('jupyter-notebook:save-notebook');\n",
       "                        });\n",
       "                    }\n",
       "                );\n",
       "            </script>"
      ],
      "text/plain": [
       "<IPython.core.display.HTML object>"
      ]
     },
     "metadata": {},
     "output_type": "display_data"
    }
   ],
   "source": [
    "from modelclass import model\n",
    "model.modelflow_auto()"
   ]
  },
  {
   "cell_type": "markdown",
   "metadata": {},
   "source": [
    "# Gallery \n",
    "Below you will find links Jupyter notebooks using ModelFlow to run the model. \n",
    "\n",
    "You can point and click at a notebook. \n",
    "\n",
    "Some of the notebooks starts as slide shows, other as \"straight\" notebooks. "
   ]
  },
  {
   "cell_type": "code",
   "execution_count": 2,
   "metadata": {
    "scrolled": false
   },
   "outputs": [
    {
     "data": {
      "text/markdown": [
       "**Jupyter notebooks in this and all subfolders**"
      ],
      "text/plain": [
       "<IPython.core.display.Markdown object>"
      ]
     },
     "metadata": {},
     "output_type": "display_data"
    },
    {
     "data": {
      "text/html": [
       "<b>Asia (.)</b>"
      ],
      "text/plain": [
       "<IPython.core.display.HTML object>"
      ]
     },
     "metadata": {},
     "output_type": "display_data"
    },
    {
     "data": {
      "text/html": [
       "&nbsp; &nbsp; &nbsp; &nbsp; &nbsp; <a href=\"Asia logical structure.ipynb\" target=\"_blank\">Asia logical structure</a>"
      ],
      "text/plain": [
       "<IPython.core.display.HTML object>"
      ]
     },
     "metadata": {},
     "output_type": "display_data"
    },
    {
     "data": {
      "text/html": [
       "&nbsp; &nbsp; &nbsp; &nbsp; &nbsp; <a href=\"Asia run model.ipynb\" target=\"_blank\">Asia run model</a>"
      ],
      "text/plain": [
       "<IPython.core.display.HTML object>"
      ]
     },
     "metadata": {},
     "output_type": "display_data"
    },
    {
     "data": {
      "text/html": [
       "&nbsp; &nbsp; &nbsp; &nbsp; &nbsp; <a href=\"Carbon tax experiments.ipynb\" target=\"_blank\">Carbon tax experiments</a>"
      ],
      "text/plain": [
       "<IPython.core.display.HTML object>"
      ]
     },
     "metadata": {},
     "output_type": "display_data"
    },
    {
     "data": {
      "text/html": [
       "&nbsp; &nbsp; &nbsp; &nbsp; &nbsp; <a href=\"Impact of carbon tax rates changed from 2022 and forward.ipynb\" target=\"_blank\">Impact of carbon tax rates changed from 2022 and forward</a>"
      ],
      "text/plain": [
       "<IPython.core.display.HTML object>"
      ]
     },
     "metadata": {},
     "output_type": "display_data"
    },
    {
     "data": {
      "text/html": [
       "&nbsp; &nbsp; &nbsp; &nbsp; &nbsp; <a href=\"Invert tax and emmision.ipynb\" target=\"_blank\">Invert tax and emmision</a>"
      ],
      "text/plain": [
       "<IPython.core.display.HTML object>"
      ]
     },
     "metadata": {},
     "output_type": "display_data"
    }
   ],
   "source": [
    "model.display_toc()"
   ]
  }
 ],
 "metadata": {
  "hide_input": false,
  "kernelspec": {
   "display_name": "Python 3 (ipykernel)",
   "language": "python",
   "name": "python3"
  },
  "language_info": {
   "codemirror_mode": {
    "name": "ipython",
    "version": 3
   },
   "file_extension": ".py",
   "mimetype": "text/x-python",
   "name": "python",
   "nbconvert_exporter": "python",
   "pygments_lexer": "ipython3",
   "version": "3.8.8"
  },
  "toc": {
   "base_numbering": 1,
   "nav_menu": {},
   "number_sections": true,
   "sideBar": true,
   "skip_h1_title": true,
   "title_cell": "Table of Contents",
   "title_sidebar": "Contents",
   "toc_cell": false,
   "toc_position": {},
   "toc_section_display": true,
   "toc_window_display": false
  }
 },
 "nbformat": 4,
 "nbformat_minor": 4
}
