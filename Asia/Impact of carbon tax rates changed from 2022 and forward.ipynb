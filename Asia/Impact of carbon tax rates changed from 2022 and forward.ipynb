{
 "cells": [
  {
   "cell_type": "markdown",
   "id": "ec2dc24a",
   "metadata": {
    "slideshow": {
     "slide_type": "slide"
    }
   },
   "source": [
    "# Welcome \n",
    "Press \\<space bar\\> to move to next slide\n",
    "\n",
    "Press \\<shift> \\<space bar\\> to move to previous slide"
   ]
  },
  {
   "cell_type": "markdown",
   "id": "6cbf5ba2",
   "metadata": {
    "hide_input": false,
    "slideshow": {
     "slide_type": "skip"
    }
   },
   "source": [
    "%load_ext autoreload\n",
    "%autoreload 2"
   ]
  },
  {
   "cell_type": "code",
   "execution_count": 1,
   "id": "00f47d25",
   "metadata": {
    "cell_style": "center",
    "hide_input": false,
    "slideshow": {
     "slide_type": "skip"
    }
   },
   "outputs": [
    {
     "data": {
      "text/html": [
       "\n",
       "        <style>\n",
       "            div#notebook-container    { width: 95%; }\n",
       "            div#menubar-container     { width: 65%; }\n",
       "            div#maintoolbar-container { width: 99%; }\n",
       "        </style>\n",
       "        "
      ],
      "text/plain": [
       "<IPython.core.display.HTML object>"
      ]
     },
     "metadata": {},
     "output_type": "display_data"
    },
    {
     "data": {
      "text/html": [
       "\n",
       "            <style>\n",
       "                div#notebook-container    { width: 95%; }\n",
       "                div#menubar-container     { width: 65%; }\n",
       "                div#maintoolbar-container { width: 99%; }\n",
       "            </style>\n",
       "            "
      ],
      "text/plain": [
       "<IPython.core.display.HTML object>"
      ]
     },
     "metadata": {},
     "output_type": "display_data"
    },
    {
     "data": {
      "text/html": [
       "            <script>\n",
       "                // AUTORUN ALL CELLS ON NOTEBOOK-LOAD!\n",
       "                require(\n",
       "                    ['base/js/namespace', 'jquery'], \n",
       "                    function(jupyter, $) {\n",
       "                        $(jupyter.events).on('kernel_ready.Kernel', function () {\n",
       "                            console.log('Auto-running all cells-below...');\n",
       "                            jupyter.actions.call('jupyter-notebook:run-all-cells-below');\n",
       "                            jupyter.actions.call('jupyter-notebook:save-notebook');\n",
       "                        });\n",
       "                    }\n",
       "                );\n",
       "            </script>"
      ],
      "text/plain": [
       "<IPython.core.display.HTML object>"
      ]
     },
     "metadata": {},
     "output_type": "display_data"
    }
   ],
   "source": [
    "%matplotlib inline\n",
    "\n",
    "#from ipywidgets import interact,Dropdown,Checkbox\n",
    "#from IPython.display import display, clear_output,Latex, Markdown\n",
    "from IPython.display import clear_output\n",
    "import pandas as pd\n",
    "from tqdm.auto import tqdm \n",
    "\n",
    "#from modelinvert import targets_instruments\n",
    "from modelclass import model\n",
    "model.widescreen()\n",
    "model.scroll_off()\n",
    "from inject import inject # monkey patch special methods and properties \n",
    "\n",
    "model.modelflow_auto()"
   ]
  },
  {
   "cell_type": "markdown",
   "id": "bb4c7483",
   "metadata": {
    "slideshow": {
     "slide_type": "slide"
    }
   },
   "source": [
    "# The impact of increasing carbon tax\n",
    "Simulate the model for different levels of carbon tax\n",
    "\n",
    "Wait until all experiments are finished\n",
    "\n",
    "Then press \\<space bar\\> to move on "
   ]
  },
  {
   "cell_type": "code",
   "execution_count": null,
   "id": "48f2e766",
   "metadata": {
    "slideshow": {
     "slide_type": "-"
    }
   },
   "outputs": [],
   "source": [
    "# select if the model is simulated for all experiments or the experiments are loaded \n",
    "solve_experiments = False \n",
    "# If the all experioments are performed, theese variables will be saved. \n",
    "keep_var = '*_CO2 *_yer *_hic *_head?? *_LNN'\n",
    "\n",
    "# Make experiments \n",
    "if solve_experiments:\n",
    "    if not 'masia' in locals():\n",
    "        print('Load model')\n",
    "        masia,baseline = model.modelload('Asia_sep7.pcim',run=1,silent=1,progressbar=1)\n",
    "        inject(masia)    \n",
    "    masia.keep_solutions={}\n",
    "    thisdf = baseline.copy()\n",
    "    masia(thisdf,keep = f'Business as usual',keep_variables=keep_var,progressbar=0)\n",
    "    rate_var =  [f'{country}_GCARBR_A' for country in masia.countries_GCARBR_A]\n",
    "    experiments = list(range(50,360,50))[:]\n",
    "    bars = '{desc}: {percentage:3.0f}%|{bar}|Experiment {n_fmt}/{total_fmt}'\n",
    "    with tqdm(total=len(experiments),desc='Simulating different taxrates',bar_format=bars) as pbar:\n",
    "        for rate in experiments:\n",
    "            thisdf = baseline.copy()\n",
    "            thisdf.loc[2022,rate_var] = thisdf.loc[2021,rate_var] + rate\n",
    "            masia(thisdf,keep = f'{rate}',keep_variables=keep_var,progressbar=1)\n",
    "            pbar.update()\n",
    "    clear_output()\n",
    "    masia.modeldump('co2impact.pcim',keep=1)\n",
    "else: \n",
    "    print('Load model and saved solutions ')\n",
    "    masia,baseline = model.modelload('co2impact.pcim',run=0)\n",
    "    masia.basedf=baseline \n",
    "    masia.lastdf=baseline \n",
    "    inject(masia)    \n",
    "\n",
    "print('Finished ')"
   ]
  },
  {
   "cell_type": "markdown",
   "id": "67867fa4",
   "metadata": {
    "slideshow": {
     "slide_type": "slide"
    }
   },
   "source": [
    "# The emision in the different scenarios"
   ]
  },
  {
   "cell_type": "code",
   "execution_count": null,
   "id": "a44c31ab",
   "metadata": {
    "slideshow": {
     "slide_type": "-"
    }
   },
   "outputs": [],
   "source": [
    "with masia.set_smpl(2010,2050):\n",
    "    masia.keep_plot('wld_co2',legend=0)['WLD_CO2']"
   ]
  },
  {
   "cell_type": "code",
   "execution_count": null,
   "id": "f0e53e83",
   "metadata": {},
   "outputs": [],
   "source": [
    "endvalues_ser = pd.Series({rate:df.loc[2050,'WLD_CO2'] for rate,df in masia.keep_solutions.items()})\n",
    "endvalues = pd.DataFrame(endvalues_ser,columns = ['Global $CO^2$ emission']\n",
    "                        ).rename(index={'Business as usual':'Business as u.'})"
   ]
  },
  {
   "cell_type": "markdown",
   "id": "9d3edeb4",
   "metadata": {
    "cell_style": "center",
    "slideshow": {
     "slide_type": "slide"
    }
   },
   "source": [
    "# What happens to the global emision in 2050 "
   ]
  },
  {
   "cell_type": "code",
   "execution_count": null,
   "id": "134df223",
   "metadata": {
    "cell_style": "center",
    "slideshow": {
     "slide_type": "-"
    }
   },
   "outputs": [],
   "source": [
    "endvalues.plot(xlabel = 'Taxrate increased from 2021',ylabel = 'Mt',title='Emission vs carbon taxrate');\n"
   ]
  },
  {
   "cell_type": "markdown",
   "id": "2eb3d335",
   "metadata": {
    "cell_style": "center",
    "slideshow": {
     "slide_type": "slide"
    }
   },
   "source": [
    "# The marginal impact of the 50 extra tax in each experiment "
   ]
  },
  {
   "cell_type": "code",
   "execution_count": null,
   "id": "aacc7e1a",
   "metadata": {
    "cell_style": "center",
    "slideshow": {
     "slide_type": "-"
    }
   },
   "outputs": [],
   "source": [
    "endvalues.diff().plot(xlabel = 'Taxrate',ylabel = 'Mt',title='Impact of a taxhike of 50');"
   ]
  },
  {
   "cell_type": "markdown",
   "id": "3f1f620c",
   "metadata": {
    "slideshow": {
     "slide_type": "slide"
    }
   },
   "source": [
    "# Impact on different variables"
   ]
  },
  {
   "cell_type": "code",
   "execution_count": null,
   "id": "6ebbb3fc",
   "metadata": {
    "cell_style": "center",
    "scrolled": false,
    "slideshow": {
     "slide_type": "-"
    }
   },
   "outputs": [],
   "source": [
    "ASEAN_dict = {c:masia.iso_dict[c] for c in masia.countries_ASEAN}\n",
    "other_dict = {c:d for c,d in masia.iso_dict.items() if c not in masia.countries_ASEAN}\n",
    "prefix_dict = {**ASEAN_dict,**{'--':'--'},**other_dict,**{'':'ALL countries'}}\n",
    "with masia.set_smpl(2010,2050):\n",
    "    masia.keep_viz_prefix(pat='WLD_CO2',use_descriptions=True ,legend=0,prefix_dict= prefix_dict);"
   ]
  }
 ],
 "metadata": {
  "celltoolbar": "Slideshow",
  "hide_input": true,
  "kernelspec": {
   "display_name": "Python 3 (ipykernel)",
   "language": "python",
   "name": "python3"
  },
  "language_info": {
   "codemirror_mode": {
    "name": "ipython",
    "version": 3
   },
   "file_extension": ".py",
   "mimetype": "text/x-python",
   "name": "python",
   "nbconvert_exporter": "python",
   "pygments_lexer": "ipython3",
   "version": "3.8.8"
  },
  "rise": {
   "autolaunch": true,
   "enable_chalkboard": true,
   "footer": "Asia model",
   "header": "ModelFlow",
   "scroll": true
  },
  "toc": {
   "base_numbering": 1,
   "nav_menu": {},
   "number_sections": true,
   "sideBar": true,
   "skip_h1_title": true,
   "title_cell": "Table of Contents",
   "title_sidebar": "Contents",
   "toc_cell": false,
   "toc_position": {},
   "toc_section_display": true,
   "toc_window_display": false
  }
 },
 "nbformat": 4,
 "nbformat_minor": 5
}
