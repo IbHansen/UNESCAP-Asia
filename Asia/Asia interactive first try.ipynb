{
 "cells": [
  {
   "cell_type": "markdown",
   "id": "b3fde3e1",
   "metadata": {},
   "source": [
    "# Import modelflow"
   ]
  },
  {
   "cell_type": "code",
   "execution_count": 1,
   "id": "26a97026",
   "metadata": {},
   "outputs": [
    {
     "data": {
      "text/html": [
       "\n",
       "        <style>\n",
       "            div#notebook-container    { width: 95%; }\n",
       "            div#menubar-container     { width: 65%; }\n",
       "            div#maintoolbar-container { width: 99%; }\n",
       "        </style>\n",
       "        "
      ],
      "text/plain": [
       "<IPython.core.display.HTML object>"
      ]
     },
     "metadata": {},
     "output_type": "display_data"
    }
   ],
   "source": [
    "from modelclass import model\n",
    "model.widescreen()"
   ]
  },
  {
   "cell_type": "markdown",
   "id": "13ba5994",
   "metadata": {},
   "source": [
    "# Load model and data, and run "
   ]
  },
  {
   "cell_type": "code",
   "execution_count": 2,
   "id": "e2795283",
   "metadata": {},
   "outputs": [],
   "source": [
    "masia,baseline = model.modelload('Asia.pcim',run=1,silent=1)"
   ]
  },
  {
   "cell_type": "markdown",
   "id": "425d6830",
   "metadata": {},
   "source": [
    "# Get Isocodes"
   ]
  },
  {
   "cell_type": "code",
   "execution_count": 3,
   "id": "e18d48d4",
   "metadata": {},
   "outputs": [],
   "source": [
    "import pandas as pd\n",
    "iso = (pd.read_excel('../data/model_data.xlsx'  ,sheet_name='Country prefixes').\n",
    "       iloc[1:,:])\n",
    "iso_dict = {iso:country for country,iso in [row.tolist() for i,row in iso.iterrows()]}"
   ]
  },
  {
   "cell_type": "markdown",
   "id": "bbb3bc9a",
   "metadata": {},
   "source": [
    "# Get countries with add factor "
   ]
  },
  {
   "cell_type": "code",
   "execution_count": 4,
   "id": "5a3429c2",
   "metadata": {},
   "outputs": [],
   "source": [
    "country_dict = {country:v for country,v in iso_dict.items() if f'{country}_GCARBR_A' in masia.exogene}\n",
    "\n",
    "countries = [c for c in country_dict.keys()]"
   ]
  },
  {
   "cell_type": "markdown",
   "id": "5bf687bb",
   "metadata": {},
   "source": [
    "# Variables to inputwidget"
   ]
  },
  {
   "cell_type": "code",
   "execution_count": 10,
   "id": "638853c8",
   "metadata": {},
   "outputs": [],
   "source": [
    "outvar = 'GDI GCARBR CO2 LNN'.split()\n",
    "displayvar = 'WLD_CO2 ASP_CO2 G20_CO2 ' + (' '.join(country+'_'+var for country in countries[:1] for var in outvar))\n",
    "\n",
    "slidedef_all =  {'ALL' : {'var': ' '.join([f'{country}_GCARBR_A' for country in  countries]), 'value': 0.0,'min':0,'max':100,'op':'+impulse','step':10}}\n",
    "slidedef_countries = {iso_dict.get(country,country) : {'var': f'{country}_GCARBR_A', 'value': 0.0,'min':0,'max':100,'op':'+impulse','step':10} for country in  countries}\n",
    "\n",
    "slidedef = {**slidedef_all,**slidedef_countries}"
   ]
  },
  {
   "cell_type": "markdown",
   "id": "e94c4d8b",
   "metadata": {},
   "source": [
    "# Define  experiment"
   ]
  },
  {
   "cell_type": "code",
   "execution_count": 11,
   "id": "35f5ce3c",
   "metadata": {
    "scrolled": false
   },
   "outputs": [
    {
     "data": {
      "application/vnd.jupyter.widget-view+json": {
       "model_id": "006772cc5b884aafa8bdcf795a0ebf89",
       "version_major": 2,
       "version_minor": 0
      },
      "text/plain": [
       "VBox(children=(HBox(children=(Label(value='Input new parameter ', layout=Layout(width='52%')), Label(value='Al…"
      ]
     },
     "metadata": {},
     "output_type": "display_data"
    },
    {
     "data": {
      "application/vnd.jupyter.widget-view+json": {
       "model_id": "76394177b4d34212bf035ccdc00f933d",
       "version_major": 2,
       "version_minor": 0
      },
      "text/plain": [
       "VBox(children=(Tab(children=(VBox(children=(Tab(children=(Output(), Output(), Output(), Output()), _titles={'0…"
      ]
     },
     "metadata": {},
     "output_type": "display_data"
    }
   ],
   "source": [
    "input = masia.inputwidget(2021,2050,slidedef=slidedef\n",
    "                   ,showout=True,varpat=displayvar,trans=masia.var_description,showvar=True)"
   ]
  },
  {
   "cell_type": "markdown",
   "id": "4a6bf1b1",
   "metadata": {},
   "source": [
    "# Analyze results"
   ]
  }
 ],
 "metadata": {
  "kernelspec": {
   "display_name": "Python 3",
   "language": "python",
   "name": "python3"
  },
  "language_info": {
   "codemirror_mode": {
    "name": "ipython",
    "version": 3
   },
   "file_extension": ".py",
   "mimetype": "text/x-python",
   "name": "python",
   "nbconvert_exporter": "python",
   "pygments_lexer": "ipython3",
   "version": "3.8.8"
  },
  "toc": {
   "base_numbering": 1,
   "nav_menu": {},
   "number_sections": true,
   "sideBar": true,
   "skip_h1_title": true,
   "title_cell": "Table of Contents",
   "title_sidebar": "Contents",
   "toc_cell": false,
   "toc_position": {},
   "toc_section_display": true,
   "toc_window_display": false
  }
 },
 "nbformat": 4,
 "nbformat_minor": 5
}
