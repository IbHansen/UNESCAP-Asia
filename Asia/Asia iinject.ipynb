{
 "cells": [
  {
   "cell_type": "markdown",
   "id": "b3fde3e1",
   "metadata": {
    "slideshow": {
     "slide_type": "skip"
    }
   },
   "source": [
    "# Import modelflow"
   ]
  },
  {
   "cell_type": "code",
   "execution_count": 30,
   "id": "60bc9814",
   "metadata": {
    "slideshow": {
     "slide_type": "skip"
    }
   },
   "outputs": [
    {
     "name": "stdout",
     "output_type": "stream",
     "text": [
      "The autoreload extension is already loaded. To reload it, use:\n",
      "  %reload_ext autoreload\n"
     ]
    }
   ],
   "source": [
    "%load_ext autoreload\n",
    "%autoreload 0"
   ]
  },
  {
   "cell_type": "code",
   "execution_count": 1,
   "id": "26a97026",
   "metadata": {
    "scrolled": false,
    "slideshow": {
     "slide_type": "skip"
    }
   },
   "outputs": [
    {
     "data": {
      "text/html": [
       "\n",
       "        <style>\n",
       "            div#notebook-container    { width: 95%; }\n",
       "            div#menubar-container     { width: 65%; }\n",
       "            div#maintoolbar-container { width: 99%; }\n",
       "        </style>\n",
       "        "
      ],
      "text/plain": [
       "<IPython.core.display.HTML object>"
      ]
     },
     "metadata": {},
     "output_type": "display_data"
    }
   ],
   "source": [
    "%matplotlib inline\n",
    "\n",
    "from ipywidgets import interact,Dropdown,Checkbox\n",
    "from IPython.display import display, clear_output,Latex, Markdown\n",
    "import pandas as pd\n",
    "\n",
    "import modeljupyter as mj\n",
    "from modelvis import waterplot\n",
    "\n",
    "\n",
    "from modelclass import model\n",
    "model.widescreen()"
   ]
  },
  {
   "cell_type": "code",
   "execution_count": 2,
   "id": "d8932a99",
   "metadata": {
    "slideshow": {
     "slide_type": "skip"
    }
   },
   "outputs": [
    {
     "data": {
      "application/javascript": [
       "IPython.OutputArea.prototype._should_scroll = function(lines){\n",
       "    return false;\n",
       "}\n"
      ],
      "text/plain": [
       "<IPython.core.display.Javascript object>"
      ]
     },
     "metadata": {},
     "output_type": "display_data"
    }
   ],
   "source": [
    "%%javascript\n",
    "IPython.OutputArea.prototype._should_scroll = function(lines){\n",
    "    return false;\n",
    "}"
   ]
  },
  {
   "cell_type": "markdown",
   "id": "13ba5994",
   "metadata": {
    "slideshow": {
     "slide_type": "skip"
    }
   },
   "source": [
    "# Load model and data, and run "
   ]
  },
  {
   "cell_type": "code",
   "execution_count": 3,
   "id": "e2795283",
   "metadata": {
    "scrolled": false,
    "slideshow": {
     "slide_type": "skip"
    }
   },
   "outputs": [
    {
     "name": "stdout",
     "output_type": "stream",
     "text": [
      "Load model\n"
     ]
    }
   ],
   "source": [
    "if not 'masia' in locals():\n",
    "    print('Load model')\n",
    "    masia,baseline = model.modelload('Asia.pcim',run=1,silent=1)"
   ]
  },
  {
   "cell_type": "code",
   "execution_count": 11,
   "id": "5e737f73",
   "metadata": {},
   "outputs": [
    {
     "name": "stdout",
     "output_type": "stream",
     "text": [
      "Setup time (seconds)                 :           0.02\n",
      "Foating point operations  core       :         48,105\n",
      "Foating point operations  prolog     :         48,303\n",
      "Foating point operations  epilog     :         68,606\n",
      "Simulation period                    :             30\n",
      "Total iterations                     :             90\n",
      "Total floating point operations      :      7,836,720\n",
      "Simulation time (seconds)            :           0.77\n",
      "Floating point operations per second :   10,118,980.7\n"
     ]
    }
   ],
   "source": [
    "xx = masia(baseline,stats=1,ljit=1,chunk=10,first_test=1,max_iterations=1000,conv='wld_co2')"
   ]
  },
  {
   "cell_type": "code",
   "execution_count": 38,
   "id": "0aee582e",
   "metadata": {},
   "outputs": [
    {
     "name": "stdout",
     "output_type": "stream",
     "text": [
      "Setup time (seconds)                 :           0.02\n",
      "Foating point operations  core       :         48,105\n",
      "Foating point operations  prolog     :         48,303\n",
      "Foating point operations  epilog     :         68,606\n",
      "Simulation period                    :             30\n",
      "Total iterations                     :            120\n",
      "Total floating point operations      :      9,279,870\n",
      "Simulation time (seconds)            :           3.06\n",
      "Floating point operations per second :    3,031,153.2\n"
     ]
    }
   ],
   "source": [
    "xx = masia(xx,stats=1,ljit=0,chunk=10,first_test=2,max_iterations=1000,conv='wld_co2')"
   ]
  },
  {
   "cell_type": "code",
   "execution_count": 40,
   "id": "c04775df",
   "metadata": {},
   "outputs": [
    {
     "name": "stdout",
     "output_type": "stream",
     "text": [
      "Setup time (seconds)                 :           0.02\n",
      "Foating point operations  core       :         48,105\n",
      "Foating point operations  prolog     :         48,303\n",
      "Foating point operations  epilog     :         68,606\n",
      "Simulation period                    :             30\n",
      "Total iterations                     :            360\n",
      "Total floating point operations      :     20,825,070\n",
      "Simulation time (seconds)            :           0.79\n",
      "Floating point operations per second :   26,325,803.9\n"
     ]
    }
   ],
   "source": [
    "xx = masia(xx,stats=1,ljit=1,chunk=10,first_test=10,max_iterations=1000,conv='wld_co2')"
   ]
  },
  {
   "cell_type": "code",
   "execution_count": 45,
   "id": "fa767a92",
   "metadata": {
    "scrolled": true,
    "slideshow": {
     "slide_type": "skip"
    }
   },
   "outputs": [],
   "source": [
    "from inject import inject\n",
    "inject(masia)"
   ]
  },
  {
   "cell_type": "code",
   "execution_count": 55,
   "id": "84e0b533",
   "metadata": {
    "slideshow": {
     "slide_type": "skip"
    }
   },
   "outputs": [
    {
     "data": {
      "text/plain": [
       "['THA_CO2',\n",
       " 'KHM_CO2',\n",
       " 'SGP_CO2',\n",
       " 'MYS_CO2',\n",
       " 'LAO_CO2',\n",
       " 'VNM_CO2',\n",
       " 'PHL_CO2',\n",
       " 'IDN_CO2',\n",
       " 'BRN_CO2',\n",
       " 'MMR_CO2']"
      ]
     },
     "execution_count": 55,
     "metadata": {},
     "output_type": "execute_result"
    }
   ],
   "source": [
    "co2_input_var = [var for var in masia.totgraph.predecessors('WLD_CO2') if var.endswith('CO2')]\n",
    "co2_input_var_asean = [var for var in masia.totgraph.predecessors('WLD_CO2') if var.endswith('CO2') and  var.split('_')[0] in masia.countries_ASEAN ]\n",
    "co2_input_var_asean"
   ]
  },
  {
   "cell_type": "code",
   "execution_count": 63,
   "id": "0428ab25",
   "metadata": {
    "slideshow": {
     "slide_type": "skip"
    }
   },
   "outputs": [],
   "source": [
    "co2_baseline = baseline.loc[:,co2_input_var].pipe(lambda df:df.rename(columns={c : masia.iso_dict.get(cname := c.split('_')[0],cname) for c in df.columns}))\n",
    "co2_baseline_asean = baseline.loc[:,co2_input_var_asean].pipe(lambda df:df.rename(columns={c : masia.iso_dict.get(cname := c.split('_')[0],cname) for c in df.columns}))"
   ]
  },
  {
   "cell_type": "markdown",
   "id": "7254b3bb",
   "metadata": {
    "slideshow": {
     "slide_type": "skip"
    }
   },
   "source": [
    "# Variables to inputwidget"
   ]
  },
  {
   "cell_type": "code",
   "execution_count": 48,
   "id": "b3e7dd1c",
   "metadata": {
    "scrolled": false,
    "slideshow": {
     "slide_type": "skip"
    }
   },
   "outputs": [],
   "source": [
    "outvar = 'GDI GCARBR CO2 LNN'.split()\n",
    "displayvar = 'WLD_CO2 ASP_CO2 G20_CO2 '\n",
    "\n",
    "#  masia.countries_GCARBR_A is list of all countries in the model with a countries_GCARBR_A \n",
    "#  masia.countries_ASEAN is list of all countries in ASEAN \n",
    "countries_rest = [country for country in masia.countries_GCARBR_A if country not in masia.countries_ASEAN]\n",
    "\n",
    "slidedef_allasean =  {'All ASEAN countries' : {'var': ' '.join([f'{country}_GCARBR_A' for country in masia.countries_ASEAN ])\n",
    "                          , 'value': 0.0,'min':0,'max':100,'op':'+impulse','step':10,'dec':0}}\n",
    "slidedef_allrest =  {'Rest of the world' : {'var': \n",
    "    ' '.join([f'{country}_GCARBR_A' for country in countries_rest])\n",
    "                          , 'value': 0.0,'min':0,'max':100,'op':'+impulse','step':10,'dec':0}}\n",
    "slidedef_countries = {masia.iso_dict.get(country,country)+', Extra' : \n",
    "                      {'var': f'{country}_GCARBR_A', 'value': 0.0,'min':-40,'max':40,'op':'+impulse','step':10,'dec':0} \n",
    "                      for country in  masia.countries_ASEAN}\n",
    "\n",
    "slidedef = {**slidedef_allasean,**slidedef_allrest,**slidedef_countries}"
   ]
  },
  {
   "cell_type": "code",
   "execution_count": 58,
   "id": "621dc6ab",
   "metadata": {},
   "outputs": [
    {
     "data": {
      "image/png": "[encoded data removed]",
      "text/plain": [
       "<Figure size 720x360 with 1 Axes>"
      ]
     },
     "metadata": {
      "needs_background": "light"
     },
     "output_type": "display_data"
    }
   ],
   "source": [
    "masia['wld_co2'].rename().plot(colrow=1,title='Baseline $CO^2$ emmision, World',top=0.9,ysize=5);"
   ]
  },
  {
   "cell_type": "code",
   "execution_count": 59,
   "id": "08e15604",
   "metadata": {},
   "outputs": [
    {
     "data": {
      "image/png": "[encoded data removed]",
      "text/plain": [
       "<Figure size 720x360 with 1 Axes>"
      ]
     },
     "metadata": {
      "needs_background": "light"
     },
     "output_type": "display_data"
    }
   ],
   "source": [
    "masia['asean_co2'].rename().plot(colrow=1,title='Baseline $CO^2$ emmision ASEAN',top=0.9,ysize=5);"
   ]
  },
  {
   "cell_type": "markdown",
   "id": "5d05c201",
   "metadata": {
    "slideshow": {
     "slide_type": "slide"
    }
   },
   "source": [
    "# Emmision with no policy \n",
    "Countries where the emmision is below the threshold are all attributed to the \"small\" label"
   ]
  },
  {
   "cell_type": "code",
   "execution_count": 60,
   "id": "04a90c4d",
   "metadata": {
    "scrolled": true
   },
   "outputs": [
    {
     "data": {
      "application/vnd.jupyter.widget-view+json": {
       "model_id": "",
       "version_major": 2,
       "version_minor": 0
      },
      "text/plain": [
       "interactive(children=(Dropdown(description='Periode', index=28, options=(2021, 2022, 2023, 2024, 2025, 2026, 2…"
      ]
     },
     "metadata": {},
     "output_type": "display_data"
    }
   ],
   "source": [
    "@interact(Threshold = (0,3000,100))\n",
    "def explain(Periode   = Dropdown(options = masia.current_per,value=2049),\n",
    "            Threshold =700):\n",
    "\n",
    "    waterplot(co2_baseline.loc[[Periode],:].T,autosum=1,threshold = Threshold,allsort=1,title = '$CO^2$ emmision,World in',top=0.88);"
   ]
  },
  {
   "cell_type": "code",
   "execution_count": 66,
   "id": "95a8dd1b",
   "metadata": {
    "scrolled": true
   },
   "outputs": [
    {
     "data": {
      "application/vnd.jupyter.widget-view+json": {
       "model_id": "6d863c5cf4a3437b9a707e402fdcd07a",
       "version_major": 2,
       "version_minor": 0
      },
      "text/plain": [
       "interactive(children=(Dropdown(description='Periode', index=28, options=(2021, 2022, 2023, 2024, 2025, 2026, 2…"
      ]
     },
     "metadata": {},
     "output_type": "display_data"
    }
   ],
   "source": [
    "@interact(Threshold = (0,3000,100))\n",
    "def explain(Periode   = Dropdown(options = masia.current_per,value=2049),\n",
    "            Threshold =0):\n",
    "\n",
    "    waterplot(co2_baseline_asean.loc[[Periode],:].T,autosum=1,threshold = Threshold,allsort=1,title = '$CO^2$ emmision,ASEAN in',top=0.88);"
   ]
  },
  {
   "cell_type": "markdown",
   "id": "e94c4d8b",
   "metadata": {
    "slideshow": {
     "slide_type": "slide"
    }
   },
   "source": [
    "# Make some policy "
   ]
  },
  {
   "cell_type": "code",
   "execution_count": 67,
   "id": "63a62886",
   "metadata": {
    "scrolled": false
   },
   "outputs": [
    {
     "data": {
      "application/vnd.jupyter.widget-view+json": {
       "model_id": "5b87342014c44f2db16ceb7d5f6e3ba8",
       "version_major": 2,
       "version_minor": 0
      },
      "text/plain": [
       "VBox(children=(HBox(children=(Label(value='Carbon tax rate, US$ per tonn ', layout=Layout(width='54%')), Label…"
      ]
     },
     "metadata": {},
     "output_type": "display_data"
    },
    {
     "data": {
      "application/vnd.jupyter.widget-view+json": {
       "model_id": "983b92728d0d4435b1fec8caf108859c",
       "version_major": 2,
       "version_minor": 0
      },
      "text/plain": [
       "VBox(children=(Tab(children=(VBox(children=(Tab(children=(Output(), Output(), Output(), Output()), _titles={'0…"
      ]
     },
     "metadata": {},
     "output_type": "display_data"
    }
   ],
   "source": [
    "inject(masia)\n",
    "input = masia.inputwidget_asia(2021,2050,slidedef=slidedef\n",
    "                   ,showout=True,varpat=displayvar,showvar=True,go_now=1)"
   ]
  },
  {
   "cell_type": "markdown",
   "id": "4a6bf1b1",
   "metadata": {
    "slideshow": {
     "slide_type": "slide"
    }
   },
   "source": [
    "# Where does the reduction originate\n",
    "The threshold leved and year can be chosen.\n",
    "Countries where the reduction is below the threshold are all attributed to the \"small\" label  "
   ]
  },
  {
   "cell_type": "code",
   "execution_count": null,
   "id": "099c0d4f",
   "metadata": {},
   "outputs": [],
   "source": [
    "\n",
    "@interact(Threshold = (1,300,10))\n",
    "def explain(Periode   = Dropdown(options = masia.current_per,value=2049),\n",
    "            Threshold =200):\n",
    "    masia.dekomp_plot('WLD_CO2',pct=0,threshold=Threshold,nametrans=masia.country_get)\n",
    "    masia.dekomp_plot_per('WLD_CO2',pct=0,threshold=Threshold,per=Periode,sort=True,nametrans=masia.country_get)\n"
   ]
  },
  {
   "cell_type": "code",
   "execution_count": null,
   "id": "4507d8fa",
   "metadata": {},
   "outputs": [],
   "source": [
    "\n",
    "@interact(Threshold = (0,300,10))\n",
    "def explain(Periode   = Dropdown(options = masia.current_per,value=2049),\n",
    "            Threshold =10):\n",
    "    masia.dekomp_plot('ASEAN_CO2',pct=0,threshold=Threshold,nametrans=masia.country_get)\n",
    "    masia.dekomp_plot_per('ASEAN_CO2',pct=0,threshold=Threshold,per=Periode,sort=True,nametrans=masia.country_get)\n"
   ]
  },
  {
   "cell_type": "code",
   "execution_count": null,
   "id": "5c8b09f0",
   "metadata": {},
   "outputs": [],
   "source": []
  },
  {
   "cell_type": "code",
   "execution_count": null,
   "id": "19da34c0",
   "metadata": {
    "scrolled": true
   },
   "outputs": [],
   "source": [
    "print(masia.get_eq_des('USA_EC',show_all=1))"
   ]
  },
  {
   "cell_type": "code",
   "execution_count": null,
   "id": "a926235f",
   "metadata": {
    "scrolled": true
   },
   "outputs": [],
   "source": [
    "masia.USA_EC.tracepre(HR=0)"
   ]
  },
  {
   "cell_type": "markdown",
   "id": "44811edd",
   "metadata": {},
   "source": [
    "# Inversion of the model"
   ]
  },
  {
   "cell_type": "code",
   "execution_count": null,
   "id": "c0a2463a",
   "metadata": {},
   "outputs": [],
   "source": [
    "instruments = [[f'{country}_GCARBR_A' for country in masia.countries_GCARBR_A]]\n",
    "instruments"
   ]
  },
  {
   "cell_type": "code",
   "execution_count": null,
   "id": "9a9bf657",
   "metadata": {},
   "outputs": [],
   "source": [
    "target = pd.DataFrame([36_440],index=[2049],columns=['WLD_CO2'])\n",
    "target"
   ]
  },
  {
   "cell_type": "code",
   "execution_count": null,
   "id": "dee91632",
   "metadata": {},
   "outputs": [],
   "source": [
    "delay = 2049-2021\n",
    "delay "
   ]
  },
  {
   "cell_type": "code",
   "execution_count": 42,
   "id": "6259e725",
   "metadata": {},
   "outputs": [],
   "source": [
    "from modelinvert import targets_instruments"
   ]
  },
  {
   "cell_type": "code",
   "execution_count": 44,
   "id": "e5a8e774",
   "metadata": {},
   "outputs": [
    {
     "ename": "NameError",
     "evalue": "name 'target' is not defined",
     "output_type": "error",
     "traceback": [
      "\u001b[1;31m---------------------------------------------------------------------------\u001b[0m",
      "\u001b[1;31mNameError\u001b[0m                                 Traceback (most recent call last)",
      "\u001b[1;32m<ipython-input-44-54e6694f4e6a>\u001b[0m in \u001b[0;36m<module>\u001b[1;34m\u001b[0m\n\u001b[1;32m----> 1\u001b[1;33m \u001b[0mt_i\u001b[0m \u001b[1;33m=\u001b[0m \u001b[0mtargets_instruments\u001b[0m\u001b[1;33m(\u001b[0m\u001b[0mdatabank\u001b[0m\u001b[1;33m=\u001b[0m\u001b[0mbaseline\u001b[0m\u001b[1;33m,\u001b[0m\u001b[0mtargets\u001b[0m\u001b[1;33m=\u001b[0m\u001b[0mtarget\u001b[0m\u001b[1;33m,\u001b[0m\u001b[0minstruments\u001b[0m\u001b[1;33m=\u001b[0m\u001b[0minstruments\u001b[0m\u001b[1;33m,\u001b[0m\u001b[0mmodel\u001b[0m\u001b[1;33m=\u001b[0m\u001b[0mmasia\u001b[0m\u001b[1;33m,\u001b[0m\u001b[0mDefaultImpuls\u001b[0m\u001b[1;33m=\u001b[0m\u001b[1;36m50.\u001b[0m\u001b[1;33m,\u001b[0m\u001b[0mdefaultconv\u001b[0m\u001b[1;33m=\u001b[0m\u001b[1;36m20\u001b[0m\u001b[1;33m,\u001b[0m\u001b[0mvarimpulse\u001b[0m\u001b[1;33m=\u001b[0m\u001b[1;32mTrue\u001b[0m\u001b[1;33m)\u001b[0m\u001b[1;33m\u001b[0m\u001b[1;33m\u001b[0m\u001b[0m\n\u001b[0m\u001b[0;32m      2\u001b[0m \u001b[0mt_i\u001b[0m\u001b[1;33m.\u001b[0m\u001b[0mtargets\u001b[0m\u001b[1;33m\u001b[0m\u001b[1;33m\u001b[0m\u001b[0m\n",
      "\u001b[1;31mNameError\u001b[0m: name 'target' is not defined"
     ]
    }
   ],
   "source": [
    "t_i = targets_instruments(databank=baseline,targets=target,instruments=instruments,model=masia,DefaultImpuls=50.,defaultconv=20,varimpulse=True)\n",
    "t_i.targets"
   ]
  },
  {
   "cell_type": "code",
   "execution_count": 43,
   "id": "bfc368f6",
   "metadata": {},
   "outputs": [
    {
     "ename": "NameError",
     "evalue": "name 't_i' is not defined",
     "output_type": "error",
     "traceback": [
      "\u001b[1;31m---------------------------------------------------------------------------\u001b[0m",
      "\u001b[1;31mNameError\u001b[0m                                 Traceback (most recent call last)",
      "\u001b[1;32m<ipython-input-43-2a93ef303f0f>\u001b[0m in \u001b[0;36m<module>\u001b[1;34m\u001b[0m\n\u001b[1;32m----> 1\u001b[1;33m \u001b[0mt_i\u001b[0m\u001b[1;33m.\u001b[0m\u001b[0mjacobi\u001b[0m\u001b[1;33m(\u001b[0m\u001b[1;36m2049\u001b[0m\u001b[1;33m,\u001b[0m\u001b[1;36m28\u001b[0m\u001b[1;33m)\u001b[0m\u001b[1;33m\u001b[0m\u001b[1;33m\u001b[0m\u001b[0m\n\u001b[0m",
      "\u001b[1;31mNameError\u001b[0m: name 't_i' is not defined"
     ]
    }
   ],
   "source": [
    "t_i.jacobi(2049,28)"
   ]
  },
  {
   "cell_type": "code",
   "execution_count": null,
   "id": "bfb0c84f",
   "metadata": {},
   "outputs": [],
   "source": [
    "t_i.debug=0\n",
    "res = t_i(delay=29,varimpulse=True,silent=0)"
   ]
  },
  {
   "cell_type": "code",
   "execution_count": null,
   "id": "0b8020eb",
   "metadata": {},
   "outputs": [],
   "source": [
    "masia.calculate_freq_list(masia.coreorder)"
   ]
  },
  {
   "cell_type": "code",
   "execution_count": null,
   "id": "6b27708e",
   "metadata": {},
   "outputs": [],
   "source": [
    "masia.flop_get"
   ]
  },
  {
   "cell_type": "code",
   "execution_count": null,
   "id": "ac6a677e",
   "metadata": {
    "scrolled": true
   },
   "outputs": [],
   "source": [
    "masia.wld_co2"
   ]
  },
  {
   "cell_type": "code",
   "execution_count": null,
   "id": "58b656e6",
   "metadata": {},
   "outputs": [],
   "source": [
    "masia.exodif()"
   ]
  }
 ],
 "metadata": {
  "celltoolbar": "Edit Metadata",
  "kernelspec": {
   "display_name": "Python 3",
   "language": "python",
   "name": "python3"
  },
  "language_info": {
   "codemirror_mode": {
    "name": "ipython",
    "version": 3
   },
   "file_extension": ".py",
   "mimetype": "text/x-python",
   "name": "python",
   "nbconvert_exporter": "python",
   "pygments_lexer": "ipython3",
   "version": "3.8.8"
  },
  "toc": {
   "base_numbering": 1,
   "nav_menu": {},
   "number_sections": true,
   "sideBar": true,
   "skip_h1_title": true,
   "title_cell": "Table of Contents",
   "title_sidebar": "Contents",
   "toc_cell": false,
   "toc_position": {},
   "toc_section_display": true,
   "toc_window_display": false
  }
 },
 "nbformat": 4,
 "nbformat_minor": 5
}
