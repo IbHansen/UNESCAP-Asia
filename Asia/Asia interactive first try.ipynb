{
 "cells": [
  {
   "cell_type": "markdown",
   "id": "b3fde3e1",
   "metadata": {},
   "source": [
    "# Import modelflow"
   ]
  },
  {
   "cell_type": "code",
   "execution_count": 7,
   "id": "26a97026",
   "metadata": {},
   "outputs": [
    {
     "data": {
      "text/html": [
       "\n",
       "        <style>\n",
       "            div#notebook-container    { width: 95%; }\n",
       "            div#menubar-container     { width: 65%; }\n",
       "            div#maintoolbar-container { width: 99%; }\n",
       "        </style>\n",
       "        "
      ],
      "text/plain": [
       "<IPython.core.display.HTML object>"
      ]
     },
     "metadata": {},
     "output_type": "display_data"
    }
   ],
   "source": [
    "from modelclass import model\n",
    "model.widescreen()"
   ]
  },
  {
   "cell_type": "markdown",
   "id": "13ba5994",
   "metadata": {},
   "source": [
    "# Load model and data, and run "
   ]
  },
  {
   "cell_type": "code",
   "execution_count": 8,
   "id": "e2795283",
   "metadata": {},
   "outputs": [],
   "source": [
    "masia,baseline = model.modelload('Asia.pcim',run=1,silent=1)"
   ]
  },
  {
   "cell_type": "code",
   "execution_count": 28,
   "id": "52030574",
   "metadata": {},
   "outputs": [],
   "source": [
    "import pandas as pd\n",
    "iso = (pd.read_excel('../data/model_data.xlsx'  ,sheet_name='Country prefixes').\n",
    "       iloc[1:,:])\n",
    "iso_dict = {iso:country for country,iso in [row.tolist() for i,row in iso.iterrows()]}"
   ]
  },
  {
   "cell_type": "code",
   "execution_count": 36,
   "id": "bf860f78",
   "metadata": {},
   "outputs": [
    {
     "data": {
      "text/plain": [
       "{'AFG': 'Afghanistan',\n",
       " 'ARM': 'Armenia',\n",
       " 'AUS': 'Australia',\n",
       " 'AZE': 'Azerbaijan',\n",
       " 'BGD': 'Bangladesh',\n",
       " 'BTN': 'Bhutan',\n",
       " 'BRN': 'BruneiDarussalam',\n",
       " 'KHM': 'Cambodia',\n",
       " 'CHN': 'China',\n",
       " 'FJI': 'Fiji',\n",
       " 'GEO': 'Georgia',\n",
       " 'HKG': 'HongKong',\n",
       " 'IND': 'India',\n",
       " 'IDN': 'Indonesia',\n",
       " 'IRN': 'Iran',\n",
       " 'JPN': 'Japan',\n",
       " 'KAZ': 'Kazakhstan',\n",
       " 'KIR': 'Kiribati',\n",
       " 'KGZ': 'Kyrgyzstan',\n",
       " 'LAO': 'Lao',\n",
       " 'MAC': 'Macao',\n",
       " 'MYS': 'Malaysia',\n",
       " 'MDV': 'Maldives',\n",
       " 'FSM': 'Micronesia',\n",
       " 'MNG': 'Mongolia',\n",
       " 'MMR': 'Myanmar',\n",
       " 'NPL': 'Nepal',\n",
       " 'NZL': 'NewZealand',\n",
       " 'PAK': 'Pakistan',\n",
       " 'PNG': 'PapuaNewGuinea',\n",
       " 'PHL': 'Philippines',\n",
       " 'KOR': 'RepKorea',\n",
       " 'RUS': 'RussianFederation',\n",
       " 'WSM': 'Samoa',\n",
       " 'SGP': 'Singapore',\n",
       " 'SLB': 'SolomonIslands',\n",
       " 'LKA': 'SriLanka',\n",
       " 'TJK': 'Tajikistan',\n",
       " 'THA': 'Thailand',\n",
       " 'TLS': 'TimorLeste',\n",
       " 'TON': 'Tonga',\n",
       " 'TUR': 'Turkey',\n",
       " 'TKM': 'Turkmenistan',\n",
       " 'UZB': 'Uzbekistan',\n",
       " 'VUT': 'Vanuatu',\n",
       " 'VNM': 'VietNam'}"
      ]
     },
     "execution_count": 36,
     "metadata": {},
     "output_type": "execute_result"
    }
   ],
   "source": [
    "country_dict = {country:v for country,v in iso_dict.items() if f'{country}_GCARBR_A' in masia.exogene}\n",
    "country_dict"
   ]
  },
  {
   "cell_type": "code",
   "execution_count": 42,
   "id": "f747aa3c",
   "metadata": {},
   "outputs": [],
   "source": [
    "countries = 'KHM IDN MYS'.split()\n",
    "countries = [c for c in country_dict.keys()]\n",
    "outvar = 'GDI GCARBR CO2 LNN'.split()\n",
    "displayvar = ' '.join(country+'_'+var for country in countries[:2] for var in outvar)+' WLD_CO2'\n",
    "slidedef_all =  {'ALL' : {'var': ' '.join([f'{country}_GCARBR_A' for country in  countries]), 'value': 0.0,'min':0,'max':50,'op':'+impulse','step':5}}"
   ]
  },
  {
   "cell_type": "code",
   "execution_count": 43,
   "id": "128fca36",
   "metadata": {},
   "outputs": [],
   "source": [
    "slidedef_countries = {iso_dict.get(country,country) : {'var': f'{country}_GCARBR_A', 'value': 0.0,'min':0,'max':50,'op':'+impulse','step':5} for country in  countries}\n",
    "slidedef = {**slidedef_all,**slidedef_countries}"
   ]
  },
  {
   "cell_type": "code",
   "execution_count": 44,
   "id": "33c47c3d",
   "metadata": {},
   "outputs": [
    {
     "data": {
      "text/plain": [
       "{'ALL': {'var': 'AFG_GCARBR_A ARM_GCARBR_A AUS_GCARBR_A AZE_GCARBR_A BGD_GCARBR_A BTN_GCARBR_A BRN_GCARBR_A KHM_GCARBR_A CHN_GCARBR_A FJI_GCARBR_A GEO_GCARBR_A HKG_GCARBR_A IND_GCARBR_A IDN_GCARBR_A IRN_GCARBR_A JPN_GCARBR_A KAZ_GCARBR_A KIR_GCARBR_A KGZ_GCARBR_A LAO_GCARBR_A MAC_GCARBR_A MYS_GCARBR_A MDV_GCARBR_A FSM_GCARBR_A MNG_GCARBR_A MMR_GCARBR_A NPL_GCARBR_A NZL_GCARBR_A PAK_GCARBR_A PNG_GCARBR_A PHL_GCARBR_A KOR_GCARBR_A RUS_GCARBR_A WSM_GCARBR_A SGP_GCARBR_A SLB_GCARBR_A LKA_GCARBR_A TJK_GCARBR_A THA_GCARBR_A TLS_GCARBR_A TON_GCARBR_A TUR_GCARBR_A TKM_GCARBR_A UZB_GCARBR_A VUT_GCARBR_A VNM_GCARBR_A',\n",
       "  'value': 0.0,\n",
       "  'min': 0,\n",
       "  'max': 50,\n",
       "  'op': '+impulse',\n",
       "  'step': 5},\n",
       " 'Afghanistan': {'var': 'AFG_GCARBR_A',\n",
       "  'value': 0.0,\n",
       "  'min': 0,\n",
       "  'max': 50,\n",
       "  'op': '+impulse',\n",
       "  'step': 5},\n",
       " 'Armenia': {'var': 'ARM_GCARBR_A',\n",
       "  'value': 0.0,\n",
       "  'min': 0,\n",
       "  'max': 50,\n",
       "  'op': '+impulse',\n",
       "  'step': 5},\n",
       " 'Australia': {'var': 'AUS_GCARBR_A',\n",
       "  'value': 0.0,\n",
       "  'min': 0,\n",
       "  'max': 50,\n",
       "  'op': '+impulse',\n",
       "  'step': 5},\n",
       " 'Azerbaijan': {'var': 'AZE_GCARBR_A',\n",
       "  'value': 0.0,\n",
       "  'min': 0,\n",
       "  'max': 50,\n",
       "  'op': '+impulse',\n",
       "  'step': 5},\n",
       " 'Bangladesh': {'var': 'BGD_GCARBR_A',\n",
       "  'value': 0.0,\n",
       "  'min': 0,\n",
       "  'max': 50,\n",
       "  'op': '+impulse',\n",
       "  'step': 5},\n",
       " 'Bhutan': {'var': 'BTN_GCARBR_A',\n",
       "  'value': 0.0,\n",
       "  'min': 0,\n",
       "  'max': 50,\n",
       "  'op': '+impulse',\n",
       "  'step': 5},\n",
       " 'BruneiDarussalam': {'var': 'BRN_GCARBR_A',\n",
       "  'value': 0.0,\n",
       "  'min': 0,\n",
       "  'max': 50,\n",
       "  'op': '+impulse',\n",
       "  'step': 5},\n",
       " 'Cambodia': {'var': 'KHM_GCARBR_A',\n",
       "  'value': 0.0,\n",
       "  'min': 0,\n",
       "  'max': 50,\n",
       "  'op': '+impulse',\n",
       "  'step': 5},\n",
       " 'China': {'var': 'CHN_GCARBR_A',\n",
       "  'value': 0.0,\n",
       "  'min': 0,\n",
       "  'max': 50,\n",
       "  'op': '+impulse',\n",
       "  'step': 5},\n",
       " 'Fiji': {'var': 'FJI_GCARBR_A',\n",
       "  'value': 0.0,\n",
       "  'min': 0,\n",
       "  'max': 50,\n",
       "  'op': '+impulse',\n",
       "  'step': 5},\n",
       " 'Georgia': {'var': 'GEO_GCARBR_A',\n",
       "  'value': 0.0,\n",
       "  'min': 0,\n",
       "  'max': 50,\n",
       "  'op': '+impulse',\n",
       "  'step': 5},\n",
       " 'HongKong': {'var': 'HKG_GCARBR_A',\n",
       "  'value': 0.0,\n",
       "  'min': 0,\n",
       "  'max': 50,\n",
       "  'op': '+impulse',\n",
       "  'step': 5},\n",
       " 'India': {'var': 'IND_GCARBR_A',\n",
       "  'value': 0.0,\n",
       "  'min': 0,\n",
       "  'max': 50,\n",
       "  'op': '+impulse',\n",
       "  'step': 5},\n",
       " 'Indonesia': {'var': 'IDN_GCARBR_A',\n",
       "  'value': 0.0,\n",
       "  'min': 0,\n",
       "  'max': 50,\n",
       "  'op': '+impulse',\n",
       "  'step': 5},\n",
       " 'Iran': {'var': 'IRN_GCARBR_A',\n",
       "  'value': 0.0,\n",
       "  'min': 0,\n",
       "  'max': 50,\n",
       "  'op': '+impulse',\n",
       "  'step': 5},\n",
       " 'Japan': {'var': 'JPN_GCARBR_A',\n",
       "  'value': 0.0,\n",
       "  'min': 0,\n",
       "  'max': 50,\n",
       "  'op': '+impulse',\n",
       "  'step': 5},\n",
       " 'Kazakhstan': {'var': 'KAZ_GCARBR_A',\n",
       "  'value': 0.0,\n",
       "  'min': 0,\n",
       "  'max': 50,\n",
       "  'op': '+impulse',\n",
       "  'step': 5},\n",
       " 'Kiribati': {'var': 'KIR_GCARBR_A',\n",
       "  'value': 0.0,\n",
       "  'min': 0,\n",
       "  'max': 50,\n",
       "  'op': '+impulse',\n",
       "  'step': 5},\n",
       " 'Kyrgyzstan': {'var': 'KGZ_GCARBR_A',\n",
       "  'value': 0.0,\n",
       "  'min': 0,\n",
       "  'max': 50,\n",
       "  'op': '+impulse',\n",
       "  'step': 5},\n",
       " 'Lao': {'var': 'LAO_GCARBR_A',\n",
       "  'value': 0.0,\n",
       "  'min': 0,\n",
       "  'max': 50,\n",
       "  'op': '+impulse',\n",
       "  'step': 5},\n",
       " 'Macao': {'var': 'MAC_GCARBR_A',\n",
       "  'value': 0.0,\n",
       "  'min': 0,\n",
       "  'max': 50,\n",
       "  'op': '+impulse',\n",
       "  'step': 5},\n",
       " 'Malaysia': {'var': 'MYS_GCARBR_A',\n",
       "  'value': 0.0,\n",
       "  'min': 0,\n",
       "  'max': 50,\n",
       "  'op': '+impulse',\n",
       "  'step': 5},\n",
       " 'Maldives': {'var': 'MDV_GCARBR_A',\n",
       "  'value': 0.0,\n",
       "  'min': 0,\n",
       "  'max': 50,\n",
       "  'op': '+impulse',\n",
       "  'step': 5},\n",
       " 'Micronesia': {'var': 'FSM_GCARBR_A',\n",
       "  'value': 0.0,\n",
       "  'min': 0,\n",
       "  'max': 50,\n",
       "  'op': '+impulse',\n",
       "  'step': 5},\n",
       " 'Mongolia': {'var': 'MNG_GCARBR_A',\n",
       "  'value': 0.0,\n",
       "  'min': 0,\n",
       "  'max': 50,\n",
       "  'op': '+impulse',\n",
       "  'step': 5},\n",
       " 'Myanmar': {'var': 'MMR_GCARBR_A',\n",
       "  'value': 0.0,\n",
       "  'min': 0,\n",
       "  'max': 50,\n",
       "  'op': '+impulse',\n",
       "  'step': 5},\n",
       " 'Nepal': {'var': 'NPL_GCARBR_A',\n",
       "  'value': 0.0,\n",
       "  'min': 0,\n",
       "  'max': 50,\n",
       "  'op': '+impulse',\n",
       "  'step': 5},\n",
       " 'NewZealand': {'var': 'NZL_GCARBR_A',\n",
       "  'value': 0.0,\n",
       "  'min': 0,\n",
       "  'max': 50,\n",
       "  'op': '+impulse',\n",
       "  'step': 5},\n",
       " 'Pakistan': {'var': 'PAK_GCARBR_A',\n",
       "  'value': 0.0,\n",
       "  'min': 0,\n",
       "  'max': 50,\n",
       "  'op': '+impulse',\n",
       "  'step': 5},\n",
       " 'PapuaNewGuinea': {'var': 'PNG_GCARBR_A',\n",
       "  'value': 0.0,\n",
       "  'min': 0,\n",
       "  'max': 50,\n",
       "  'op': '+impulse',\n",
       "  'step': 5},\n",
       " 'Philippines': {'var': 'PHL_GCARBR_A',\n",
       "  'value': 0.0,\n",
       "  'min': 0,\n",
       "  'max': 50,\n",
       "  'op': '+impulse',\n",
       "  'step': 5},\n",
       " 'RepKorea': {'var': 'KOR_GCARBR_A',\n",
       "  'value': 0.0,\n",
       "  'min': 0,\n",
       "  'max': 50,\n",
       "  'op': '+impulse',\n",
       "  'step': 5},\n",
       " 'RussianFederation': {'var': 'RUS_GCARBR_A',\n",
       "  'value': 0.0,\n",
       "  'min': 0,\n",
       "  'max': 50,\n",
       "  'op': '+impulse',\n",
       "  'step': 5},\n",
       " 'Samoa': {'var': 'WSM_GCARBR_A',\n",
       "  'value': 0.0,\n",
       "  'min': 0,\n",
       "  'max': 50,\n",
       "  'op': '+impulse',\n",
       "  'step': 5},\n",
       " 'Singapore': {'var': 'SGP_GCARBR_A',\n",
       "  'value': 0.0,\n",
       "  'min': 0,\n",
       "  'max': 50,\n",
       "  'op': '+impulse',\n",
       "  'step': 5},\n",
       " 'SolomonIslands': {'var': 'SLB_GCARBR_A',\n",
       "  'value': 0.0,\n",
       "  'min': 0,\n",
       "  'max': 50,\n",
       "  'op': '+impulse',\n",
       "  'step': 5},\n",
       " 'SriLanka': {'var': 'LKA_GCARBR_A',\n",
       "  'value': 0.0,\n",
       "  'min': 0,\n",
       "  'max': 50,\n",
       "  'op': '+impulse',\n",
       "  'step': 5},\n",
       " 'Tajikistan': {'var': 'TJK_GCARBR_A',\n",
       "  'value': 0.0,\n",
       "  'min': 0,\n",
       "  'max': 50,\n",
       "  'op': '+impulse',\n",
       "  'step': 5},\n",
       " 'Thailand': {'var': 'THA_GCARBR_A',\n",
       "  'value': 0.0,\n",
       "  'min': 0,\n",
       "  'max': 50,\n",
       "  'op': '+impulse',\n",
       "  'step': 5},\n",
       " 'TimorLeste': {'var': 'TLS_GCARBR_A',\n",
       "  'value': 0.0,\n",
       "  'min': 0,\n",
       "  'max': 50,\n",
       "  'op': '+impulse',\n",
       "  'step': 5},\n",
       " 'Tonga': {'var': 'TON_GCARBR_A',\n",
       "  'value': 0.0,\n",
       "  'min': 0,\n",
       "  'max': 50,\n",
       "  'op': '+impulse',\n",
       "  'step': 5},\n",
       " 'Turkey': {'var': 'TUR_GCARBR_A',\n",
       "  'value': 0.0,\n",
       "  'min': 0,\n",
       "  'max': 50,\n",
       "  'op': '+impulse',\n",
       "  'step': 5},\n",
       " 'Turkmenistan': {'var': 'TKM_GCARBR_A',\n",
       "  'value': 0.0,\n",
       "  'min': 0,\n",
       "  'max': 50,\n",
       "  'op': '+impulse',\n",
       "  'step': 5},\n",
       " 'Uzbekistan': {'var': 'UZB_GCARBR_A',\n",
       "  'value': 0.0,\n",
       "  'min': 0,\n",
       "  'max': 50,\n",
       "  'op': '+impulse',\n",
       "  'step': 5},\n",
       " 'Vanuatu': {'var': 'VUT_GCARBR_A',\n",
       "  'value': 0.0,\n",
       "  'min': 0,\n",
       "  'max': 50,\n",
       "  'op': '+impulse',\n",
       "  'step': 5},\n",
       " 'VietNam': {'var': 'VNM_GCARBR_A',\n",
       "  'value': 0.0,\n",
       "  'min': 0,\n",
       "  'max': 50,\n",
       "  'op': '+impulse',\n",
       "  'step': 5}}"
      ]
     },
     "execution_count": 44,
     "metadata": {},
     "output_type": "execute_result"
    }
   ],
   "source": [
    "slidedef"
   ]
  },
  {
   "cell_type": "markdown",
   "id": "e94c4d8b",
   "metadata": {},
   "source": [
    "# Define  experiment"
   ]
  },
  {
   "cell_type": "code",
   "execution_count": 45,
   "id": "9ae3198c",
   "metadata": {
    "scrolled": false
   },
   "outputs": [
    {
     "data": {
      "application/vnd.jupyter.widget-view+json": {
       "model_id": "770eeeb47bb940bd9e3009c4d3f6b6a1",
       "version_major": 2,
       "version_minor": 0
      },
      "text/plain": [
       "VBox(children=(HBox(children=(Label(value='Input new parameter ', layout=Layout(width='52%')), Label(value='Al…"
      ]
     },
     "metadata": {},
     "output_type": "display_data"
    },
    {
     "data": {
      "application/vnd.jupyter.widget-view+json": {
       "model_id": "a692a6e27eed4bda878dd870c7672486",
       "version_major": 2,
       "version_minor": 0
      },
      "text/plain": [
       "VBox(children=(Tab(children=(VBox(children=(Tab(children=(Output(), Output(), Output(), Output()), _titles={'0…"
      ]
     },
     "metadata": {},
     "output_type": "display_data"
    }
   ],
   "source": [
    "input = masia.inputwidget(2021,2050,slidedef=slidedef\n",
    "                   ,showout=True,varpat=displayvar,trans=masia.var_description)"
   ]
  },
  {
   "cell_type": "markdown",
   "id": "349f60b6",
   "metadata": {},
   "source": [
    "# Run experiment"
   ]
  },
  {
   "cell_type": "markdown",
   "id": "4a6bf1b1",
   "metadata": {},
   "source": [
    "# Analyze results"
   ]
  }
 ],
 "metadata": {
  "kernelspec": {
   "display_name": "Python 3",
   "language": "python",
   "name": "python3"
  },
  "language_info": {
   "codemirror_mode": {
    "name": "ipython",
    "version": 3
   },
   "file_extension": ".py",
   "mimetype": "text/x-python",
   "name": "python",
   "nbconvert_exporter": "python",
   "pygments_lexer": "ipython3",
   "version": "3.8.8"
  },
  "toc": {
   "base_numbering": 1,
   "nav_menu": {},
   "number_sections": true,
   "sideBar": true,
   "skip_h1_title": true,
   "title_cell": "Table of Contents",
   "title_sidebar": "Contents",
   "toc_cell": false,
   "toc_position": {},
   "toc_section_display": true,
   "toc_window_display": false
  }
 },
 "nbformat": 4,
 "nbformat_minor": 5
}
