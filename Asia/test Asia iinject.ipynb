{
 "cells": [
  {
   "cell_type": "markdown",
   "id": "b3fde3e1",
   "metadata": {
    "slideshow": {
     "slide_type": "skip"
    }
   },
   "source": [
    "# Import modelflow"
   ]
  },
  {
   "cell_type": "code",
   "execution_count": 2,
   "id": "26a97026",
   "metadata": {
    "scrolled": false,
    "slideshow": {
     "slide_type": "skip"
    }
   },
   "outputs": [
    {
     "name": "stdout",
     "output_type": "stream",
     "text": [
      "The autoreload extension is already loaded. To reload it, use:\n",
      "  %reload_ext autoreload\n"
     ]
    },
    {
     "data": {
      "text/html": [
       "\n",
       "        <style>\n",
       "            div#notebook-container    { width: 95%; }\n",
       "            div#menubar-container     { width: 65%; }\n",
       "            div#maintoolbar-container { width: 99%; }\n",
       "        </style>\n",
       "        "
      ],
      "text/plain": [
       "<IPython.core.display.HTML object>"
      ]
     },
     "metadata": {},
     "output_type": "display_data"
    }
   ],
   "source": [
    "%load_ext autoreload\n",
    "%autoreload 2\n",
    "\n",
    "%matplotlib inline\n",
    "\n",
    "from ipywidgets import interact,Dropdown,Checkbox\n",
    "from IPython.display import display, clear_output,Latex, Markdown\n",
    "import pandas as pd\n",
    "\n",
    "import modeljupyter as mj\n",
    "from modelvis import waterplot\n",
    "\n",
    "\n",
    "from modelclass import model\n",
    "model.widescreen()\n",
    "model.scroll_off()"
   ]
  },
  {
   "cell_type": "code",
   "execution_count": 2,
   "id": "d8932a99",
   "metadata": {
    "slideshow": {
     "slide_type": "skip"
    }
   },
   "outputs": [
    {
     "data": {
      "application/javascript": [
       "IPython.OutputArea.prototype._should_scroll = function(lines){\n",
       "    return false;\n",
       "}\n"
      ],
      "text/plain": [
       "<IPython.core.display.Javascript object>"
      ]
     },
     "metadata": {},
     "output_type": "display_data"
    }
   ],
   "source": [
    "%%javascript\n",
    "IPython.OutputArea.prototype._should_scroll = function(lines){\n",
    "    return false;\n",
    "}"
   ]
  },
  {
   "cell_type": "markdown",
   "id": "13ba5994",
   "metadata": {
    "slideshow": {
     "slide_type": "skip"
    }
   },
   "source": [
    "# Load model and data, and run "
   ]
  },
  {
   "cell_type": "code",
   "execution_count": 3,
   "id": "e2795283",
   "metadata": {
    "scrolled": false,
    "slideshow": {
     "slide_type": "skip"
    }
   },
   "outputs": [
    {
     "name": "stdout",
     "output_type": "stream",
     "text": [
      "Load model\n"
     ]
    }
   ],
   "source": [
    "if not 'masia' in locals():\n",
    "    print('Load model')\n",
    "    masia,baseline = model.modelload('Asia.pcim',run=1,silent=1)"
   ]
  },
  {
   "cell_type": "code",
   "execution_count": null,
   "id": "1f12d736",
   "metadata": {},
   "outputs": [
    {
     "name": "stderr",
     "output_type": "stream",
     "text": [
      "Compile prolog:  56%|███████████████████████████████████████▉                               | 150/267  1.51s/code chunk"
     ]
    }
   ],
   "source": [
    "xx = masia(baseline,stats=1,ljit=0,chunk=10)"
   ]
  },
  {
   "cell_type": "code",
   "execution_count": null,
   "id": "fa767a92",
   "metadata": {
    "scrolled": true,
    "slideshow": {
     "slide_type": "skip"
    }
   },
   "outputs": [],
   "source": [
    "from inject import inject\n",
    "inject(masia)"
   ]
  },
  {
   "cell_type": "code",
   "execution_count": null,
   "id": "84e0b533",
   "metadata": {
    "slideshow": {
     "slide_type": "skip"
    }
   },
   "outputs": [],
   "source": [
    "co2_input_var = [var for var in masia.totgraph.predecessors('WLD_CO2') if var.endswith('CO2')]"
   ]
  },
  {
   "cell_type": "code",
   "execution_count": null,
   "id": "0428ab25",
   "metadata": {
    "slideshow": {
     "slide_type": "skip"
    }
   },
   "outputs": [],
   "source": [
    "co2_baseline = baseline.loc[:,co2_input_var].pipe(lambda df:df.rename(columns={c : masia.iso_dict.get(cname := c.split('_')[0],cname) for c in df.columns}))"
   ]
  },
  {
   "cell_type": "markdown",
   "id": "7254b3bb",
   "metadata": {
    "slideshow": {
     "slide_type": "skip"
    }
   },
   "source": [
    "# Variables to inputwidget"
   ]
  },
  {
   "cell_type": "code",
   "execution_count": null,
   "id": "b3e7dd1c",
   "metadata": {
    "scrolled": false,
    "slideshow": {
     "slide_type": "skip"
    }
   },
   "outputs": [],
   "source": [
    "outvar = 'GDI GCARBR CO2 LNN'.split()\n",
    "displayvar = 'WLD_CO2 ASP_CO2 G20_CO2 '\n",
    "\n",
    "#  masia.countries_GCARBR_A is list of all countries in the model with a countries_GCARBR_A \n",
    "#  masia.countries_ASEAN is list of all countries in ASEAN \n",
    "countries_rest = [country for country in masia.countries_GCARBR_A if country not in masia.countries_ASEAN]\n",
    "\n",
    "slidedef_allasean =  {'All ASEAN countries' : {'var': ' '.join([f'{country}_GCARBR_A' for country in masia.countries_ASEAN ])\n",
    "                          , 'value': 0.0,'min':0,'max':100,'op':'+impulse','step':10,'dec':0}}\n",
    "slidedef_allrest =  {'Rest of the world' : {'var': \n",
    "    ' '.join([f'{country}_GCARBR_A' for country in countries_rest])\n",
    "                          , 'value': 0.0,'min':0,'max':100,'op':'+impulse','step':10,'dec':0}}\n",
    "slidedef_countries = {masia.iso_dict.get(country,country)+', Extra' : \n",
    "                      {'var': f'{country}_GCARBR_A', 'value': 0.0,'min':-40,'max':40,'op':'+impulse','step':10,'dec':0} \n",
    "                      for country in  masia.countries_ASEAN}\n",
    "\n",
    "slidedef = {**slidedef_allasean,**slidedef_allrest,**slidedef_countries}"
   ]
  },
  {
   "cell_type": "code",
   "execution_count": null,
   "id": "621dc6ab",
   "metadata": {},
   "outputs": [],
   "source": [
    "masia['wld_co2'].rename().plot(colrow=1,title='Baseline $CO^2$ emmision',top=0.9,ysize=5);"
   ]
  },
  {
   "cell_type": "markdown",
   "id": "5d05c201",
   "metadata": {
    "slideshow": {
     "slide_type": "slide"
    }
   },
   "source": [
    "# Emmision with no policy \n",
    "Countries where the emmision is below the threshold are all attributed to the \"small\" label"
   ]
  },
  {
   "cell_type": "code",
   "execution_count": null,
   "id": "04a90c4d",
   "metadata": {
    "scrolled": true
   },
   "outputs": [],
   "source": [
    "@interact(Threshold = (0,3000,100))\n",
    "def explain(Periode   = Dropdown(options = masia.current_per,value=2049),\n",
    "            Threshold =700):\n",
    "\n",
    "    waterplot(co2_baseline.loc[[Periode],:].T,autosum=1,threshold = Threshold,allsort=1,title = '$CO^2$ emmision in',top=0.88);"
   ]
  },
  {
   "cell_type": "markdown",
   "id": "e94c4d8b",
   "metadata": {
    "slideshow": {
     "slide_type": "slide"
    }
   },
   "source": [
    "# Make some policy "
   ]
  },
  {
   "cell_type": "code",
   "execution_count": null,
   "id": "63a62886",
   "metadata": {
    "scrolled": false
   },
   "outputs": [],
   "source": [
    "inject(masia)\n",
    "input = masia.inputwidget_asia(2021,2050,slidedef=slidedef\n",
    "                   ,showout=True,varpat=displayvar,showvar=True,go_now=1)"
   ]
  },
  {
   "cell_type": "markdown",
   "id": "4a6bf1b1",
   "metadata": {
    "slideshow": {
     "slide_type": "slide"
    }
   },
   "source": [
    "# Where does the reduction originate\n",
    "The threshold leved and year can be chosen.\n",
    "Countries where the reduction is below the threshold are all attributed to the \"small\" label  "
   ]
  },
  {
   "cell_type": "code",
   "execution_count": null,
   "id": "099c0d4f",
   "metadata": {},
   "outputs": [],
   "source": [
    "\n",
    "@interact(Threshold = (0,300,10))\n",
    "def explain(Periode   = Dropdown(options = masia.current_per,value=2049),\n",
    "            Threshold =200):\n",
    "    masia.dekomp_plot('WLD_CO2',pct=0,threshold=Threshold,nametrans=masia.country_get)\n",
    "    masia.dekomp_plot_per('WLD_CO2',pct=0,threshold=Threshold,per=Periode,sort=True,nametrans=masia.country_get)\n"
   ]
  },
  {
   "cell_type": "code",
   "execution_count": null,
   "id": "623cfbb7",
   "metadata": {},
   "outputs": [],
   "source": []
  },
  {
   "cell_type": "code",
   "execution_count": null,
   "id": "a8fb541f",
   "metadata": {
    "scrolled": true
   },
   "outputs": [],
   "source": [
    "print(masia.get_eq_des('USA_EC',show_all=1))"
   ]
  },
  {
   "cell_type": "code",
   "execution_count": null,
   "id": "e4c6e8f7",
   "metadata": {
    "scrolled": true
   },
   "outputs": [],
   "source": [
    "masia.USA_EC.tracepre(HR=0)"
   ]
  },
  {
   "cell_type": "markdown",
   "id": "afee3083",
   "metadata": {},
   "source": [
    "# Inversion of the model"
   ]
  },
  {
   "cell_type": "code",
   "execution_count": null,
   "id": "69281c93",
   "metadata": {},
   "outputs": [],
   "source": [
    "instruments = [[f'{country}_GCARBR_A' for country in masia.countries_GCARBR_A]]\n",
    "instruments"
   ]
  },
  {
   "cell_type": "code",
   "execution_count": null,
   "id": "875536b4",
   "metadata": {},
   "outputs": [],
   "source": [
    "target = pd.DataFrame([36_440],index=[2049],columns=['WLD_CO2'])\n",
    "target"
   ]
  },
  {
   "cell_type": "code",
   "execution_count": null,
   "id": "1cceded3",
   "metadata": {},
   "outputs": [],
   "source": [
    "delay = 2049-2021\n",
    "delay "
   ]
  },
  {
   "cell_type": "code",
   "execution_count": null,
   "id": "7b19fb90",
   "metadata": {},
   "outputs": [],
   "source": [
    "from modelinvert import targets_instruments"
   ]
  },
  {
   "cell_type": "code",
   "execution_count": null,
   "id": "5231f49a",
   "metadata": {},
   "outputs": [],
   "source": [
    "t_i = targets_instruments(databank=baseline,targets=target,instruments=instruments,model=masia,DefaultImpuls=50.,defaultconv=20,varimpulse=True)\n",
    "t_i.targets"
   ]
  },
  {
   "cell_type": "code",
   "execution_count": null,
   "id": "3ba9d049",
   "metadata": {},
   "outputs": [],
   "source": [
    "t_i.jacobi(2049,28)"
   ]
  },
  {
   "cell_type": "code",
   "execution_count": null,
   "id": "eb82f127",
   "metadata": {},
   "outputs": [],
   "source": [
    "t_i.debug=0\n",
    "res = t_i(delay=29,varimpulse=True,silent=0)"
   ]
  },
  {
   "cell_type": "code",
   "execution_count": null,
   "id": "393a6f5b",
   "metadata": {},
   "outputs": [],
   "source": [
    "masia.calculate_freq_list(masia.coreorder)"
   ]
  },
  {
   "cell_type": "code",
   "execution_count": null,
   "id": "ab744b6e",
   "metadata": {},
   "outputs": [],
   "source": [
    "masia.flop_get"
   ]
  },
  {
   "cell_type": "code",
   "execution_count": null,
   "id": "1f9de9d7",
   "metadata": {
    "scrolled": true
   },
   "outputs": [],
   "source": [
    "masia.wld_co2"
   ]
  },
  {
   "cell_type": "code",
   "execution_count": null,
   "id": "72574e24",
   "metadata": {},
   "outputs": [],
   "source": [
    "masia.exodif()"
   ]
  }
 ],
 "metadata": {
  "celltoolbar": "Slideshow",
  "hide_input": false,
  "kernelspec": {
   "display_name": "Python 3",
   "language": "python",
   "name": "python3"
  },
  "language_info": {
   "codemirror_mode": {
    "name": "ipython",
    "version": 3
   },
   "file_extension": ".py",
   "mimetype": "text/x-python",
   "name": "python",
   "nbconvert_exporter": "python",
   "pygments_lexer": "ipython3",
   "version": "3.8.8"
  },
  "toc": {
   "base_numbering": 1,
   "nav_menu": {},
   "number_sections": true,
   "sideBar": true,
   "skip_h1_title": true,
   "title_cell": "Table of Contents",
   "title_sidebar": "Contents",
   "toc_cell": false,
   "toc_position": {},
   "toc_section_display": true,
   "toc_window_display": false
  }
 },
 "nbformat": 4,
 "nbformat_minor": 5
}
