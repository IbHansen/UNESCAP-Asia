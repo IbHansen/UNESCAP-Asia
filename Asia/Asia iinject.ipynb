{
 "cells": [
  {
   "cell_type": "markdown",
   "id": "b3fde3e1",
   "metadata": {
    "slideshow": {
     "slide_type": "skip"
    }
   },
   "source": [
    "# Import modelflow"
   ]
  },
  {
   "cell_type": "code",
   "execution_count": 57,
   "id": "26a97026",
   "metadata": {
    "scrolled": false,
    "slideshow": {
     "slide_type": "skip"
    }
   },
   "outputs": [
    {
     "name": "stdout",
     "output_type": "stream",
     "text": [
      "The autoreload extension is already loaded. To reload it, use:\n",
      "  %reload_ext autoreload\n"
     ]
    },
    {
     "data": {
      "text/html": [
       "\n",
       "        <style>\n",
       "            div#notebook-container    { width: 95%; }\n",
       "            div#menubar-container     { width: 65%; }\n",
       "            div#maintoolbar-container { width: 99%; }\n",
       "        </style>\n",
       "        "
      ],
      "text/plain": [
       "<IPython.core.display.HTML object>"
      ]
     },
     "metadata": {},
     "output_type": "display_data"
    }
   ],
   "source": [
    "%load_ext autoreload\n",
    "%autoreload 2\n",
    "\n",
    "%matplotlib inline\n",
    "\n",
    "from ipywidgets import interact,Dropdown,Checkbox\n",
    "from IPython.display import display, clear_output,Latex, Markdown\n",
    "import pandas as pd\n",
    "\n",
    "import modeljupyter as mj\n",
    "from modelvis import waterplot\n",
    "\n",
    "\n",
    "from modelclass import model\n",
    "model.widescreen()"
   ]
  },
  {
   "cell_type": "code",
   "execution_count": 2,
   "id": "d8932a99",
   "metadata": {
    "slideshow": {
     "slide_type": "skip"
    }
   },
   "outputs": [
    {
     "data": {
      "application/javascript": [
       "IPython.OutputArea.prototype._should_scroll = function(lines){\n",
       "    return false;\n",
       "}\n"
      ],
      "text/plain": [
       "<IPython.core.display.Javascript object>"
      ]
     },
     "metadata": {},
     "output_type": "display_data"
    }
   ],
   "source": [
    "%%javascript\n",
    "IPython.OutputArea.prototype._should_scroll = function(lines){\n",
    "    return false;\n",
    "}"
   ]
  },
  {
   "cell_type": "markdown",
   "id": "13ba5994",
   "metadata": {
    "slideshow": {
     "slide_type": "skip"
    }
   },
   "source": [
    "# Load model and data, and run "
   ]
  },
  {
   "cell_type": "code",
   "execution_count": 3,
   "id": "e2795283",
   "metadata": {
    "scrolled": false,
    "slideshow": {
     "slide_type": "skip"
    }
   },
   "outputs": [
    {
     "name": "stdout",
     "output_type": "stream",
     "text": [
      "Load model\n"
     ]
    }
   ],
   "source": [
    "if not 'masia' in locals():\n",
    "    print('Load model')\n",
    "    masia,baseline = model.modelload('Asia.pcim',run=1,silent=1)"
   ]
  },
  {
   "cell_type": "code",
   "execution_count": 4,
   "id": "fa767a92",
   "metadata": {
    "scrolled": true,
    "slideshow": {
     "slide_type": "skip"
    }
   },
   "outputs": [],
   "source": [
    "from inject import inject\n",
    "inject(masia)"
   ]
  },
  {
   "cell_type": "code",
   "execution_count": 32,
   "id": "8e5c2c46",
   "metadata": {},
   "outputs": [],
   "source": [
    "masia.var_description = masia.defsub({k : v.replace('CO2','$CO^2$') for k,v in masia.var_description.items()})"
   ]
  },
  {
   "cell_type": "code",
   "execution_count": 5,
   "id": "84e0b533",
   "metadata": {
    "slideshow": {
     "slide_type": "skip"
    }
   },
   "outputs": [],
   "source": [
    "co2_input_var = [var for var in masia.totgraph.predecessors('WLD_CO2') if var.endswith('CO2')]"
   ]
  },
  {
   "cell_type": "code",
   "execution_count": 6,
   "id": "0428ab25",
   "metadata": {
    "slideshow": {
     "slide_type": "skip"
    }
   },
   "outputs": [],
   "source": [
    "co2_baseline = baseline.loc[:,co2_input_var].pipe(lambda df:df.rename(columns={c : masia.iso_dict.get(cname := c.split('_')[0],cname) for c in df.columns}))"
   ]
  },
  {
   "cell_type": "markdown",
   "id": "7254b3bb",
   "metadata": {
    "slideshow": {
     "slide_type": "skip"
    }
   },
   "source": [
    "# Variables to inputwidget"
   ]
  },
  {
   "cell_type": "code",
   "execution_count": 7,
   "id": "b3e7dd1c",
   "metadata": {
    "scrolled": false,
    "slideshow": {
     "slide_type": "skip"
    }
   },
   "outputs": [],
   "source": [
    "outvar = 'GDI GCARBR CO2 LNN'.split()\n",
    "displayvar = 'WLD_CO2 ASP_CO2 G20_CO2 '\n",
    "\n",
    "#  masia.countries_GCARBR_A is list of all countries in the model with a countries_GCARBR_A \n",
    "#  masia.countries_ASEAN is list of all countries in ASEAN \n",
    "countries_rest = [country for country in masia.countries_GCARBR_A if country not in masia.countries_ASEAN]\n",
    "\n",
    "slidedef_allasean =  {'All ASEAN countries' : {'var': ' '.join([f'{country}_GCARBR_A' for country in masia.countries_ASEAN ])\n",
    "                          , 'value': 0.0,'min':0,'max':100,'op':'+impulse','step':10,'dec':0}}\n",
    "slidedef_allrest =  {'Rest of the world' : {'var': \n",
    "    ' '.join([f'{country}_GCARBR_A' for country in countries_rest])\n",
    "                          , 'value': 0.0,'min':0,'max':100,'op':'+impulse','step':10,'dec':0}}\n",
    "slidedef_countries = {masia.iso_dict.get(country,country)+', Extra' : \n",
    "                      {'var': f'{country}_GCARBR_A', 'value': 0.0,'min':-40,'max':40,'op':'+impulse','step':10,'dec':0} \n",
    "                      for country in  masia.countries_ASEAN}\n",
    "\n",
    "slidedef = {**slidedef_allasean,**slidedef_allrest,**slidedef_countries}"
   ]
  },
  {
   "cell_type": "code",
   "execution_count": 24,
   "id": "621dc6ab",
   "metadata": {},
   "outputs": [
    {
     "data": {
      "image/png": "[encoded data removed]",
      "text/plain": [
       "<Figure size 720x360 with 1 Axes>"
      ]
     },
     "metadata": {
      "needs_background": "light"
     },
     "output_type": "display_data"
    }
   ],
   "source": [
    "masia['wld_co2'].rename().plot(colrow=1,title='Baseline $CO^2$ emmision',top=0.9,ysize=5);"
   ]
  },
  {
   "cell_type": "markdown",
   "id": "5d05c201",
   "metadata": {
    "slideshow": {
     "slide_type": "slide"
    }
   },
   "source": [
    "# Emmision with no policy \n",
    "Countries where the emmision is below the threshold are all attributed to the \"small\" label"
   ]
  },
  {
   "cell_type": "code",
   "execution_count": 9,
   "id": "04a90c4d",
   "metadata": {
    "scrolled": true
   },
   "outputs": [
    {
     "data": {
      "application/vnd.jupyter.widget-view+json": {
       "model_id": "061c1f65e4404c078c88f0f29a846fa1",
       "version_major": 2,
       "version_minor": 0
      },
      "text/plain": [
       "interactive(children=(Dropdown(description='Periode', index=29, options=(2021, 2022, 2023, 2024, 2025, 2026, 2…"
      ]
     },
     "metadata": {},
     "output_type": "display_data"
    }
   ],
   "source": [
    "@interact(Threshold = (0,3000,100))\n",
    "def explain(Periode   = Dropdown(options = masia.current_per,value=2050),\n",
    "            Threshold =700):\n",
    "\n",
    "    waterplot(co2_baseline.loc[[Periode],:].T,autosum=1,threshold = Threshold,allsort=1,title = '$CO^2$ emmision in',top=0.88);"
   ]
  },
  {
   "cell_type": "markdown",
   "id": "e94c4d8b",
   "metadata": {
    "slideshow": {
     "slide_type": "slide"
    }
   },
   "source": [
    "# Make some policy "
   ]
  },
  {
   "cell_type": "code",
   "execution_count": 25,
   "id": "63a62886",
   "metadata": {
    "scrolled": false
   },
   "outputs": [
    {
     "data": {
      "application/vnd.jupyter.widget-view+json": {
       "model_id": "9f2bdfd9e9774e0a902bfe4bde02916e",
       "version_major": 2,
       "version_minor": 0
      },
      "text/plain": [
       "VBox(children=(HBox(children=(Label(value='Carbon tax rate, US$ per tonn ', layout=Layout(width='54%')), Label…"
      ]
     },
     "metadata": {},
     "output_type": "display_data"
    },
    {
     "data": {
      "application/vnd.jupyter.widget-view+json": {
       "model_id": "60d76a5493104e58a1f4db3934693408",
       "version_major": 2,
       "version_minor": 0
      },
      "text/plain": [
       "VBox(children=(Tab(children=(VBox(children=(Tab(children=(Output(), Output(), Output(), Output()), _titles={'0…"
      ]
     },
     "metadata": {},
     "output_type": "display_data"
    }
   ],
   "source": [
    "inject(masia)\n",
    "input = masia.inputwidget_asia(2021,2050,slidedef=slidedef\n",
    "                   ,showout=True,varpat=displayvar,showvar=True,go_now=1)"
   ]
  },
  {
   "cell_type": "markdown",
   "id": "4a6bf1b1",
   "metadata": {
    "slideshow": {
     "slide_type": "slide"
    }
   },
   "source": [
    "# Where does the reduction originate\n",
    "The threshold leved and year can be chosen.\n",
    "Countries where the reduction is below the threshold are all attributed to the \"small\" label  "
   ]
  },
  {
   "cell_type": "code",
   "execution_count": 26,
   "id": "099c0d4f",
   "metadata": {},
   "outputs": [
    {
     "data": {
      "application/vnd.jupyter.widget-view+json": {
       "model_id": "5a34f732a4fe4d09848b9292561cc01b",
       "version_major": 2,
       "version_minor": 0
      },
      "text/plain": [
       "interactive(children=(Dropdown(description='Periode', index=29, options=(2021, 2022, 2023, 2024, 2025, 2026, 2…"
      ]
     },
     "metadata": {},
     "output_type": "display_data"
    }
   ],
   "source": [
    "\n",
    "@interact(Threshold = (0,300,10))\n",
    "def explain(Periode   = Dropdown(options = masia.current_per,value=2050),\n",
    "            Threshold =200):\n",
    "    masia.dekomp_plot('WLD_CO2',pct=0,threshold=Threshold,nametrans=masia.nametrans)\n",
    "    masia.dekomp_plot_per('WLD_CO2',pct=0,threshold=Threshold,per=Periode,sort=True,nametrans=masia.nametrans)\n"
   ]
  },
  {
   "cell_type": "code",
   "execution_count": null,
   "id": "d28cdc4d",
   "metadata": {},
   "outputs": [],
   "source": []
  },
  {
   "cell_type": "code",
   "execution_count": 38,
   "id": "b66531eb",
   "metadata": {
    "scrolled": true
   },
   "outputs": [
    {
     "name": "stdout",
     "output_type": "stream",
     "text": [
      "USA_EC        : Primary energy consumption, Exojoules ,USA\n",
      "USA_EC_A      : Add factor:Primary energy consumption, Exojoules ,USA\n",
      "USA_EC_D      : Exo dummy:Primary energy consumption, Exojoules ,USA\n",
      "USA_EC_X      : Exo value:Primary energy consumption, Exojoules ,USA\n",
      "USA_EFF       : \n",
      "USA_EXR       : Exchange rate (national currency / US$) ,USA\n",
      "USA_HIC       : Consumer Price Index, Period Average, 2015 = 100 ,USA\n",
      "USA_YER_DOLLAR: \n",
      "WLD_PE        : Domestic price of energy, inclusive of net carbon tax, US$ per Mn kJ ,World\n"
     ]
    }
   ],
   "source": [
    "print(masia.get_eq_des('USA_EC',show_all=1))"
   ]
  },
  {
   "cell_type": "code",
   "execution_count": 51,
   "id": "ad9d2d20",
   "metadata": {
    "scrolled": true
   },
   "outputs": [
    {
     "data": {
      "image/svg+xml": [
       "<svg xmlns=\"http://www.w3.org/2000/svg\" xmlns:xlink=\"http://www.w3.org/1999/xlink\" width=\"273pt\" height=\"432pt\" viewBox=\"0.00 0.00 272.55 432.00\">\n",
       "<g id=\"graph0\" class=\"graph\" transform=\"scale(0.304869 0.304869) rotate(0) translate(4 1413)\">\n",
       "<title>TD</title>\n",
       "<polygon fill=\"white\" stroke=\"none\" points=\"-4,4 -4,-1413 890,-1413 890,4 -4,4\"/>\n",
       "<text text-anchor=\"middle\" x=\"443\" y=\"-7.8\" font-family=\"Times New Roman,serif\" font-size=\"14.00\">USA_EC</text>\n",
       "<!-- WLD_PE(&#45;4) -->\n",
       "<g id=\"node1\" class=\"node\"><title>WLD_PE(-4)</title>\n",
       "<g id=\"a_node1\"><a xlink:title=\"Domestic price of energy, inclusive of net carbon tax, US$ per Mn kJ ,World\n",
       "FRML &lt;Z,EXO&gt; WLD_PE =( WLD_PE(-1)*(WLD_OILC(-1)/WLD_EC(-1)*WLD_POIL/WLD_POIL(-1)+WLD_GASC(-1)/WLD_EC(-1)*WLD_PG/WLD_PG(-1)+WLD_COALC(-1)/WLD_EC(-1)*WLD_PC/WLD_PC(-1)+WLD_RC(-1)/WLD_EC(-1)*WLD_PR/WLD_PR(-1)) + WLD_PE_A )*(1-WLD_PE_D)+WLD_PE_X*WLD_PE_D$\">\n",
       "<polygon fill=\"springgreen\" stroke=\"black\" points=\"523,-1409 0,-1409 0,-1373 523,-1373 523,-1409\"/>\n",
       "<text text-anchor=\"start\" x=\"6.5\" y=\"-1386.8\" font-family=\"Times New Roman,serif\" font-size=\"14.00\" fill=\"blue\">WLD_PE(-4):Domestic price of energy, inclusive of net carbon tax, US$ per Mn kJ ,World</text>\n",
       "</a>\n",
       "</g>\n",
       "</g>\n",
       "<!-- USA_EC -->\n",
       "<g id=\"node2\" class=\"node\"><title>USA_EC</title>\n",
       "<g id=\"a_node2\"><a xlink:title=\"Primary energy consumption, Exojoules ,USA\n",
       "FRML &lt;Z,EXO&gt; USA_EC =( USA_EC(-1)*EXP(USA_EC_A +  (0.5*((LOG(USA_YER_DOLLAR))-(LOG(USA_YER_DOLLAR(-1))))+0.25*((LOG(USA_YER_DOLLAR(-1)))-(LOG(USA_YER_DOLLAR(-2))))+0.15*((LOG(USA_YER_DOLLAR(-2)))-(LOG(USA_YER_DOLLAR(-3))))+0.1*((LOG(USA_YER_DOLLAR(-3)))-(LOG(USA_YER_DOLLAR(-4))))-0.5*0.146545463115108*((LOG(WLD_PE*USA_EXR/USA_HIC))-(LOG(WLD_PE(-1)*USA_EXR(-1)/USA_HIC(-1))))-0.25*0.146545463115108*((LOG(WLD_PE(-1)*USA_EXR(-1)/USA_HIC(-1)))-(LOG(WLD_PE(-2)*USA_EXR(-2)/USA_HIC(-2))))-0.15*0.146545463115108*((LOG(WLD_PE(-2)*USA_EXR(-2)/USA_HIC(-2)))-(LOG(WLD_PE(-3)*USA_EXR(-3)/USA_HIC(-3))))-0.1*0.146545463115108*((LOG(WLD_PE(-3)*USA_EXR(-3)/USA_HIC(-3)))-(LOG(WLD_PE(-4)*USA_EXR(-4)/USA_HIC(-4))))-(USA_EFF-USA_EFF(-1))) ) )*(1-USA_EC_D)+USA_EC_X*USA_EC_D$\">\n",
       "<polygon fill=\"red\" stroke=\"black\" points=\"886,-734 559,-734 559,-698 886,-698 886,-734\"/>\n",
       "<text text-anchor=\"start\" x=\"565.5\" y=\"-711.8\" font-family=\"Times New Roman,serif\" font-size=\"14.00\" fill=\"blue\">USA_EC:Primary energy consumption, Exojoules ,USA</text>\n",
       "</a>\n",
       "</g>\n",
       "</g>\n",
       "<!-- WLD_PE(&#45;4)&#45;&gt;USA_EC -->\n",
       "<g id=\"edge1\" class=\"edge\"><title>WLD_PE(-4)-&gt;USA_EC</title>\n",
       "<g id=\"a_edge1\"><a xlink:href=\"bogus\" xlink:title=\" WLD_PE(-4) -&gt; USA_EC Min. att. -20%  max: -0%\">\n",
       "<path fill=\"none\" stroke=\"black\" stroke-width=\"1.01489\" d=\"M510.986,-1372.88C515.126,-1370.13 519.138,-1367.18 523,-1364 623.458,-1281.36 698.467,-858.041 717.043,-744.212\"/>\n",
       "<polygon fill=\"black\" stroke=\"black\" stroke-width=\"1.01489\" points=\"720.524,-744.615 718.664,-734.185 713.613,-743.498 720.524,-744.615\"/>\n",
       "</a>\n",
       "</g>\n",
       "</g>\n",
       "<!-- WLD_PE(&#45;3) -->\n",
       "<g id=\"node3\" class=\"node\"><title>WLD_PE(-3)</title>\n",
       "<g id=\"a_node3\"><a xlink:title=\"Domestic price of energy, inclusive of net carbon tax, US$ per Mn kJ ,World\n",
       "FRML &lt;Z,EXO&gt; WLD_PE =( WLD_PE(-1)*(WLD_OILC(-1)/WLD_EC(-1)*WLD_POIL/WLD_POIL(-1)+WLD_GASC(-1)/WLD_EC(-1)*WLD_PG/WLD_PG(-1)+WLD_COALC(-1)/WLD_EC(-1)*WLD_PC/WLD_PC(-1)+WLD_RC(-1)/WLD_EC(-1)*WLD_PR/WLD_PR(-1)) + WLD_PE_A )*(1-WLD_PE_D)+WLD_PE_X*WLD_PE_D$\">\n",
       "<polygon fill=\"springgreen\" stroke=\"black\" points=\"523,-1355 0,-1355 0,-1319 523,-1319 523,-1355\"/>\n",
       "<text text-anchor=\"start\" x=\"6.5\" y=\"-1332.8\" font-family=\"Times New Roman,serif\" font-size=\"14.00\" fill=\"blue\">WLD_PE(-3):Domestic price of energy, inclusive of net carbon tax, US$ per Mn kJ ,World</text>\n",
       "</a>\n",
       "</g>\n",
       "</g>\n",
       "<!-- WLD_PE(&#45;3)&#45;&gt;USA_EC -->\n",
       "<g id=\"edge13\" class=\"edge\"><title>WLD_PE(-3)-&gt;USA_EC</title>\n",
       "<g id=\"a_edge13\"><a xlink:href=\"bogus\" xlink:title=\" WLD_PE(-3) -&gt; USA_EC Min. att. -10%  max: -0%\">\n",
       "<path fill=\"none\" stroke=\"black\" stroke-width=\"0.505923\" d=\"M510.591,-1318.93C514.866,-1316.17 519.009,-1313.2 523,-1310 706.18,-1163.14 721.567,-841.429 721.896,-744.311\"/>\n",
       "<polygon fill=\"black\" stroke=\"black\" stroke-width=\"0.505923\" points=\"725.396,-744.099 721.876,-734.106 718.396,-744.113 725.396,-744.099\"/>\n",
       "</a>\n",
       "</g>\n",
       "</g>\n",
       "<!-- USA_EC_A -->\n",
       "<g id=\"node4\" class=\"node\"><title>USA_EC_A</title>\n",
       "<g id=\"a_node4\"><a xlink:title=\"Add factor:Primary energy consumption, Exojoules ,USA\n",
       "Exogen\">\n",
       "<polygon fill=\"yellow\" stroke=\"black\" points=\"466,-1301 57,-1301 57,-1265 466,-1265 466,-1301\"/>\n",
       "<text text-anchor=\"start\" x=\"63.5\" y=\"-1278.8\" font-family=\"Times New Roman,serif\" font-size=\"14.00\" fill=\"blue\">USA_EC_A:Add factor:Primary energy consumption, Exojoules ,USA</text>\n",
       "</a>\n",
       "</g>\n",
       "</g>\n",
       "<!-- USA_EC_A&#45;&gt;USA_EC -->\n",
       "<g id=\"edge20\" class=\"edge\"><title>USA_EC_A-&gt;USA_EC</title>\n",
       "<g id=\"a_edge20\"><a xlink:href=\"bogus\" xlink:title=\"NA\">\n",
       "<path fill=\"none\" stroke=\"black\" stroke-width=\"0.5\" d=\"M466.149,-1284.63C486.674,-1278.33 506.13,-1269.12 523,-1256 691.781,-1124.76 717.09,-835.468 720.853,-744.178\"/>\n",
       "<polygon fill=\"black\" stroke=\"black\" stroke-width=\"0.5\" points=\"724.355,-744.169 721.213,-734.051 717.36,-743.92 724.355,-744.169\"/>\n",
       "</a>\n",
       "</g>\n",
       "</g>\n",
       "<!-- USA_YER_DOLLAR -->\n",
       "<g id=\"node5\" class=\"node\"><title>USA_YER_DOLLAR</title>\n",
       "<g id=\"a_node5\"><a xlink:title=\"USA_YER_DOLLAR\n",
       "FRML &lt;Z,EXO&gt; USA_YER_DOLLAR =( USA_DD_DOLLAR+USA_XTR_DOLLAR-USA_MTR_DOLLAR + USA_YER_DOLLAR_A )*(1-USA_YER_DOLLAR_D)+USA_YER_DOLLAR_X*USA_YER_DOLLAR_D$\">\n",
       "<polygon fill=\"#63b8ff\" stroke=\"black\" points=\"332.5,-1247 190.5,-1247 190.5,-1211 332.5,-1211 332.5,-1247\"/>\n",
       "<text text-anchor=\"start\" x=\"196.5\" y=\"-1224.8\" font-family=\"Times New Roman,serif\" font-size=\"14.00\" fill=\"blue\">USA_YER_DOLLAR:</text>\n",
       "</a>\n",
       "</g>\n",
       "</g>\n",
       "<!-- USA_YER_DOLLAR&#45;&gt;USA_EC -->\n",
       "<g id=\"edge25\" class=\"edge\"><title>USA_YER_DOLLAR-&gt;USA_EC</title>\n",
       "<g id=\"a_edge25\"><a xlink:href=\"bogus\" xlink:title=\" USA_YER_DOLLAR -&gt; USA_EC Min. att. -8%  max: 95%\">\n",
       "<path fill=\"none\" stroke=\"black\" stroke-width=\"4.7403\" d=\"M332.572,-1240.09C389.435,-1245.11 468.788,-1242.63 523,-1202 677.219,-1086.42 712.1,-830.191 719.569,-744.524\"/>\n",
       "<polygon fill=\"black\" stroke=\"black\" stroke-width=\"4.7403\" points=\"723.709,-744.795 720.385,-734.492 715.44,-744.123 723.709,-744.795\"/>\n",
       "</a>\n",
       "</g>\n",
       "</g>\n",
       "<!-- WLD_PE(&#45;1) -->\n",
       "<g id=\"node6\" class=\"node\"><title>WLD_PE(-1)</title>\n",
       "<g id=\"a_node6\"><a xlink:title=\"Domestic price of energy, inclusive of net carbon tax, US$ per Mn kJ ,World\n",
       "FRML &lt;Z,EXO&gt; WLD_PE =( WLD_PE(-1)*(WLD_OILC(-1)/WLD_EC(-1)*WLD_POIL/WLD_POIL(-1)+WLD_GASC(-1)/WLD_EC(-1)*WLD_PG/WLD_PG(-1)+WLD_COALC(-1)/WLD_EC(-1)*WLD_PC/WLD_PC(-1)+WLD_RC(-1)/WLD_EC(-1)*WLD_PR/WLD_PR(-1)) + WLD_PE_A )*(1-WLD_PE_D)+WLD_PE_X*WLD_PE_D$\">\n",
       "<polygon fill=\"springgreen\" stroke=\"black\" points=\"523,-1193 0,-1193 0,-1157 523,-1157 523,-1193\"/>\n",
       "<text text-anchor=\"start\" x=\"6.5\" y=\"-1170.8\" font-family=\"Times New Roman,serif\" font-size=\"14.00\" fill=\"blue\">WLD_PE(-1):Domestic price of energy, inclusive of net carbon tax, US$ per Mn kJ ,World</text>\n",
       "</a>\n",
       "</g>\n",
       "</g>\n",
       "<!-- WLD_PE(&#45;1)&#45;&gt;USA_EC -->\n",
       "<g id=\"edge5\" class=\"edge\"><title>WLD_PE(-1)-&gt;USA_EC</title>\n",
       "<g id=\"a_edge5\"><a xlink:href=\"bogus\" xlink:title=\" WLD_PE(-1) -&gt; USA_EC Min. att. -65%  max: -0%\">\n",
       "<path fill=\"none\" stroke=\"black\" stroke-width=\"3.23694\" d=\"M509.249,-1156.83C513.973,-1154.12 518.565,-1151.18 523,-1148 663.019,-1047.68 706.663,-823.85 718.013,-744.537\"/>\n",
       "<polygon fill=\"black\" stroke=\"black\" stroke-width=\"3.23694\" points=\"721.521,-744.714 719.407,-734.332 714.586,-743.766 721.521,-744.714\"/>\n",
       "</a>\n",
       "</g>\n",
       "</g>\n",
       "<!-- USA_EXR(&#45;4) -->\n",
       "<g id=\"node7\" class=\"node\"><title>USA_EXR(-4)</title>\n",
       "<g id=\"a_node7\"><a xlink:title=\"Exchange rate (national currency / US$) ,USA\n",
       "FRML &lt;Z,EXO&gt; USA_EXR =( 1 + USA_EXR_A )*(1-USA_EXR_D)+USA_EXR_X*USA_EXR_D$\">\n",
       "<polygon fill=\"springgreen\" stroke=\"black\" points=\"439.5,-1139 83.5,-1139 83.5,-1103 439.5,-1103 439.5,-1139\"/>\n",
       "<text text-anchor=\"start\" x=\"89.5\" y=\"-1116.8\" font-family=\"Times New Roman,serif\" font-size=\"14.00\" fill=\"blue\">USA_EXR(-4):Exchange rate (national currency / US$) ,USA</text>\n",
       "</a>\n",
       "</g>\n",
       "</g>\n",
       "<!-- USA_EXR(&#45;4)&#45;&gt;USA_EC -->\n",
       "<g id=\"edge15\" class=\"edge\"><title>USA_EXR(-4)-&gt;USA_EC</title>\n",
       "<g id=\"a_edge15\"><a xlink:href=\"bogus\" xlink:title=\"NA\">\n",
       "<path fill=\"none\" stroke=\"black\" stroke-width=\"0.5\" d=\"M439.602,-1126.14C469.247,-1120.62 498.341,-1110.7 523,-1094 649.095,-1008.61 700.646,-816.813 716.088,-744.403\"/>\n",
       "<polygon fill=\"black\" stroke=\"black\" stroke-width=\"0.5\" points=\"719.594,-744.727 718.185,-734.226 712.739,-743.314 719.594,-744.727\"/>\n",
       "</a>\n",
       "</g>\n",
       "</g>\n",
       "<!-- USA_HIC(&#45;2) -->\n",
       "<g id=\"node8\" class=\"node\"><title>USA_HIC(-2)</title>\n",
       "<g id=\"a_node8\"><a xlink:title=\"Consumer Price Index, Period Average, 2015 = 100 ,USA\n",
       "FRML &lt;Z,EXO&gt; USA_HIC =( USA_HIC(-1)*EXP(USA_HIC_A +  (0.5*((LOG(USA_HIC(-1)))-(LOG(USA_HIC(-2))))+0.1*((LOG(USA_MTD))-(LOG(USA_MTD(-1))))+0.4*(USA_INFT/100)+0.375*(USA_YER_DOLLAR/USA_YFT_DOLLAR-USA_YER_DOLLAR(-1)/USA_YFT_DOLLAR(-1))) ) )*(1-USA_HIC_D)+USA_HIC_X*USA_HIC_D$\">\n",
       "<polygon fill=\"springgreen\" stroke=\"black\" points=\"471.5,-1085 51.5,-1085 51.5,-1049 471.5,-1049 471.5,-1085\"/>\n",
       "<text text-anchor=\"start\" x=\"57.5\" y=\"-1062.8\" font-family=\"Times New Roman,serif\" font-size=\"14.00\" fill=\"blue\">USA_HIC(-2):Consumer Price Index, Period Average, 2015 = 100 ,USA</text>\n",
       "</a>\n",
       "</g>\n",
       "</g>\n",
       "<!-- USA_HIC(&#45;2)&#45;&gt;USA_EC -->\n",
       "<g id=\"edge21\" class=\"edge\"><title>USA_HIC(-2)-&gt;USA_EC</title>\n",
       "<g id=\"a_edge21\"><a xlink:href=\"bogus\" xlink:title=\" USA_HIC(-2) -&gt; USA_EC Min. att. -0%  max: 1%\">\n",
       "<path fill=\"none\" stroke=\"black\" stroke-width=\"0.5\" d=\"M471.72,-1062.88C489.825,-1057.38 507.227,-1049.94 523,-1040 635.614,-969.051 694.019,-808.675 713.711,-743.909\"/>\n",
       "<polygon fill=\"black\" stroke=\"black\" stroke-width=\"0.5\" points=\"717.158,-744.595 716.643,-734.013 710.446,-742.607 717.158,-744.595\"/>\n",
       "</a>\n",
       "</g>\n",
       "</g>\n",
       "<!-- USA_EXR -->\n",
       "<g id=\"node9\" class=\"node\"><title>USA_EXR</title>\n",
       "<g id=\"a_node9\"><a xlink:title=\"Exchange rate (national currency / US$) ,USA\n",
       "FRML &lt;Z,EXO&gt; USA_EXR =( 1 + USA_EXR_A )*(1-USA_EXR_D)+USA_EXR_X*USA_EXR_D$\">\n",
       "<polygon fill=\"#63b8ff\" stroke=\"black\" points=\"429.5,-1031 93.5,-1031 93.5,-995 429.5,-995 429.5,-1031\"/>\n",
       "<text text-anchor=\"start\" x=\"99.5\" y=\"-1008.8\" font-family=\"Times New Roman,serif\" font-size=\"14.00\" fill=\"blue\">USA_EXR:Exchange rate (national currency / US$) ,USA</text>\n",
       "</a>\n",
       "</g>\n",
       "</g>\n",
       "<!-- USA_EXR&#45;&gt;USA_EC -->\n",
       "<g id=\"edge4\" class=\"edge\"><title>USA_EXR-&gt;USA_EC</title>\n",
       "<g id=\"a_edge4\"><a xlink:href=\"bogus\" xlink:title=\"NA\">\n",
       "<path fill=\"none\" stroke=\"black\" stroke-width=\"0.5\" d=\"M429.77,-1016.26C462.244,-1011.33 494.887,-1002.1 523,-986 622.305,-929.134 686.192,-800.265 710.464,-743.605\"/>\n",
       "<polygon fill=\"black\" stroke=\"black\" stroke-width=\"0.5\" points=\"713.764,-744.786 714.407,-734.211 707.309,-742.077 713.764,-744.786\"/>\n",
       "</a>\n",
       "</g>\n",
       "</g>\n",
       "<!-- USA_EXR(&#45;3) -->\n",
       "<g id=\"node10\" class=\"node\"><title>USA_EXR(-3)</title>\n",
       "<g id=\"a_node10\"><a xlink:title=\"Exchange rate (national currency / US$) ,USA\n",
       "FRML &lt;Z,EXO&gt; USA_EXR =( 1 + USA_EXR_A )*(1-USA_EXR_D)+USA_EXR_X*USA_EXR_D$\">\n",
       "<polygon fill=\"springgreen\" stroke=\"black\" points=\"439.5,-977 83.5,-977 83.5,-941 439.5,-941 439.5,-977\"/>\n",
       "<text text-anchor=\"start\" x=\"89.5\" y=\"-954.8\" font-family=\"Times New Roman,serif\" font-size=\"14.00\" fill=\"blue\">USA_EXR(-3):Exchange rate (national currency / US$) ,USA</text>\n",
       "</a>\n",
       "</g>\n",
       "</g>\n",
       "<!-- USA_EXR(&#45;3)&#45;&gt;USA_EC -->\n",
       "<g id=\"edge9\" class=\"edge\"><title>USA_EXR(-3)-&gt;USA_EC</title>\n",
       "<g id=\"a_edge9\"><a xlink:href=\"bogus\" xlink:title=\"NA\">\n",
       "<path fill=\"none\" stroke=\"black\" stroke-width=\"0.5\" d=\"M439.788,-958.022C468.627,-953.02 497.402,-944.856 523,-932 609.402,-888.606 676.819,-790.785 705.893,-743.126\"/>\n",
       "<polygon fill=\"black\" stroke=\"black\" stroke-width=\"0.5\" points=\"709.048,-744.669 711.191,-734.293 703.045,-741.069 709.048,-744.669\"/>\n",
       "</a>\n",
       "</g>\n",
       "</g>\n",
       "<!-- USA_EC(&#45;1) -->\n",
       "<g id=\"node11\" class=\"node\"><title>USA_EC(-1)</title>\n",
       "<g id=\"a_node11\"><a xlink:title=\"Primary energy consumption, Exojoules ,USA\n",
       "FRML &lt;Z,EXO&gt; USA_EC =( USA_EC(-1)*EXP(USA_EC_A +  (0.5*((LOG(USA_YER_DOLLAR))-(LOG(USA_YER_DOLLAR(-1))))+0.25*((LOG(USA_YER_DOLLAR(-1)))-(LOG(USA_YER_DOLLAR(-2))))+0.15*((LOG(USA_YER_DOLLAR(-2)))-(LOG(USA_YER_DOLLAR(-3))))+0.1*((LOG(USA_YER_DOLLAR(-3)))-(LOG(USA_YER_DOLLAR(-4))))-0.5*0.146545463115108*((LOG(WLD_PE*USA_EXR/USA_HIC))-(LOG(WLD_PE(-1)*USA_EXR(-1)/USA_HIC(-1))))-0.25*0.146545463115108*((LOG(WLD_PE(-1)*USA_EXR(-1)/USA_HIC(-1)))-(LOG(WLD_PE(-2)*USA_EXR(-2)/USA_HIC(-2))))-0.15*0.146545463115108*((LOG(WLD_PE(-2)*USA_EXR(-2)/USA_HIC(-2)))-(LOG(WLD_PE(-3)*USA_EXR(-3)/USA_HIC(-3))))-0.1*0.146545463115108*((LOG(WLD_PE(-3)*USA_EXR(-3)/USA_HIC(-3)))-(LOG(WLD_PE(-4)*USA_EXR(-4)/USA_HIC(-4))))-(USA_EFF-USA_EFF(-1))) ) )*(1-USA_EC_D)+USA_EC_X*USA_EC_D$\">\n",
       "<polygon fill=\"springgreen\" stroke=\"black\" points=\"435,-923 88,-923 88,-887 435,-887 435,-923\"/>\n",
       "<text text-anchor=\"start\" x=\"94.5\" y=\"-900.8\" font-family=\"Times New Roman,serif\" font-size=\"14.00\" fill=\"blue\">USA_EC(-1):Primary energy consumption, Exojoules ,USA</text>\n",
       "</a>\n",
       "</g>\n",
       "</g>\n",
       "<!-- USA_EC(&#45;1)&#45;&gt;USA_EC -->\n",
       "<g id=\"edge6\" class=\"edge\"><title>USA_EC(-1)-&gt;USA_EC</title>\n",
       "<g id=\"a_edge6\"><a xlink:href=\"bogus\" xlink:title=\" USA_EC(-1) -&gt; USA_EC Min. att. -0%  max: 143%\">\n",
       "<path fill=\"none\" stroke=\"black\" stroke-width=\"5\" d=\"M435.226,-901.332C465.25,-896.722 495.604,-889.386 523,-878 597.084,-847.21 665.307,-779.395 699.155,-742.008\"/>\n",
       "<polygon fill=\"black\" stroke=\"black\" stroke-width=\"5\" points=\"702.839,-744.45 706.233,-734.076 696.31,-738.624 702.839,-744.45\"/>\n",
       "</a>\n",
       "</g>\n",
       "</g>\n",
       "<!-- USA_HIC -->\n",
       "<g id=\"node12\" class=\"node\"><title>USA_HIC</title>\n",
       "<g id=\"a_node12\"><a xlink:title=\"Consumer Price Index, Period Average, 2015 = 100 ,USA\n",
       "FRML &lt;Z,EXO&gt; USA_HIC =( USA_HIC(-1)*EXP(USA_HIC_A +  (0.5*((LOG(USA_HIC(-1)))-(LOG(USA_HIC(-2))))+0.1*((LOG(USA_MTD))-(LOG(USA_MTD(-1))))+0.4*(USA_INFT/100)+0.375*(USA_YER_DOLLAR/USA_YFT_DOLLAR-USA_YER_DOLLAR(-1)/USA_YFT_DOLLAR(-1))) ) )*(1-USA_HIC_D)+USA_HIC_X*USA_HIC_D$\">\n",
       "<polygon fill=\"#63b8ff\" stroke=\"black\" points=\"461.5,-869 61.5,-869 61.5,-833 461.5,-833 461.5,-869\"/>\n",
       "<text text-anchor=\"start\" x=\"67.5\" y=\"-846.8\" font-family=\"Times New Roman,serif\" font-size=\"14.00\" fill=\"blue\">USA_HIC:Consumer Price Index, Period Average, 2015 = 100 ,USA</text>\n",
       "</a>\n",
       "</g>\n",
       "</g>\n",
       "<!-- USA_HIC&#45;&gt;USA_EC -->\n",
       "<g id=\"edge17\" class=\"edge\"><title>USA_HIC-&gt;USA_EC</title>\n",
       "<g id=\"a_edge17\"><a xlink:href=\"bogus\" xlink:title=\" USA_HIC -&gt; USA_EC Min. att. -3%  max: 5%\">\n",
       "<path fill=\"none\" stroke=\"black\" stroke-width=\"0.5\" d=\"M461.507,-838.626C482.507,-834.88 503.349,-830.095 523,-824 584.748,-804.846 649.251,-765.6 687.376,-740.066\"/>\n",
       "<polygon fill=\"black\" stroke=\"black\" stroke-width=\"0.5\" points=\"689.708,-742.714 696.022,-734.207 685.781,-736.92 689.708,-742.714\"/>\n",
       "</a>\n",
       "</g>\n",
       "</g>\n",
       "<!-- USA_HIC(&#45;3) -->\n",
       "<g id=\"node13\" class=\"node\"><title>USA_HIC(-3)</title>\n",
       "<g id=\"a_node13\"><a xlink:title=\"Consumer Price Index, Period Average, 2015 = 100 ,USA\n",
       "FRML &lt;Z,EXO&gt; USA_HIC =( USA_HIC(-1)*EXP(USA_HIC_A +  (0.5*((LOG(USA_HIC(-1)))-(LOG(USA_HIC(-2))))+0.1*((LOG(USA_MTD))-(LOG(USA_MTD(-1))))+0.4*(USA_INFT/100)+0.375*(USA_YER_DOLLAR/USA_YFT_DOLLAR-USA_YER_DOLLAR(-1)/USA_YFT_DOLLAR(-1))) ) )*(1-USA_HIC_D)+USA_HIC_X*USA_HIC_D$\">\n",
       "<polygon fill=\"springgreen\" stroke=\"black\" points=\"471.5,-815 51.5,-815 51.5,-779 471.5,-779 471.5,-815\"/>\n",
       "<text text-anchor=\"start\" x=\"57.5\" y=\"-792.8\" font-family=\"Times New Roman,serif\" font-size=\"14.00\" fill=\"blue\">USA_HIC(-3):Consumer Price Index, Period Average, 2015 = 100 ,USA</text>\n",
       "</a>\n",
       "</g>\n",
       "</g>\n",
       "<!-- USA_HIC(&#45;3)&#45;&gt;USA_EC -->\n",
       "<g id=\"edge10\" class=\"edge\"><title>USA_HIC(-3)-&gt;USA_EC</title>\n",
       "<g id=\"a_edge10\"><a xlink:href=\"bogus\" xlink:title=\" USA_HIC(-3) -&gt; USA_EC Min. att. -0%  max: 0%\">\n",
       "<path fill=\"none\" stroke=\"black\" stroke-width=\"0.5\" d=\"M467.021,-778.993C486.003,-776.362 504.898,-773.377 523,-770 567.475,-761.702 616.541,-748.394 654.763,-737.066\"/>\n",
       "<polygon fill=\"black\" stroke=\"black\" stroke-width=\"0.5\" points=\"656.161,-740.3 664.739,-734.081 654.155,-733.594 656.161,-740.3\"/>\n",
       "</a>\n",
       "</g>\n",
       "</g>\n",
       "<!-- USA_YER_DOLLAR(&#45;3) -->\n",
       "<g id=\"node14\" class=\"node\"><title>USA_YER_DOLLAR(-3)</title>\n",
       "<g id=\"a_node14\"><a xlink:title=\"USA_YER_DOLLAR\n",
       "FRML &lt;Z,EXO&gt; USA_YER_DOLLAR =( USA_DD_DOLLAR+USA_XTR_DOLLAR-USA_MTR_DOLLAR + USA_YER_DOLLAR_A )*(1-USA_YER_DOLLAR_D)+USA_YER_DOLLAR_X*USA_YER_DOLLAR_D$\">\n",
       "<polygon fill=\"springgreen\" stroke=\"black\" points=\"406,-761 117,-761 117,-725 406,-725 406,-761\"/>\n",
       "<text text-anchor=\"start\" x=\"123.5\" y=\"-738.8\" font-family=\"Times New Roman,serif\" font-size=\"14.00\" fill=\"blue\">USA_YER_DOLLAR(-3):USA_YER_DOLLAR</text>\n",
       "</a>\n",
       "</g>\n",
       "</g>\n",
       "<!-- USA_YER_DOLLAR(&#45;3)&#45;&gt;USA_EC -->\n",
       "<g id=\"edge14\" class=\"edge\"><title>USA_YER_DOLLAR(-3)-&gt;USA_EC</title>\n",
       "<g id=\"a_edge14\"><a xlink:href=\"bogus\" xlink:title=\" USA_YER_DOLLAR(-3) -&gt; USA_EC Min. att. -1%  max: 1%\">\n",
       "<path fill=\"none\" stroke=\"black\" stroke-width=\"0.5\" d=\"M406.157,-734.55C451.236,-731.898 501.479,-728.942 548.374,-726.184\"/>\n",
       "<polygon fill=\"black\" stroke=\"black\" stroke-width=\"0.5\" points=\"548.862,-729.661 558.639,-725.58 548.451,-722.673 548.862,-729.661\"/>\n",
       "</a>\n",
       "</g>\n",
       "</g>\n",
       "<!-- USA_EXR(&#45;2) -->\n",
       "<g id=\"node15\" class=\"node\"><title>USA_EXR(-2)</title>\n",
       "<g id=\"a_node15\"><a xlink:title=\"Exchange rate (national currency / US$) ,USA\n",
       "FRML &lt;Z,EXO&gt; USA_EXR =( 1 + USA_EXR_A )*(1-USA_EXR_D)+USA_EXR_X*USA_EXR_D$\">\n",
       "<polygon fill=\"springgreen\" stroke=\"black\" points=\"439.5,-707 83.5,-707 83.5,-671 439.5,-671 439.5,-707\"/>\n",
       "<text text-anchor=\"start\" x=\"89.5\" y=\"-684.8\" font-family=\"Times New Roman,serif\" font-size=\"14.00\" fill=\"blue\">USA_EXR(-2):Exchange rate (national currency / US$) ,USA</text>\n",
       "</a>\n",
       "</g>\n",
       "</g>\n",
       "<!-- USA_EXR(&#45;2)&#45;&gt;USA_EC -->\n",
       "<g id=\"edge2\" class=\"edge\"><title>USA_EXR(-2)-&gt;USA_EC</title>\n",
       "<g id=\"a_edge2\"><a xlink:href=\"bogus\" xlink:title=\"NA\">\n",
       "<path fill=\"none\" stroke=\"black\" stroke-width=\"0.5\" d=\"M439.633,-699.42C475.509,-701.53 513.189,-703.746 548.906,-705.847\"/>\n",
       "<polygon fill=\"black\" stroke=\"black\" stroke-width=\"0.5\" points=\"548.737,-709.343 558.925,-706.437 549.148,-702.356 548.737,-709.343\"/>\n",
       "</a>\n",
       "</g>\n",
       "</g>\n",
       "<!-- WLD_PE -->\n",
       "<g id=\"node16\" class=\"node\"><title>WLD_PE</title>\n",
       "<g id=\"a_node16\"><a xlink:title=\"Domestic price of energy, inclusive of net carbon tax, US$ per Mn kJ ,World\n",
       "FRML &lt;Z,EXO&gt; WLD_PE =( WLD_PE(-1)*(WLD_OILC(-1)/WLD_EC(-1)*WLD_POIL/WLD_POIL(-1)+WLD_GASC(-1)/WLD_EC(-1)*WLD_PG/WLD_PG(-1)+WLD_COALC(-1)/WLD_EC(-1)*WLD_PC/WLD_PC(-1)+WLD_RC(-1)/WLD_EC(-1)*WLD_PR/WLD_PR(-1)) + WLD_PE_A )*(1-WLD_PE_D)+WLD_PE_X*WLD_PE_D$\">\n",
       "<polygon fill=\"#63b8ff\" stroke=\"black\" points=\"512.5,-653 10.5,-653 10.5,-617 512.5,-617 512.5,-653\"/>\n",
       "<text text-anchor=\"start\" x=\"16.5\" y=\"-630.8\" font-family=\"Times New Roman,serif\" font-size=\"14.00\" fill=\"blue\">WLD_PE:Domestic price of energy, inclusive of net carbon tax, US$ per Mn kJ ,World</text>\n",
       "</a>\n",
       "</g>\n",
       "</g>\n",
       "<!-- WLD_PE&#45;&gt;USA_EC -->\n",
       "<g id=\"edge8\" class=\"edge\"><title>WLD_PE-&gt;USA_EC</title>\n",
       "<g id=\"a_edge8\"><a xlink:href=\"bogus\" xlink:title=\" WLD_PE -&gt; USA_EC Min. att. -0%  max: 91%\">\n",
       "<path fill=\"none\" stroke=\"black\" stroke-width=\"4.53994\" d=\"M467.021,-653.007C486.003,-655.638 504.898,-658.623 523,-662 567.475,-670.298 616.541,-683.606 654.763,-694.934\"/>\n",
       "<polygon fill=\"black\" stroke=\"black\" stroke-width=\"4.53994\" points=\"654.019,-698.859 664.739,-697.919 656.297,-691.247 654.019,-698.859\"/>\n",
       "</a>\n",
       "</g>\n",
       "</g>\n",
       "<!-- USA_YER_DOLLAR(&#45;4) -->\n",
       "<g id=\"node17\" class=\"node\"><title>USA_YER_DOLLAR(-4)</title>\n",
       "<g id=\"a_node17\"><a xlink:title=\"USA_YER_DOLLAR\n",
       "FRML &lt;Z,EXO&gt; USA_YER_DOLLAR =( USA_DD_DOLLAR+USA_XTR_DOLLAR-USA_MTR_DOLLAR + USA_YER_DOLLAR_A )*(1-USA_YER_DOLLAR_D)+USA_YER_DOLLAR_X*USA_YER_DOLLAR_D$\">\n",
       "<polygon fill=\"springgreen\" stroke=\"black\" points=\"406,-599 117,-599 117,-563 406,-563 406,-599\"/>\n",
       "<text text-anchor=\"start\" x=\"123.5\" y=\"-576.8\" font-family=\"Times New Roman,serif\" font-size=\"14.00\" fill=\"blue\">USA_YER_DOLLAR(-4):USA_YER_DOLLAR</text>\n",
       "</a>\n",
       "</g>\n",
       "</g>\n",
       "<!-- USA_YER_DOLLAR(&#45;4)&#45;&gt;USA_EC -->\n",
       "<g id=\"edge24\" class=\"edge\"><title>USA_YER_DOLLAR(-4)-&gt;USA_EC</title>\n",
       "<g id=\"a_edge24\"><a xlink:href=\"bogus\" xlink:title=\" USA_YER_DOLLAR(-4) -&gt; USA_EC Min. att. -2%  max: 1%\">\n",
       "<path fill=\"none\" stroke=\"black\" stroke-width=\"0.5\" d=\"M406.166,-585.685C444.726,-589.687 485.979,-596.516 523,-608 584.748,-627.154 649.251,-666.4 687.376,-691.934\"/>\n",
       "<polygon fill=\"black\" stroke=\"black\" stroke-width=\"0.5\" points=\"685.781,-695.08 696.022,-697.793 689.708,-689.286 685.781,-695.08\"/>\n",
       "</a>\n",
       "</g>\n",
       "</g>\n",
       "<!-- USA_HIC(&#45;1) -->\n",
       "<g id=\"node18\" class=\"node\"><title>USA_HIC(-1)</title>\n",
       "<g id=\"a_node18\"><a xlink:title=\"Consumer Price Index, Period Average, 2015 = 100 ,USA\n",
       "FRML &lt;Z,EXO&gt; USA_HIC =( USA_HIC(-1)*EXP(USA_HIC_A +  (0.5*((LOG(USA_HIC(-1)))-(LOG(USA_HIC(-2))))+0.1*((LOG(USA_MTD))-(LOG(USA_MTD(-1))))+0.4*(USA_INFT/100)+0.375*(USA_YER_DOLLAR/USA_YFT_DOLLAR-USA_YER_DOLLAR(-1)/USA_YFT_DOLLAR(-1))) ) )*(1-USA_HIC_D)+USA_HIC_X*USA_HIC_D$\">\n",
       "<polygon fill=\"springgreen\" stroke=\"black\" points=\"471.5,-545 51.5,-545 51.5,-509 471.5,-509 471.5,-545\"/>\n",
       "<text text-anchor=\"start\" x=\"57.5\" y=\"-522.8\" font-family=\"Times New Roman,serif\" font-size=\"14.00\" fill=\"blue\">USA_HIC(-1):Consumer Price Index, Period Average, 2015 = 100 ,USA</text>\n",
       "</a>\n",
       "</g>\n",
       "</g>\n",
       "<!-- USA_HIC(&#45;1)&#45;&gt;USA_EC -->\n",
       "<g id=\"edge26\" class=\"edge\"><title>USA_HIC(-1)-&gt;USA_EC</title>\n",
       "<g id=\"a_edge26\"><a xlink:href=\"bogus\" xlink:title=\" USA_HIC(-1) -&gt; USA_EC Min. att. -1%  max: 2%\">\n",
       "<path fill=\"none\" stroke=\"black\" stroke-width=\"0.5\" d=\"M471.75,-537.722C489.417,-541.905 506.73,-547.238 523,-554 597.084,-584.79 665.307,-652.605 699.155,-689.992\"/>\n",
       "<polygon fill=\"black\" stroke=\"black\" stroke-width=\"0.5\" points=\"696.963,-692.793 706.233,-697.924 702.186,-688.132 696.963,-692.793\"/>\n",
       "</a>\n",
       "</g>\n",
       "</g>\n",
       "<!-- WLD_PE(&#45;2) -->\n",
       "<g id=\"node19\" class=\"node\"><title>WLD_PE(-2)</title>\n",
       "<g id=\"a_node19\"><a xlink:title=\"Domestic price of energy, inclusive of net carbon tax, US$ per Mn kJ ,World\n",
       "FRML &lt;Z,EXO&gt; WLD_PE =( WLD_PE(-1)*(WLD_OILC(-1)/WLD_EC(-1)*WLD_POIL/WLD_POIL(-1)+WLD_GASC(-1)/WLD_EC(-1)*WLD_PG/WLD_PG(-1)+WLD_COALC(-1)/WLD_EC(-1)*WLD_PC/WLD_PC(-1)+WLD_RC(-1)/WLD_EC(-1)*WLD_PR/WLD_PR(-1)) + WLD_PE_A )*(1-WLD_PE_D)+WLD_PE_X*WLD_PE_D$\">\n",
       "<polygon fill=\"springgreen\" stroke=\"black\" points=\"523,-491 0,-491 0,-455 523,-455 523,-491\"/>\n",
       "<text text-anchor=\"start\" x=\"6.5\" y=\"-468.8\" font-family=\"Times New Roman,serif\" font-size=\"14.00\" fill=\"blue\">WLD_PE(-2):Domestic price of energy, inclusive of net carbon tax, US$ per Mn kJ ,World</text>\n",
       "</a>\n",
       "</g>\n",
       "</g>\n",
       "<!-- WLD_PE(&#45;2)&#45;&gt;USA_EC -->\n",
       "<g id=\"edge22\" class=\"edge\"><title>WLD_PE(-2)-&gt;USA_EC</title>\n",
       "<g id=\"a_edge22\"><a xlink:href=\"bogus\" xlink:title=\" WLD_PE(-2) -&gt; USA_EC Min. att. -16%  max: -0%\">\n",
       "<path fill=\"none\" stroke=\"black\" stroke-width=\"0.790907\" d=\"M502.933,-491.088C509.793,-493.773 516.499,-496.735 523,-500 609.402,-543.394 676.819,-641.215 705.893,-688.874\"/>\n",
       "<polygon fill=\"black\" stroke=\"black\" stroke-width=\"0.790907\" points=\"703.045,-690.931 711.191,-697.707 709.048,-687.331 703.045,-690.931\"/>\n",
       "</a>\n",
       "</g>\n",
       "</g>\n",
       "<!-- USA_YER_DOLLAR(&#45;1) -->\n",
       "<g id=\"node20\" class=\"node\"><title>USA_YER_DOLLAR(-1)</title>\n",
       "<g id=\"a_node20\"><a xlink:title=\"USA_YER_DOLLAR\n",
       "FRML &lt;Z,EXO&gt; USA_YER_DOLLAR =( USA_DD_DOLLAR+USA_XTR_DOLLAR-USA_MTR_DOLLAR + USA_YER_DOLLAR_A )*(1-USA_YER_DOLLAR_D)+USA_YER_DOLLAR_X*USA_YER_DOLLAR_D$\">\n",
       "<polygon fill=\"springgreen\" stroke=\"black\" points=\"406,-437 117,-437 117,-401 406,-401 406,-437\"/>\n",
       "<text text-anchor=\"start\" x=\"123.5\" y=\"-414.8\" font-family=\"Times New Roman,serif\" font-size=\"14.00\" fill=\"blue\">USA_YER_DOLLAR(-1):USA_YER_DOLLAR</text>\n",
       "</a>\n",
       "</g>\n",
       "</g>\n",
       "<!-- USA_YER_DOLLAR(&#45;1)&#45;&gt;USA_EC -->\n",
       "<g id=\"edge7\" class=\"edge\"><title>USA_YER_DOLLAR(-1)-&gt;USA_EC</title>\n",
       "<g id=\"a_edge7\"><a xlink:href=\"bogus\" xlink:title=\" USA_YER_DOLLAR(-1) -&gt; USA_EC Min. att. -6%  max: 4%\">\n",
       "<path fill=\"none\" stroke=\"black\" stroke-width=\"0.5\" d=\"M406.281,-412.869C446.173,-416.606 488.081,-426.004 523,-446 622.305,-502.866 686.192,-631.735 710.464,-688.395\"/>\n",
       "<polygon fill=\"black\" stroke=\"black\" stroke-width=\"0.5\" points=\"707.309,-689.923 714.407,-697.789 713.764,-687.214 707.309,-689.923\"/>\n",
       "</a>\n",
       "</g>\n",
       "</g>\n",
       "<!-- USA_EXR(&#45;1) -->\n",
       "<g id=\"node21\" class=\"node\"><title>USA_EXR(-1)</title>\n",
       "<g id=\"a_node21\"><a xlink:title=\"Exchange rate (national currency / US$) ,USA\n",
       "FRML &lt;Z,EXO&gt; USA_EXR =( 1 + USA_EXR_A )*(1-USA_EXR_D)+USA_EXR_X*USA_EXR_D$\">\n",
       "<polygon fill=\"springgreen\" stroke=\"black\" points=\"439.5,-383 83.5,-383 83.5,-347 439.5,-347 439.5,-383\"/>\n",
       "<text text-anchor=\"start\" x=\"89.5\" y=\"-360.8\" font-family=\"Times New Roman,serif\" font-size=\"14.00\" fill=\"blue\">USA_EXR(-1):Exchange rate (national currency / US$) ,USA</text>\n",
       "</a>\n",
       "</g>\n",
       "</g>\n",
       "<!-- USA_EXR(&#45;1)&#45;&gt;USA_EC -->\n",
       "<g id=\"edge16\" class=\"edge\"><title>USA_EXR(-1)-&gt;USA_EC</title>\n",
       "<g id=\"a_edge16\"><a xlink:href=\"bogus\" xlink:title=\"NA\">\n",
       "<path fill=\"none\" stroke=\"black\" stroke-width=\"0.5\" d=\"M439.729,-361.416C469.117,-366.825 498.091,-376.307 523,-392 635.614,-462.949 694.019,-623.325 713.711,-688.091\"/>\n",
       "<polygon fill=\"black\" stroke=\"black\" stroke-width=\"0.5\" points=\"710.446,-689.393 716.643,-697.987 717.158,-687.405 710.446,-689.393\"/>\n",
       "</a>\n",
       "</g>\n",
       "</g>\n",
       "<!-- USA_EC_X -->\n",
       "<g id=\"node22\" class=\"node\"><title>USA_EC_X</title>\n",
       "<g id=\"a_node22\"><a xlink:title=\"Exo value:Primary energy consumption, Exojoules ,USA\n",
       "Exogen\">\n",
       "<polygon fill=\"yellow\" stroke=\"black\" points=\"462.5,-329 60.5,-329 60.5,-293 462.5,-293 462.5,-329\"/>\n",
       "<text text-anchor=\"start\" x=\"66.5\" y=\"-306.8\" font-family=\"Times New Roman,serif\" font-size=\"14.00\" fill=\"blue\">USA_EC_X:Exo value:Primary energy consumption, Exojoules ,USA</text>\n",
       "</a>\n",
       "</g>\n",
       "</g>\n",
       "<!-- USA_EC_X&#45;&gt;USA_EC -->\n",
       "<g id=\"edge11\" class=\"edge\"><title>USA_EC_X-&gt;USA_EC</title>\n",
       "<g id=\"a_edge11\"><a xlink:href=\"bogus\" xlink:title=\"NA\">\n",
       "<path fill=\"none\" stroke=\"black\" stroke-width=\"0.5\" d=\"M462.505,-311.089C484.05,-316.986 504.741,-325.635 523,-338 649.095,-423.392 700.646,-615.187 716.088,-687.597\"/>\n",
       "<polygon fill=\"black\" stroke=\"black\" stroke-width=\"0.5\" points=\"712.739,-688.686 718.185,-697.774 719.594,-687.273 712.739,-688.686\"/>\n",
       "</a>\n",
       "</g>\n",
       "</g>\n",
       "<!-- USA_EFF -->\n",
       "<g id=\"node23\" class=\"node\"><title>USA_EFF</title>\n",
       "<g id=\"a_node23\"><a xlink:title=\"USA_EFF\n",
       "Exogen\">\n",
       "<polygon fill=\"yellow\" stroke=\"black\" points=\"299.5,-275 223.5,-275 223.5,-239 299.5,-239 299.5,-275\"/>\n",
       "<text text-anchor=\"start\" x=\"229.5\" y=\"-252.8\" font-family=\"Times New Roman,serif\" font-size=\"14.00\" fill=\"blue\">USA_EFF:</text>\n",
       "</a>\n",
       "</g>\n",
       "</g>\n",
       "<!-- USA_EFF&#45;&gt;USA_EC -->\n",
       "<g id=\"edge12\" class=\"edge\"><title>USA_EFF-&gt;USA_EC</title>\n",
       "<g id=\"a_edge12\"><a xlink:href=\"bogus\" xlink:title=\"NA\">\n",
       "<path fill=\"none\" stroke=\"black\" stroke-width=\"0.5\" d=\"M299.701,-250.188C354.145,-242.384 456.285,-236.203 523,-284 663.019,-384.316 706.663,-608.15 718.013,-687.463\"/>\n",
       "<polygon fill=\"black\" stroke=\"black\" stroke-width=\"0.5\" points=\"714.586,-688.234 719.407,-697.668 721.521,-687.286 714.586,-688.234\"/>\n",
       "</a>\n",
       "</g>\n",
       "</g>\n",
       "<!-- USA_YER_DOLLAR(&#45;2) -->\n",
       "<g id=\"node24\" class=\"node\"><title>USA_YER_DOLLAR(-2)</title>\n",
       "<g id=\"a_node24\"><a xlink:title=\"USA_YER_DOLLAR\n",
       "FRML &lt;Z,EXO&gt; USA_YER_DOLLAR =( USA_DD_DOLLAR+USA_XTR_DOLLAR-USA_MTR_DOLLAR + USA_YER_DOLLAR_A )*(1-USA_YER_DOLLAR_D)+USA_YER_DOLLAR_X*USA_YER_DOLLAR_D$\">\n",
       "<polygon fill=\"springgreen\" stroke=\"black\" points=\"406,-221 117,-221 117,-185 406,-185 406,-221\"/>\n",
       "<text text-anchor=\"start\" x=\"123.5\" y=\"-198.8\" font-family=\"Times New Roman,serif\" font-size=\"14.00\" fill=\"blue\">USA_YER_DOLLAR(-2):USA_YER_DOLLAR</text>\n",
       "</a>\n",
       "</g>\n",
       "</g>\n",
       "<!-- USA_YER_DOLLAR(&#45;2)&#45;&gt;USA_EC -->\n",
       "<g id=\"edge3\" class=\"edge\"><title>USA_YER_DOLLAR(-2)-&gt;USA_EC</title>\n",
       "<g id=\"a_edge3\"><a xlink:href=\"bogus\" xlink:title=\" USA_YER_DOLLAR(-2) -&gt; USA_EC Min. att. -2%  max: 1%\">\n",
       "<path fill=\"none\" stroke=\"black\" stroke-width=\"0.5\" d=\"M406.052,-191.238C447.17,-194.543 489.8,-205.118 523,-230 677.219,-345.582 712.1,-601.809 719.569,-687.476\"/>\n",
       "<polygon fill=\"black\" stroke=\"black\" stroke-width=\"0.5\" points=\"716.086,-687.824 720.385,-697.508 723.063,-687.257 716.086,-687.824\"/>\n",
       "</a>\n",
       "</g>\n",
       "</g>\n",
       "<!-- USA_HIC(&#45;4) -->\n",
       "<g id=\"node25\" class=\"node\"><title>USA_HIC(-4)</title>\n",
       "<g id=\"a_node25\"><a xlink:title=\"Consumer Price Index, Period Average, 2015 = 100 ,USA\n",
       "FRML &lt;Z,EXO&gt; USA_HIC =( USA_HIC(-1)*EXP(USA_HIC_A +  (0.5*((LOG(USA_HIC(-1)))-(LOG(USA_HIC(-2))))+0.1*((LOG(USA_MTD))-(LOG(USA_MTD(-1))))+0.4*(USA_INFT/100)+0.375*(USA_YER_DOLLAR/USA_YFT_DOLLAR-USA_YER_DOLLAR(-1)/USA_YFT_DOLLAR(-1))) ) )*(1-USA_HIC_D)+USA_HIC_X*USA_HIC_D$\">\n",
       "<polygon fill=\"springgreen\" stroke=\"black\" points=\"471.5,-167 51.5,-167 51.5,-131 471.5,-131 471.5,-167\"/>\n",
       "<text text-anchor=\"start\" x=\"57.5\" y=\"-144.8\" font-family=\"Times New Roman,serif\" font-size=\"14.00\" fill=\"blue\">USA_HIC(-4):Consumer Price Index, Period Average, 2015 = 100 ,USA</text>\n",
       "</a>\n",
       "</g>\n",
       "</g>\n",
       "<!-- USA_HIC(&#45;4)&#45;&gt;USA_EC -->\n",
       "<g id=\"edge23\" class=\"edge\"><title>USA_HIC(-4)-&gt;USA_EC</title>\n",
       "<g id=\"a_edge23\"><a xlink:href=\"bogus\" xlink:title=\" USA_HIC(-4) -&gt; USA_EC Min. att. -0%  max: 1%\">\n",
       "<path fill=\"none\" stroke=\"black\" stroke-width=\"0.5\" d=\"M471.69,-149.155C490.171,-155.369 507.655,-164.069 523,-176 691.781,-307.237 717.09,-596.532 720.853,-687.822\"/>\n",
       "<polygon fill=\"black\" stroke=\"black\" stroke-width=\"0.5\" points=\"717.36,-688.08 721.213,-697.949 724.355,-687.831 717.36,-688.08\"/>\n",
       "</a>\n",
       "</g>\n",
       "</g>\n",
       "<!-- USA_EFF(&#45;1) -->\n",
       "<g id=\"node26\" class=\"node\"><title>USA_EFF(-1)</title>\n",
       "<g id=\"a_node26\"><a xlink:title=\"USA_EFF\n",
       "Exogen\">\n",
       "<polygon fill=\"#c0ff3e\" stroke=\"black\" points=\"339.5,-113 183.5,-113 183.5,-77 339.5,-77 339.5,-113\"/>\n",
       "<text text-anchor=\"start\" x=\"189.5\" y=\"-90.8\" font-family=\"Times New Roman,serif\" font-size=\"14.00\" fill=\"blue\">USA_EFF(-1):USA_EFF</text>\n",
       "</a>\n",
       "</g>\n",
       "</g>\n",
       "<!-- USA_EFF(&#45;1)&#45;&gt;USA_EC -->\n",
       "<g id=\"edge18\" class=\"edge\"><title>USA_EFF(-1)-&gt;USA_EC</title>\n",
       "<g id=\"a_edge18\"><a xlink:href=\"bogus\" xlink:title=\"NA\">\n",
       "<path fill=\"none\" stroke=\"black\" stroke-width=\"0.5\" d=\"M339.714,-82.415C396.406,-77.6461 472.094,-81.1877 523,-122 706.18,-268.857 721.567,-590.571 721.896,-687.689\"/>\n",
       "<polygon fill=\"black\" stroke=\"black\" stroke-width=\"0.5\" points=\"718.396,-687.887 721.876,-697.894 725.396,-687.901 718.396,-687.887\"/>\n",
       "</a>\n",
       "</g>\n",
       "</g>\n",
       "<!-- USA_EC_D -->\n",
       "<g id=\"node27\" class=\"node\"><title>USA_EC_D</title>\n",
       "<g id=\"a_node27\"><a xlink:title=\"Exo dummy:Primary energy consumption, Exojoules ,USA\n",
       "Exogen\">\n",
       "<polygon fill=\"yellow\" stroke=\"black\" points=\"469,-59 54,-59 54,-23 469,-23 469,-59\"/>\n",
       "<text text-anchor=\"start\" x=\"60.5\" y=\"-36.8\" font-family=\"Times New Roman,serif\" font-size=\"14.00\" fill=\"blue\">USA_EC_D:Exo dummy:Primary energy consumption, Exojoules ,USA</text>\n",
       "</a>\n",
       "</g>\n",
       "</g>\n",
       "<!-- USA_EC_D&#45;&gt;USA_EC -->\n",
       "<g id=\"edge19\" class=\"edge\"><title>USA_EC_D-&gt;USA_EC</title>\n",
       "<g id=\"a_edge19\"><a xlink:href=\"bogus\" xlink:title=\"NA\">\n",
       "<path fill=\"none\" stroke=\"black\" stroke-width=\"0.5\" d=\"M469.156,-39.1917C488.701,-45.6351 507.111,-54.9289 523,-68 623.458,-150.643 698.467,-573.959 717.043,-687.788\"/>\n",
       "<polygon fill=\"black\" stroke=\"black\" stroke-width=\"0.5\" points=\"713.613,-688.502 718.664,-697.815 720.524,-687.385 713.613,-688.502\"/>\n",
       "</a>\n",
       "</g>\n",
       "</g>\n",
       "</g>\n",
       "</svg>"
      ],
      "text/plain": [
       "<IPython.core.display.SVG object>"
      ]
     },
     "metadata": {},
     "output_type": "display_data"
    }
   ],
   "source": [
    "masia.USA_EC.tracepre(HR=0)"
   ]
  },
  {
   "cell_type": "markdown",
   "id": "cc4c17c9",
   "metadata": {},
   "source": [
    "# Inversion of the model"
   ]
  },
  {
   "cell_type": "code",
   "execution_count": 69,
   "id": "9bbeefde",
   "metadata": {},
   "outputs": [
    {
     "data": {
      "text/plain": [
       "[['AFG_GCARBR_A',\n",
       "  'ARM_GCARBR_A',\n",
       "  'AUS_GCARBR_A',\n",
       "  'AZE_GCARBR_A',\n",
       "  'BGD_GCARBR_A',\n",
       "  'BTN_GCARBR_A',\n",
       "  'BRN_GCARBR_A',\n",
       "  'KHM_GCARBR_A',\n",
       "  'CHN_GCARBR_A',\n",
       "  'FJI_GCARBR_A',\n",
       "  'GEO_GCARBR_A',\n",
       "  'HKG_GCARBR_A',\n",
       "  'IND_GCARBR_A',\n",
       "  'IDN_GCARBR_A',\n",
       "  'IRN_GCARBR_A',\n",
       "  'JPN_GCARBR_A',\n",
       "  'KAZ_GCARBR_A',\n",
       "  'KIR_GCARBR_A',\n",
       "  'KGZ_GCARBR_A',\n",
       "  'LAO_GCARBR_A',\n",
       "  'MAC_GCARBR_A',\n",
       "  'MYS_GCARBR_A',\n",
       "  'MDV_GCARBR_A',\n",
       "  'FSM_GCARBR_A',\n",
       "  'MNG_GCARBR_A',\n",
       "  'MMR_GCARBR_A',\n",
       "  'NPL_GCARBR_A',\n",
       "  'NZL_GCARBR_A',\n",
       "  'PAK_GCARBR_A',\n",
       "  'PNG_GCARBR_A',\n",
       "  'PHL_GCARBR_A',\n",
       "  'KOR_GCARBR_A',\n",
       "  'RUS_GCARBR_A',\n",
       "  'WSM_GCARBR_A',\n",
       "  'SGP_GCARBR_A',\n",
       "  'SLB_GCARBR_A',\n",
       "  'LKA_GCARBR_A',\n",
       "  'TJK_GCARBR_A',\n",
       "  'THA_GCARBR_A',\n",
       "  'TLS_GCARBR_A',\n",
       "  'TON_GCARBR_A',\n",
       "  'TUR_GCARBR_A',\n",
       "  'TKM_GCARBR_A',\n",
       "  'UZB_GCARBR_A',\n",
       "  'VUT_GCARBR_A',\n",
       "  'VNM_GCARBR_A']]"
      ]
     },
     "execution_count": 69,
     "metadata": {},
     "output_type": "execute_result"
    }
   ],
   "source": [
    "instruments = [[f'{country}_GCARBR_A' for country in masia.countries_GCARBR_A]]\n",
    "instruments"
   ]
  },
  {
   "cell_type": "code",
   "execution_count": 61,
   "id": "d8544571",
   "metadata": {},
   "outputs": [
    {
     "data": {
      "text/html": [
       "<div>\n",
       "<style scoped>\n",
       "    .dataframe tbody tr th:only-of-type {\n",
       "        vertical-align: middle;\n",
       "    }\n",
       "\n",
       "    .dataframe tbody tr th {\n",
       "        vertical-align: top;\n",
       "    }\n",
       "\n",
       "    .dataframe thead th {\n",
       "        text-align: right;\n",
       "    }\n",
       "</style>\n",
       "<table border=\"1\" class=\"dataframe\">\n",
       "  <thead>\n",
       "    <tr style=\"text-align: right;\">\n",
       "      <th></th>\n",
       "      <th>WLD_CO2</th>\n",
       "    </tr>\n",
       "  </thead>\n",
       "  <tbody>\n",
       "    <tr>\n",
       "      <th>2050</th>\n",
       "      <td>55000</td>\n",
       "    </tr>\n",
       "  </tbody>\n",
       "</table>\n",
       "</div>"
      ],
      "text/plain": [
       "      WLD_CO2\n",
       "2050    55000"
      ]
     },
     "execution_count": 61,
     "metadata": {},
     "output_type": "execute_result"
    }
   ],
   "source": [
    "target = pd.DataFrame([55_000],index=[2050],columns=['WLD_CO2'])\n",
    "target"
   ]
  },
  {
   "cell_type": "code",
   "execution_count": 64,
   "id": "c9564eea",
   "metadata": {},
   "outputs": [
    {
     "data": {
      "text/plain": [
       "29"
      ]
     },
     "execution_count": 64,
     "metadata": {},
     "output_type": "execute_result"
    }
   ],
   "source": [
    "delay = 2050-2021\n",
    "delay "
   ]
  },
  {
   "cell_type": "code",
   "execution_count": 65,
   "id": "54d98510",
   "metadata": {},
   "outputs": [],
   "source": [
    "from modelinvert import targets_instruments"
   ]
  },
  {
   "cell_type": "code",
   "execution_count": 70,
   "id": "65b992e7",
   "metadata": {},
   "outputs": [
    {
     "name": "stdout",
     "output_type": "stream",
     "text": [
      ">> Error in     : Asia\n",
      ">> In           : 2050\n",
      ">> varposition   : 3181\n",
      ">> Equation     : FRML <Z,EXO> KAZ_MTR =( KAZ_MTR(-1)*EXP(KAZ_MTR_A +  (-0.153974732176398+-0.152986408545611*(LOG(KAZ_MTR(-1))-LOG(KAZ_PCR(-1)+KAZ_ITR(-1)+KAZ_GCR(-1)+KAZ_XTR(-1))+LOG(KAZ_YFT(-1)/KAZ_YER(-1))+0.0879572709820191*LOG(KAZ_CMUD(-1)*KAZ_EXR(-1)/KAZ_YED(-1))-0.25*KAZ_OMS*LOG(KAZ_OILC(-1)))+0.608819054088144*((LOG(KAZ_XTR))-(LOG(KAZ_XTR(-1))))+0.112964523918026*((LOG(KAZ_PCR))-(LOG(KAZ_PCR(-1))))+0.375771246571348*((LOG(KAZ_IPR))-(LOG(KAZ_IPR(-1))))+0.0647991589052041*((LOG(KAZ_GCR+KAZ_IGR))-(LOG(KAZ_GCR(-1)+KAZ_IGR(-1))))) ) )*(1-KAZ_MTR_D)+KAZ_MTR_X*KAZ_MTR_D$\n",
      "A snapshot of the data at the error point is at .errdump \n",
      "Also the .lastdf contains .errdump,  for inspecting \n",
      "\n",
      "Calculations of KAZ_MTR \n",
      "FRML <Z,EXO> KAZ_MTR =( KAZ_MTR(-1)*EXP(KAZ_MTR_A +  (-0.153974732176398+-0.152986408545611*(LOG(KAZ_MTR(-1))-LOG(KAZ_PCR(-1)+KAZ_ITR(-1)+KAZ_GCR(-1)+KAZ_XTR(-1))+LOG(KAZ_YFT(-1)/KAZ_YER(-1))+0.0879572709820191*LOG(KAZ_CMUD(-1)*KAZ_EXR(-1)/KAZ_YED(-1))-0.25*KAZ_OMS*LOG(KAZ_OILC(-1)))+0.608819054088144*((LOG(KAZ_XTR))-(LOG(KAZ_XTR(-1))))+0.112964523918026*((LOG(KAZ_PCR))-(LOG(KAZ_PCR(-1))))+0.375771246571348*((LOG(KAZ_IPR))-(LOG(KAZ_IPR(-1))))+0.0647991589052041*((LOG(KAZ_GCR+KAZ_IGR))-(LOG(KAZ_GCR(-1)+KAZ_IGR(-1))))) ) )*(1-KAZ_MTR_D)+KAZ_MTR_X*KAZ_MTR_D$\n",
      "\n",
      "Looking at period:2050\n",
      "KAZ_MTR      = 2.8098559128404954e-107\n",
      "KAZ_CMUD(-1) =   1.9420509995162423\n",
      "KAZ_EXR(-1)  =    716.9013000665656\n",
      "KAZ_GCR      =     17111.8578991201\n",
      "KAZ_GCR(-1)  =   16993.049982379318\n",
      "KAZ_IGR      =    5805.356397839424\n",
      "KAZ_IGR(-1)  =   5762.6629936002155\n",
      "KAZ_IPR      =                  0.0\n",
      "KAZ_IPR(-1)  =    35868.97995732806\n",
      "KAZ_ITR(-1)  =    41631.63995094721\n",
      "KAZ_MTR(-1)  =   22292.079987693694\n",
      "KAZ_MTR_A    =        -0.1210883551\n",
      "KAZ_MTR_D    =                  0.0\n",
      "KAZ_MTR_X    =                  0.0\n",
      "KAZ_OILC(-1) =   1.3592599987687577\n",
      "KAZ_OMS      = 0.027662999810046954\n",
      "KAZ_PCR      =    50236.77084139352\n",
      "KAZ_PCR(-1)  =    74441.45993175422\n",
      "KAZ_XTR      =   14853.143076471559\n",
      "KAZ_XTR(-1)  =    35122.99999498802\n",
      "KAZ_YED(-1)  =    4.180580998480555\n",
      "KAZ_YER(-1)  =   163414.99987202982\n",
      "KAZ_YFT(-1)  =   140109.29985643437\n",
      "Failed: math domain error:\n"
     ]
    },
    {
     "ename": "ValueError",
     "evalue": "math domain error",
     "output_type": "error",
     "traceback": [
      "\u001b[1;31m---------------------------------------------------------------------------\u001b[0m",
      "\u001b[1;31mValueError\u001b[0m                                Traceback (most recent call last)",
      "\u001b[1;32m<ipython-input-70-ebde2b4b9fa7>\u001b[0m in \u001b[0;36m<module>\u001b[1;34m\u001b[0m\n\u001b[1;32m----> 1\u001b[1;33m \u001b[0mres\u001b[0m \u001b[1;33m=\u001b[0m \u001b[0mmasia\u001b[0m\u001b[1;33m.\u001b[0m\u001b[0minvert\u001b[0m\u001b[1;33m(\u001b[0m\u001b[0mmasia\u001b[0m\u001b[1;33m.\u001b[0m\u001b[0mbasedf\u001b[0m\u001b[1;33m,\u001b[0m\u001b[0mtarget\u001b[0m\u001b[1;33m,\u001b[0m\u001b[0minstruments\u001b[0m\u001b[1;33m,\u001b[0m\u001b[0mDefaultImpuls\u001b[0m\u001b[1;33m=\u001b[0m\u001b[1;36m1\u001b[0m\u001b[1;33m,\u001b[0m\u001b[0mdelay\u001b[0m\u001b[1;33m=\u001b[0m\u001b[1;36m29\u001b[0m\u001b[1;33m)\u001b[0m\u001b[1;33m\u001b[0m\u001b[1;33m\u001b[0m\u001b[0m\n\u001b[0m",
      "\u001b[1;32mC:\\modelflow2\\modelflow\\modelclass.py\u001b[0m in \u001b[0;36minvert\u001b[1;34m(self, databank, targets, instruments, silent, DefaultImpuls, defaultconv, nonlin, maxiter, **kwargs)\u001b[0m\n\u001b[0;32m   5026\u001b[0m         t_i = targets_instruments(databank, targets, instruments, self, silent=silent,\n\u001b[0;32m   5027\u001b[0m                                   DefaultImpuls=DefaultImpuls, defaultconv=defaultconv, nonlin=nonlin, maxiter=maxiter)\n\u001b[1;32m-> 5028\u001b[1;33m         \u001b[0mres\u001b[0m \u001b[1;33m=\u001b[0m \u001b[0mt_i\u001b[0m\u001b[1;33m(\u001b[0m\u001b[1;33m)\u001b[0m\u001b[1;33m\u001b[0m\u001b[1;33m\u001b[0m\u001b[0m\n\u001b[0m\u001b[0;32m   5029\u001b[0m         \u001b[1;32mreturn\u001b[0m \u001b[0mres\u001b[0m\u001b[1;33m\u001b[0m\u001b[1;33m\u001b[0m\u001b[0m\n\u001b[0;32m   5030\u001b[0m \u001b[1;33m\u001b[0m\u001b[0m\n",
      "\u001b[1;32mC:\\modelflow2\\modelflow\\modelinvert.py\u001b[0m in \u001b[0;36m__call__\u001b[1;34m(self, *args, **kwargs)\u001b[0m\n\u001b[0;32m    286\u001b[0m \u001b[1;33m\u001b[0m\u001b[0m\n\u001b[0;32m    287\u001b[0m     \u001b[1;32mdef\u001b[0m \u001b[0m__call__\u001b[0m\u001b[1;33m(\u001b[0m\u001b[0mself\u001b[0m\u001b[1;33m,\u001b[0m \u001b[1;33m*\u001b[0m\u001b[0margs\u001b[0m\u001b[1;33m,\u001b[0m \u001b[1;33m**\u001b[0m\u001b[0mkwargs\u001b[0m \u001b[1;33m)\u001b[0m\u001b[1;33m:\u001b[0m\u001b[1;33m\u001b[0m\u001b[1;33m\u001b[0m\u001b[0m\n\u001b[1;32m--> 288\u001b[1;33m         \u001b[1;32mreturn\u001b[0m \u001b[0mself\u001b[0m\u001b[1;33m.\u001b[0m\u001b[0mtargetseek\u001b[0m\u001b[1;33m(\u001b[0m \u001b[1;33m*\u001b[0m\u001b[0margs\u001b[0m\u001b[1;33m,\u001b[0m \u001b[1;33m**\u001b[0m\u001b[0mkwargs\u001b[0m\u001b[1;33m)\u001b[0m\u001b[1;33m\u001b[0m\u001b[1;33m\u001b[0m\u001b[0m\n\u001b[0m\u001b[0;32m    289\u001b[0m \u001b[1;33m\u001b[0m\u001b[0m\n\u001b[0;32m    290\u001b[0m \u001b[1;33m\u001b[0m\u001b[0m\n",
      "\u001b[1;32mC:\\modelflow2\\modelflow\\modelinvert.py\u001b[0m in \u001b[0;36mtargetseek\u001b[1;34m(self, databank, shortfall, delay, **kwargs)\u001b[0m\n\u001b[0;32m    274\u001b[0m                         \u001b[1;32mfor\u001b[0m \u001b[0mvar\u001b[0m\u001b[1;33m,\u001b[0m\u001b[0mimpuls\u001b[0m \u001b[1;32min\u001b[0m \u001b[0minstrument\u001b[0m\u001b[1;33m[\u001b[0m\u001b[1;34m'vars'\u001b[0m\u001b[1;33m]\u001b[0m\u001b[1;33m:\u001b[0m\u001b[1;33m\u001b[0m\u001b[1;33m\u001b[0m\u001b[0m\n\u001b[0;32m    275\u001b[0m                             \u001b[0mres\u001b[0m\u001b[1;33m.\u001b[0m\u001b[0mloc\u001b[0m\u001b[1;33m[\u001b[0m\u001b[0mper_delayed\u001b[0m\u001b[1;33m:\u001b[0m\u001b[1;33m,\u001b[0m\u001b[0mvar\u001b[0m\u001b[1;33m]\u001b[0m    \u001b[1;33m=\u001b[0m   \u001b[0mres\u001b[0m\u001b[1;33m.\u001b[0m\u001b[0mloc\u001b[0m\u001b[1;33m[\u001b[0m\u001b[0mper_delayed\u001b[0m\u001b[1;33m:\u001b[0m\u001b[1;33m,\u001b[0m\u001b[0mvar\u001b[0m\u001b[1;33m]\u001b[0m \u001b[1;33m+\u001b[0m \u001b[0mupdate\u001b[0m\u001b[1;33m[\u001b[0m\u001b[0minstrument\u001b[0m\u001b[1;33m[\u001b[0m\u001b[1;34m'name'\u001b[0m\u001b[1;33m]\u001b[0m\u001b[1;33m]\u001b[0m \u001b[1;33m*\u001b[0m \u001b[0mimpuls\u001b[0m  \u001b[1;31m# increase loan growth\u001b[0m\u001b[1;33m\u001b[0m\u001b[1;33m\u001b[0m\u001b[0m\n\u001b[1;32m--> 276\u001b[1;33m                     \u001b[0mres\u001b[0m \u001b[1;33m=\u001b[0m \u001b[0mself\u001b[0m\u001b[1;33m.\u001b[0m\u001b[0mmodel\u001b[0m\u001b[1;33m(\u001b[0m\u001b[0mres\u001b[0m\u001b[1;33m,\u001b[0m\u001b[0mper_delayed\u001b[0m \u001b[1;33m,\u001b[0m\u001b[0mper\u001b[0m \u001b[1;33m,\u001b[0m\u001b[0msetlast\u001b[0m\u001b[1;33m=\u001b[0m\u001b[1;32mFalse\u001b[0m\u001b[1;33m,\u001b[0m\u001b[0msilent\u001b[0m\u001b[1;33m=\u001b[0m\u001b[0mself\u001b[0m\u001b[1;33m.\u001b[0m\u001b[0msilent\u001b[0m\u001b[1;33m,\u001b[0m \u001b[1;33m**\u001b[0m\u001b[0mself\u001b[0m\u001b[1;33m.\u001b[0m\u001b[0msolveopt\u001b[0m\u001b[1;33m)\u001b[0m\u001b[1;33m\u001b[0m\u001b[1;33m\u001b[0m\u001b[0m\n\u001b[0m\u001b[0;32m    277\u001b[0m                 \u001b[1;32melse\u001b[0m\u001b[1;33m:\u001b[0m\u001b[1;33m\u001b[0m\u001b[1;33m\u001b[0m\u001b[0m\n\u001b[0;32m    278\u001b[0m                     \u001b[1;32mbreak\u001b[0m\u001b[1;33m\u001b[0m\u001b[1;33m\u001b[0m\u001b[0m\n",
      "\u001b[1;32mC:\\modelflow2\\modelflow\\modelclass.py\u001b[0m in \u001b[0;36m__call__\u001b[1;34m(self, *args, **kwargs)\u001b[0m\n\u001b[0;32m   3567\u001b[0m         \u001b[1;31m# print(f'solver:{solver},solverkwargs:{newkwargs}')\u001b[0m\u001b[1;33m\u001b[0m\u001b[1;33m\u001b[0m\u001b[1;33m\u001b[0m\u001b[0m\n\u001b[0;32m   3568\u001b[0m         \u001b[1;31m# breakpoint()\u001b[0m\u001b[1;33m\u001b[0m\u001b[1;33m\u001b[0m\u001b[1;33m\u001b[0m\u001b[0m\n\u001b[1;32m-> 3569\u001b[1;33m         \u001b[0moutdf\u001b[0m \u001b[1;33m=\u001b[0m \u001b[0mself\u001b[0m\u001b[1;33m.\u001b[0m\u001b[0mmodel_solver\u001b[0m\u001b[1;33m(\u001b[0m\u001b[1;33m*\u001b[0m\u001b[0margs\u001b[0m\u001b[1;33m,\u001b[0m \u001b[1;33m**\u001b[0m\u001b[0mnewkwargs\u001b[0m\u001b[1;33m)\u001b[0m\u001b[1;33m\u001b[0m\u001b[1;33m\u001b[0m\u001b[0m\n\u001b[0m\u001b[0;32m   3570\u001b[0m \u001b[1;33m\u001b[0m\u001b[0m\n\u001b[0;32m   3571\u001b[0m         \u001b[1;32mif\u001b[0m \u001b[0mnewkwargs\u001b[0m\u001b[1;33m.\u001b[0m\u001b[0mget\u001b[0m\u001b[1;33m(\u001b[0m\u001b[1;34m'keep'\u001b[0m\u001b[1;33m,\u001b[0m \u001b[1;34m''\u001b[0m\u001b[1;33m)\u001b[0m \u001b[1;32mand\u001b[0m \u001b[0mself\u001b[0m\u001b[1;33m.\u001b[0m\u001b[0msave\u001b[0m\u001b[1;33m:\u001b[0m\u001b[1;33m\u001b[0m\u001b[1;33m\u001b[0m\u001b[0m\n",
      "\u001b[1;32mC:\\modelflow2\\modelflow\\modelclass.py\u001b[0m in \u001b[0;36msim\u001b[1;34m(self, databank, start, slut, silent, samedata, alfa, stats, first_test, max_iterations, conv, absconv, relconv, stringjit, transpile_reset, dumpvar, init, ldumpvar, dumpwith, dumpdecimal, chunk, ljit, timeon, fairopt, **kwargs)\u001b[0m\n\u001b[0;32m   3746\u001b[0m                 \u001b[1;32mfor\u001b[0m \u001b[0miteration\u001b[0m \u001b[1;32min\u001b[0m \u001b[0mrange\u001b[0m\u001b[1;33m(\u001b[0m\u001b[0mmax_iterations\u001b[0m\u001b[1;33m)\u001b[0m\u001b[1;33m:\u001b[0m\u001b[1;33m\u001b[0m\u001b[1;33m\u001b[0m\u001b[0m\n\u001b[0;32m   3747\u001b[0m                     \u001b[1;32mwith\u001b[0m \u001b[0mself\u001b[0m\u001b[1;33m.\u001b[0m\u001b[0mtimer\u001b[0m\u001b[1;33m(\u001b[0m\u001b[1;34mf'Evaluate {self.periode}/{iteration} '\u001b[0m\u001b[1;33m,\u001b[0m \u001b[0mtimeon\u001b[0m\u001b[1;33m)\u001b[0m \u001b[1;32mas\u001b[0m \u001b[0mt\u001b[0m\u001b[1;33m:\u001b[0m\u001b[1;33m\u001b[0m\u001b[1;33m\u001b[0m\u001b[0m\n\u001b[1;32m-> 3748\u001b[1;33m                         \u001b[0mself\u001b[0m\u001b[1;33m.\u001b[0m\u001b[0msolve2d\u001b[0m\u001b[1;33m(\u001b[0m\u001b[0mvalues\u001b[0m\u001b[1;33m,\u001b[0m \u001b[0mvalues\u001b[0m\u001b[1;33m,\u001b[0m \u001b[0mrow\u001b[0m\u001b[1;33m,\u001b[0m  \u001b[0malfa\u001b[0m\u001b[1;33m)\u001b[0m\u001b[1;33m\u001b[0m\u001b[1;33m\u001b[0m\u001b[0m\n\u001b[0m\u001b[0;32m   3749\u001b[0m                     \u001b[0mittotal\u001b[0m \u001b[1;33m+=\u001b[0m \u001b[1;36m1\u001b[0m\u001b[1;33m\u001b[0m\u001b[1;33m\u001b[0m\u001b[0m\n\u001b[0;32m   3750\u001b[0m \u001b[1;33m\u001b[0m\u001b[0m\n",
      "\u001b[1;32mC:\\modelflow2\\modelflow\\modelclass.py\u001b[0m in \u001b[0;36mcore\u001b[1;34m(values, outvalues, row, alfa)\u001b[0m\n",
      "\u001b[1;32mC:\\modelflow2\\modelflow\\modelclass.py\u001b[0m in \u001b[0;36mcore17\u001b[1;34m(values, outvalues, row, alfa)\u001b[0m\n",
      "\u001b[1;31mValueError\u001b[0m: math domain error"
     ]
    }
   ],
   "source": [
    "res = masia.invert(masia.basedf,target,instruments,DefaultImpuls=1,delay=29)"
   ]
  }
 ],
 "metadata": {
  "celltoolbar": "Slideshow",
  "kernelspec": {
   "display_name": "Python 3",
   "language": "python",
   "name": "python3"
  },
  "language_info": {
   "codemirror_mode": {
    "name": "ipython",
    "version": 3
   },
   "file_extension": ".py",
   "mimetype": "text/x-python",
   "name": "python",
   "nbconvert_exporter": "python",
   "pygments_lexer": "ipython3",
   "version": "3.8.8"
  },
  "toc": {
   "base_numbering": 1,
   "nav_menu": {},
   "number_sections": true,
   "sideBar": true,
   "skip_h1_title": true,
   "title_cell": "Table of Contents",
   "title_sidebar": "Contents",
   "toc_cell": false,
   "toc_position": {},
   "toc_section_display": true,
   "toc_window_display": false
  }
 },
 "nbformat": 4,
 "nbformat_minor": 5
}
