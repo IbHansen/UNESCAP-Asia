{
 "cells": [
  {
   "cell_type": "markdown",
   "id": "b3fde3e1",
   "metadata": {},
   "source": [
    "# Import modelflow"
   ]
  },
  {
   "cell_type": "code",
   "execution_count": 1,
   "id": "26a97026",
   "metadata": {},
   "outputs": [
    {
     "data": {
      "text/html": [
       "\n",
       "        <style>\n",
       "            div#notebook-container    { width: 95%; }\n",
       "            div#menubar-container     { width: 65%; }\n",
       "            div#maintoolbar-container { width: 99%; }\n",
       "        </style>\n",
       "        "
      ],
      "text/plain": [
       "<IPython.core.display.HTML object>"
      ]
     },
     "metadata": {},
     "output_type": "display_data"
    }
   ],
   "source": [
    "from modelclass import model\n",
    "model.widescreen()"
   ]
  },
  {
   "cell_type": "markdown",
   "id": "13ba5994",
   "metadata": {},
   "source": [
    "# Load model and data, and run "
   ]
  },
  {
   "cell_type": "code",
   "execution_count": 2,
   "id": "e2795283",
   "metadata": {},
   "outputs": [],
   "source": [
    "masia,baseline = model.modelload('Asia.pcim',run=1,silent=1)"
   ]
  },
  {
   "cell_type": "markdown",
   "id": "e94c4d8b",
   "metadata": {},
   "source": [
    "# Define  experiment"
   ]
  },
  {
   "cell_type": "markdown",
   "id": "349f60b6",
   "metadata": {},
   "source": [
    "# Run experiment"
   ]
  },
  {
   "cell_type": "markdown",
   "id": "4a6bf1b1",
   "metadata": {},
   "source": [
    "# Analyze results"
   ]
  }
 ],
 "metadata": {
  "kernelspec": {
   "display_name": "Python 3",
   "language": "python",
   "name": "python3"
  },
  "language_info": {
   "codemirror_mode": {
    "name": "ipython",
    "version": 3
   },
   "file_extension": ".py",
   "mimetype": "text/x-python",
   "name": "python",
   "nbconvert_exporter": "python",
   "pygments_lexer": "ipython3",
   "version": "3.8.8"
  },
  "toc": {
   "base_numbering": 1,
   "nav_menu": {},
   "number_sections": true,
   "sideBar": true,
   "skip_h1_title": true,
   "title_cell": "Table of Contents",
   "title_sidebar": "Contents",
   "toc_cell": false,
   "toc_position": {},
   "toc_section_display": true,
   "toc_window_display": false
  }
 },
 "nbformat": 4,
 "nbformat_minor": 5
}
