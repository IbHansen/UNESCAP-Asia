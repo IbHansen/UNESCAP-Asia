{
 "cells": [
  {
   "cell_type": "code",
   "execution_count": 24,
   "id": "664821b9",
   "metadata": {},
   "outputs": [],
   "source": [
    "from ipywidgets import interact,Dropdown,Checkbox,Output, Tab\n",
    "import ipywidgets as widgets\n",
    "from IPython.display import display, clear_output,Latex, Markdown\n",
    "import pandas as pd\n",
    "from  ipysheet import sheet, cell, current \n",
    "from ipysheet.pandas_loader import from_dataframe, to_dataframe\n",
    "import ipysheet\n",
    "from modelclass import model"
   ]
  },
  {
   "cell_type": "code",
   "execution_count": 2,
   "id": "42497391",
   "metadata": {},
   "outputs": [
    {
     "name": "stdout",
     "output_type": "stream",
     "text": [
      "Load model\n",
      "Wall time: 10.5 s\n"
     ]
    }
   ],
   "source": [
    "%%time\n",
    "if not 'masia' in locals():\n",
    "    print('Load model')\n",
    "    masia,baseline = model.modelload('Asia.pcim',run=0,silent=1)\n",
    "from inject import  inject\n",
    "inject(masia)"
   ]
  },
  {
   "cell_type": "code",
   "execution_count": 3,
   "id": "22e25f09",
   "metadata": {},
   "outputs": [
    {
     "data": {
      "text/plain": [
       "['BRN_GCARBR_A',\n",
       " 'KHM_GCARBR_A',\n",
       " 'IDN_GCARBR_A',\n",
       " 'LAO_GCARBR_A',\n",
       " 'MYS_GCARBR_A',\n",
       " 'MMR_GCARBR_A',\n",
       " 'PHL_GCARBR_A',\n",
       " 'SGP_GCARBR_A',\n",
       " 'THA_GCARBR_A',\n",
       " 'VNM_GCARBR_A']"
      ]
     },
     "execution_count": 3,
     "metadata": {},
     "output_type": "execute_result"
    }
   ],
   "source": [
    "[f'{country}_GCARBR_A' for country in masia.countries_ASEAN ]"
   ]
  },
  {
   "cell_type": "code",
   "execution_count": 4,
   "id": "b7592e4e",
   "metadata": {},
   "outputs": [
    {
     "data": {
      "text/html": [
       "<div>\n",
       "<style scoped>\n",
       "    .dataframe tbody tr th:only-of-type {\n",
       "        vertical-align: middle;\n",
       "    }\n",
       "\n",
       "    .dataframe tbody tr th {\n",
       "        vertical-align: top;\n",
       "    }\n",
       "\n",
       "    .dataframe thead th {\n",
       "        text-align: right;\n",
       "    }\n",
       "</style>\n",
       "<table border=\"1\" class=\"dataframe\">\n",
       "  <thead>\n",
       "    <tr style=\"text-align: right;\">\n",
       "      <th></th>\n",
       "      <th>BRN_GCARBR_A</th>\n",
       "      <th>KHM_GCARBR_A</th>\n",
       "      <th>IDN_GCARBR_A</th>\n",
       "    </tr>\n",
       "  </thead>\n",
       "  <tbody>\n",
       "    <tr>\n",
       "      <th>2014</th>\n",
       "      <td>0.0</td>\n",
       "      <td>0</td>\n",
       "      <td>0.0</td>\n",
       "    </tr>\n",
       "    <tr>\n",
       "      <th>2015</th>\n",
       "      <td>0.0</td>\n",
       "      <td>0</td>\n",
       "      <td>0.0</td>\n",
       "    </tr>\n",
       "  </tbody>\n",
       "</table>\n",
       "</div>"
      ],
      "text/plain": [
       "      BRN_GCARBR_A  KHM_GCARBR_A  IDN_GCARBR_A\n",
       "2014           0.0             0           0.0\n",
       "2015           0.0             0           0.0"
      ]
     },
     "execution_count": 4,
     "metadata": {},
     "output_type": "execute_result"
    }
   ],
   "source": [
    "smalldf = baseline.loc[2014:2015,[f'{country}_GCARBR_A' for country in masia.countries_ASEAN ][:3]]\n",
    "smalldf "
   ]
  },
  {
   "cell_type": "code",
   "execution_count": 18,
   "id": "bdb4f767",
   "metadata": {
    "scrolled": true
   },
   "outputs": [
    {
     "data": {
      "application/vnd.jupyter.widget-view+json": {
       "model_id": "d3afea48313c4e5896a80c16c5aa470a",
       "version_major": 2,
       "version_minor": 0
      },
      "text/plain": [
       "Sheet(cells=(Cell(column_end=0, column_start=0, row_end=2, row_start=0, squeeze_row=False, type='numeric', val…"
      ]
     },
     "metadata": {},
     "output_type": "display_data"
    }
   ],
   "source": [
    "cc = sheet(from_dataframe(smalldf.T))\n",
    "display(cc)"
   ]
  },
  {
   "cell_type": "code",
   "execution_count": 19,
   "id": "9829b966",
   "metadata": {},
   "outputs": [
    {
     "data": {
      "application/vnd.jupyter.widget-view+json": {
       "model_id": "d3afea48313c4e5896a80c16c5aa470a",
       "version_major": 2,
       "version_minor": 0
      },
      "text/plain": [
       "Sheet(cells=(Cell(column_end=0, column_start=0, row_end=2, row_start=0, squeeze_row=False, type='numeric', val…"
      ]
     },
     "metadata": {},
     "output_type": "display_data"
    }
   ],
   "source": [
    "display(cc)"
   ]
  },
  {
   "cell_type": "code",
   "execution_count": 20,
   "id": "c4f5e630",
   "metadata": {},
   "outputs": [],
   "source": [
    "t = Tab([cc,cc])"
   ]
  },
  {
   "cell_type": "code",
   "execution_count": 14,
   "id": "53d1178b",
   "metadata": {},
   "outputs": [
    {
     "data": {
      "application/vnd.jupyter.widget-view+json": {
       "model_id": "4c6f2aeff3c5452e82ce8efb1babec8b",
       "version_major": 2,
       "version_minor": 0
      },
      "text/plain": [
       "Tab(children=(Sheet(cells=(Cell(column_end=0, column_start=0, row_end=2, row_start=0, squeeze_row=False, type=…"
      ]
     },
     "metadata": {},
     "output_type": "display_data"
    }
   ],
   "source": [
    "t"
   ]
  },
  {
   "cell_type": "code",
   "execution_count": 21,
   "id": "f8c7f0d1",
   "metadata": {},
   "outputs": [
    {
     "data": {
      "text/html": [
       "<div>\n",
       "<style scoped>\n",
       "    .dataframe tbody tr th:only-of-type {\n",
       "        vertical-align: middle;\n",
       "    }\n",
       "\n",
       "    .dataframe tbody tr th {\n",
       "        vertical-align: top;\n",
       "    }\n",
       "\n",
       "    .dataframe thead th {\n",
       "        text-align: right;\n",
       "    }\n",
       "</style>\n",
       "<table border=\"1\" class=\"dataframe\">\n",
       "  <thead>\n",
       "    <tr style=\"text-align: right;\">\n",
       "      <th></th>\n",
       "      <th>2014</th>\n",
       "      <th>2015</th>\n",
       "    </tr>\n",
       "  </thead>\n",
       "  <tbody>\n",
       "    <tr>\n",
       "      <th>BRN_GCARBR_A</th>\n",
       "      <td>0.0</td>\n",
       "      <td>0.0</td>\n",
       "    </tr>\n",
       "    <tr>\n",
       "      <th>KHM_GCARBR_A</th>\n",
       "      <td>0.0</td>\n",
       "      <td>0.0</td>\n",
       "    </tr>\n",
       "    <tr>\n",
       "      <th>IDN_GCARBR_A</th>\n",
       "      <td>0.0</td>\n",
       "      <td>0.0</td>\n",
       "    </tr>\n",
       "  </tbody>\n",
       "</table>\n",
       "</div>"
      ],
      "text/plain": [
       "              2014  2015\n",
       "BRN_GCARBR_A   0.0   0.0\n",
       "KHM_GCARBR_A   0.0   0.0\n",
       "IDN_GCARBR_A   0.0   0.0"
      ]
     },
     "execution_count": 21,
     "metadata": {},
     "output_type": "execute_result"
    }
   ],
   "source": [
    "to_dataframe(cc)"
   ]
  },
  {
   "cell_type": "code",
   "execution_count": 27,
   "id": "3e9b8864",
   "metadata": {},
   "outputs": [
    {
     "data": {
      "application/vnd.jupyter.widget-view+json": {
       "model_id": "6d8122265b684f26bd494ae6e51feb7b",
       "version_major": 2,
       "version_minor": 0
      },
      "text/plain": [
       "Sheet(layout=Layout(height='auto', width='auto'))"
      ]
     },
     "metadata": {},
     "output_type": "display_data"
    }
   ],
   "source": [
    "# create a sheet\n",
    "sheet1 = ipysheet.sheet(rows=3, columns=4, row_headers=True)\n",
    "# and 'print' it out, or use IPython.display.display(sheet)\n",
    "sheet1"
   ]
  },
  {
   "cell_type": "code",
   "execution_count": 31,
   "id": "ac4ebebb",
   "metadata": {},
   "outputs": [],
   "source": [
    "sheet1.column_width = None"
   ]
  },
  {
   "cell_type": "code",
   "execution_count": 33,
   "id": "72d290ea",
   "metadata": {},
   "outputs": [],
   "source": [
    "sheet1.column_headers = ['0', '1', '2', 'xyz']\n",
    "sheet1.row_headers = ['x', 'y', '']"
   ]
  },
  {
   "cell_type": "code",
   "execution_count": 41,
   "id": "c42c7da9",
   "metadata": {},
   "outputs": [],
   "source": [
    "cell = ipysheet.cell(0, 0, 'hello', backgroundColor='black')"
   ]
  },
  {
   "cell_type": "code",
   "execution_count": 43,
   "id": "30a4c483",
   "metadata": {},
   "outputs": [],
   "source": [
    "cell.value = 40"
   ]
  },
  {
   "cell_type": "code",
   "execution_count": 39,
   "id": "0fa7bd5b",
   "metadata": {},
   "outputs": [],
   "source": [
    "cell2 = ipysheet.cell(0, 1, 888, type='numeric', read_only=True)\n",
    "def changed(change):\n",
    "    print(\"changed from\", change.old, \"to\", change.new)\n",
    "    cell2.value = cell.value * 2\n",
    "cell.observe(changed, 'value')"
   ]
  },
  {
   "cell_type": "code",
   "execution_count": 44,
   "id": "1151cfa9",
   "metadata": {},
   "outputs": [
    {
     "data": {
      "application/vnd.jupyter.widget-view+json": {
       "model_id": "6d8122265b684f26bd494ae6e51feb7b",
       "version_major": 2,
       "version_minor": 0
      },
      "text/plain": [
       "Sheet(cells=(Cell(column_end=0, column_start=0, row_end=0, row_start=0, type='text', value=40), Cell(column_en…"
      ]
     },
     "metadata": {},
     "output_type": "display_data"
    }
   ],
   "source": [
    "sheet1"
   ]
  },
  {
   "cell_type": "code",
   "execution_count": 45,
   "id": "61dd3a17",
   "metadata": {},
   "outputs": [],
   "source": [
    "cell3 = ipysheet.cell(0, 2, True, type='checkbox', style={'textAlign': 'center'})"
   ]
  },
  {
   "cell_type": "code",
   "execution_count": 47,
   "id": "70ec518a",
   "metadata": {},
   "outputs": [
    {
     "data": {
      "text/plain": [
       "False"
      ]
     },
     "execution_count": 47,
     "metadata": {},
     "output_type": "execute_result"
    }
   ],
   "source": [
    "cell3.value"
   ]
  },
  {
   "cell_type": "code",
   "execution_count": 48,
   "id": "a190e418",
   "metadata": {},
   "outputs": [
    {
     "data": {
      "application/vnd.jupyter.widget-view+json": {
       "model_id": "a1c8993be36d477fb8cb56004e715a48",
       "version_major": 2,
       "version_minor": 0
      },
      "text/plain": [
       "Sheet(cells=(Cell(column_end=1, column_start=1, row_end=0, row_start=0, style={'color': 'green'}, type='numeri…"
      ]
     },
     "metadata": {},
     "output_type": "display_data"
    }
   ],
   "source": [
    "# a new sheet\n",
    "sheet2 = ipysheet.sheet(rows=3, columns=2, row_headers=False, column_headers=False)\n",
    "sheet2.stretch_headers = 'none'\n",
    "sheet2.column_width = [100, 150]\n",
    "\n",
    "a = ipysheet.cell(0,1, 2, color='green', label_left='a')\n",
    "b = ipysheet.cell(1,1, 3, color='blue', label_left='b')\n",
    "c = ipysheet.cell(2,1, 99, backgroundColor='salmon', label_left='sum')\n",
    "\n",
    "# using the calculation decorator, it's easier to connect input and output\n",
    "# cells\n",
    "@ipysheet.calculation(inputs=[a,b], output=c)\n",
    "def sum(a, b):\n",
    "    return a+b\n",
    "sheet2"
   ]
  },
  {
   "cell_type": "code",
   "execution_count": 49,
   "id": "0d35dfea",
   "metadata": {
    "scrolled": true
   },
   "outputs": [
    {
     "data": {
      "application/vnd.jupyter.widget-view+json": {
       "model_id": "b3f49649b2714b59a216c5747c593112",
       "version_major": 2,
       "version_minor": 0
      },
      "text/plain": [
       "Sheet(cells=(Cell(column_end=1, column_start=1, row_end=0, row_start=0, type='numeric', value=2.0), Cell(colum…"
      ]
     },
     "metadata": {},
     "output_type": "display_data"
    }
   ],
   "source": [
    "N_years = 10\n",
    "sheet3 = ipysheet.sheet(rows=N_years+3, columns=2, stretch_headers='none')\n",
    "interest = ipysheet.cell(0, 1, 2., label_left='interest(%):')\n",
    "amount = ipysheet.cell(1, 1, 100., label_left='amount(EUR):')\n",
    "\n",
    "savings_cells = []\n",
    "for i in range(N_years):\n",
    "    ipysheet.cell(i+3, 0, \"year %s\" % (i+1))\n",
    "    savings_cell = ipysheet.cell(i+3, 1, 0.)\n",
    "    savings_cells.append(savings_cell)\n",
    "\n",
    "sheet3"
   ]
  },
  {
   "cell_type": "code",
   "execution_count": 50,
   "id": "d258f0c8",
   "metadata": {},
   "outputs": [],
   "source": [
    "# and connecting a calculation to it\n",
    "def calculate_savings(change=None):\n",
    "    value = amount.value\n",
    "    factor = (1+interest.value/100.)\n",
    "    for i in range(N_years):\n",
    "        value = value * factor\n",
    "        savings_cells[i].value = value\n",
    "calculate_savings()\n",
    "interest.observe(calculate_savings, \"value\")\n",
    "amount.observe(calculate_savings, \"value\")"
   ]
  },
  {
   "cell_type": "code",
   "execution_count": 52,
   "id": "e13b2711",
   "metadata": {},
   "outputs": [
    {
     "data": {
      "application/vnd.jupyter.widget-view+json": {
       "model_id": "9aec5b5c318b415c94dcbfe861900882",
       "version_major": 2,
       "version_minor": 0
      },
      "text/plain": [
       "VBox(children=(Button(description='Add Row', style=ButtonStyle()), Sheet(columns=5, layout=Layout(height='auto…"
      ]
     },
     "metadata": {},
     "output_type": "display_data"
    }
   ],
   "source": [
    "import ipysheet\n",
    "import ipywidgets as widgets\n",
    "\n",
    "sheet = ipysheet.sheet()\n",
    "\n",
    "button = widgets.Button(description='Add Row')\n",
    "out = widgets.Output()\n",
    "def add_row(_):\n",
    "    with out:\n",
    "        sheet.columns += 1\n",
    "\n",
    "button.on_click(add_row)\n",
    "\n",
    "widgets.VBox([button,sheet])"
   ]
  },
  {
   "cell_type": "code",
   "execution_count": null,
   "id": "8ae5ef5c",
   "metadata": {},
   "outputs": [],
   "source": []
  }
 ],
 "metadata": {
  "hide_input": false,
  "kernelspec": {
   "display_name": "Python 3",
   "language": "python",
   "name": "python3"
  },
  "language_info": {
   "codemirror_mode": {
    "name": "ipython",
    "version": 3
   },
   "file_extension": ".py",
   "mimetype": "text/x-python",
   "name": "python",
   "nbconvert_exporter": "python",
   "pygments_lexer": "ipython3",
   "version": "3.8.8"
  },
  "toc": {
   "base_numbering": 1,
   "nav_menu": {},
   "number_sections": true,
   "sideBar": true,
   "skip_h1_title": true,
   "title_cell": "Table of Contents",
   "title_sidebar": "Contents",
   "toc_cell": false,
   "toc_position": {},
   "toc_section_display": true,
   "toc_window_display": false
  }
 },
 "nbformat": 4,
 "nbformat_minor": 5
}
