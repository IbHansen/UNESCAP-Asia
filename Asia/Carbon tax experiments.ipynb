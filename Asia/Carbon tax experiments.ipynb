{
 "cells": [
  {
   "cell_type": "code",
   "execution_count": null,
   "id": "6ac69535",
   "metadata": {
    "hide_input": false,
    "slideshow": {
     "slide_type": "skip"
    }
   },
   "outputs": [],
   "source": [
    "# Import modelflow\n",
    "\n",
    "%load_ext autoreload\n",
    "%autoreload 2"
   ]
  },
  {
   "cell_type": "code",
   "execution_count": null,
   "id": "26a97026",
   "metadata": {
    "hide_input": false,
    "scrolled": false,
    "slideshow": {
     "slide_type": "skip"
    }
   },
   "outputs": [],
   "source": [
    "%matplotlib inline\n",
    "\n",
    "from ipywidgets import interact,Dropdown,Checkbox\n",
    "from IPython.display import display, clear_output,Latex, Markdown\n",
    "import pandas as pd\n",
    "\n",
    "import modeljupyter as mj\n",
    "from modelvis import waterplot\n",
    "\n",
    "from modelinvert import targets_instruments\n",
    "from modelclass import model\n",
    "model.widescreen()\n",
    "model.modelflow_auto()\n",
    "\n"
   ]
  },
  {
   "cell_type": "code",
   "execution_count": null,
   "id": "b84eb2cf",
   "metadata": {
    "slideshow": {
     "slide_type": "skip"
    }
   },
   "outputs": [],
   "source": [
    "# Load model and data, and run \n",
    "\n",
    "if not 'masia' in locals():\n",
    "    print('Load model')\n",
    "    masia,baseline = model.modelload('Asia_8nov.pcim',run=1,silent=1)\n",
    "from inject import inject\n",
    "inject(masia)    "
   ]
  },
  {
   "cell_type": "code",
   "execution_count": null,
   "id": "84e0b533",
   "metadata": {
    "slideshow": {
     "slide_type": "skip"
    }
   },
   "outputs": [],
   "source": [
    "co2_input_var = [var for var in masia.totgraph.predecessors('WLD_CO2') if var.endswith('CO2')]\n",
    "co2_input_var_asean = [var for var in masia.totgraph.predecessors('WLD_CO2') if var.endswith('CO2') and  var.split('_')[0] in masia.countries_ASEAN ]"
   ]
  },
  {
   "cell_type": "code",
   "execution_count": null,
   "id": "0428ab25",
   "metadata": {
    "slideshow": {
     "slide_type": "skip"
    }
   },
   "outputs": [],
   "source": [
    "co2_baseline = baseline.loc[:,co2_input_var].pipe(lambda df:df.rename(columns={c : masia.iso_dict.get(cname := c.split('_')[0],cname) for c in df.columns}))\n",
    "co2_baseline_asean = baseline.loc[:,co2_input_var_asean].pipe(lambda df:df.rename(columns={c : masia.iso_dict.get(cname := c.split('_')[0],cname) for c in df.columns}))"
   ]
  },
  {
   "cell_type": "code",
   "execution_count": null,
   "id": "266df5d1",
   "metadata": {
    "slideshow": {
     "slide_type": "skip"
    }
   },
   "outputs": [],
   "source": [
    "# Variables to inputwidget\n",
    "\n",
    "outvar = 'GDI GCARBR CO2 LNN'.split()\n",
    "displayvar = 'WLD_CO2 ASP_CO2 G20_CO2 '\n",
    "\n",
    "#  masia.countries_GCARBR_A is list of all countries in the model with a countries_GCARBR_A \n",
    "#  masia.countries_ASEAN is list of all countries in ASEAN \n",
    "countries_rest = [country for country in masia.countries_GCARBR_A if country not in masia.countries_ASEAN]\n",
    "\n",
    "slidedef_allasean =  {'All ASEAN countries' : {'var': ' '.join([f'{country}_GCARBR_A' for country in masia.countries_ASEAN ])\n",
    "                          , 'value': 0.0,'min':0,'max':100,'op':'+impulse','step':10,'dec':0}}\n",
    "slidedef_allrest =  {'Rest of the world' : {'var': \n",
    "    ' '.join([f'{country}_GCARBR_A' for country in countries_rest])\n",
    "                          , 'value': 0.0,'min':0,'max':100,'op':'+impulse','step':10,'dec':0}}\n",
    "slidedef_countries = {masia.iso_dict.get(country,country)+', Extra' : \n",
    "                      {'var': f'{country}_GCARBR_A', 'value': 0.0,'min':-40,'max':40,'op':'+impulse','step':10,'dec':0} \n",
    "                      for country in  masia.countries_ASEAN}\n",
    "\n",
    "slidedef = {**slidedef_allasean,**slidedef_allrest,**slidedef_countries}"
   ]
  },
  {
   "cell_type": "markdown",
   "id": "7f685a7e",
   "metadata": {
    "slideshow": {
     "slide_type": "slide"
    }
   },
   "source": [
    "# Simulations  with UNESCAP Carbon Pricing Instrument (CPI)  model\n"
   ]
  },
  {
   "cell_type": "markdown",
   "id": "c6d9a4bb",
   "metadata": {
    "slideshow": {
     "slide_type": "slide"
    }
   },
   "source": [
    "# Baseline \n",
    "Please wait until charts are shown below. "
   ]
  },
  {
   "cell_type": "markdown",
   "id": "76e811d2",
   "metadata": {
    "cell_style": "split",
    "slideshow": {
     "slide_type": "-"
    }
   },
   "source": [
    "# World $CO^2$"
   ]
  },
  {
   "cell_type": "markdown",
   "id": "b9ced446",
   "metadata": {
    "cell_style": "split"
   },
   "source": [
    "# ASEAN $CO^2$"
   ]
  },
  {
   "cell_type": "code",
   "execution_count": null,
   "id": "621dc6ab",
   "metadata": {
    "cell_style": "split"
   },
   "outputs": [],
   "source": [
    "masia['wld_co2'].rename().plot(colrow=1,title='Baseline $CO^2$ emmision, World',top=0.9,ysize=5);\n",
    "\n",
    "threshold =700\n",
    "waterplot(co2_baseline.loc[[2050],:].T,autosum=1,threshold = 700,allsort=1,title = f'$CO^2$ emmision,World, below {threshold} lumped into \"Small\"',top=0.85);"
   ]
  },
  {
   "cell_type": "code",
   "execution_count": null,
   "id": "6e4cbbdf",
   "metadata": {
    "cell_style": "split",
    "scrolled": false
   },
   "outputs": [],
   "source": [
    "masia['asean_co2'].rename().plot(colrow=1,title='Baseline $CO^2$ emmision ASEAN',top=0.9,ysize=5);\n",
    "\n",
    "threshold =0.1\n",
    "waterplot(co2_baseline_asean.loc[[2050],:].T,autosum=1,threshold = 0 ,allsort=1,title = f'$CO^2$ emmision,ASEAN',top=0.85);"
   ]
  },
  {
   "cell_type": "markdown",
   "id": "e94c4d8b",
   "metadata": {
    "cell_style": "center",
    "slideshow": {
     "slide_type": "slide"
    }
   },
   "source": [
    "# Input Carbon tax rate, US\\$ per tonne "
   ]
  },
  {
   "cell_type": "code",
   "execution_count": null,
   "id": "63a62886",
   "metadata": {
    "cell_style": "center",
    "scrolled": true
   },
   "outputs": [],
   "source": [
    "from modelwidget import sumslidewidget,slidewidget, updatewidget, tabwidget,sheetwidget\n",
    "outvar = 'GDI GCARBR CO2 LNN'.split()\n",
    "displayvar = 'WLD_CO2 ASP_CO2 G20_CO2'\n",
    "\n",
    "#  masia.countries_GCARBR_A is list of all countries in the model with a countries_GCARBR_A \n",
    "#  masia.countries_ASEAN is list of all countries in ASEAN \n",
    "countries_rest = [country for country in masia.countries_GCARBR_A if country not in masia.countries_ASEAN]\n",
    "\n",
    "slidedef_allasean =  {'All ASEAN countries' : {'var': ' '.join([f'{country}_GCARBR_A' for country in masia.countries_ASEAN ])\n",
    "                          , 'value': 0.0,'min':0,'max':100,'op':'+impulse','step':10,'dec':0}}\n",
    "slidedef_allrest =  {'Rest of the world' : {'var': \n",
    "    ' '.join([f'{country}_GCARBR_A' for country in countries_rest])\n",
    "                          , 'value': 0.0,'min':0,'max':100,'op':'+impulse','step':10,'dec':0}}\n",
    "slidedef_countries = {masia.iso_dict.get(country,country)+', Extra' : \n",
    "                      {'var': f'{country}_GCARBR_A', 'value': 0.0,'min':-40,'max':40,'op':'+impulse','step':10,'dec':5} \n",
    "                      for country in  masia.countries_ASEAN}\n",
    "\n",
    "slidedef_ambition_countries = {masia.iso_dict.get(country,country)+', Ambition' : \n",
    "                      {'var': f'{country}_AMB', 'value': masia.lastdf.loc[masia.current_per[0]-1,f'{country}_AMB'],'min':1,'max':5,'op':'=','step':0.1,'dec':1} \n",
    "                      for country in  masia.countries_ASEAN}\n",
    "slidedef_enabling_countries = {masia.iso_dict.get(country,country)+', Enabling' : \n",
    "                      {'var': f'{country}_ENAB', 'value': masia.lastdf.loc[masia.current_per[0]-1,f'{country}_ENAB'],'min':1,'max':5,'op':'=','step':0.1,'dec':1} \n",
    "                      for country in  masia.countries_ASEAN}\n",
    "\n",
    "updatevar = [f'{country}_GCARBR_A' for country in masia.countries_ASEAN ]\n",
    "smalldf = baseline.loc[2022:2040, updatevar]\n",
    "\n",
    "tabsharedef = {masia.iso_dict.get(country,country) : sumslidewidget(\n",
    "                {'Environmental protection':{'var': f'{country}_SHAREE_A', 'value': 0.25,'min':0.0,'max':1,'op':'=','step':0.05,'dec':2} ,\n",
    "                 'Health'                  :{'var': f'{country}_SHAREH_A', 'value': 0.25,'min':0.0,'max':1,'op':'=','step':0.05,'dec':2} ,\n",
    "                 'Social protection'       :{'var': f'{country}_SHARESP_A','value': 0.25,'min':0.0,'max':1,'op':'=','step':0.05,'dec':2} ,\n",
    "                 'Education'               :{'var': f'{country}_SHAREED_A','value': 0.0,'min':0.0,'max':1,'op':'=','step':0.05,'dec':2} ,\n",
    "                 'Connectivity'            :{'var': f'{country}_SHARECX_A','value': 0.0,'min':0.0,'max':1,'op':'=','step':0.05,'dec':2} ,\n",
    "                 'Energy efficiency gains' :{'var': f'{country}_SHAREX_A', 'value': 0.25,'min':0.0,'max':1,'op':'=','step':0.05,'dec':2} \n",
    "                } , expname='Share (the sum can max be 1.0) of Carbon revenue spent on:', maxsum=1.0)  \n",
    "               \n",
    "               for country in masia.countries_ASEAN }\n",
    "\n",
    "\n",
    "tabdef = {'Areawide Carbon tax 2022'  : slidewidget( {**slidedef_allasean,**slidedef_allrest}),\n",
    "          'Single country add on 2022': slidewidget(slidedef_countries),\n",
    "          'Individual tax rates'      : (sheet1 :=  sheetwidget(df_var = smalldf,transpose=0,trans=masia.get_a_country)),\n",
    "          'Use of carbon tax revenue' : tabwidget(tabdefdict = tabsharedef,tab=True,selected_index = 0),\n",
    "          'Ambition'                  : slidewidget(slidedef_ambition_countries,expname='On a scale from 1 to 5'),\n",
    "          'Enabling'                  : slidewidget(slidedef_enabling_countries,expname='On a scale from 1 to 5'),\n",
    "            }\n",
    "\n",
    "\n",
    "wtab = tabwidget(tabdefdict = tabdef,tab=False)\n",
    "xx = updatewidget(masia,wtab,lwreset=True,varpat = displayvar,outputwidget='keep_viz') # output widget = either keep_viz or jupviz \n",
    "xx.wtotal"
   ]
  },
  {
   "cell_type": "markdown",
   "id": "05ebcaba",
   "metadata": {},
   "source": [
    "# Additional information\n",
    "Press \\<shift> \\<enter> in the cell's below to compare the $CO^2$ emissions in each county in the Business as usual\""
   ]
  },
  {
   "cell_type": "markdown",
   "id": "d60f2383",
   "metadata": {
    "cell_style": "split",
    "slideshow": {
     "slide_type": "slide"
    }
   },
   "source": [
    "# World reduction "
   ]
  },
  {
   "cell_type": "markdown",
   "id": "51f6ec3a",
   "metadata": {
    "cell_style": "split"
   },
   "source": [
    "# ASEAN reduction"
   ]
  },
  {
   "cell_type": "code",
   "execution_count": null,
   "id": "099c0d4f",
   "metadata": {
    "cell_style": "split"
   },
   "outputs": [],
   "source": [
    "if hasattr(masia,'inputwidget_alternativerun'):\n",
    "    Threshold =199\n",
    "    masia.dekomp_plot('WLD_CO2',pct=0,threshold=Threshold,nametrans=masia.country_get)\n",
    "    masia.dekomp_plot_per('WLD_CO2',pct=0,threshold=Threshold,per=2050,sort=True,nametrans=masia.country_get);\n",
    "else:\n",
    "    display(Markdown('# Try make an alternative and run again'))"
   ]
  },
  {
   "cell_type": "code",
   "execution_count": null,
   "id": "2dd4f58e",
   "metadata": {
    "cell_style": "split",
    "scrolled": false,
    "tags": [
     "remove_cell"
    ]
   },
   "outputs": [],
   "source": [
    "if hasattr(masia,'inputwidget_alternativerun'):\n",
    "    Threshold =0.01\n",
    "    masia.dekomp_plot('ASEAN_CO2',pct=0,threshold=Threshold,nametrans=masia.country_get)\n",
    "    masia.dekomp_plot_per('ASEAN_CO2',pct=0,threshold=Threshold,per=2050,sort=True,nametrans=masia.country_get);\n",
    "else:\n",
    "    display(Markdown('# Try make an alternative and run again'))"
   ]
  },
  {
   "cell_type": "code",
   "execution_count": null,
   "id": "15428583",
   "metadata": {},
   "outputs": [],
   "source": []
  },
  {
   "cell_type": "code",
   "execution_count": null,
   "id": "44f54ff7",
   "metadata": {},
   "outputs": [],
   "source": []
  },
  {
   "cell_type": "code",
   "execution_count": null,
   "id": "cd3080f1",
   "metadata": {},
   "outputs": [],
   "source": []
  }
 ],
 "metadata": {
  "celltoolbar": "Slideshow",
  "hide_input": false,
  "kernelspec": {
   "display_name": "Python 3 (ipykernel)",
   "language": "python",
   "name": "python3"
  },
  "language_info": {
   "codemirror_mode": {
    "name": "ipython",
    "version": 3
   },
   "file_extension": ".py",
   "mimetype": "text/x-python",
   "name": "python",
   "nbconvert_exporter": "python",
   "pygments_lexer": "ipython3",
   "version": "3.8.8"
  },
  "rise": {
   "autolaunch": true,
   "enable_chalkboard": true,
   "footer": "Asia model",
   "header": "ModelFlow",
   "scroll": true
  },
  "toc": {
   "base_numbering": 1,
   "nav_menu": {},
   "number_sections": true,
   "sideBar": true,
   "skip_h1_title": true,
   "title_cell": "Table of Contents",
   "title_sidebar": "Contents",
   "toc_cell": false,
   "toc_position": {},
   "toc_section_display": true,
   "toc_window_display": false
  }
 },
 "nbformat": 4,
 "nbformat_minor": 5
}
