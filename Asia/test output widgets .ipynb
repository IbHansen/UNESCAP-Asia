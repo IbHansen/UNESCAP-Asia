{
 "cells": [
  {
   "cell_type": "code",
   "execution_count": 1,
   "id": "664821b9",
   "metadata": {},
   "outputs": [],
   "source": [
    "from ipywidgets import interact,Dropdown,Checkbox,Output\n",
    "import ipywidgets as widgets\n",
    "from IPython.display import display, clear_output,Latex, Markdown\n",
    "import pandas as pd\n",
    "\n",
    "\n",
    "from modelclass import model"
   ]
  },
  {
   "cell_type": "code",
   "execution_count": 2,
   "id": "e9777420",
   "metadata": {},
   "outputs": [],
   "source": [
    "\n",
    "out = widgets.Output(layout={'border': '1px solid black'})\n"
   ]
  },
  {
   "cell_type": "code",
   "execution_count": 3,
   "id": "22bfb26b",
   "metadata": {},
   "outputs": [],
   "source": [
    "with out:  \n",
    "    display(widgets.IntSlider())\n",
    "    for i in range(10):\n",
    "        print(i, 'Hello world!')"
   ]
  },
  {
   "cell_type": "code",
   "execution_count": 4,
   "id": "c26b356e",
   "metadata": {},
   "outputs": [
    {
     "data": {
      "application/vnd.jupyter.widget-view+json": {
       "model_id": "3012c038294749a99b5883f88b4a04e6",
       "version_major": 2,
       "version_minor": 0
      },
      "text/plain": [
       "Output(layout=Layout(border='1px solid black'))"
      ]
     },
     "metadata": {},
     "output_type": "display_data"
    }
   ],
   "source": [
    "out"
   ]
  },
  {
   "cell_type": "code",
   "execution_count": 27,
   "id": "ef606ea7",
   "metadata": {},
   "outputs": [
    {
     "data": {
      "application/vnd.jupyter.widget-view+json": {
       "model_id": "d2c02e29ac814590bfcba42546f8c46f",
       "version_major": 2,
       "version_minor": 0
      },
      "text/plain": [
       "ToggleButton(value=False, description='Click me', icon='check', tooltip='Description')"
      ]
     },
     "metadata": {},
     "output_type": "display_data"
    }
   ],
   "source": [
    "xx=widgets.ToggleButton(\n",
    "    value=False,\n",
    "    description='Click me',\n",
    "    disabled=False,\n",
    "    button_style='', # 'success', 'info', 'warning', 'danger' or ''\n",
    "    tooltip='Description',\n",
    "    icon='check' # (FontAwesome names without the `fa-` prefix)\n",
    ")\n",
    "\n",
    "def ibs(g):\n",
    "    print(g)\n",
    "xx.observe(ibs,'All')\n",
    "xx"
   ]
  },
  {
   "cell_type": "code",
   "execution_count": 37,
   "id": "ef8344ee",
   "metadata": {},
   "outputs": [
    {
     "data": {
      "application/vnd.jupyter.widget-view+json": {
       "model_id": "1db3f74f801246ed8bd291ca5e3846b3",
       "version_major": 2,
       "version_minor": 0
      },
      "text/plain": [
       "Label(value='The values of slider is : ')"
      ]
     },
     "metadata": {},
     "output_type": "display_data"
    },
    {
     "data": {
      "application/vnd.jupyter.widget-view+json": {
       "model_id": "8206368c5c014242a78915b44198f652",
       "version_major": 2,
       "version_minor": 0
      },
      "text/plain": [
       "IntSlider(value=0, description='Slider', max=5, min=-5)"
      ]
     },
     "metadata": {},
     "output_type": "display_data"
    },
    {
     "name": "stdout",
     "output_type": "stream",
     "text": [
      "{'name': '_property_lock', 'old': traitlets.Undefined, 'new': {'value': 1}, 'owner': IntSlider(value=0, description='Slider', max=5, min=-5), 'type': 'change'}\n",
      "{'name': 'value', 'old': 0, 'new': 1, 'owner': IntSlider(value=1, description='Slider', max=5, min=-5), 'type': 'change'}\n",
      "{'name': '_property_lock', 'old': {'value': 1}, 'new': {}, 'owner': IntSlider(value=1, description='Slider', max=5, min=-5), 'type': 'change'}\n",
      "{'name': '_property_lock', 'old': {}, 'new': {'value': 2}, 'owner': IntSlider(value=1, description='Slider', max=5, min=-5), 'type': 'change'}\n",
      "{'name': 'value', 'old': 1, 'new': 2, 'owner': IntSlider(value=2, description='Slider', max=5, min=-5), 'type': 'change'}\n",
      "{'name': '_property_lock', 'old': {'value': 2}, 'new': {}, 'owner': IntSlider(value=2, description='Slider', max=5, min=-5), 'type': 'change'}\n",
      "{'name': '_property_lock', 'old': {}, 'new': {'value': 3}, 'owner': IntSlider(value=2, description='Slider', max=5, min=-5), 'type': 'change'}\n",
      "{'name': 'value', 'old': 2, 'new': 3, 'owner': IntSlider(value=3, description='Slider', max=5, min=-5), 'type': 'change'}\n",
      "{'name': '_property_lock', 'old': {'value': 3}, 'new': {}, 'owner': IntSlider(value=3, description='Slider', max=5, min=-5), 'type': 'change'}\n",
      "{'name': '_property_lock', 'old': {}, 'new': {'value': 2}, 'owner': IntSlider(value=3, description='Slider', max=5, min=-5), 'type': 'change'}\n",
      "{'name': 'value', 'old': 3, 'new': 2, 'owner': IntSlider(value=2, description='Slider', max=5, min=-5), 'type': 'change'}\n",
      "{'name': '_property_lock', 'old': {'value': 2}, 'new': {}, 'owner': IntSlider(value=2, description='Slider', max=5, min=-5), 'type': 'change'}\n",
      "{'name': '_property_lock', 'old': {}, 'new': {'value': 1}, 'owner': IntSlider(value=2, description='Slider', max=5, min=-5), 'type': 'change'}\n",
      "{'name': 'value', 'old': 2, 'new': 1, 'owner': IntSlider(value=1, description='Slider', max=5, min=-5), 'type': 'change'}\n",
      "{'name': '_property_lock', 'old': {'value': 1}, 'new': {}, 'owner': IntSlider(value=1, description='Slider', max=5, min=-5), 'type': 'change'}\n",
      "{'name': '_property_lock', 'old': {}, 'new': {'value': 0}, 'owner': IntSlider(value=1, description='Slider', max=5, min=-5), 'type': 'change'}\n",
      "{'name': 'value', 'old': 1, 'new': 0, 'owner': IntSlider(value=0, description='Slider', max=5, min=-5), 'type': 'change'}\n",
      "{'name': '_property_lock', 'old': {'value': 0}, 'new': {}, 'owner': IntSlider(value=0, description='Slider', max=5, min=-5), 'type': 'change'}\n",
      "{'name': '_property_lock', 'old': {}, 'new': {'value': -1}, 'owner': IntSlider(value=0, description='Slider', max=5, min=-5), 'type': 'change'}\n",
      "{'name': 'value', 'old': 0, 'new': -1, 'owner': IntSlider(value=-1, description='Slider', max=5, min=-5), 'type': 'change'}\n",
      "{'name': '_property_lock', 'old': {'value': -1}, 'new': {}, 'owner': IntSlider(value=-1, description='Slider', max=5, min=-5), 'type': 'change'}\n",
      "{'name': '_property_lock', 'old': {}, 'new': {'value': -2}, 'owner': IntSlider(value=-1, description='Slider', max=5, min=-5), 'type': 'change'}\n",
      "{'name': 'value', 'old': -1, 'new': -2, 'owner': IntSlider(value=-2, description='Slider', max=5, min=-5), 'type': 'change'}\n",
      "{'name': '_property_lock', 'old': {'value': -2}, 'new': {}, 'owner': IntSlider(value=-2, description='Slider', max=5, min=-5), 'type': 'change'}\n",
      "{'name': '_property_lock', 'old': {}, 'new': {'value': -3}, 'owner': IntSlider(value=-2, description='Slider', max=5, min=-5), 'type': 'change'}\n",
      "{'name': 'value', 'old': -2, 'new': -3, 'owner': IntSlider(value=-3, description='Slider', max=5, min=-5), 'type': 'change'}\n",
      "{'name': '_property_lock', 'old': {'value': -3}, 'new': {}, 'owner': IntSlider(value=-3, description='Slider', max=5, min=-5), 'type': 'change'}\n",
      "{'name': '_property_lock', 'old': {}, 'new': {'value': -4}, 'owner': IntSlider(value=-3, description='Slider', max=5, min=-5), 'type': 'change'}\n",
      "{'name': 'value', 'old': -3, 'new': -4, 'owner': IntSlider(value=-4, description='Slider', max=5, min=-5), 'type': 'change'}\n",
      "{'name': '_property_lock', 'old': {'value': -4}, 'new': {}, 'owner': IntSlider(value=-4, description='Slider', max=5, min=-5), 'type': 'change'}\n"
     ]
    }
   ],
   "source": [
    "caption = widgets.Label(value='The values of slider is : ')\n",
    "slider = widgets.IntSlider(min=-5, max=5, value=0, description='Slider',tooltip='dddddd')\n",
    "\n",
    "def handle_slider_change(change):\n",
    "    print(change)\n",
    "    caption.value = 'The values of slider is : ' + str(change.new)\n",
    "\n",
    "slider.observe(handle_slider_change)\n",
    "\n",
    "display(caption, slider)"
   ]
  },
  {
   "cell_type": "code",
   "execution_count": 38,
   "id": "2f33b1a4",
   "metadata": {},
   "outputs": [
    {
     "data": {
      "application/vnd.jupyter.widget-view+json": {
       "model_id": "0f3773df7ed7491ba96888444de7b978",
       "version_major": 2,
       "version_minor": 0
      },
      "text/plain": [
       "Button(description='Click Me!', style=ButtonStyle())"
      ]
     },
     "metadata": {},
     "output_type": "display_data"
    },
    {
     "data": {
      "application/vnd.jupyter.widget-view+json": {
       "model_id": "90d3b652cb5148b694de170e0bd5ef27",
       "version_major": 2,
       "version_minor": 0
      },
      "text/plain": [
       "Output()"
      ]
     },
     "metadata": {},
     "output_type": "display_data"
    }
   ],
   "source": [
    "button = widgets.Button(description=\"Click Me!\")\n",
    "output = widgets.Output()\n",
    "\n",
    "display(button, output)\n",
    "\n",
    "def on_button_clicked(b):\n",
    "    with output:\n",
    "        print(\"Button clicked.\")\n",
    "\n",
    "button.on_click(on_button_clicked)\n"
   ]
  },
  {
   "cell_type": "code",
   "execution_count": 5,
   "id": "0ae380b7",
   "metadata": {
    "scrolled": true
   },
   "outputs": [
    {
     "data": {
      "text/markdown": [
       "**Jupyter notebooks in this and all subfolders**"
      ],
      "text/plain": [
       "<IPython.core.display.Markdown object>"
      ]
     },
     "metadata": {},
     "output_type": "display_data"
    },
    {
     "data": {
      "text/html": [
       "<b>Asia (.)</b>"
      ],
      "text/plain": [
       "<IPython.core.display.HTML object>"
      ]
     },
     "metadata": {},
     "output_type": "display_data"
    },
    {
     "data": {
      "text/html": [
       "&nbsp; &nbsp; &nbsp; &nbsp; &nbsp; <a href=\"Asia logical structure.ipynb\" target=\"_blank\">Asia logical structure</a>"
      ],
      "text/plain": [
       "<IPython.core.display.HTML object>"
      ]
     },
     "metadata": {},
     "output_type": "display_data"
    },
    {
     "data": {
      "text/html": [
       "&nbsp; &nbsp; &nbsp; &nbsp; &nbsp; <a href=\"Asia run model.ipynb\" target=\"_blank\">Asia run model</a>"
      ],
      "text/plain": [
       "<IPython.core.display.HTML object>"
      ]
     },
     "metadata": {},
     "output_type": "display_data"
    },
    {
     "data": {
      "text/html": [
       "&nbsp; &nbsp; &nbsp; &nbsp; &nbsp; <a href=\"Carbon tax experiments.ipynb\" target=\"_blank\">Carbon tax experiments</a>"
      ],
      "text/plain": [
       "<IPython.core.display.HTML object>"
      ]
     },
     "metadata": {},
     "output_type": "display_data"
    },
    {
     "data": {
      "text/html": [
       "&nbsp; &nbsp; &nbsp; &nbsp; &nbsp; <a href=\"Impact of carbon tax rates changed from 2021 and forward .ipynb\" target=\"_blank\">Impact of carbon tax rates changed from 2021 and forward </a>"
      ],
      "text/plain": [
       "<IPython.core.display.HTML object>"
      ]
     },
     "metadata": {},
     "output_type": "display_data"
    },
    {
     "data": {
      "text/html": [
       "&nbsp; &nbsp; &nbsp; &nbsp; &nbsp; <a href=\"Invert tax and emmision.ipynb\" target=\"_blank\">Invert tax and emmision</a>"
      ],
      "text/plain": [
       "<IPython.core.display.HTML object>"
      ]
     },
     "metadata": {},
     "output_type": "display_data"
    }
   ],
   "source": [
    "model.display_toc(all=0)"
   ]
  },
  {
   "cell_type": "code",
   "execution_count": 6,
   "id": "ec17e185",
   "metadata": {},
   "outputs": [],
   "source": [
    "import ipysheet"
   ]
  },
  {
   "cell_type": "code",
   "execution_count": 7,
   "id": "42497391",
   "metadata": {},
   "outputs": [
    {
     "name": "stdout",
     "output_type": "stream",
     "text": [
      "Load model\n"
     ]
    }
   ],
   "source": [
    "if not 'masia' in locals():\n",
    "    print('Load model')\n",
    "    masia,baseline = model.modelload('Asia.pcim',run=1,silent=1)\n",
    "from inject import  inject\n",
    "inject(masia)"
   ]
  },
  {
   "cell_type": "code",
   "execution_count": 8,
   "id": "22e25f09",
   "metadata": {},
   "outputs": [
    {
     "data": {
      "text/plain": [
       "['BRN_GCARBR_A',\n",
       " 'KHM_GCARBR_A',\n",
       " 'IDN_GCARBR_A',\n",
       " 'LAO_GCARBR_A',\n",
       " 'MYS_GCARBR_A',\n",
       " 'MMR_GCARBR_A',\n",
       " 'PHL_GCARBR_A',\n",
       " 'SGP_GCARBR_A',\n",
       " 'THA_GCARBR_A',\n",
       " 'VNM_GCARBR_A']"
      ]
     },
     "execution_count": 8,
     "metadata": {},
     "output_type": "execute_result"
    }
   ],
   "source": [
    "[f'{country}_GCARBR_A' for country in masia.countries_ASEAN ]"
   ]
  },
  {
   "cell_type": "code",
   "execution_count": 9,
   "id": "b7592e4e",
   "metadata": {},
   "outputs": [
    {
     "data": {
      "text/html": [
       "<div>\n",
       "<style scoped>\n",
       "    .dataframe tbody tr th:only-of-type {\n",
       "        vertical-align: middle;\n",
       "    }\n",
       "\n",
       "    .dataframe tbody tr th {\n",
       "        vertical-align: top;\n",
       "    }\n",
       "\n",
       "    .dataframe thead th {\n",
       "        text-align: right;\n",
       "    }\n",
       "</style>\n",
       "<table border=\"1\" class=\"dataframe\">\n",
       "  <thead>\n",
       "    <tr style=\"text-align: right;\">\n",
       "      <th></th>\n",
       "      <th>BRN_GCARBR_A</th>\n",
       "      <th>KHM_GCARBR_A</th>\n",
       "      <th>IDN_GCARBR_A</th>\n",
       "      <th>LAO_GCARBR_A</th>\n",
       "      <th>MYS_GCARBR_A</th>\n",
       "      <th>MMR_GCARBR_A</th>\n",
       "      <th>PHL_GCARBR_A</th>\n",
       "      <th>SGP_GCARBR_A</th>\n",
       "      <th>THA_GCARBR_A</th>\n",
       "      <th>VNM_GCARBR_A</th>\n",
       "    </tr>\n",
       "  </thead>\n",
       "  <tbody>\n",
       "    <tr>\n",
       "      <th>2010</th>\n",
       "      <td>0.00000</td>\n",
       "      <td>0.0</td>\n",
       "      <td>0.00000</td>\n",
       "      <td>0.0</td>\n",
       "      <td>0.000000</td>\n",
       "      <td>0.0</td>\n",
       "      <td>0.0</td>\n",
       "      <td>0.0</td>\n",
       "      <td>0.000000</td>\n",
       "      <td>0.000000</td>\n",
       "    </tr>\n",
       "    <tr>\n",
       "      <th>2011</th>\n",
       "      <td>0.00000</td>\n",
       "      <td>0.0</td>\n",
       "      <td>0.00000</td>\n",
       "      <td>0.0</td>\n",
       "      <td>0.000000</td>\n",
       "      <td>0.0</td>\n",
       "      <td>0.0</td>\n",
       "      <td>0.0</td>\n",
       "      <td>0.000000</td>\n",
       "      <td>0.000000</td>\n",
       "    </tr>\n",
       "    <tr>\n",
       "      <th>2012</th>\n",
       "      <td>0.00000</td>\n",
       "      <td>0.0</td>\n",
       "      <td>0.00000</td>\n",
       "      <td>0.0</td>\n",
       "      <td>0.000000</td>\n",
       "      <td>0.0</td>\n",
       "      <td>0.0</td>\n",
       "      <td>0.0</td>\n",
       "      <td>0.000000</td>\n",
       "      <td>0.000000</td>\n",
       "    </tr>\n",
       "    <tr>\n",
       "      <th>2013</th>\n",
       "      <td>0.00000</td>\n",
       "      <td>0.0</td>\n",
       "      <td>0.00000</td>\n",
       "      <td>0.0</td>\n",
       "      <td>0.000000</td>\n",
       "      <td>0.0</td>\n",
       "      <td>0.0</td>\n",
       "      <td>0.0</td>\n",
       "      <td>0.000000</td>\n",
       "      <td>0.000000</td>\n",
       "    </tr>\n",
       "    <tr>\n",
       "      <th>2014</th>\n",
       "      <td>0.00000</td>\n",
       "      <td>0.0</td>\n",
       "      <td>0.00000</td>\n",
       "      <td>0.0</td>\n",
       "      <td>0.000000</td>\n",
       "      <td>0.0</td>\n",
       "      <td>0.0</td>\n",
       "      <td>0.0</td>\n",
       "      <td>0.000000</td>\n",
       "      <td>0.000000</td>\n",
       "    </tr>\n",
       "    <tr>\n",
       "      <th>2015</th>\n",
       "      <td>0.00000</td>\n",
       "      <td>0.0</td>\n",
       "      <td>0.00000</td>\n",
       "      <td>0.0</td>\n",
       "      <td>0.000000</td>\n",
       "      <td>0.0</td>\n",
       "      <td>0.0</td>\n",
       "      <td>0.0</td>\n",
       "      <td>0.000000</td>\n",
       "      <td>0.000000</td>\n",
       "    </tr>\n",
       "    <tr>\n",
       "      <th>2016</th>\n",
       "      <td>0.00000</td>\n",
       "      <td>0.0</td>\n",
       "      <td>0.00000</td>\n",
       "      <td>0.0</td>\n",
       "      <td>0.000000</td>\n",
       "      <td>0.0</td>\n",
       "      <td>0.0</td>\n",
       "      <td>0.0</td>\n",
       "      <td>0.000000</td>\n",
       "      <td>0.000000</td>\n",
       "    </tr>\n",
       "    <tr>\n",
       "      <th>2017</th>\n",
       "      <td>-8.52550</td>\n",
       "      <td>0.0</td>\n",
       "      <td>-0.34739</td>\n",
       "      <td>0.0</td>\n",
       "      <td>-2.134015</td>\n",
       "      <td>0.0</td>\n",
       "      <td>0.0</td>\n",
       "      <td>0.8</td>\n",
       "      <td>-1.114257</td>\n",
       "      <td>-1.925628</td>\n",
       "    </tr>\n",
       "    <tr>\n",
       "      <th>2018</th>\n",
       "      <td>-6.67774</td>\n",
       "      <td>0.0</td>\n",
       "      <td>-26.71891</td>\n",
       "      <td>0.0</td>\n",
       "      <td>-0.014767</td>\n",
       "      <td>0.0</td>\n",
       "      <td>0.0</td>\n",
       "      <td>0.8</td>\n",
       "      <td>-0.597055</td>\n",
       "      <td>-0.419652</td>\n",
       "    </tr>\n",
       "    <tr>\n",
       "      <th>2019</th>\n",
       "      <td>0.00000</td>\n",
       "      <td>0.0</td>\n",
       "      <td>0.00000</td>\n",
       "      <td>0.0</td>\n",
       "      <td>0.000000</td>\n",
       "      <td>0.0</td>\n",
       "      <td>0.0</td>\n",
       "      <td>0.0</td>\n",
       "      <td>0.000000</td>\n",
       "      <td>0.000000</td>\n",
       "    </tr>\n",
       "    <tr>\n",
       "      <th>2020</th>\n",
       "      <td>0.00000</td>\n",
       "      <td>0.0</td>\n",
       "      <td>0.00000</td>\n",
       "      <td>0.0</td>\n",
       "      <td>0.000000</td>\n",
       "      <td>0.0</td>\n",
       "      <td>0.0</td>\n",
       "      <td>0.0</td>\n",
       "      <td>0.000000</td>\n",
       "      <td>0.000000</td>\n",
       "    </tr>\n",
       "    <tr>\n",
       "      <th>2021</th>\n",
       "      <td>0.00000</td>\n",
       "      <td>0.0</td>\n",
       "      <td>0.00000</td>\n",
       "      <td>0.0</td>\n",
       "      <td>0.000000</td>\n",
       "      <td>0.0</td>\n",
       "      <td>0.0</td>\n",
       "      <td>0.0</td>\n",
       "      <td>0.000000</td>\n",
       "      <td>0.000000</td>\n",
       "    </tr>\n",
       "    <tr>\n",
       "      <th>2022</th>\n",
       "      <td>0.00000</td>\n",
       "      <td>0.0</td>\n",
       "      <td>0.00000</td>\n",
       "      <td>0.0</td>\n",
       "      <td>0.000000</td>\n",
       "      <td>0.0</td>\n",
       "      <td>0.0</td>\n",
       "      <td>0.0</td>\n",
       "      <td>0.000000</td>\n",
       "      <td>0.000000</td>\n",
       "    </tr>\n",
       "    <tr>\n",
       "      <th>2023</th>\n",
       "      <td>0.00000</td>\n",
       "      <td>0.0</td>\n",
       "      <td>0.00000</td>\n",
       "      <td>0.0</td>\n",
       "      <td>0.000000</td>\n",
       "      <td>0.0</td>\n",
       "      <td>0.0</td>\n",
       "      <td>0.0</td>\n",
       "      <td>0.000000</td>\n",
       "      <td>0.000000</td>\n",
       "    </tr>\n",
       "    <tr>\n",
       "      <th>2024</th>\n",
       "      <td>0.00000</td>\n",
       "      <td>0.0</td>\n",
       "      <td>0.00000</td>\n",
       "      <td>0.0</td>\n",
       "      <td>0.000000</td>\n",
       "      <td>0.0</td>\n",
       "      <td>0.0</td>\n",
       "      <td>0.0</td>\n",
       "      <td>0.000000</td>\n",
       "      <td>0.000000</td>\n",
       "    </tr>\n",
       "    <tr>\n",
       "      <th>2025</th>\n",
       "      <td>0.00000</td>\n",
       "      <td>0.0</td>\n",
       "      <td>0.00000</td>\n",
       "      <td>0.0</td>\n",
       "      <td>0.000000</td>\n",
       "      <td>0.0</td>\n",
       "      <td>0.0</td>\n",
       "      <td>0.0</td>\n",
       "      <td>0.000000</td>\n",
       "      <td>0.000000</td>\n",
       "    </tr>\n",
       "  </tbody>\n",
       "</table>\n",
       "</div>"
      ],
      "text/plain": [
       "      BRN_GCARBR_A  KHM_GCARBR_A  IDN_GCARBR_A  LAO_GCARBR_A  MYS_GCARBR_A  \\\n",
       "2010       0.00000           0.0       0.00000           0.0      0.000000   \n",
       "2011       0.00000           0.0       0.00000           0.0      0.000000   \n",
       "2012       0.00000           0.0       0.00000           0.0      0.000000   \n",
       "2013       0.00000           0.0       0.00000           0.0      0.000000   \n",
       "2014       0.00000           0.0       0.00000           0.0      0.000000   \n",
       "2015       0.00000           0.0       0.00000           0.0      0.000000   \n",
       "2016       0.00000           0.0       0.00000           0.0      0.000000   \n",
       "2017      -8.52550           0.0      -0.34739           0.0     -2.134015   \n",
       "2018      -6.67774           0.0     -26.71891           0.0     -0.014767   \n",
       "2019       0.00000           0.0       0.00000           0.0      0.000000   \n",
       "2020       0.00000           0.0       0.00000           0.0      0.000000   \n",
       "2021       0.00000           0.0       0.00000           0.0      0.000000   \n",
       "2022       0.00000           0.0       0.00000           0.0      0.000000   \n",
       "2023       0.00000           0.0       0.00000           0.0      0.000000   \n",
       "2024       0.00000           0.0       0.00000           0.0      0.000000   \n",
       "2025       0.00000           0.0       0.00000           0.0      0.000000   \n",
       "\n",
       "      MMR_GCARBR_A  PHL_GCARBR_A  SGP_GCARBR_A  THA_GCARBR_A  VNM_GCARBR_A  \n",
       "2010           0.0           0.0           0.0      0.000000      0.000000  \n",
       "2011           0.0           0.0           0.0      0.000000      0.000000  \n",
       "2012           0.0           0.0           0.0      0.000000      0.000000  \n",
       "2013           0.0           0.0           0.0      0.000000      0.000000  \n",
       "2014           0.0           0.0           0.0      0.000000      0.000000  \n",
       "2015           0.0           0.0           0.0      0.000000      0.000000  \n",
       "2016           0.0           0.0           0.0      0.000000      0.000000  \n",
       "2017           0.0           0.0           0.8     -1.114257     -1.925628  \n",
       "2018           0.0           0.0           0.8     -0.597055     -0.419652  \n",
       "2019           0.0           0.0           0.0      0.000000      0.000000  \n",
       "2020           0.0           0.0           0.0      0.000000      0.000000  \n",
       "2021           0.0           0.0           0.0      0.000000      0.000000  \n",
       "2022           0.0           0.0           0.0      0.000000      0.000000  \n",
       "2023           0.0           0.0           0.0      0.000000      0.000000  \n",
       "2024           0.0           0.0           0.0      0.000000      0.000000  \n",
       "2025           0.0           0.0           0.0      0.000000      0.000000  "
      ]
     },
     "execution_count": 9,
     "metadata": {},
     "output_type": "execute_result"
    }
   ],
   "source": [
    "smalldf = baseline.loc[2010:2025,[f'{country}_GCARBR_A' for country in masia.countries_ASEAN ]]\n",
    "smalldf"
   ]
  },
  {
   "cell_type": "code",
   "execution_count": 10,
   "id": "bdb4f767",
   "metadata": {},
   "outputs": [
    {
     "data": {
      "application/vnd.jupyter.widget-view+json": {
       "model_id": "c9ec02af66bb40b0a3059f5b9a3eae9a",
       "version_major": 2,
       "version_minor": 0
      },
      "text/plain": [
       "Sheet(cells=(Cell(column_end=0, column_start=0, row_end=15, row_start=0, squeeze_row=False, type='numeric', va…"
      ]
     },
     "metadata": {},
     "output_type": "display_data"
    }
   ],
   "source": [
    "cc = ipysheet.pandas_loader.from_dataframe(smalldf)\n",
    "display(cc)"
   ]
  },
  {
   "cell_type": "code",
   "execution_count": 17,
   "id": "3cbefcc8",
   "metadata": {},
   "outputs": [
    {
     "name": "stdout",
     "output_type": "stream",
     "text": [
      "Object `observe` not found.\n"
     ]
    }
   ],
   "source": [
    "cc.cells[0].observe"
   ]
  },
  {
   "cell_type": "code",
   "execution_count": null,
   "id": "cb6fd85f",
   "metadata": {},
   "outputs": [],
   "source": [
    "cc.cells[0].observe"
   ]
  },
  {
   "cell_type": "code",
   "execution_count": 12,
   "id": "bf8a854a",
   "metadata": {},
   "outputs": [
    {
     "data": {
      "application/vnd.jupyter.widget-view+json": {
       "model_id": "e51b5347c16449d5b504a55f7e5bdd4e",
       "version_major": 2,
       "version_minor": 0
      },
      "text/plain": [
       "Sheet(columns=5, layout=Layout(height='auto', width='auto'), rows=5)"
      ]
     },
     "metadata": {},
     "output_type": "display_data"
    }
   ],
   "source": [
    "s1"
   ]
  }
 ],
 "metadata": {
  "hide_input": false,
  "kernelspec": {
   "display_name": "Python 3",
   "language": "python",
   "name": "python3"
  },
  "language_info": {
   "codemirror_mode": {
    "name": "ipython",
    "version": 3
   },
   "file_extension": ".py",
   "mimetype": "text/x-python",
   "name": "python",
   "nbconvert_exporter": "python",
   "pygments_lexer": "ipython3",
   "version": "3.8.8"
  },
  "toc": {
   "base_numbering": 1,
   "nav_menu": {},
   "number_sections": true,
   "sideBar": true,
   "skip_h1_title": true,
   "title_cell": "Table of Contents",
   "title_sidebar": "Contents",
   "toc_cell": false,
   "toc_position": {},
   "toc_section_display": true,
   "toc_window_display": false
  }
 },
 "nbformat": 4,
 "nbformat_minor": 5
}
