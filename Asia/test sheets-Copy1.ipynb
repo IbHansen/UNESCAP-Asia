{
 "cells": [
  {
   "cell_type": "code",
   "execution_count": 3,
   "id": "664821b9",
   "metadata": {},
   "outputs": [],
   "source": [
    "from ipywidgets import interact,Dropdown,Checkbox,Output, Tab\n",
    "import ipywidgets as widgets\n",
    "from IPython.display import display, clear_output,Latex, Markdown\n",
    "import pandas as pd\n",
    "from  ipysheet import sheet, cell, current \n",
    "from ipysheet.pandas_loader import from_dataframe\n",
    "from modelclass import model"
   ]
  },
  {
   "cell_type": "code",
   "execution_count": 4,
   "id": "42497391",
   "metadata": {},
   "outputs": [
    {
     "name": "stdout",
     "output_type": "stream",
     "text": [
      "Load model\n",
      "Wall time: 10.6 s\n"
     ]
    }
   ],
   "source": [
    "%%time\n",
    "if not 'masia' in locals():\n",
    "    print('Load model')\n",
    "    masia,baseline = model.modelload('Asia.pcim',run=0,silent=1)\n",
    "from inject import  inject\n",
    "inject(masia)"
   ]
  },
  {
   "cell_type": "code",
   "execution_count": 5,
   "id": "22e25f09",
   "metadata": {},
   "outputs": [
    {
     "data": {
      "text/plain": [
       "['BRN_GCARBR_A',\n",
       " 'KHM_GCARBR_A',\n",
       " 'IDN_GCARBR_A',\n",
       " 'LAO_GCARBR_A',\n",
       " 'MYS_GCARBR_A',\n",
       " 'MMR_GCARBR_A',\n",
       " 'PHL_GCARBR_A',\n",
       " 'SGP_GCARBR_A',\n",
       " 'THA_GCARBR_A',\n",
       " 'VNM_GCARBR_A']"
      ]
     },
     "execution_count": 5,
     "metadata": {},
     "output_type": "execute_result"
    }
   ],
   "source": [
    "[f'{country}_GCARBR_A' for country in masia.countries_ASEAN ]"
   ]
  },
  {
   "cell_type": "code",
   "execution_count": 6,
   "id": "b7592e4e",
   "metadata": {},
   "outputs": [
    {
     "data": {
      "text/html": [
       "<div>\n",
       "<style scoped>\n",
       "    .dataframe tbody tr th:only-of-type {\n",
       "        vertical-align: middle;\n",
       "    }\n",
       "\n",
       "    .dataframe tbody tr th {\n",
       "        vertical-align: top;\n",
       "    }\n",
       "\n",
       "    .dataframe thead th {\n",
       "        text-align: right;\n",
       "    }\n",
       "</style>\n",
       "<table border=\"1\" class=\"dataframe\">\n",
       "  <thead>\n",
       "    <tr style=\"text-align: right;\">\n",
       "      <th></th>\n",
       "      <th>BRN_GCARBR_A</th>\n",
       "      <th>KHM_GCARBR_A</th>\n",
       "      <th>IDN_GCARBR_A</th>\n",
       "    </tr>\n",
       "  </thead>\n",
       "  <tbody>\n",
       "    <tr>\n",
       "      <th>2014</th>\n",
       "      <td>0.0</td>\n",
       "      <td>0</td>\n",
       "      <td>0.0</td>\n",
       "    </tr>\n",
       "    <tr>\n",
       "      <th>2015</th>\n",
       "      <td>0.0</td>\n",
       "      <td>0</td>\n",
       "      <td>0.0</td>\n",
       "    </tr>\n",
       "  </tbody>\n",
       "</table>\n",
       "</div>"
      ],
      "text/plain": [
       "      BRN_GCARBR_A  KHM_GCARBR_A  IDN_GCARBR_A\n",
       "2014           0.0             0           0.0\n",
       "2015           0.0             0           0.0"
      ]
     },
     "execution_count": 6,
     "metadata": {},
     "output_type": "execute_result"
    }
   ],
   "source": [
    "smalldf = baseline.loc[2014:2015,[f'{country}_GCARBR_A' for country in masia.countries_ASEAN ][:3]]\n",
    "smalldf "
   ]
  },
  {
   "cell_type": "code",
   "execution_count": 7,
   "id": "bdb4f767",
   "metadata": {
    "scrolled": true
   },
   "outputs": [
    {
     "data": {
      "application/vnd.jupyter.widget-view+json": {
       "model_id": "0d4e2a4bf31b4720ac87121bd0d14bcd",
       "version_major": 2,
       "version_minor": 0
      },
      "text/plain": [
       "Sheet(cells=(Cell(column_end=0, column_start=0, row_end=2, row_start=0, squeeze_row=False, type='numeric', val…"
      ]
     },
     "metadata": {},
     "output_type": "display_data"
    }
   ],
   "source": [
    "cc = sheet(from_dataframe(smalldf.T))\n",
    "display(cc)"
   ]
  },
  {
   "cell_type": "code",
   "execution_count": 8,
   "id": "722aee9c",
   "metadata": {},
   "outputs": [
    {
     "data": {
      "text/plain": [
       "Cell(column_end=1, column_start=1, numeric_format='0', row_end=1, row_start=1, type='numeric', value=88)"
      ]
     },
     "metadata": {},
     "output_type": "display_data"
    }
   ],
   "source": [
    "\n",
    "cell(1,1).value= 77\n",
    "cell(1,1,numeric_format = '0',value=88)"
   ]
  },
  {
   "cell_type": "code",
   "execution_count": 9,
   "id": "92494474",
   "metadata": {},
   "outputs": [
    {
     "data": {
      "text/plain": [
       "Cell(column_end=2, column_start=2, row_end=2, row_start=2, type='numeric', value=0.0)"
      ]
     },
     "metadata": {},
     "output_type": "display_data"
    }
   ],
   "source": [
    "cell(2,2)"
   ]
  },
  {
   "cell_type": "code",
   "execution_count": 10,
   "id": "9829b966",
   "metadata": {},
   "outputs": [
    {
     "data": {
      "application/vnd.jupyter.widget-view+json": {
       "model_id": "0d4e2a4bf31b4720ac87121bd0d14bcd",
       "version_major": 2,
       "version_minor": 0
      },
      "text/plain": [
       "Sheet(cells=(Cell(column_end=0, column_start=0, row_end=2, row_start=0, squeeze_row=False, type='numeric', val…"
      ]
     },
     "metadata": {},
     "output_type": "display_data"
    }
   ],
   "source": [
    "display(cc)"
   ]
  },
  {
   "cell_type": "code",
   "execution_count": 15,
   "id": "c4f5e630",
   "metadata": {},
   "outputs": [],
   "source": [
    "t = Tab([cc,cc])"
   ]
  },
  {
   "cell_type": "code",
   "execution_count": 16,
   "id": "53d1178b",
   "metadata": {},
   "outputs": [
    {
     "data": {
      "application/vnd.jupyter.widget-view+json": {
       "model_id": "64ea7fd9526c4987a8c6100b0fe9c706",
       "version_major": 2,
       "version_minor": 0
      },
      "text/plain": [
       "Tab(children=(Sheet(cells=(Cell(column_end=0, column_start=0, row_end=2, row_start=0, squeeze_row=False, type=…"
      ]
     },
     "metadata": {},
     "output_type": "display_data"
    }
   ],
   "source": [
    "t"
   ]
  }
 ],
 "metadata": {
  "hide_input": false,
  "kernelspec": {
   "display_name": "Python 3",
   "language": "python",
   "name": "python3"
  },
  "language_info": {
   "codemirror_mode": {
    "name": "ipython",
    "version": 3
   },
   "file_extension": ".py",
   "mimetype": "text/x-python",
   "name": "python",
   "nbconvert_exporter": "python",
   "pygments_lexer": "ipython3",
   "version": "3.8.8"
  },
  "toc": {
   "base_numbering": 1,
   "nav_menu": {},
   "number_sections": true,
   "sideBar": true,
   "skip_h1_title": true,
   "title_cell": "Table of Contents",
   "title_sidebar": "Contents",
   "toc_cell": false,
   "toc_position": {},
   "toc_section_display": true,
   "toc_window_display": false
  }
 },
 "nbformat": 4,
 "nbformat_minor": 5
}
