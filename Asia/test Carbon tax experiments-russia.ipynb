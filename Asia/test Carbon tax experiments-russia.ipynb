{
 "cells": [
  {
   "cell_type": "code",
   "execution_count": 1,
   "id": "6ac69535",
   "metadata": {
    "hide_input": false,
    "slideshow": {
     "slide_type": "skip"
    }
   },
   "outputs": [],
   "source": [
    "# Import modelflow\n",
    "\n",
    "%load_ext autoreload\n",
    "%autoreload 2"
   ]
  },
  {
   "cell_type": "code",
   "execution_count": 5,
   "id": "26a97026",
   "metadata": {
    "hide_input": false,
    "scrolled": false,
    "slideshow": {
     "slide_type": "skip"
    }
   },
   "outputs": [
    {
     "data": {
      "text/html": [
       "\n",
       "        <style>\n",
       "            div#notebook-container    { width: 95%; }\n",
       "            div#menubar-container     { width: 65%; }\n",
       "            div#maintoolbar-container { width: 99%; }\n",
       "        </style>\n",
       "        "
      ],
      "text/plain": [
       "<IPython.core.display.HTML object>"
      ]
     },
     "metadata": {},
     "output_type": "display_data"
    },
    {
     "data": {
      "text/html": [
       "\n",
       "            <style>\n",
       "                div#notebook-container    { width: 95%; }\n",
       "                div#menubar-container     { width: 65%; }\n",
       "                div#maintoolbar-container { width: 99%; }\n",
       "            </style>\n",
       "            "
      ],
      "text/plain": [
       "<IPython.core.display.HTML object>"
      ]
     },
     "metadata": {},
     "output_type": "display_data"
    },
    {
     "data": {
      "text/html": [
       "            <script>\n",
       "                // AUTORUN ALL CELLS ON NOTEBOOK-LOAD!\n",
       "                require(\n",
       "                    ['base/js/namespace', 'jquery'], \n",
       "                    function(jupyter, $) {\n",
       "                        $(jupyter.events).on('kernel_ready.Kernel', function () {\n",
       "                            console.log('Auto-running all cells-below...');\n",
       "                            jupyter.actions.call('jupyter-notebook:run-all-cells-below');\n",
       "                            jupyter.actions.call('jupyter-notebook:save-notebook');\n",
       "                        });\n",
       "                    }\n",
       "                );\n",
       "            </script>"
      ],
      "text/plain": [
       "<IPython.core.display.HTML object>"
      ]
     },
     "metadata": {},
     "output_type": "display_data"
    }
   ],
   "source": [
    "%matplotlib inline\n",
    "\n",
    "from ipywidgets import interact,Dropdown,Checkbox\n",
    "from IPython.display import display, clear_output,Latex, Markdown\n",
    "import pandas as pd\n",
    "\n",
    "import modeljupyter as mj\n",
    "from modelvis import waterplot\n",
    "\n",
    "from modelinvert import targets_instruments\n",
    "from modelclass import model\n",
    "model.widescreen()\n",
    "model.modelflow_auto()\n",
    "\n"
   ]
  },
  {
   "cell_type": "code",
   "execution_count": 5,
   "id": "d8932a99",
   "metadata": {
    "slideshow": {
     "slide_type": "skip"
    }
   },
   "outputs": [
    {
     "data": {
      "application/javascript": [
       "IPython.OutputArea.prototype._should_scroll = function(lines){\n",
       "    return false;\n",
       "}\n"
      ],
      "text/plain": [
       "<IPython.core.display.Javascript object>"
      ]
     },
     "metadata": {},
     "output_type": "display_data"
    }
   ],
   "source": [
    "%%javascript\n",
    "IPython.OutputArea.prototype._should_scroll = function(lines){\n",
    "    return false;\n",
    "}"
   ]
  },
  {
   "cell_type": "code",
   "execution_count": 3,
   "id": "b84eb2cf",
   "metadata": {
    "slideshow": {
     "slide_type": "skip"
    }
   },
   "outputs": [
    {
     "name": "stdout",
     "output_type": "stream",
     "text": [
      "Load model\n"
     ]
    }
   ],
   "source": [
    "# Load model and data, and run \n",
    "\n",
    "if not 'masia' in locals():\n",
    "    print('Load model')\n",
    "    masia,baseline = model.modelload('Asia_sep7.pcim',run=1,silent=1)\n",
    "from inject import inject\n",
    "inject(masia)    "
   ]
  },
  {
   "cell_type": "code",
   "execution_count": 4,
   "id": "1d3054fd",
   "metadata": {},
   "outputs": [
    {
     "name": "stdout",
     "output_type": "stream",
     "text": [
      "FRML <> EMU_EXR = EMU_EXR(-1)*(((EMU_INFT-USA_INFT)/100+1))*((-5*((EMU_INT-USA_INT)-(EMU_INT(-1)-USA_INT(-1))))/100+1) + EMU_EXR_A $\n",
      "FRML <> EMU_INT = EMU_INT(-1)+(USA_INT-USA_INT(-1)) + EMU_INT_A $\n",
      "FRML <> EMU_INFT = EMU_INFT(-1) + EMU_INFT_A $\n",
      "FRML <> AFG_HIC = AFG_HIC(-1)*EXP(AFG_HIC_A +  (0.5*((LOG(AFG_HIC(-1)))-(LOG(AFG_HIC(-2))))+0.1*((LOG(AFG_MTD))-(LOG(AFG_MTD(-1))))+0.4*(AFG_INFT/100)+0.375*(AFG_YER/AFG_YFT-AFG_YER(-1)/AFG_YFT(-1))+((LOG(1+AFG_ITAXR))-(LOG(1+AFG_ITAXR(-1))))+0.5*((LOG(1+AFG_GCARB/(0.6*AFG_YEN(-1))))-(LOG(1+AFG_GCARB(-1)/(0.6*AFG_YEN(-2)))))+0.01*(AFG_PREM-AFG_PREM(-1))/100) ) $\n",
      "FRML <> AFG_YED = AFG_YED(-1)*AFG_HIC/AFG_HIC(-1) + AFG_YED_A $\n",
      "FRML <> AFG_INT = AFG_INT(-1)+USA_INT-USA_INT(-1) + AFG_INT_A $\n",
      "FRML <> AFG_LTI = AFG_LTI(-1)+0.5*(AFG_INT-AFG_INT(-1))+(AFG_PREM-AFG_PREM(-1))/100 + AFG_LTI_A $\n",
      "FRML <> AFG_PREM = AFG_PREM(-1) + AFG_PREM_A $\n",
      "FRML <> AFG_LNN = AFG_LNN(-1)*EXP(AFG_LNN_A +  (((LOG(AFG_LFN))-(LOG(AFG_LFN(-1))))-0.1*(LOG(AFG_LNN(-1))-LOG(AFG_LF\n"
     ]
    }
   ],
   "source": [
    "print(masia.equations[:1000])"
   ]
  },
  {
   "cell_type": "code",
   "execution_count": 1,
   "id": "53ec18ed",
   "metadata": {},
   "outputs": [],
   "source": [
    "from dash import dcc"
   ]
  },
  {
   "cell_type": "code",
   "execution_count": 3,
   "id": "5e22b533",
   "metadata": {},
   "outputs": [
    {
     "data": {
      "text/plain": [
       "<module 'dash_core_components' from 'C:\\\\Users\\\\ibhan\\\\Anaconda3\\\\lib\\\\site-packages\\\\dash_core_components\\\\__init__.py'>"
      ]
     },
     "execution_count": 3,
     "metadata": {},
     "output_type": "execute_result"
    }
   ],
   "source": [
    "import dash_core_components as dcc\n",
    "dcc"
   ]
  },
  {
   "cell_type": "code",
   "execution_count": 5,
   "id": "c4674710",
   "metadata": {},
   "outputs": [],
   "source": [
    "eq = masia.equations\n",
    "# change the relevant equation to sometinnng else \n",
    "# masia_new = model()"
   ]
  },
  {
   "cell_type": "code",
   "execution_count": 6,
   "id": "84e0b533",
   "metadata": {
    "slideshow": {
     "slide_type": "skip"
    }
   },
   "outputs": [],
   "source": [
    "co2_input_var = [var for var in masia.totgraph.predecessors('WLD_CO2') if var.endswith('CO2')]\n",
    "co2_input_var_asean = [var for var in masia.totgraph.predecessors('WLD_CO2') if var.endswith('CO2') and  var.split('_')[0] in masia.countries_ASEAN ]"
   ]
  },
  {
   "cell_type": "code",
   "execution_count": 7,
   "id": "0428ab25",
   "metadata": {
    "slideshow": {
     "slide_type": "skip"
    }
   },
   "outputs": [],
   "source": [
    "co2_baseline = baseline.loc[:,co2_input_var].pipe(lambda df:df.rename(columns={c : masia.iso_dict.get(cname := c.split('_')[0],cname) for c in df.columns}))\n",
    "co2_baseline_asean = baseline.loc[:,co2_input_var_asean].pipe(lambda df:df.rename(columns={c : masia.iso_dict.get(cname := c.split('_')[0],cname) for c in df.columns}))"
   ]
  },
  {
   "cell_type": "code",
   "execution_count": 8,
   "id": "8d9c356e",
   "metadata": {},
   "outputs": [
    {
     "data": {
      "text/plain": [
       "['RUS_CAN',\n",
       " 'RUS_CANOTH',\n",
       " 'RUS_CANOTH_A',\n",
       " 'RUS_CANRATIO',\n",
       " 'RUS_CANRATIO_A',\n",
       " 'RUS_CAN_A',\n",
       " 'RUS_CLIMLOSS',\n",
       " 'RUS_CLIMLOSS_A',\n",
       " 'RUS_CMUD',\n",
       " 'RUS_CMUD_A',\n",
       " 'RUS_CO2',\n",
       " 'RUS_CO2_A',\n",
       " 'RUS_COALC',\n",
       " 'RUS_COALC_A',\n",
       " 'RUS_CTAX',\n",
       " 'RUS_CTAXR',\n",
       " 'RUS_CTAXR_A',\n",
       " 'RUS_CTAX_A',\n",
       " 'RUS_CXS',\n",
       " 'RUS_CXS_A',\n",
       " 'RUS_CXUD',\n",
       " 'RUS_CXUD_A',\n",
       " 'RUS_DEP',\n",
       " 'RUS_DEP_A',\n",
       " 'RUS_EC',\n",
       " 'RUS_EC_A',\n",
       " 'RUS_EFEX',\n",
       " 'RUS_EFEX_A',\n",
       " 'RUS_EFF',\n",
       " 'RUS_EFF_A',\n",
       " 'RUS_ENAB',\n",
       " 'RUS_ENAB_A',\n",
       " 'RUS_EXP',\n",
       " 'RUS_EXPE',\n",
       " 'RUS_EXPEB',\n",
       " 'RUS_EXPEB_A',\n",
       " 'RUS_EXPE_A',\n",
       " 'RUS_EXPH',\n",
       " 'RUS_EXPHB',\n",
       " 'RUS_EXPHB_A',\n",
       " 'RUS_EXPH_A',\n",
       " 'RUS_EXPSP',\n",
       " 'RUS_EXPSPB',\n",
       " 'RUS_EXPSPB_A',\n",
       " 'RUS_EXPSP_A',\n",
       " 'RUS_EXP_A',\n",
       " 'RUS_EXR',\n",
       " 'RUS_EXR_A',\n",
       " 'RUS_EXR_VALUE_2015',\n",
       " 'RUS_FINC',\n",
       " 'RUS_FINC_A',\n",
       " 'RUS_GASC',\n",
       " 'RUS_GASC_A',\n",
       " 'RUS_GCARB',\n",
       " 'RUS_GCARBB',\n",
       " 'RUS_GCARBB_A',\n",
       " 'RUS_GCARBR',\n",
       " 'RUS_GCARBRB',\n",
       " 'RUS_GCARBRB_A',\n",
       " 'RUS_GCARBR_A',\n",
       " 'RUS_GCARB_A',\n",
       " 'RUS_GCOM',\n",
       " 'RUS_GCOM_A',\n",
       " 'RUS_GCR',\n",
       " 'RUS_GCR_A',\n",
       " 'RUS_GDFXSH',\n",
       " 'RUS_GDFXSH_A',\n",
       " 'RUS_GDI',\n",
       " 'RUS_GDI_A',\n",
       " 'RUS_GDN',\n",
       " 'RUS_GDNRATIO',\n",
       " 'RUS_GDNRATIO_A',\n",
       " 'RUS_GDN_A',\n",
       " 'RUS_GINI_DISP',\n",
       " 'RUS_GINI_DISP_A',\n",
       " 'RUS_GINT',\n",
       " 'RUS_GINT_A',\n",
       " 'RUS_GIP',\n",
       " 'RUS_GIP_A',\n",
       " 'RUS_GLN',\n",
       " 'RUS_GLNRATIO',\n",
       " 'RUS_GLNRATIO_A',\n",
       " 'RUS_GLNT',\n",
       " 'RUS_GLNT_A',\n",
       " 'RUS_GLN_A',\n",
       " 'RUS_GOTH',\n",
       " 'RUS_GOTH_A',\n",
       " 'RUS_GTRADE',\n",
       " 'RUS_GTRADER',\n",
       " 'RUS_GTRADER_A',\n",
       " 'RUS_GTRADE_A',\n",
       " 'RUS_HEAD19',\n",
       " 'RUS_HEAD19_A',\n",
       " 'RUS_HEAD55',\n",
       " 'RUS_HEAD55_A',\n",
       " 'RUS_HIC',\n",
       " 'RUS_HIC_A',\n",
       " 'RUS_HIC_VALUE_2015',\n",
       " 'RUS_IGR',\n",
       " 'RUS_IGR_A',\n",
       " 'RUS_INFT',\n",
       " 'RUS_INFT_A',\n",
       " 'RUS_INT',\n",
       " 'RUS_INT_A',\n",
       " 'RUS_IPR',\n",
       " 'RUS_IPR_A',\n",
       " 'RUS_ITAX',\n",
       " 'RUS_ITAXR',\n",
       " 'RUS_ITAXR_A',\n",
       " 'RUS_ITAX_A',\n",
       " 'RUS_ITR',\n",
       " 'RUS_ITR_A',\n",
       " 'RUS_K',\n",
       " 'RUS_K_A',\n",
       " 'RUS_LABSH',\n",
       " 'RUS_LABSH_A',\n",
       " 'RUS_LFN',\n",
       " 'RUS_LFN_A',\n",
       " 'RUS_LIVES',\n",
       " 'RUS_LIVES_A',\n",
       " 'RUS_LNN',\n",
       " 'RUS_LNNF',\n",
       " 'RUS_LNNF_A',\n",
       " 'RUS_LNN_A',\n",
       " 'RUS_LOCK',\n",
       " 'RUS_LOCK_A',\n",
       " 'RUS_LRX',\n",
       " 'RUS_LRX_A',\n",
       " 'RUS_LTI',\n",
       " 'RUS_LTI_A',\n",
       " 'RUS_MTD',\n",
       " 'RUS_MTD_A',\n",
       " 'RUS_MTN',\n",
       " 'RUS_MTN_A',\n",
       " 'RUS_MTN_DOLLAR',\n",
       " 'RUS_MTN_DOLLAR_A',\n",
       " 'RUS_MTR',\n",
       " 'RUS_MTR_A',\n",
       " 'RUS_MTR_DOLLAR',\n",
       " 'RUS_MTR_DOLLAR_A',\n",
       " 'RUS_OGC',\n",
       " 'RUS_OGC_A',\n",
       " 'RUS_OGI',\n",
       " 'RUS_OGI_A',\n",
       " 'RUS_OILC',\n",
       " 'RUS_OILC_A',\n",
       " 'RUS_OMS',\n",
       " 'RUS_OMS_A',\n",
       " 'RUS_OXS',\n",
       " 'RUS_OXS_A',\n",
       " 'RUS_PC',\n",
       " 'RUS_PCR',\n",
       " 'RUS_PCR_A',\n",
       " 'RUS_PC_A',\n",
       " 'RUS_PE',\n",
       " 'RUS_PE_A',\n",
       " 'RUS_PG',\n",
       " 'RUS_PG_A',\n",
       " 'RUS_PM25',\n",
       " 'RUS_PM25_A',\n",
       " 'RUS_POIL',\n",
       " 'RUS_POIL_A',\n",
       " 'RUS_POPT',\n",
       " 'RUS_POPT_A',\n",
       " 'RUS_POPWA',\n",
       " 'RUS_POPWA_A',\n",
       " 'RUS_PR',\n",
       " 'RUS_PREM',\n",
       " 'RUS_PREM_A',\n",
       " 'RUS_PROF',\n",
       " 'RUS_PROF_A',\n",
       " 'RUS_PR_A',\n",
       " 'RUS_RC',\n",
       " 'RUS_RC_A',\n",
       " 'RUS_REFEX',\n",
       " 'RUS_REFEX_A',\n",
       " 'RUS_REL_RED',\n",
       " 'RUS_REL_RED_A',\n",
       " 'RUS_REMIT',\n",
       " 'RUS_REMIT_A',\n",
       " 'RUS_REV',\n",
       " 'RUS_REVG',\n",
       " 'RUS_REVG_A',\n",
       " 'RUS_REV_A',\n",
       " 'RUS_RPDI',\n",
       " 'RUS_RPDI_A',\n",
       " 'RUS_SCR',\n",
       " 'RUS_SCR_A',\n",
       " 'RUS_SDLI',\n",
       " 'RUS_SDLI_A',\n",
       " 'RUS_SHAREE',\n",
       " 'RUS_SHAREE_A',\n",
       " 'RUS_SHAREH',\n",
       " 'RUS_SHAREH_A',\n",
       " 'RUS_SHARESP',\n",
       " 'RUS_SHARESP_A',\n",
       " 'RUS_SHAREX',\n",
       " 'RUS_SHAREX_A',\n",
       " 'RUS_SOLV',\n",
       " 'RUS_SOLV_A',\n",
       " 'RUS_TAX',\n",
       " 'RUS_TAXR',\n",
       " 'RUS_TAXR_A',\n",
       " 'RUS_TAX_A',\n",
       " 'RUS_TECHL',\n",
       " 'RUS_TECHL_A',\n",
       " 'RUS_TFP',\n",
       " 'RUS_TFP_A',\n",
       " 'RUS_URX',\n",
       " 'RUS_URXF',\n",
       " 'RUS_URXF_A',\n",
       " 'RUS_URX_A',\n",
       " 'RUS_USER',\n",
       " 'RUS_USER_A',\n",
       " 'RUS_WDR',\n",
       " 'RUS_WDR_A',\n",
       " 'RUS_XTDNO_DOLLAR',\n",
       " 'RUS_XTDNO_DOLLAR_A',\n",
       " 'RUS_XTD_DOLLAR',\n",
       " 'RUS_XTD_DOLLAR_A',\n",
       " 'RUS_XTN',\n",
       " 'RUS_XTN_A',\n",
       " 'RUS_XTN_DOLLAR',\n",
       " 'RUS_XTN_DOLLAR_A',\n",
       " 'RUS_XTR',\n",
       " 'RUS_XTR_A',\n",
       " 'RUS_XTR_DOLLAR',\n",
       " 'RUS_XTR_DOLLAR_A',\n",
       " 'RUS_YBAR',\n",
       " 'RUS_YBAR_A',\n",
       " 'RUS_YED',\n",
       " 'RUS_YED_A',\n",
       " 'RUS_YEN',\n",
       " 'RUS_YEN_A',\n",
       " 'RUS_YEN_DOLLAR',\n",
       " 'RUS_YEN_DOLLAR_A',\n",
       " 'RUS_YER',\n",
       " 'RUS_YER_A',\n",
       " 'RUS_YER_DOLLAR',\n",
       " 'RUS_YER_DOLLAR_A',\n",
       " 'RUS_YFT',\n",
       " 'RUS_YFT_A',\n",
       " 'RUS_YFT_DOLLAR',\n",
       " 'RUS_YFT_DOLLAR_A']"
      ]
     },
     "execution_count": 8,
     "metadata": {},
     "output_type": "execute_result"
    }
   ],
   "source": [
    "masia['rus*'].names"
   ]
  },
  {
   "cell_type": "code",
   "execution_count": 9,
   "id": "266df5d1",
   "metadata": {
    "slideshow": {
     "slide_type": "skip"
    }
   },
   "outputs": [],
   "source": [
    "# Variables to inputwidget\n",
    "\n",
    "outvar = 'GDI GCARBR CO2 LNN'.split()\n",
    "displayvar = 'WLD_CO2 ASP_CO2 G20_CO2 '\n",
    "\n",
    "#  masia.countries_GCARBR_A is list of all countries in the model with a countries_GCARBR_A \n",
    "#  masia.countries_ASEAN is list of all countries in ASEAN \n",
    "countries_rest = [country for country in masia.countries_GCARBR_A if country not in masia.countries_ASEAN]\n",
    "\n",
    "slidedef_allasean =  {'All ASEAN countries' : {'var': ' '.join([f'{country}_GCARBR_A' for country in masia.countries_ASEAN ])\n",
    "                          , 'value': 0.0,'min':0,'max':100,'op':'+impulse','step':10,'dec':0}}\n",
    "slidedef_allrest =  {'Rest of the world' : {'var': \n",
    "    ' '.join([f'{country}_GCARBR_A' for country in countries_rest])\n",
    "                          , 'value': 0.0,'min':0,'max':100,'op':'+impulse','step':10,'dec':0}}\n",
    "slidedef_countries = {masia.iso_dict.get(country,country)+', Extra' : \n",
    "                      {'var': f'{country}_GCARBR_A', 'value': 0.0,'min':-40,'max':40,'op':'+impulse','step':10,'dec':0} \n",
    "                      for country in  masia.countries_ASEAN}\n",
    "\n",
    "slidedef = {**slidedef_allasean,**slidedef_allrest,**slidedef_countries}"
   ]
  },
  {
   "cell_type": "markdown",
   "id": "7f685a7e",
   "metadata": {
    "slideshow": {
     "slide_type": "slide"
    }
   },
   "source": [
    "# Simulations  with UNESCAP Carbon Pricing Instrument (CPI)  model\n"
   ]
  },
  {
   "cell_type": "markdown",
   "id": "c6d9a4bb",
   "metadata": {
    "slideshow": {
     "slide_type": "slide"
    }
   },
   "source": [
    "# Baseline \n",
    "Please wait until charts are shown below. "
   ]
  },
  {
   "cell_type": "markdown",
   "id": "76e811d2",
   "metadata": {
    "cell_style": "split",
    "slideshow": {
     "slide_type": "-"
    }
   },
   "source": [
    "# World $CO^2$"
   ]
  },
  {
   "cell_type": "markdown",
   "id": "b9ced446",
   "metadata": {
    "cell_style": "split"
   },
   "source": [
    "# ASEAN $CO^2$"
   ]
  },
  {
   "cell_type": "code",
   "execution_count": 10,
   "id": "621dc6ab",
   "metadata": {
    "cell_style": "split"
   },
   "outputs": [
    {
     "data": {
      "image/png": "[encoded data removed]",
      "text/plain": [
       "<Figure size 720x360 with 1 Axes>"
      ]
     },
     "metadata": {
      "needs_background": "light"
     },
     "output_type": "display_data"
    },
    {
     "data": {
      "image/png": "[encoded data removed]",
      "text/plain": [
       "<Figure size 720x360 with 1 Axes>"
      ]
     },
     "metadata": {
      "needs_background": "light"
     },
     "output_type": "display_data"
    }
   ],
   "source": [
    "masia['wld_co2'].rename().plot(colrow=1,title='Baseline $CO^2$ emmision, World',top=0.9,ysize=5);\n",
    "\n",
    "threshold =700\n",
    "waterplot(co2_baseline.loc[[2050],:].T,autosum=1,threshold = 700,allsort=1,title = f'$CO^2$ emmision,World, below {threshold} lumped into \"Small\"',top=0.85);"
   ]
  },
  {
   "cell_type": "code",
   "execution_count": 11,
   "id": "6e4cbbdf",
   "metadata": {
    "cell_style": "split",
    "scrolled": false
   },
   "outputs": [
    {
     "data": {
      "image/png": "[encoded data removed]",
      "text/plain": [
       "<Figure size 720x360 with 1 Axes>"
      ]
     },
     "metadata": {
      "needs_background": "light"
     },
     "output_type": "display_data"
    },
    {
     "data": {
      "image/png": "[encoded data removed]",
      "text/plain": [
       "<Figure size 720x360 with 1 Axes>"
      ]
     },
     "metadata": {
      "needs_background": "light"
     },
     "output_type": "display_data"
    }
   ],
   "source": [
    "masia['asean_co2'].rename().plot(colrow=1,title='Baseline $CO^2$ emmision ASEAN',top=0.9,ysize=5);\n",
    "\n",
    "threshold =0.1\n",
    "waterplot(co2_baseline_asean.loc[[2050],:].T,autosum=1,threshold = 0 ,allsort=1,title = f'$CO^2$ emmision,ASEAN',top=0.85);"
   ]
  },
  {
   "cell_type": "markdown",
   "id": "e94c4d8b",
   "metadata": {
    "cell_style": "center",
    "slideshow": {
     "slide_type": "slide"
    }
   },
   "source": [
    "# Input Carbon tax rate, US\\$ per tonne "
   ]
  },
  {
   "cell_type": "code",
   "execution_count": 12,
   "id": "63a62886",
   "metadata": {
    "cell_style": "center",
    "scrolled": false
   },
   "outputs": [
    {
     "data": {
      "application/vnd.jupyter.widget-view+json": {
       "model_id": "f293c9320622437892f651d537222502",
       "version_major": 2,
       "version_minor": 0
      },
      "text/plain": [
       "VBox(children=(Accordion(children=(VBox(children=(HBox(children=(Label(value='Carbon tax rate, US$ per tonn ',…"
      ]
     },
     "metadata": {},
     "output_type": "display_data"
    }
   ],
   "source": [
    "from modelwidget import sumslidewidget,slidewidget, updatewidget, tabwidget,sheetwidget\n",
    "outvar = 'GDI GCARBR CO2 LNN'.split()\n",
    "displayvar = 'WLD_CO2 ASP_CO2 G20_CO2'\n",
    "\n",
    "#  masia.countries_GCARBR_A is list of all countries in the model with a countries_GCARBR_A \n",
    "#  masia.countries_ASEAN is list of all countries in ASEAN \n",
    "countries_rest = [country for country in masia.countries_GCARBR_A if country not in masia.countries_ASEAN]\n",
    "\n",
    "slidedef_allasean =  {'All ASEAN countries' : {'var': ' '.join([f'{country}_GCARBR_A' for country in masia.countries_ASEAN ])\n",
    "                          , 'value': 0.0,'min':0,'max':100,'op':'+impulse','step':10,'dec':0}}\n",
    "slidedef_allrest =  {'Rest of the world' : {'var': \n",
    "    ' '.join([f'{country}_GCARBR_A' for country in countries_rest])\n",
    "                          , 'value': 0.0,'min':0,'max':100,'op':'+impulse','step':10,'dec':0}}\n",
    "slidedef_countries = {masia.iso_dict.get(country,country)+', Extra' : \n",
    "                      {'var': f'{country}_GCARBR_A', 'value': 0.0,'min':-40,'max':40,'op':'+impulse','step':10,'dec':5} \n",
    "                      for country in  masia.countries_ASEAN}\n",
    "\n",
    "updatevar = [f'{country}_GCARBR_A' for country in masia.countries_ASEAN ]\n",
    "smalldf = baseline.loc[2022:2040, updatevar]\n",
    "\n",
    "tabsharedef = {masia.iso_dict.get(country,country) : sumslidewidget(\n",
    "                {'Environmental protection':{'var': f'{country}_SHAREE_A', 'value': 0.25,'min':0.0,'max':1,'op':'=','step':0.05,'dec':2} ,\n",
    "                 'Health'                  :{'var': f'{country}_SHAREH_A', 'value': 0.25,'min':0.0,'max':1,'op':'=','step':0.05,'dec':2} ,\n",
    "                 'Social protection'       :{'var': f'{country}_SHARESP_A','value': 0.25,'min':0.0,'max':1,'op':'=','step':0.05,'dec':2} ,\n",
    "                 'Energy efficiency gains' :{'var': f'{country}_SHAREX_A', 'value': 0.25,'min':0.0,'max':1,'op':'=','step':0.05,'dec':2} \n",
    "                } , expname='Share (the sum can max be 1.0) of Carbon revenue spent on:', maxsum=1.0)  \n",
    "               \n",
    "               for country in masia.countries_ASEAN }\n",
    "\n",
    "\n",
    "tabdef = {'Areawide Carbon tax 2022'  : slidewidget( {**slidedef_allasean,**slidedef_allrest}),\n",
    "          'Single country add on 2022': slidewidget(slidedef_countries),\n",
    "          'Individual tax rates'      : (sheet1 :=  sheetwidget(df_var = smalldf,transpose=0,trans=masia.get_a_country)),\n",
    "          'Use of carbon tax revenue' : tabwidget(tabdefdict = tabsharedef,tab=True,selected_index = 0)}\n",
    "\n",
    "\n",
    "wtab = tabwidget(tabdefdict = tabdef,tab=False)\n",
    "xx = updatewidget(masia,wtab,lwreset=True,varpat = displayvar,outputwidget='keep_viz') # output widget = either keep_viz or jupviz \n",
    "xx.wtotal"
   ]
  },
  {
   "cell_type": "markdown",
   "id": "05ebcaba",
   "metadata": {},
   "source": [
    "# Additional information\n",
    "Press \\<shift> \\<enter> in the cell's below to compare the $CO^2$ emissions in each county in the Business as usual\""
   ]
  },
  {
   "cell_type": "markdown",
   "id": "d60f2383",
   "metadata": {
    "cell_style": "split",
    "slideshow": {
     "slide_type": "slide"
    }
   },
   "source": [
    "# World reduction "
   ]
  },
  {
   "cell_type": "markdown",
   "id": "51f6ec3a",
   "metadata": {
    "cell_style": "split"
   },
   "source": [
    "# ASEAN reduction"
   ]
  },
  {
   "cell_type": "code",
   "execution_count": null,
   "id": "099c0d4f",
   "metadata": {
    "cell_style": "split"
   },
   "outputs": [],
   "source": [
    "if hasattr(masia,'inputwidget_alternativerun'):\n",
    "    Threshold =199\n",
    "    masia.dekomp_plot('WLD_CO2',pct=0,threshold=Threshold,nametrans=masia.country_get)\n",
    "    masia.dekomp_plot_per('WLD_CO2',pct=0,threshold=Threshold,per=2050,sort=True,nametrans=masia.country_get);\n",
    "else:\n",
    "    display(Markdown('# Try make an alternative and run again'))"
   ]
  },
  {
   "cell_type": "code",
   "execution_count": null,
   "id": "2dd4f58e",
   "metadata": {
    "cell_style": "split",
    "scrolled": false,
    "tags": [
     "remove_cell"
    ]
   },
   "outputs": [],
   "source": [
    "if hasattr(masia,'inputwidget_alternativerun'):\n",
    "    Threshold =0.01\n",
    "    masia.dekomp_plot('ASEAN_CO2',pct=0,threshold=Threshold,nametrans=masia.country_get)\n",
    "    masia.dekomp_plot_per('ASEAN_CO2',pct=0,threshold=Threshold,per=2050,sort=True,nametrans=masia.country_get);\n",
    "else:\n",
    "    display(Markdown('# Try make an alternative and run again'))"
   ]
  },
  {
   "cell_type": "code",
   "execution_count": null,
   "id": "15428583",
   "metadata": {},
   "outputs": [],
   "source": []
  }
 ],
 "metadata": {
  "celltoolbar": "Slideshow",
  "hide_input": false,
  "kernelspec": {
   "display_name": "Python 3 (ipykernel)",
   "language": "python",
   "name": "python3"
  },
  "language_info": {
   "codemirror_mode": {
    "name": "ipython",
    "version": 3
   },
   "file_extension": ".py",
   "mimetype": "text/x-python",
   "name": "python",
   "nbconvert_exporter": "python",
   "pygments_lexer": "ipython3",
   "version": "3.8.8"
  },
  "rise": {
   "autolaunch": true,
   "enable_chalkboard": true,
   "footer": "Asia model",
   "header": "ModelFlow",
   "scroll": true
  },
  "toc": {
   "base_numbering": 1,
   "nav_menu": {},
   "number_sections": true,
   "sideBar": true,
   "skip_h1_title": true,
   "title_cell": "Table of Contents",
   "title_sidebar": "Contents",
   "toc_cell": false,
   "toc_position": {},
   "toc_section_display": true,
   "toc_window_display": false
  }
 },
 "nbformat": 4,
 "nbformat_minor": 5
}
