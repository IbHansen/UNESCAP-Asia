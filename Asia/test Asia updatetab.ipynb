{
 "cells": [
  {
   "cell_type": "markdown",
   "id": "b3fde3e1",
   "metadata": {
    "slideshow": {
     "slide_type": "skip"
    }
   },
   "source": [
    "# Import modelflow"
   ]
  },
  {
   "cell_type": "code",
   "execution_count": 11,
   "id": "26a97026",
   "metadata": {
    "scrolled": false,
    "slideshow": {
     "slide_type": "skip"
    }
   },
   "outputs": [
    {
     "name": "stdout",
     "output_type": "stream",
     "text": [
      "The autoreload extension is already loaded. To reload it, use:\n",
      "  %reload_ext autoreload\n"
     ]
    },
    {
     "data": {
      "text/html": [
       "\n",
       "        <style>\n",
       "            div#notebook-container    { width: 95%; }\n",
       "            div#menubar-container     { width: 65%; }\n",
       "            div#maintoolbar-container { width: 99%; }\n",
       "        </style>\n",
       "        "
      ],
      "text/plain": [
       "<IPython.core.display.HTML object>"
      ]
     },
     "metadata": {},
     "output_type": "display_data"
    }
   ],
   "source": [
    "%load_ext autoreload\n",
    "%autoreload 2\n",
    "\n",
    "%matplotlib inline\n",
    "\n",
    "from ipywidgets import interact,Dropdown,Checkbox,Tab\n",
    "from IPython.display import display, clear_output,Latex, Markdown\n",
    "import pandas as pd\n",
    "\n",
    "import modeljupyter as mj\n",
    "from modelvis import waterplot\n",
    "from modeljupyter import jupviz\n",
    "\n",
    "\n",
    "\n",
    "from modelclass import model\n",
    "model.widescreen()\n",
    "model.scroll_off()"
   ]
  },
  {
   "cell_type": "code",
   "execution_count": 2,
   "id": "b01cc9c8",
   "metadata": {},
   "outputs": [],
   "source": [
    "\n",
    "from IPython.display import display"
   ]
  },
  {
   "cell_type": "markdown",
   "id": "13ba5994",
   "metadata": {
    "slideshow": {
     "slide_type": "skip"
    }
   },
   "source": [
    "# Load model and data, and run "
   ]
  },
  {
   "cell_type": "code",
   "execution_count": 3,
   "id": "e2795283",
   "metadata": {
    "scrolled": false,
    "slideshow": {
     "slide_type": "skip"
    }
   },
   "outputs": [
    {
     "name": "stdout",
     "output_type": "stream",
     "text": [
      "Load model\n"
     ]
    }
   ],
   "source": [
    "if not 'masia' in locals():\n",
    "    print('Load model')\n",
    "    masia,baseline = model.modelload('Asia.pcim',run=0,silent=1)\n",
    "from inject import  inject\n",
    "inject(masia)"
   ]
  },
  {
   "cell_type": "code",
   "execution_count": 4,
   "id": "1f12d736",
   "metadata": {},
   "outputs": [
    {
     "data": {
      "application/vnd.jupyter.widget-view+json": {
       "model_id": "86e243c0040245e1a32280497facd540",
       "version_major": 2,
       "version_minor": 0
      },
      "text/plain": [
       "Solving Asia:   0%|          | 0/30"
      ]
     },
     "metadata": {},
     "output_type": "display_data"
    }
   ],
   "source": [
    "xx = masia(baseline,stats=0,progressbar=1)"
   ]
  },
  {
   "cell_type": "code",
   "execution_count": 5,
   "id": "84e0b533",
   "metadata": {
    "slideshow": {
     "slide_type": "skip"
    }
   },
   "outputs": [],
   "source": [
    "co2_input_var = [var for var in masia.totgraph.predecessors('WLD_CO2') if var.endswith('CO2')]"
   ]
  },
  {
   "cell_type": "code",
   "execution_count": 6,
   "id": "0428ab25",
   "metadata": {
    "slideshow": {
     "slide_type": "skip"
    }
   },
   "outputs": [],
   "source": [
    "co2_baseline = baseline.loc[:,co2_input_var].pipe(lambda df:df.rename(columns={c : masia.iso_dict.get(cname := c.split('_')[0],cname) for c in df.columns}))"
   ]
  },
  {
   "cell_type": "markdown",
   "id": "7254b3bb",
   "metadata": {
    "slideshow": {
     "slide_type": "skip"
    }
   },
   "source": [
    "# Variables to inputwidget"
   ]
  },
  {
   "cell_type": "code",
   "execution_count": 7,
   "id": "b3e7dd1c",
   "metadata": {
    "scrolled": false,
    "slideshow": {
     "slide_type": "skip"
    }
   },
   "outputs": [],
   "source": [
    "outvar = 'GDI GCARBR CO2 LNN'.split()\n",
    "displayvar = 'WLD_CO2 ASP_CO2 G20_CO2 '\n",
    "\n",
    "#  masia.countries_GCARBR_A is list of all countries in the model with a countries_GCARBR_A \n",
    "#  masia.countries_ASEAN is list of all countries in ASEAN \n",
    "countries_rest = [country for country in masia.countries_GCARBR_A if country not in masia.countries_ASEAN]\n",
    "\n",
    "slidedef_allasean =  {'All ASEAN countries' : {'var': ' '.join([f'{country}_GCARBR_A' for country in masia.countries_ASEAN ])\n",
    "                          , 'value': 0.0,'min':0,'max':100,'op':'+impulse','step':10,'dec':0}}\n",
    "slidedef_allrest =  {'Rest of the world' : {'var': \n",
    "    ' '.join([f'{country}_GCARBR_A' for country in countries_rest])\n",
    "                          , 'value': 0.0,'min':0,'max':100,'op':'+impulse','step':10,'dec':0}}\n",
    "slidedef_countries = {masia.iso_dict.get(country,country)+', Extra' : \n",
    "                      {'var': f'{country}_GCARBR_A', 'value': 0.0,'min':-40,'max':40,'op':'+impulse','step':10,'dec':5} \n",
    "                      for country in  masia.countries_ASEAN}\n",
    "\n"
   ]
  },
  {
   "cell_type": "code",
   "execution_count": 8,
   "id": "77d24142",
   "metadata": {},
   "outputs": [],
   "source": [
    "updatevar = [f'{country}_GCARBR_A' for country in masia.countries_ASEAN ]\n",
    "smalldf = baseline.loc[2022:2027, updatevar]"
   ]
  },
  {
   "cell_type": "code",
   "execution_count": 9,
   "id": "b3355d1a",
   "metadata": {},
   "outputs": [
    {
     "data": {
      "text/html": [
       "<style>\n",
       ".jupyter-widgets.widget-tab > .p-TabBar .p-TabBar-tab {\n",
       "    flex: 0 1 auto\n",
       "}\n",
       "</style>\n"
      ],
      "text/plain": [
       "<IPython.core.display.HTML object>"
      ]
     },
     "metadata": {},
     "output_type": "display_data"
    }
   ],
   "source": [
    "%%html\n",
    "<style>\n",
    ".jupyter-widgets.widget-tab > .p-TabBar .p-TabBar-tab {\n",
    "    flex: 0 1 auto\n",
    "}\n",
    "</style>"
   ]
  },
  {
   "cell_type": "code",
   "execution_count": 21,
   "id": "b9120256",
   "metadata": {
    "scrolled": false
   },
   "outputs": [
    {
     "data": {
      "application/vnd.jupyter.widget-view+json": {
       "model_id": "74a821db30fd4b5b8be5023e5da2054f",
       "version_major": 2,
       "version_minor": 0
      },
      "text/plain": [
       "VBox(children=(Tab(children=(Accordion(children=(VBox(children=(HBox(children=(Label(value='Carbon tax rate, U…"
      ]
     },
     "metadata": {},
     "output_type": "display_data"
    },
    {
     "data": {
      "application/vnd.jupyter.widget-view+json": {
       "model_id": "98f84c3444354066bb24853281a3acd1",
       "version_major": 2,
       "version_minor": 0
      },
      "text/plain": [
       "VBox(children=(HBox(children=(SelectMultiple(description='Select one or more', index=(0,), layout=Layout(heigh…"
      ]
     },
     "metadata": {},
     "output_type": "display_data"
    },
    {
     "data": {
      "application/vnd.jupyter.widget-view+json": {
       "model_id": "a8251716c0064e838ceb386709c58da9",
       "version_major": 2,
       "version_minor": 0
      },
      "text/plain": [
       "Output()"
      ]
     },
     "metadata": {},
     "output_type": "display_data"
    }
   ],
   "source": [
    "from modelwidget import slidewidget, tabwidget, sheetwidget, updatewidget\n",
    "\n",
    "inject(masia)\n",
    "tabdef = {'Areawide Carbon tax 2022'  : slidewidget( {**slidedef_allasean,**slidedef_allrest}),\n",
    "          'Single country add on 2022': slidewidget(slidedef_countries),\n",
    "          'Individual tax rates'      : (sheet1 :=  sheetwidget(df_var = smalldf,transpose=0,trans=masia.get_a_country))\n",
    "         }\n",
    "\n",
    "\n",
    "wtab = tabwidget(tabdefdict = tabdef,tab=False)\n",
    "\n",
    "wtabtotal = tabwidget(tabdefdict = {'Test11':wtab},\n",
    "                                   \n",
    "                                    tab=True,selected_index = 0)\n",
    "\n",
    "xx = updatewidget(masia,wtabtotal,lwreset=True,varpat = displayvar,outputwidget='keep_viz')\n",
    "\n",
    "xx.wtotal"
   ]
  },
  {
   "cell_type": "code",
   "execution_count": 25,
   "id": "d5e0b948",
   "metadata": {},
   "outputs": [
    {
     "name": "stderr",
     "output_type": "stream",
     "text": [
      "'edit' is not recognized as an internal or external command,\n",
      "operable program or batch file.\n"
     ]
    }
   ],
   "source": [
    "!edit  ~/.jupyter/nbconfig/notebook.json\n"
   ]
  },
  {
   "cell_type": "code",
   "execution_count": null,
   "id": "46008515",
   "metadata": {},
   "outputs": [],
   "source": []
  }
 ],
 "metadata": {
  "celltoolbar": "Slideshow",
  "hide_input": false,
  "kernelspec": {
   "display_name": "Python 3 (ipykernel)",
   "language": "python",
   "name": "python3"
  },
  "language_info": {
   "codemirror_mode": {
    "name": "ipython",
    "version": 3
   },
   "file_extension": ".py",
   "mimetype": "text/x-python",
   "name": "python",
   "nbconvert_exporter": "python",
   "pygments_lexer": "ipython3",
   "version": "3.8.8"
  },
  "load_extensions": {
   "hide_input/main": true,
   "hide_input_all/main": true,
   "load_tex_macros/main": true,
   "printview/main": false,
   "rise/main": true,
   "spellchecker/main": true,
   "splitcell/splitcell": true,
   "toc2/main": true,
   "zenmode/main": false
  },
  "toc": {
   "base_numbering": 1,
   "nav_menu": {},
   "number_sections": true,
   "sideBar": true,
   "skip_h1_title": true,
   "title_cell": "Table of Contents",
   "title_sidebar": "Contents",
   "toc_cell": false,
   "toc_position": {},
   "toc_section_display": true,
   "toc_window_display": false
  }
 },
 "nbformat": 4,
 "nbformat_minor": 5
}
