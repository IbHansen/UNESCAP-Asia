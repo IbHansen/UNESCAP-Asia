{
 "cells": [
  {
   "cell_type": "markdown",
   "id": "b3fde3e1",
   "metadata": {
    "slideshow": {
     "slide_type": "skip"
    }
   },
   "source": [
    "# Import modelflow"
   ]
  },
  {
   "cell_type": "code",
   "execution_count": 1,
   "id": "26a97026",
   "metadata": {
    "scrolled": false,
    "slideshow": {
     "slide_type": "skip"
    }
   },
   "outputs": [
    {
     "data": {
      "text/html": [
       "\n",
       "        <style>\n",
       "            div#notebook-container    { width: 95%; }\n",
       "            div#menubar-container     { width: 65%; }\n",
       "            div#maintoolbar-container { width: 99%; }\n",
       "        </style>\n",
       "        "
      ],
      "text/plain": [
       "<IPython.core.display.HTML object>"
      ]
     },
     "metadata": {},
     "output_type": "display_data"
    }
   ],
   "source": [
    "%load_ext autoreload\n",
    "%autoreload 2\n",
    "\n",
    "%matplotlib inline\n",
    "\n",
    "from ipywidgets import interact,Dropdown,Checkbox\n",
    "from IPython.display import display, clear_output,Latex, Markdown\n",
    "import pandas as pd\n",
    "\n",
    "import modeljupyter as mj\n",
    "from modelvis import waterplot\n",
    "\n",
    "\n",
    "from modelclass import model\n",
    "model.widescreen()"
   ]
  },
  {
   "cell_type": "code",
   "execution_count": 2,
   "id": "d8932a99",
   "metadata": {
    "slideshow": {
     "slide_type": "skip"
    }
   },
   "outputs": [
    {
     "data": {
      "application/javascript": [
       "IPython.OutputArea.prototype._should_scroll = function(lines){\n",
       "    return false;\n",
       "}\n"
      ],
      "text/plain": [
       "<IPython.core.display.Javascript object>"
      ]
     },
     "metadata": {},
     "output_type": "display_data"
    }
   ],
   "source": [
    "%%javascript\n",
    "IPython.OutputArea.prototype._should_scroll = function(lines){\n",
    "    return false;\n",
    "}"
   ]
  },
  {
   "cell_type": "markdown",
   "id": "13ba5994",
   "metadata": {
    "slideshow": {
     "slide_type": "skip"
    }
   },
   "source": [
    "# Load model and data, and run "
   ]
  },
  {
   "cell_type": "code",
   "execution_count": 3,
   "id": "e2795283",
   "metadata": {
    "scrolled": false,
    "slideshow": {
     "slide_type": "skip"
    }
   },
   "outputs": [
    {
     "name": "stdout",
     "output_type": "stream",
     "text": [
      "Load model\n"
     ]
    }
   ],
   "source": [
    "if not 'masia' in locals():\n",
    "    print('Load model')\n",
    "    masia,baseline = model.modelload('Asia.pcim',run=1,silent=1)"
   ]
  },
  {
   "cell_type": "code",
   "execution_count": 4,
   "id": "fa767a92",
   "metadata": {
    "scrolled": true,
    "slideshow": {
     "slide_type": "skip"
    }
   },
   "outputs": [],
   "source": [
    "from inject import inject\n",
    "inject(masia)"
   ]
  },
  {
   "cell_type": "code",
   "execution_count": 5,
   "id": "f0b40a06",
   "metadata": {},
   "outputs": [],
   "source": [
    "masia.var_description = masia.defsub({k : v.replace('CO2','$CO^2$') for k,v in masia.var_description.items()})"
   ]
  },
  {
   "cell_type": "code",
   "execution_count": null,
   "id": "84e0b533",
   "metadata": {
    "slideshow": {
     "slide_type": "skip"
    }
   },
   "outputs": [],
   "source": [
    "co2_input_var = [var for var in masia.totgraph.predecessors('WLD_CO2') if var.endswith('CO2')]"
   ]
  },
  {
   "cell_type": "code",
   "execution_count": null,
   "id": "0428ab25",
   "metadata": {
    "slideshow": {
     "slide_type": "skip"
    }
   },
   "outputs": [],
   "source": [
    "co2_baseline = baseline.loc[:,co2_input_var].pipe(lambda df:df.rename(columns={c : masia.iso_dict.get(cname := c.split('_')[0],cname) for c in df.columns}))"
   ]
  },
  {
   "cell_type": "markdown",
   "id": "7254b3bb",
   "metadata": {
    "slideshow": {
     "slide_type": "skip"
    }
   },
   "source": [
    "# Variables to inputwidget"
   ]
  },
  {
   "cell_type": "code",
   "execution_count": null,
   "id": "b3e7dd1c",
   "metadata": {
    "scrolled": false,
    "slideshow": {
     "slide_type": "skip"
    }
   },
   "outputs": [],
   "source": [
    "outvar = 'GDI GCARBR CO2 LNN'.split()\n",
    "displayvar = 'WLD_CO2 ASP_CO2 G20_CO2 '\n",
    "\n",
    "#  masia.countries_GCARBR_A is list of all countries in the model with a countries_GCARBR_A \n",
    "#  masia.countries_ASEAN is list of all countries in ASEAN \n",
    "countries_rest = [country for country in masia.countries_GCARBR_A if country not in masia.countries_ASEAN]\n",
    "\n",
    "slidedef_allasean =  {'All ASEAN countries' : {'var': ' '.join([f'{country}_GCARBR_A' for country in masia.countries_ASEAN ])\n",
    "                          , 'value': 0.0,'min':0,'max':100,'op':'+impulse','step':10,'dec':0}}\n",
    "slidedef_allrest =  {'Rest of the world' : {'var': \n",
    "    ' '.join([f'{country}_GCARBR_A' for country in countries_rest])\n",
    "                          , 'value': 0.0,'min':0,'max':100,'op':'+impulse','step':10,'dec':0}}\n",
    "slidedef_countries = {masia.iso_dict.get(country,country)+', Extra' : \n",
    "                      {'var': f'{country}_GCARBR_A', 'value': 0.0,'min':-40,'max':40,'op':'+impulse','step':10,'dec':0} \n",
    "                      for country in  masia.countries_ASEAN}\n",
    "\n",
    "slidedef = {**slidedef_allasean,**slidedef_allrest,**slidedef_countries}"
   ]
  },
  {
   "cell_type": "code",
   "execution_count": null,
   "id": "621dc6ab",
   "metadata": {},
   "outputs": [],
   "source": [
    "masia['wld_co2'].rename().plot(colrow=1,title='Baseline $CO^2$ emmision',top=0.9,ysize=5);"
   ]
  },
  {
   "cell_type": "markdown",
   "id": "5d05c201",
   "metadata": {
    "slideshow": {
     "slide_type": "slide"
    }
   },
   "source": [
    "# Emmision with no policy \n",
    "Countries where the emmision is below the threshold are all attributed to the \"small\" label"
   ]
  },
  {
   "cell_type": "code",
   "execution_count": null,
   "id": "04a90c4d",
   "metadata": {
    "scrolled": true
   },
   "outputs": [],
   "source": [
    "@interact(Threshold = (0,3000,100))\n",
    "def explain(Periode   = Dropdown(options = masia.current_per,value=2050),\n",
    "            Threshold =700):\n",
    "\n",
    "    waterplot(co2_baseline.loc[[Periode],:].T,autosum=1,threshold = Threshold,allsort=1,title = '$CO^2$ emmision in',top=0.88);"
   ]
  },
  {
   "cell_type": "markdown",
   "id": "e94c4d8b",
   "metadata": {
    "slideshow": {
     "slide_type": "slide"
    }
   },
   "source": [
    "# Make some policy "
   ]
  },
  {
   "cell_type": "code",
   "execution_count": null,
   "id": "63a62886",
   "metadata": {
    "scrolled": false
   },
   "outputs": [],
   "source": [
    "inject(masia)\n",
    "input = masia.inputwidget_asia(2021,2050,slidedef=slidedef\n",
    "                   ,showout=True,varpat=displayvar,showvar=True,go_now=1)"
   ]
  },
  {
   "cell_type": "markdown",
   "id": "4a6bf1b1",
   "metadata": {
    "slideshow": {
     "slide_type": "slide"
    }
   },
   "source": [
    "# Where does the reduction originate\n",
    "The threshold leved and year can be chosen.\n",
    "Countries where the reduction is below the threshold are all attributed to the \"small\" label  "
   ]
  },
  {
   "cell_type": "code",
   "execution_count": null,
   "id": "099c0d4f",
   "metadata": {},
   "outputs": [],
   "source": [
    "\n",
    "@interact(Threshold = (0,300,10))\n",
    "def explain(Periode   = Dropdown(options = masia.current_per,value=2050),\n",
    "            Threshold =200):\n",
    "    masia.dekomp_plot('WLD_CO2',pct=0,threshold=Threshold,nametrans=masia.nametrans)\n",
    "    masia.dekomp_plot_per('WLD_CO2',pct=0,threshold=Threshold,per=Periode,sort=True,nametrans=masia.nametrans)\n"
   ]
  },
  {
   "cell_type": "code",
   "execution_count": null,
   "id": "e360d3dd",
   "metadata": {},
   "outputs": [],
   "source": []
  },
  {
   "cell_type": "code",
   "execution_count": null,
   "id": "46ad3737",
   "metadata": {
    "scrolled": true
   },
   "outputs": [],
   "source": [
    "print(masia.get_eq_des('USA_EC',show_all=1))"
   ]
  },
  {
   "cell_type": "code",
   "execution_count": null,
   "id": "1a5bd169",
   "metadata": {
    "scrolled": true
   },
   "outputs": [],
   "source": [
    "masia.USA_EC.tracepre(HR=0)"
   ]
  },
  {
   "cell_type": "markdown",
   "id": "c203dffd",
   "metadata": {},
   "source": [
    "# Inversion of the model"
   ]
  },
  {
   "cell_type": "code",
   "execution_count": 6,
   "id": "5440d161",
   "metadata": {},
   "outputs": [
    {
     "data": {
      "text/plain": [
       "[['AFG_GCARBR_A',\n",
       "  'ARM_GCARBR_A',\n",
       "  'AUS_GCARBR_A',\n",
       "  'AZE_GCARBR_A',\n",
       "  'BGD_GCARBR_A',\n",
       "  'BTN_GCARBR_A',\n",
       "  'BRN_GCARBR_A',\n",
       "  'KHM_GCARBR_A',\n",
       "  'CHN_GCARBR_A',\n",
       "  'FJI_GCARBR_A',\n",
       "  'GEO_GCARBR_A',\n",
       "  'HKG_GCARBR_A',\n",
       "  'IND_GCARBR_A',\n",
       "  'IDN_GCARBR_A',\n",
       "  'IRN_GCARBR_A',\n",
       "  'JPN_GCARBR_A',\n",
       "  'KAZ_GCARBR_A',\n",
       "  'KIR_GCARBR_A',\n",
       "  'KGZ_GCARBR_A',\n",
       "  'LAO_GCARBR_A',\n",
       "  'MAC_GCARBR_A',\n",
       "  'MYS_GCARBR_A',\n",
       "  'MDV_GCARBR_A',\n",
       "  'FSM_GCARBR_A',\n",
       "  'MNG_GCARBR_A',\n",
       "  'MMR_GCARBR_A',\n",
       "  'NPL_GCARBR_A',\n",
       "  'NZL_GCARBR_A',\n",
       "  'PAK_GCARBR_A',\n",
       "  'PNG_GCARBR_A',\n",
       "  'PHL_GCARBR_A',\n",
       "  'KOR_GCARBR_A',\n",
       "  'RUS_GCARBR_A',\n",
       "  'WSM_GCARBR_A',\n",
       "  'SGP_GCARBR_A',\n",
       "  'SLB_GCARBR_A',\n",
       "  'LKA_GCARBR_A',\n",
       "  'TJK_GCARBR_A',\n",
       "  'THA_GCARBR_A',\n",
       "  'TLS_GCARBR_A',\n",
       "  'TON_GCARBR_A',\n",
       "  'TUR_GCARBR_A',\n",
       "  'TKM_GCARBR_A',\n",
       "  'UZB_GCARBR_A',\n",
       "  'VUT_GCARBR_A',\n",
       "  'VNM_GCARBR_A']]"
      ]
     },
     "execution_count": 6,
     "metadata": {},
     "output_type": "execute_result"
    }
   ],
   "source": [
    "instruments = [[f'{country}_GCARBR_A' for country in masia.countries_GCARBR_A]]\n",
    "instruments"
   ]
  },
  {
   "cell_type": "code",
   "execution_count": 32,
   "id": "2f833dcf",
   "metadata": {},
   "outputs": [
    {
     "data": {
      "text/html": [
       "<div>\n",
       "<style scoped>\n",
       "    .dataframe tbody tr th:only-of-type {\n",
       "        vertical-align: middle;\n",
       "    }\n",
       "\n",
       "    .dataframe tbody tr th {\n",
       "        vertical-align: top;\n",
       "    }\n",
       "\n",
       "    .dataframe thead th {\n",
       "        text-align: right;\n",
       "    }\n",
       "</style>\n",
       "<table border=\"1\" class=\"dataframe\">\n",
       "  <thead>\n",
       "    <tr style=\"text-align: right;\">\n",
       "      <th></th>\n",
       "      <th>WLD_CO2</th>\n",
       "    </tr>\n",
       "  </thead>\n",
       "  <tbody>\n",
       "    <tr>\n",
       "      <th>2049</th>\n",
       "      <td>36440</td>\n",
       "    </tr>\n",
       "  </tbody>\n",
       "</table>\n",
       "</div>"
      ],
      "text/plain": [
       "      WLD_CO2\n",
       "2049    36440"
      ]
     },
     "execution_count": 32,
     "metadata": {},
     "output_type": "execute_result"
    }
   ],
   "source": [
    "target = pd.DataFrame([36_440],index=[2049],columns=['WLD_CO2'])\n",
    "target"
   ]
  },
  {
   "cell_type": "code",
   "execution_count": 36,
   "id": "accaf9b0",
   "metadata": {},
   "outputs": [
    {
     "data": {
      "text/plain": [
       "28"
      ]
     },
     "execution_count": 36,
     "metadata": {},
     "output_type": "execute_result"
    }
   ],
   "source": [
    "delay = 2049-2021\n",
    "delay "
   ]
  },
  {
   "cell_type": "code",
   "execution_count": 37,
   "id": "284f856b",
   "metadata": {},
   "outputs": [],
   "source": [
    "from modelinvert import targets_instruments"
   ]
  },
  {
   "cell_type": "code",
   "execution_count": 38,
   "id": "6461ecd3",
   "metadata": {},
   "outputs": [
    {
     "data": {
      "text/html": [
       "<div>\n",
       "<style scoped>\n",
       "    .dataframe tbody tr th:only-of-type {\n",
       "        vertical-align: middle;\n",
       "    }\n",
       "\n",
       "    .dataframe tbody tr th {\n",
       "        vertical-align: top;\n",
       "    }\n",
       "\n",
       "    .dataframe thead th {\n",
       "        text-align: right;\n",
       "    }\n",
       "</style>\n",
       "<table border=\"1\" class=\"dataframe\">\n",
       "  <thead>\n",
       "    <tr style=\"text-align: right;\">\n",
       "      <th></th>\n",
       "      <th>WLD_CO2</th>\n",
       "    </tr>\n",
       "  </thead>\n",
       "  <tbody>\n",
       "    <tr>\n",
       "      <th>2049</th>\n",
       "      <td>36440</td>\n",
       "    </tr>\n",
       "  </tbody>\n",
       "</table>\n",
       "</div>"
      ],
      "text/plain": [
       "      WLD_CO2\n",
       "2049    36440"
      ]
     },
     "execution_count": 38,
     "metadata": {},
     "output_type": "execute_result"
    }
   ],
   "source": [
    "t_i = targets_instruments(databank=baseline,targets=target,instruments=instruments,model=masia,DefaultImpuls=50.,defaultconv=20,varimpulse=True)\n",
    "t_i.targets"
   ]
  },
  {
   "cell_type": "code",
   "execution_count": 25,
   "id": "a68bfbec",
   "metadata": {},
   "outputs": [
    {
     "data": {
      "text/html": [
       "<div>\n",
       "<style scoped>\n",
       "    .dataframe tbody tr th:only-of-type {\n",
       "        vertical-align: middle;\n",
       "    }\n",
       "\n",
       "    .dataframe tbody tr th {\n",
       "        vertical-align: top;\n",
       "    }\n",
       "\n",
       "    .dataframe thead th {\n",
       "        text-align: right;\n",
       "    }\n",
       "</style>\n",
       "<table border=\"1\" class=\"dataframe\">\n",
       "  <thead>\n",
       "    <tr style=\"text-align: right;\">\n",
       "      <th></th>\n",
       "      <th>Instrument_0</th>\n",
       "    </tr>\n",
       "  </thead>\n",
       "  <tbody>\n",
       "    <tr>\n",
       "      <th>WLD_CO2</th>\n",
       "      <td>5227.991739</td>\n",
       "    </tr>\n",
       "  </tbody>\n",
       "</table>\n",
       "</div>"
      ],
      "text/plain": [
       "         Instrument_0\n",
       "WLD_CO2   5227.991739"
      ]
     },
     "execution_count": 25,
     "metadata": {},
     "output_type": "execute_result"
    }
   ],
   "source": [
    "t_i.jacobi(2049,28)"
   ]
  },
  {
   "cell_type": "code",
   "execution_count": 40,
   "id": "1cc7a3f7",
   "metadata": {},
   "outputs": [
    {
     "name": "stdout",
     "output_type": "stream",
     "text": [
      "Period: 2049\n",
      "Period: 2049  Target instrument iteration: 0\n",
      "Period: 2049  Target instrument iteration: 1\n",
      "Period: 2049  Target instrument iteration: 2\n",
      "Period: 2049  Target instrument iteration: 3\n",
      "Period: 2049  Target instrument iteration: 4\n",
      "Period: 2049  Target instrument iteration: 5\n",
      "Period: 2049  Target instrument iteration: 6\n",
      "Period: 2049  Target instrument iteration: 7\n",
      "Period: 2049  Target instrument iteration: 8\n",
      "Period: 2049  Target instrument iteration: 9\n",
      "Period: 2049  Target instrument iteration: 10\n",
      "Period: 2049  Target instrument iteration: 11\n",
      "Period: 2049  Target instrument iteration: 12\n",
      "Period: 2049  Target instrument iteration: 13\n",
      "Period: 2049  Target instrument iteration: 14\n",
      "Period: 2049  Target instrument iteration: 15\n",
      "Period: 2049  Target instrument iteration: 16\n",
      "Period: 2049  Target instrument iteration: 17\n",
      "Period: 2049  Target instrument iteration: 18\n",
      "Period: 2049  Target instrument iteration: 19\n"
     ]
    }
   ],
   "source": [
    "t_i.debug=0\n",
    "res = t_i(delay=29,varimpulse=True,silent=0)"
   ]
  },
  {
   "cell_type": "code",
   "execution_count": 47,
   "id": "feba8647",
   "metadata": {},
   "outputs": [
    {
     "data": {
      "text/plain": [
       "[('*', 15973),\n",
       " ('+', 13676),\n",
       " ('-', 7220),\n",
       " ('/', 6587),\n",
       " ('LOG', 3943),\n",
       " ('EXP', 504),\n",
       " ('**', 202),\n",
       " ('Total', 48105)]"
      ]
     },
     "execution_count": 47,
     "metadata": {},
     "output_type": "execute_result"
    }
   ],
   "source": [
    "masia.calculate_freq_list(masia.coreorder)"
   ]
  },
  {
   "cell_type": "code",
   "execution_count": 52,
   "id": "4f31633e",
   "metadata": {},
   "outputs": [
    {
     "data": {
      "text/plain": [
       "1964"
      ]
     },
     "execution_count": 52,
     "metadata": {},
     "output_type": "execute_result"
    }
   ],
   "source": [
    "len(masia.epiorder)"
   ]
  },
  {
   "cell_type": "code",
   "execution_count": 22,
   "id": "d30ebd08",
   "metadata": {},
   "outputs": [
    {
     "data": {
      "text/plain": [
       "Endogeneous: WLD_CO2: Territorial carbon dioxide emissions, Mt$CO^2$ ,World \n",
       "Formular: FRML <Z,EXO> WLD_CO2 =( +AFG_CO2+ARM_CO2+AUS_CO2+AZE_CO2+BGD_CO2+BTN_CO2+BRN_CO2+KHM_CO2+CHN_CO2+FJI_CO2+GEO_CO2+HKG_CO2+IND_CO2+IDN_CO2+IRN_CO2+JPN_CO2+KAZ_CO2+KIR_CO2+KGZ_CO2+LAO_CO2+MAC_CO2+MYS_CO2+MDV_CO2+FSM_CO2+MNG_CO2+MMR_CO2+NPL_CO2+NZL_CO2+PAK_CO2+PNG_CO2+PHL_CO2+KOR_CO2+RUS_CO2+WSM_CO2+SGP_CO2+SLB_CO2+LKA_CO2+TJK_CO2+THA_CO2+TLS_CO2+TON_CO2+TUR_CO2+TKM_CO2+UZB_CO2+VUT_CO2+VNM_CO2+USA_CO2+DEU_CO2+FRA_CO2+GBR_CO2+ITA_CO2+NLD_CO2+IRL_CO2+CHE_CO2+TWN_CO2+AFR_CO2+EUR_CO2+LAT_CO2+MNA_CO2 + WLD_CO2_A )*(1-WLD_CO2_D)+WLD_CO2_X*WLD_CO2_D$\n",
       "\n",
       "WLD_CO2  : Territorial carbon dioxide emissions, Mt$CO^2$ ,World\n",
       "AFG_CO2  : Territorial carbon dioxide emissions, Mt$CO^2$ ,Afghanistan\n",
       "AFR_CO2  : Territorial carbon dioxide emissions, Mt$CO^2$ ,SubSaharanAfrica\n",
       "ARM_CO2  : Territorial carbon dioxide emissions, Mt$CO^2$ ,Armenia\n",
       "AUS_CO2  : Territorial carbon dioxide emissions, Mt$CO^2$ ,Australia\n",
       "AZE_CO2  : Territorial carbon dioxide emissions, Mt$CO^2$ ,Azerbaijan\n",
       "BGD_CO2  : Territorial carbon dioxide emissions, Mt$CO^2$ ,Bangladesh\n",
       "BRN_CO2  : Territorial carbon dioxide emissions, Mt$CO^2$ ,BruneiDarussalam\n",
       "BTN_CO2  : Territorial carbon dioxide emissions, Mt$CO^2$ ,Bhutan\n",
       "CHE_CO2  : Territorial carbon dioxide emissions, Mt$CO^2$ ,Switzerland\n",
       "CHN_CO2  : Territorial carbon dioxide emissions, Mt$CO^2$ ,China\n",
       "DEU_CO2  : Territorial carbon dioxide emissions, Mt$CO^2$ ,Germany\n",
       "EUR_CO2  : Territorial carbon dioxide emissions, Mt$CO^2$ ,OtherEurope\n",
       "FJI_CO2  : Territorial carbon dioxide emissions, Mt$CO^2$ ,Fiji\n",
       "FRA_CO2  : Territorial carbon dioxide emissions, Mt$CO^2$ ,France\n",
       "FSM_CO2  : Territorial carbon dioxide emissions, Mt$CO^2$ ,Micronesia\n",
       "GBR_CO2  : Territorial carbon dioxide emissions, Mt$CO^2$ ,UK\n",
       "GEO_CO2  : Territorial carbon dioxide emissions, Mt$CO^2$ ,Georgia\n",
       "HKG_CO2  : Territorial carbon dioxide emissions, Mt$CO^2$ ,HongKong\n",
       "IDN_CO2  : Territorial carbon dioxide emissions, Mt$CO^2$ ,Indonesia\n",
       "IND_CO2  : Territorial carbon dioxide emissions, Mt$CO^2$ ,India\n",
       "IRL_CO2  : Territorial carbon dioxide emissions, Mt$CO^2$ ,Ireland\n",
       "IRN_CO2  : Territorial carbon dioxide emissions, Mt$CO^2$ ,Iran\n",
       "ITA_CO2  : Territorial carbon dioxide emissions, Mt$CO^2$ ,Italy\n",
       "JPN_CO2  : Territorial carbon dioxide emissions, Mt$CO^2$ ,Japan\n",
       "KAZ_CO2  : Territorial carbon dioxide emissions, Mt$CO^2$ ,Kazakhstan\n",
       "KGZ_CO2  : Territorial carbon dioxide emissions, Mt$CO^2$ ,Kyrgyzstan\n",
       "KHM_CO2  : Territorial carbon dioxide emissions, Mt$CO^2$ ,Cambodia\n",
       "KIR_CO2  : Territorial carbon dioxide emissions, Mt$CO^2$ ,Kiribati\n",
       "KOR_CO2  : Territorial carbon dioxide emissions, Mt$CO^2$ ,RepKorea\n",
       "LAO_CO2  : Territorial carbon dioxide emissions, Mt$CO^2$ ,Lao\n",
       "LAT_CO2  : Territorial carbon dioxide emissions, Mt$CO^2$ ,OtherAmericas\n",
       "LKA_CO2  : Territorial carbon dioxide emissions, Mt$CO^2$ ,SriLanka\n",
       "MAC_CO2  : Territorial carbon dioxide emissions, Mt$CO^2$ ,Macao\n",
       "MDV_CO2  : Territorial carbon dioxide emissions, Mt$CO^2$ ,Maldives\n",
       "MMR_CO2  : Territorial carbon dioxide emissions, Mt$CO^2$ ,Myanmar\n",
       "MNA_CO2  : Territorial carbon dioxide emissions, Mt$CO^2$ ,MENA\n",
       "MNG_CO2  : Territorial carbon dioxide emissions, Mt$CO^2$ ,Mongolia\n",
       "MYS_CO2  : Territorial carbon dioxide emissions, Mt$CO^2$ ,Malaysia\n",
       "NLD_CO2  : Territorial carbon dioxide emissions, Mt$CO^2$ ,Netherlands\n",
       "NPL_CO2  : Territorial carbon dioxide emissions, Mt$CO^2$ ,Nepal\n",
       "NZL_CO2  : Territorial carbon dioxide emissions, Mt$CO^2$ ,NewZealand\n",
       "PAK_CO2  : Territorial carbon dioxide emissions, Mt$CO^2$ ,Pakistan\n",
       "PHL_CO2  : Territorial carbon dioxide emissions, Mt$CO^2$ ,Philippines\n",
       "PNG_CO2  : Territorial carbon dioxide emissions, Mt$CO^2$ ,PapuaNewGuinea\n",
       "RUS_CO2  : Territorial carbon dioxide emissions, Mt$CO^2$ ,RussianFederation\n",
       "SGP_CO2  : Territorial carbon dioxide emissions, Mt$CO^2$ ,Singapore\n",
       "SLB_CO2  : Territorial carbon dioxide emissions, Mt$CO^2$ ,SolomonIslands\n",
       "THA_CO2  : Territorial carbon dioxide emissions, Mt$CO^2$ ,Thailand\n",
       "TJK_CO2  : Territorial carbon dioxide emissions, Mt$CO^2$ ,Tajikistan\n",
       "TKM_CO2  : Territorial carbon dioxide emissions, Mt$CO^2$ ,Turkmenistan\n",
       "TLS_CO2  : Territorial carbon dioxide emissions, Mt$CO^2$ ,TimorLeste\n",
       "TON_CO2  : Territorial carbon dioxide emissions, Mt$CO^2$ ,Tonga\n",
       "TUR_CO2  : Territorial carbon dioxide emissions, Mt$CO^2$ ,Turkey\n",
       "TWN_CO2  : Territorial carbon dioxide emissions, Mt$CO^2$ ,Taiwan\n",
       "USA_CO2  : Territorial carbon dioxide emissions, Mt$CO^2$ ,USA\n",
       "UZB_CO2  : Territorial carbon dioxide emissions, Mt$CO^2$ ,Uzbekistan\n",
       "VNM_CO2  : Territorial carbon dioxide emissions, Mt$CO^2$ ,VietNam\n",
       "VUT_CO2  : Territorial carbon dioxide emissions, Mt$CO^2$ ,Vanuatu\n",
       "WLD_CO2_A: Add factor:Territorial carbon dioxide emissions, Mt$CO^2$ ,World\n",
       "WLD_CO2_D: Exo dummy:Territorial carbon dioxide emissions, Mt$CO^2$ ,World\n",
       "WLD_CO2_X: Exo value:Territorial carbon dioxide emissions, Mt$CO^2$ ,World\n",
       "WSM_CO2  : Territorial carbon dioxide emissions, Mt$CO^2$ ,Samoa\n",
       "\n",
       "Values : \n",
       "              2020          2021          2022          2023          2024  \\\n",
       "Base  36440.840000  37259.830002  38033.330007  38725.689998  39374.640008   \n",
       "Last  36438.507927  34614.703661  36600.468154  35530.406261  36893.263693   \n",
       "Diff     -2.332073  -2645.126340  -1432.861853  -3195.283738  -2481.376315   \n",
       "\n",
       "              2025          2026          2027          2028          2029  \\\n",
       "Base  40052.969994  40752.380005  41474.569999  42219.179999  42984.630007   \n",
       "Last  36733.733234  37701.897800  37811.070023  38669.562378  38973.208474   \n",
       "Diff  -3319.236760  -3050.482204  -3663.499976  -3549.617620  -4011.421533   \n",
       "\n",
       "      ...          2040          2041          2042          2043  \\\n",
       "Base  ...  52500.339982  53489.889992  54497.499973  55524.249986   \n",
       "Last  ...  46794.799181  47619.357004  48501.054187  49373.629046   \n",
       "Diff  ...  -5705.540801  -5870.532988  -5996.445787  -6150.620940   \n",
       "\n",
       "              2044          2045          2046          2047          2048  \\\n",
       "Base  56570.019981  57630.719979  58690.859983  59764.289972  60850.419976   \n",
       "Last  50290.919307  51205.247499  52138.805620  53073.948370  54033.379678   \n",
       "Diff  -6279.100674  -6425.472481  -6552.054363  -6690.341602  -6817.040298   \n",
       "\n",
       "              2049  \n",
       "Base  61949.339981  \n",
       "Last  54998.538300  \n",
       "Diff  -6950.801681  \n",
       "\n",
       "[3 rows x 30 columns]\n",
       "\n",
       "Input last run: \n",
       "                   2020         2021         2022         2023         2024  \\\n",
       "AFG_CO2      10.081450     9.358005    10.124518     9.710189    10.258626   \n",
       "AFR_CO2     870.759776   900.976367   937.690105   974.688901  1015.931553   \n",
       "ARM_CO2       5.769319     5.554071     5.826345     5.735083     5.958876   \n",
       "AUS_CO2     446.838000   399.330922   417.227170   384.628499   391.058000   \n",
       "AZE_CO2      38.975340    34.437475    36.886910    34.072255    35.585888   \n",
       "...                ...          ...          ...          ...          ...   \n",
       "VUT_CO2       0.165160     0.158562     0.169550     0.167777     0.177063   \n",
       "WLD_CO2_A -1111.269191 -1111.265006 -1111.256495 -1111.257474 -1111.265095   \n",
       "WLD_CO2_D     0.000000     0.000000     0.000000     0.000000     0.000000   \n",
       "WLD_CO2_X     0.000000     0.000000     0.000000     0.000000     0.000000   \n",
       "WSM_CO2       0.268266     0.253343     0.265588     0.257600     0.265931   \n",
       "\n",
       "                  2025         2026         2027         2028         2029  \\\n",
       "AFG_CO2      10.213446    10.615335    10.697065    11.094169    11.289372   \n",
       "AFR_CO2    1060.030703  1108.147564  1159.486593  1214.684256  1273.189507   \n",
       "ARM_CO2       5.979497     6.156727     6.218825     6.378600     6.464229   \n",
       "AUS_CO2     371.724541   370.299547   355.617075   352.017839   340.764256   \n",
       "AZE_CO2      34.342894    35.161465    34.464322    35.096965    34.812442   \n",
       "...                ...          ...          ...          ...          ...   \n",
       "VUT_CO2       0.179731     0.188072     0.192480     0.201054     0.207119   \n",
       "WLD_CO2_A -1111.262561 -1111.254054 -1111.269685 -1111.262325 -1111.252099   \n",
       "WLD_CO2_D     0.000000     0.000000     0.000000     0.000000     0.000000   \n",
       "WLD_CO2_X     0.000000     0.000000     0.000000     0.000000     0.000000   \n",
       "WSM_CO2       0.264028     0.270518     0.271233     0.277769     0.280797   \n",
       "\n",
       "           ...         2040         2041         2042         2043  \\\n",
       "AFG_CO2    ...    16.880708    17.584786    18.346295    19.128443   \n",
       "AFR_CO2    ...  2164.057891  2269.864737  2380.350863  2495.625170   \n",
       "ARM_CO2    ...     8.201493     8.362575     8.530480     8.692581   \n",
       "AUS_CO2    ...   296.365217   294.426135   293.133658   291.793078   \n",
       "AZE_CO2    ...    42.796069    43.900235    45.137624    46.373358   \n",
       "...        ...          ...          ...          ...          ...   \n",
       "VUT_CO2    ...     0.329060     0.343860     0.359663     0.375990   \n",
       "WLD_CO2_A  ... -1111.253378 -1111.252060 -1111.265477 -1111.267797   \n",
       "WLD_CO2_D  ...     0.000000     0.000000     0.000000     0.000000   \n",
       "WLD_CO2_X  ...     0.000000     0.000000     0.000000     0.000000   \n",
       "WSM_CO2    ...     0.376720     0.388153     0.400310     0.412678   \n",
       "\n",
       "                  2044         2045         2046         2047         2048  \\\n",
       "AFG_CO2      19.961022    20.820734    21.717606    22.643699    23.611993   \n",
       "AFR_CO2    2615.874707  2741.240441  2871.513730  3006.968050  3147.850696   \n",
       "ARM_CO2       8.857324     9.020022     9.164416     9.303131     9.437912   \n",
       "AUS_CO2     290.918857   290.048425   289.227614   288.413202   287.791250   \n",
       "AZE_CO2      47.705595    49.051195    50.422011    51.810973    53.248633   \n",
       "...                ...          ...          ...          ...          ...   \n",
       "VUT_CO2       0.393238     0.411121     0.429973     0.449522     0.470008   \n",
       "WLD_CO2_A -1111.271432 -1111.252745 -1111.253625 -1111.242045 -1111.264151   \n",
       "WLD_CO2_D     0.000000     0.000000     0.000000     0.000000     0.000000   \n",
       "WLD_CO2_X     0.000000     0.000000     0.000000     0.000000     0.000000   \n",
       "WSM_CO2       0.425695     0.438951     0.453236     0.467857     0.483093   \n",
       "\n",
       "                  2049  \n",
       "AFG_CO2      24.610988  \n",
       "AFR_CO2    3294.347216  \n",
       "ARM_CO2       9.565961  \n",
       "AUS_CO2     287.173780  \n",
       "AZE_CO2      54.693643  \n",
       "...                ...  \n",
       "VUT_CO2       0.491270  \n",
       "WLD_CO2_A -1111.261461  \n",
       "WLD_CO2_D     0.000000  \n",
       "WLD_CO2_X     0.000000  \n",
       "WSM_CO2       0.498768  \n",
       "\n",
       "[62 rows x 30 columns]"
      ]
     },
     "execution_count": 22,
     "metadata": {},
     "output_type": "execute_result"
    }
   ],
   "source": [
    "masia.wld_co2"
   ]
  },
  {
   "cell_type": "code",
   "execution_count": 30,
   "id": "80075910",
   "metadata": {},
   "outputs": [
    {
     "data": {
      "text/html": [
       "<div>\n",
       "<style scoped>\n",
       "    .dataframe tbody tr th:only-of-type {\n",
       "        vertical-align: middle;\n",
       "    }\n",
       "\n",
       "    .dataframe tbody tr th {\n",
       "        vertical-align: top;\n",
       "    }\n",
       "\n",
       "    .dataframe thead th {\n",
       "        text-align: right;\n",
       "    }\n",
       "</style>\n",
       "<table border=\"1\" class=\"dataframe\">\n",
       "  <thead>\n",
       "    <tr style=\"text-align: right;\">\n",
       "      <th></th>\n",
       "      <th>AFG_GCARBR_A</th>\n",
       "      <th>ARM_GCARBR_A</th>\n",
       "      <th>AUS_GCARBR_A</th>\n",
       "      <th>AZE_GCARBR_A</th>\n",
       "      <th>BGD_GCARBR_A</th>\n",
       "      <th>BRN_GCARBR_A</th>\n",
       "      <th>BTN_GCARBR_A</th>\n",
       "      <th>CHN_GCARBR_A</th>\n",
       "      <th>FJI_GCARBR_A</th>\n",
       "      <th>FSM_GCARBR_A</th>\n",
       "      <th>...</th>\n",
       "      <th>THA_GCARBR_A</th>\n",
       "      <th>TJK_GCARBR_A</th>\n",
       "      <th>TKM_GCARBR_A</th>\n",
       "      <th>TLS_GCARBR_A</th>\n",
       "      <th>TON_GCARBR_A</th>\n",
       "      <th>TUR_GCARBR_A</th>\n",
       "      <th>UZB_GCARBR_A</th>\n",
       "      <th>VNM_GCARBR_A</th>\n",
       "      <th>VUT_GCARBR_A</th>\n",
       "      <th>WSM_GCARBR_A</th>\n",
       "    </tr>\n",
       "  </thead>\n",
       "  <tbody>\n",
       "    <tr>\n",
       "      <th>2020</th>\n",
       "      <td>57.718537</td>\n",
       "      <td>57.718537</td>\n",
       "      <td>57.718537</td>\n",
       "      <td>57.718537</td>\n",
       "      <td>57.718537</td>\n",
       "      <td>57.718537</td>\n",
       "      <td>57.718537</td>\n",
       "      <td>57.718537</td>\n",
       "      <td>57.718537</td>\n",
       "      <td>57.718537</td>\n",
       "      <td>...</td>\n",
       "      <td>57.718537</td>\n",
       "      <td>57.718537</td>\n",
       "      <td>57.718537</td>\n",
       "      <td>57.718537</td>\n",
       "      <td>57.718537</td>\n",
       "      <td>57.718537</td>\n",
       "      <td>57.718537</td>\n",
       "      <td>57.718537</td>\n",
       "      <td>57.718537</td>\n",
       "      <td>57.718537</td>\n",
       "    </tr>\n",
       "  </tbody>\n",
       "</table>\n",
       "<p>1 rows × 46 columns</p>\n",
       "</div>"
      ],
      "text/plain": [
       "      AFG_GCARBR_A  ARM_GCARBR_A  AUS_GCARBR_A  AZE_GCARBR_A  BGD_GCARBR_A  \\\n",
       "2020     57.718537     57.718537     57.718537     57.718537     57.718537   \n",
       "\n",
       "      BRN_GCARBR_A  BTN_GCARBR_A  CHN_GCARBR_A  FJI_GCARBR_A  FSM_GCARBR_A  \\\n",
       "2020     57.718537     57.718537     57.718537     57.718537     57.718537   \n",
       "\n",
       "      ...  THA_GCARBR_A  TJK_GCARBR_A  TKM_GCARBR_A  TLS_GCARBR_A  \\\n",
       "2020  ...     57.718537     57.718537     57.718537     57.718537   \n",
       "\n",
       "      TON_GCARBR_A  TUR_GCARBR_A  UZB_GCARBR_A  VNM_GCARBR_A  VUT_GCARBR_A  \\\n",
       "2020     57.718537     57.718537     57.718537     57.718537     57.718537   \n",
       "\n",
       "      WSM_GCARBR_A  \n",
       "2020     57.718537  \n",
       "\n",
       "[1 rows x 46 columns]"
      ]
     },
     "execution_count": 30,
     "metadata": {},
     "output_type": "execute_result"
    }
   ],
   "source": [
    "masia.exodif()"
   ]
  }
 ],
 "metadata": {
  "celltoolbar": "Slideshow",
  "kernelspec": {
   "display_name": "Python 3",
   "language": "python",
   "name": "python3"
  },
  "language_info": {
   "codemirror_mode": {
    "name": "ipython",
    "version": 3
   },
   "file_extension": ".py",
   "mimetype": "text/x-python",
   "name": "python",
   "nbconvert_exporter": "python",
   "pygments_lexer": "ipython3",
   "version": "3.8.8"
  },
  "toc": {
   "base_numbering": 1,
   "nav_menu": {},
   "number_sections": true,
   "sideBar": true,
   "skip_h1_title": true,
   "title_cell": "Table of Contents",
   "title_sidebar": "Contents",
   "toc_cell": false,
   "toc_position": {},
   "toc_section_display": true,
   "toc_window_display": false
  }
 },
 "nbformat": 4,
 "nbformat_minor": 5
}
